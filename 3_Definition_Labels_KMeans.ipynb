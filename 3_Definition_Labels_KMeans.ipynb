{
  "nbformat": 4,
  "nbformat_minor": 0,
  "metadata": {
    "colab": {
      "name": "3_Definition_Labels_KMeans.ipynb",
      "provenance": [],
      "collapsed_sections": []
    },
    "kernelspec": {
      "name": "python3",
      "display_name": "Python 3"
    },
    "language_info": {
      "name": "python"
    }
  },
  "cells": [
    {
      "cell_type": "code",
      "execution_count": null,
      "metadata": {
        "id": "YrxL8z0k0tkO"
      },
      "outputs": [],
      "source": [
        "import requests\n",
        "import pandas as pd\n",
        "import numpy as np\n",
        "import csv\n",
        "import matplotlib.pyplot as plt\n",
        "import seaborn as sns\n",
        "from sklearn.model_selection import train_test_split\n",
        "from sklearn.preprocessing import StandardScaler\n",
        "from sklearn.model_selection import GridSearchCV\n",
        "from sklearn.model_selection import  KFold\n",
        "import warnings\n",
        "import re\n",
        "warnings.filterwarnings('ignore')"
      ]
    },
    {
      "cell_type": "code",
      "source": [
        "movies_db = pd.read_csv(\"movies_db_2.csv\", delimiter=\",\",engine='python') #Provient de 2_Preprocessing"
      ],
      "metadata": {
        "id": "5Wk6jUre1YAt"
      },
      "execution_count": null,
      "outputs": []
    },
    {
      "cell_type": "code",
      "source": [
        "scaler = StandardScaler()\n",
        "scaler.fit(movies_db.drop([\"title\"],axis=1))\n",
        "kmeans_movies = scaler.transform(movies_db.drop([\"title\"],axis=1))\n",
        "kmeans_movies = pd.DataFrame(kmeans_movies)\n",
        "kmeans_movies.columns = movies_db.drop([\"title\"],axis=1).columns\n",
        "kmeans_movies[\"title\"] = movies_db[\"title\"]\n",
        "kmeans_movies"
      ],
      "metadata": {
        "id": "o7mD3bW4QNo1"
      },
      "execution_count": null,
      "outputs": []
    },
    {
      "cell_type": "code",
      "source": [
        "# movies_model_data.drop([\"id\",\"genres\",'original_language', 'overview','production_companies', 'release_date','actors', 'director', 'producers','target2','year','vote_average','vote_count','revenue','ratio'],axis=1,inplace=True)\n",
        "kmeans_movies=kmeans_movies[[\"title\",'vote_average','vote_count','revenue']]"
      ],
      "metadata": {
        "id": "0G7WXfz4OHMw"
      },
      "execution_count": null,
      "outputs": []
    },
    {
      "cell_type": "code",
      "source": [
        "from sklearn.cluster import KMeans\n",
        "df_kmean=kmeans_movies[[\"revenue\",\"vote_average\",'vote_count']]\n",
        "wcss = []\n",
        "for i in range(1, 11):\n",
        "    kmeans = KMeans(n_clusters = i, init = 'k-means++')\n",
        "    kmeans.fit(df_kmean)\n",
        "    print (i,kmeans.inertia_)\n",
        "    wcss.append(kmeans.inertia_)\n",
        "    \n",
        "fig, ax = plt.subplots(figsize=(20,10))\n",
        "plt.plot(range(1, 11), wcss)\n",
        "plt.title('Elbow Method')\n",
        "plt.xlabel('Clusters')\n",
        "plt.ylabel('WSS')\n",
        "plt.show()"
      ],
      "metadata": {
        "id": "2yupdDTvEFBR"
      },
      "execution_count": null,
      "outputs": []
    },
    {
      "cell_type": "code",
      "source": [
        "kmeans = KMeans(n_clusters = 3, init = 'k-means++',random_state = 0)\n",
        "estimator = kmeans.fit(df_kmean)\n",
        "estimator"
      ],
      "metadata": {
        "colab": {
          "base_uri": "https://localhost:8080/"
        },
        "id": "22L7HTfRHG3c",
        "outputId": "e9fb2f5d-3a41-4701-f402-9248e13a1e26"
      },
      "execution_count": null,
      "outputs": [
        {
          "output_type": "execute_result",
          "data": {
            "text/plain": [
              "KMeans(n_clusters=3, random_state=0)"
            ]
          },
          "metadata": {},
          "execution_count": 95
        }
      ]
    },
    {
      "cell_type": "code",
      "source": [
        "class_predict = estimator.predict(df_kmean)\n",
        "movies_db[\"target\"] = class_predict"
      ],
      "metadata": {
        "id": "vuCwFlepHL4e"
      },
      "execution_count": null,
      "outputs": []
    },
    {
      "cell_type": "markdown",
      "source": [
        "Export CSV"
      ],
      "metadata": {
        "id": "c59b25uz4Pes"
      }
    },
    {
      "cell_type": "code",
      "source": [
        "movies_db.to_csv(\"movies_db_3.csv\",index=False)"
      ],
      "metadata": {
        "id": "jPPEfsAb2kU4"
      },
      "execution_count": null,
      "outputs": []
    }
  ]
}