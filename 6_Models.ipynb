{
  "nbformat": 4,
  "nbformat_minor": 0,
  "metadata": {
    "colab": {
      "name": "6_Models.ipynb",
      "provenance": [],
      "collapsed_sections": []
    },
    "kernelspec": {
      "name": "python3",
      "display_name": "Python 3"
    },
    "language_info": {
      "name": "python"
    }
  },
  "cells": [
    {
      "cell_type": "code",
      "execution_count": null,
      "metadata": {
        "id": "YrxL8z0k0tkO"
      },
      "outputs": [],
      "source": [
        "import requests\n",
        "import pandas as pd\n",
        "import numpy as np\n",
        "import csv\n",
        "import matplotlib.pyplot as plt\n",
        "import seaborn as sns\n",
        "from sklearn.model_selection import train_test_split\n",
        "from sklearn.preprocessing import StandardScaler\n",
        "from sklearn.model_selection import GridSearchCV\n",
        "from sklearn.model_selection import  KFold\n",
        "import warnings\n",
        "import re\n",
        "warnings.filterwarnings('ignore')"
      ]
    },
    {
      "cell_type": "code",
      "source": [
        "movies_model_data_scaled = pd.read_csv(\"movies_db_5.csv\", delimiter=\",\",engine='python') #Provient de 5_Scaling"
      ],
      "metadata": {
        "id": "5Wk6jUre1YAt"
      },
      "execution_count": null,
      "outputs": []
    },
    {
      "cell_type": "code",
      "source": [
        "movies_model_data.drop([\"id\",\"genres\",'original_language', 'overview','production_companies', 'release_date','actors', 'director', 'producers','year','vote_average','vote_count','revenue','ratio'],axis=1,inplace=True)"
      ],
      "metadata": {
        "id": "8zonMZqe8yH3"
      },
      "execution_count": null,
      "outputs": []
    },
    {
      "cell_type": "code",
      "source": [
        "data_0 = movies_model_data_scaled[movies_model_data_scaled[\"target\"] == 0]\n",
        "data_1 = movies_model_data_scaled[movies_model_data_scaled[\"target\"] == 1]\n",
        "data_2 = movies_model_data_scaled[movies_model_data_scaled[\"target\"] == 2]\n",
        "# data_3 = movies_model_data_scaled[movies_model_data_scaled[\"target\"] == \"SUPER HIT\"]\n",
        "\n",
        "x_0 = data_0.drop([\"target\",\"title\"],axis=1)\n",
        "x_1 = data_1.drop([\"target\",\"title\"],axis=1)\n",
        "x_2 = data_2.drop([\"target\",\"title\"],axis=1)\n",
        "# x_3 = data_3.drop([\"target\",\"title\"],axis=1)\n",
        "\n",
        "y_0 = data_0[\"target\"]\n",
        "y_1 = data_1[\"target\"]\n",
        "y_2 = data_2[\"target\"]\n",
        "# y_3 = data_3[\"target\"]\n",
        "\n",
        "x_0_train, x_0_test, y_0_train, y_0_test = train_test_split(x_0, y_0, test_size=0.33)\n",
        "x_1_train, x_1_test, y_1_train, y_1_test = train_test_split(x_1, y_1, test_size=0.33)\n",
        "x_2_train, x_2_test, y_2_train, y_2_test = train_test_split(x_2, y_2, test_size=0.33)\n",
        "# x_3_train, x_3_test, y_3_train, y_3_test = train_test_split(x_3, y_3, test_size=0.33)\n",
        "\n",
        "x_train = pd.concat([x_0_train,x_1_train,x_2_train])\n",
        "x_test = pd.concat([x_0_test,x_1_test,x_2_test])\n",
        "y_train = pd.concat([y_0_train,y_1_train,y_2_train])\n",
        "y_test = pd.concat([y_0_test,y_1_test,y_2_test])\n",
        "\n",
        "\"\"\"\n",
        "x_train = x_train.drop([\"pop_company\", \"pop_actors\", \"pop_producers\"],axis=1)\n",
        "x_test = x_test.drop([\"pop_company\", \"pop_actors\", \"pop_producers\"],axis=1)\n",
        "\"\"\"\n"
      ],
      "metadata": {
        "id": "pJzLiCHcaaap",
        "colab": {
          "base_uri": "https://localhost:8080/",
          "height": 35
        },
        "outputId": "c917ff94-f8c7-4ab1-fad2-08ceffaf68a6"
      },
      "execution_count": null,
      "outputs": [
        {
          "output_type": "execute_result",
          "data": {
            "application/vnd.google.colaboratory.intrinsic+json": {
              "type": "string"
            },
            "text/plain": [
              "'\\nx_train = x_train.drop([\"pop_company\", \"pop_actors\", \"pop_producers\"],axis=1)\\nx_test = x_test.drop([\"pop_company\", \"pop_actors\", \"pop_producers\"],axis=1)\\n'"
            ]
          },
          "metadata": {},
          "execution_count": 102
        }
      ]
    },
    {
      "cell_type": "code",
      "source": [
        "from sklearn.neighbors import KNeighborsClassifier\n",
        "from sklearn.metrics import precision_score\n",
        "from sklearn.svm import SVC\n",
        "from sklearn.ensemble import RandomForestClassifier\n",
        "from sklearn.discriminant_analysis import LinearDiscriminantAnalysis as LDA\n",
        "from sklearn.discriminant_analysis import QuadraticDiscriminantAnalysis as QDA\n",
        "import xgboost as xgb\n",
        "from sklearn.ensemble import GradientBoostingClassifier\n",
        "from sklearn.ensemble import AdaBoostClassifier\n",
        "from sklearn.decomposition import PCA\n",
        "from sklearn.naive_bayes import GaussianNB"
      ],
      "metadata": {
        "id": "Rlkw88atTHli"
      },
      "execution_count": null,
      "outputs": []
    },
    {
      "cell_type": "markdown",
      "source": [
        "### Model sans Grid Search"
      ],
      "metadata": {
        "id": "gUgGvspW6eTu"
      }
    },
    {
      "cell_type": "markdown",
      "source": [
        "KNN"
      ],
      "metadata": {
        "id": "zBZ-2YuUVP98"
      }
    },
    {
      "cell_type": "code",
      "source": [
        "knn = KNeighborsClassifier(n_neighbors=4)\n",
        "\n",
        "knn.fit(x_train,y_train)\n",
        "\n",
        "y_pred_knn = knn.predict(x_test)\n",
        "precision_score(y_test, y_pred_knn, average='micro')"
      ],
      "metadata": {
        "id": "Rb65ZjShTcRD",
        "colab": {
          "base_uri": "https://localhost:8080/"
        },
        "outputId": "847219a2-e37e-4f13-9507-10d3487faf37"
      },
      "execution_count": null,
      "outputs": [
        {
          "output_type": "execute_result",
          "data": {
            "text/plain": [
              "0.43086816720257237"
            ]
          },
          "metadata": {},
          "execution_count": 105
        }
      ]
    },
    {
      "cell_type": "markdown",
      "source": [
        "LDA"
      ],
      "metadata": {
        "id": "V-Boyb6f76xo"
      }
    },
    {
      "cell_type": "code",
      "source": [
        "lda = LDA()\n",
        "\n",
        "lda.fit(x_train,y_train)\n",
        "\n",
        "y_pred_lda = lda.predict(x_test)\n",
        "precision_score(y_test, y_pred_lda, average='micro')"
      ],
      "metadata": {
        "id": "iJVsSxmt76SE",
        "colab": {
          "base_uri": "https://localhost:8080/"
        },
        "outputId": "1e1fc776-f8c1-40ff-8060-914b33f30723"
      },
      "execution_count": null,
      "outputs": [
        {
          "output_type": "execute_result",
          "data": {
            "text/plain": [
              "0.44694533762057875"
            ]
          },
          "metadata": {},
          "execution_count": 106
        }
      ]
    },
    {
      "cell_type": "markdown",
      "source": [
        "QDA"
      ],
      "metadata": {
        "id": "dJ2jFrLtW-Sd"
      }
    },
    {
      "cell_type": "code",
      "source": [
        "qda = QDA()\n",
        "\n",
        "qda.fit(x_train,y_train)\n",
        "\n",
        "y_pred_qda = qda.predict(x_test)\n",
        "precision_score(y_test, y_pred_qda, average='micro')"
      ],
      "metadata": {
        "id": "okJD7TNTq0sN",
        "colab": {
          "base_uri": "https://localhost:8080/"
        },
        "outputId": "175c2b1b-3be9-41e4-b121-54ff932a7b82"
      },
      "execution_count": null,
      "outputs": [
        {
          "output_type": "execute_result",
          "data": {
            "text/plain": [
              "0.42443729903536975"
            ]
          },
          "metadata": {},
          "execution_count": 107
        }
      ]
    },
    {
      "cell_type": "markdown",
      "source": [
        "Naive Bayes"
      ],
      "metadata": {
        "id": "onHVK-o2rTRR"
      }
    },
    {
      "cell_type": "code",
      "source": [
        "nb = GaussianNB()\n",
        "\n",
        "nb.fit(x_train,y_train)\n",
        "\n",
        "y_pred_nb = nb.predict(x_test)\n",
        "precision_score(y_test, y_pred_nb, average='micro')"
      ],
      "metadata": {
        "id": "te6EXatgW9h-",
        "colab": {
          "base_uri": "https://localhost:8080/"
        },
        "outputId": "ff6acd63-a23b-4ec1-937f-935b3045098c"
      },
      "execution_count": null,
      "outputs": [
        {
          "output_type": "execute_result",
          "data": {
            "text/plain": [
              "0.45980707395498394"
            ]
          },
          "metadata": {},
          "execution_count": 108
        }
      ]
    },
    {
      "cell_type": "markdown",
      "source": [
        "SVC"
      ],
      "metadata": {
        "id": "uoNQes7CVOYy"
      }
    },
    {
      "cell_type": "code",
      "source": [
        "svc = SVC()\n",
        "\n",
        "svc.fit(x_train,y_train)\n",
        "\n",
        "y_pred_svc = svc.predict(x_test)\n",
        "precision_score(y_test, y_pred_svc, average='micro')"
      ],
      "metadata": {
        "id": "xtelH_ekUygh",
        "colab": {
          "base_uri": "https://localhost:8080/"
        },
        "outputId": "f5868803-1755-4183-b34b-1ed3486714e9"
      },
      "execution_count": null,
      "outputs": [
        {
          "output_type": "execute_result",
          "data": {
            "text/plain": [
              "0.4405144694533762"
            ]
          },
          "metadata": {},
          "execution_count": 109
        }
      ]
    },
    {
      "cell_type": "markdown",
      "source": [
        "RANDOM FOREST"
      ],
      "metadata": {
        "id": "hFVI2GvHVKLV"
      }
    },
    {
      "cell_type": "code",
      "source": [
        "rfc = RandomForestClassifier()\n",
        "\n",
        "rfc.fit(x_train,y_train)\n",
        "\n",
        "y_pred_rfc = rfc.predict(x_test)\n",
        "precision_score(y_test, y_pred_rfc, average='micro')"
      ],
      "metadata": {
        "id": "FvxdpYaKVMpr",
        "colab": {
          "base_uri": "https://localhost:8080/"
        },
        "outputId": "f8822d23-7690-4057-cc59-d02bb90a1435"
      },
      "execution_count": null,
      "outputs": [
        {
          "output_type": "execute_result",
          "data": {
            "text/plain": [
              "0.42443729903536975"
            ]
          },
          "metadata": {},
          "execution_count": 110
        }
      ]
    },
    {
      "cell_type": "markdown",
      "source": [
        "XGBOOST"
      ],
      "metadata": {
        "id": "n1QYo96DeTU5"
      }
    },
    {
      "cell_type": "code",
      "source": [
        "XgBoost = xgb.XGBClassifier()\n",
        "XgBoost.fit(x_train, y_train)\n",
        "y_pred_xgb = XgBoost.predict(x_test)\n",
        "precision_score(y_test, y_pred_xgb, average='micro')"
      ],
      "metadata": {
        "id": "EecyWZMMeVpg",
        "colab": {
          "base_uri": "https://localhost:8080/"
        },
        "outputId": "83cd3b96-0cbc-4de7-bb95-90b6d2b05e0b"
      },
      "execution_count": null,
      "outputs": [
        {
          "output_type": "execute_result",
          "data": {
            "text/plain": [
              "0.4180064308681672"
            ]
          },
          "metadata": {},
          "execution_count": 111
        }
      ]
    },
    {
      "cell_type": "markdown",
      "source": [
        "GRADIENT BOOSTING"
      ],
      "metadata": {
        "id": "SImCzeazeqYD"
      }
    },
    {
      "cell_type": "code",
      "source": [
        "GradientBoost = GradientBoostingClassifier()\n",
        "GradientBoost.fit(x_train, y_train)\n",
        "y_pred_gb = GradientBoost.predict(x_test)\n",
        "precision_score(y_test, y_pred_gb, average='micro')"
      ],
      "metadata": {
        "id": "p_Wxuh8JetBM",
        "colab": {
          "base_uri": "https://localhost:8080/"
        },
        "outputId": "f8ea48e6-b918-43e7-cb99-b6c943a85ce7"
      },
      "execution_count": null,
      "outputs": [
        {
          "output_type": "execute_result",
          "data": {
            "text/plain": [
              "0.3729903536977492"
            ]
          },
          "metadata": {},
          "execution_count": 112
        }
      ]
    },
    {
      "cell_type": "markdown",
      "source": [
        "ADABOOST"
      ],
      "metadata": {
        "id": "sPH-EAsde1vC"
      }
    },
    {
      "cell_type": "code",
      "source": [
        "AdaBoost = AdaBoostClassifier()\n",
        "AdaBoost.fit(x_train, y_train)\n",
        "y_pred_ab = AdaBoost.predict(x_test)\n",
        "precision_score(y_test, y_pred_ab, average='micro')"
      ],
      "metadata": {
        "id": "9CIaeruZe1aa",
        "colab": {
          "base_uri": "https://localhost:8080/"
        },
        "outputId": "5ea4bb9b-4beb-441d-e779-86b78c9a394c"
      },
      "execution_count": null,
      "outputs": [
        {
          "output_type": "execute_result",
          "data": {
            "text/plain": [
              "0.40192926045016075"
            ]
          },
          "metadata": {},
          "execution_count": 113
        }
      ]
    },
    {
      "cell_type": "markdown",
      "source": [
        "### Model avec Grid Search\n"
      ],
      "metadata": {
        "id": "oPgNnuEU6jkD"
      }
    },
    {
      "cell_type": "markdown",
      "source": [
        "LDA"
      ],
      "metadata": {
        "id": "SdTyzQiYEC85"
      }
    },
    {
      "cell_type": "code",
      "source": [
        "param = {'solver':[\"svd\", \"lsqr\", \"eigen\"], \n",
        "         'shrinkage':[\"auto\", 0.1, 0.3, 0.8],'n_components': [1,2,3]}\n",
        "        # , 'learning_decay': [0.5, 0.7, 0.9]\n",
        "lda_grid = GridSearchCV(LDA(), param, cv= KFold(n_splits=5, random_state=42, shuffle = True), scoring =\"accuracy\")\n",
        "lda_grid.fit(x_train, y_train)\n",
        "y_pred_lda = lda_grid.predict(x_test)\n",
        "precision_score(y_test, y_pred_lda, average=\"micro\"), lda_grid"
      ],
      "metadata": {
        "id": "-JQpz9NVEEOy"
      },
      "execution_count": null,
      "outputs": []
    },
    {
      "cell_type": "markdown",
      "source": [
        "QDA"
      ],
      "metadata": {
        "id": "qOVnrd1tEk6-"
      }
    },
    {
      "cell_type": "code",
      "source": [
        "param = {'reg_param':[0, 0.01, 0.1, 0.2, 0.25, 0.5]}\n",
        "\n",
        "qda_grid = GridSearchCV(QDA(), param, cv= KFold(n_splits=5, random_state=42, shuffle = True), scoring =\"accuracy\")\n",
        "qda_grid.fit(x_train, y_train)\n",
        "y_pred_qda = qda_grid.predict(x_test)\n",
        "precision_score(y_test, y_pred_qda, average=\"micro\"), qda_grid"
      ],
      "metadata": {
        "id": "_VtgXegxEl_V"
      },
      "execution_count": null,
      "outputs": []
    },
    {
      "cell_type": "markdown",
      "source": [
        "KNN"
      ],
      "metadata": {
        "id": "rx3Me0s-CIid"
      }
    },
    {
      "cell_type": "code",
      "source": [
        "#Hyperparameters definition\n",
        "param = {\"n_neighbors\": list(range(1,30)), \n",
        "         \"weights\": [\"uniform\", \"distance\"],'metric' : ['minkowski','euclidean','manhattan'],\n",
        "         \"algorithm\":[\"auto\", \"ball_tree\", \"kd_tree\", \"brute\"],\n",
        "         \"p\":[1,2,3]}\n",
        "        #  \"leaf_size\" : list(range(1,50)\n",
        "#GridSearch\n",
        "knn_grid = GridSearchCV(KNeighborsClassifier(), param, cv= KFold(n_splits=5, random_state=42, shuffle = True),scoring = \"accuracy\")\n",
        "knn_grid.fit(x_train, y_train)\n",
        "y_pred_knn = knn_grid.predict(x_test)\n",
        "precision_score(y_test, y_pred_knn, average=\"micro\"), knn_grid\n"
      ],
      "metadata": {
        "id": "zaAhB74UCOoZ",
        "colab": {
          "base_uri": "https://localhost:8080/"
        },
        "outputId": "2a430ea8-628a-4f99-9ec0-ec2803dcfa05"
      },
      "execution_count": null,
      "outputs": [
        {
          "output_type": "execute_result",
          "data": {
            "text/plain": [
              "(0.4565916398713826,\n",
              " GridSearchCV(cv=KFold(n_splits=5, random_state=42, shuffle=True),\n",
              "              estimator=KNeighborsClassifier(),\n",
              "              param_grid={'algorithm': ['auto', 'ball_tree', 'kd_tree', 'brute'],\n",
              "                          'metric': ['minkowski', 'euclidean', 'manhattan'],\n",
              "                          'n_neighbors': [1, 2, 3, 4, 5, 6, 7, 8, 9, 10, 11, 12,\n",
              "                                          13, 14, 15, 16, 17, 18, 19, 20, 21, 22,\n",
              "                                          23, 24, 25, 26, 27, 28, 29],\n",
              "                          'p': [1, 2, 3], 'weights': ['uniform', 'distance']},\n",
              "              scoring='accuracy'))"
            ]
          },
          "metadata": {},
          "execution_count": 121
        }
      ]
    },
    {
      "cell_type": "markdown",
      "source": [
        "SVC"
      ],
      "metadata": {
        "id": "D6YOo8ReCgDx"
      }
    },
    {
      "cell_type": "code",
      "source": [
        "# Hyperparameters\n",
        "param = {\"C\": [0.1,1,10,100],\n",
        "        \"kernel\":[\"linear\", \"poly\", \"rbf\", \"sigmoid\"],\n",
        "        'gamma': [0.5, 0.1, 0.001, 0.0001]}\n",
        "#GridSearch\n",
        "svc_grid = GridSearchCV(SVC(), param, cv= KFold(n_splits=5, random_state=42, shuffle = True),scoring = \"accuracy\")\n",
        "svc_grid.fit(x_train, y_train)\n",
        "y_pred_svc = svc_grid.predict(x_test)\n",
        "precision_score(y_test, y_pred_svc, average=\"micro\"), svc_grid\n"
      ],
      "metadata": {
        "id": "KW_sfy7fCm-d",
        "colab": {
          "base_uri": "https://localhost:8080/"
        },
        "outputId": "1fa1f85a-3df6-4aac-891d-b8748ae169a5"
      },
      "execution_count": null,
      "outputs": [
        {
          "output_type": "execute_result",
          "data": {
            "text/plain": [
              "(0.42443729903536975,\n",
              " GridSearchCV(cv=KFold(n_splits=5, random_state=42, shuffle=True),\n",
              "              estimator=SVC(),\n",
              "              param_grid={'C': [0.1, 1, 10, 100],\n",
              "                          'gamma': [0.5, 0.1, 0.001, 0.0001],\n",
              "                          'kernel': ['linear', 'poly', 'rbf', 'sigmoid']},\n",
              "              scoring='accuracy'))"
            ]
          },
          "metadata": {},
          "execution_count": 122
        }
      ]
    },
    {
      "cell_type": "markdown",
      "source": [
        "AdaBoost"
      ],
      "metadata": {
        "id": "JwimBKeIDFKs"
      }
    },
    {
      "cell_type": "code",
      "source": [
        "# Hyperparameters\n",
        "param = {\"learning_rate\": [0.0001, 0.001, 0.01, 0.1, 1.0, 2, 5],\n",
        "       'n_estimators': [1,50,100, 500, 1000]}\n",
        "#GridSearch\n",
        "\n",
        "AdaBoost_Grid = GridSearchCV(AdaBoostClassifier(), param, cv= KFold(n_splits=5, random_state=42, shuffle = True),scoring = \"accuracy\")\n",
        "AdaBoost_Grid.fit(x_train, y_train)\n",
        "y_pred_ada = AdaBoost_Grid.predict(x_test)\n",
        "precision_score(y_test, y_pred_ada, average=\"micro\"), AdaBoost_Grid\n"
      ],
      "metadata": {
        "id": "QzM06CbkDHs0",
        "colab": {
          "base_uri": "https://localhost:8080/"
        },
        "outputId": "9877e8fc-7ab6-41f6-b5d0-affad991a4e6"
      },
      "execution_count": null,
      "outputs": [
        {
          "output_type": "execute_result",
          "data": {
            "text/plain": [
              "(0.43086816720257237,\n",
              " GridSearchCV(cv=KFold(n_splits=5, random_state=42, shuffle=True),\n",
              "              estimator=AdaBoostClassifier(),\n",
              "              param_grid={'learning_rate': [0.0001, 0.001, 0.01, 0.1, 1.0, 2, 5],\n",
              "                          'n_estimators': [1, 50, 100, 500, 1000]},\n",
              "              scoring='accuracy'))"
            ]
          },
          "metadata": {},
          "execution_count": 123
        }
      ]
    },
    {
      "cell_type": "markdown",
      "source": [
        "Gradient Boost"
      ],
      "metadata": {
        "id": "3_meOXzqDNTV"
      }
    },
    {
      "cell_type": "code",
      "source": [
        "# Hyperparameters\n",
        "param = {\"learning_rate\": [0.01,0.1,1, 2, 5],\n",
        "        'n_estimators': [100, 500, 1000],\n",
        "        'max_depth': range(1,5),\n",
        "        \"max_features\": [\"auto\", \"sqrt\", \"log2\"]}\n",
        "#GridSearch\n",
        "GradientBoost_Grid = GridSearchCV(GradientBoostingClassifier(), param, cv= KFold(n_splits=5, random_state=42, shuffle = True),scoring = \"accuracy\")\n",
        "GradientBoost_Grid.fit(x_train, y_train)\n",
        "y_pred_grad = GradientBoost_Grid.predict(x_test)\n",
        "precision_score(y_test, y_pred_grad, average=\"micro\"), GradientBoost_Grid\n"
      ],
      "metadata": {
        "id": "aIvhAeYpDRpL",
        "colab": {
          "base_uri": "https://localhost:8080/"
        },
        "outputId": "29fd6fe4-8074-4b89-c44d-996ac2ad236b"
      },
      "execution_count": null,
      "outputs": [
        {
          "output_type": "execute_result",
          "data": {
            "text/plain": [
              "(0.4662379421221865,\n",
              " GridSearchCV(cv=KFold(n_splits=5, random_state=42, shuffle=True),\n",
              "              estimator=GradientBoostingClassifier(),\n",
              "              param_grid={'learning_rate': [0.01, 0.1, 1, 2, 5],\n",
              "                          'max_depth': range(1, 5),\n",
              "                          'max_features': ['auto', 'sqrt', 'log2'],\n",
              "                          'n_estimators': [100, 500, 1000]},\n",
              "              scoring='accuracy'))"
            ]
          },
          "metadata": {},
          "execution_count": 130
        }
      ]
    },
    {
      "cell_type": "markdown",
      "source": [
        "XG Boost"
      ],
      "metadata": {
        "id": "c3fcBX3hBF1S"
      }
    },
    {
      "cell_type": "code",
      "source": [
        "param = {'max_depth': [2, 6, 8], 'learning_rate': [0.001,0.01, 0.1],\\\n",
        "        'min_child_weight': [5, 6, 7], 'objective': [\"multi:softprob\"],\\\n",
        "        'subsample': [0.6, 0.4], \"colsample_bytree\": [0.7, 0.3],\\\n",
        "        \"gamma\": [0.5, 0.8, 1, 1.5], \"n_estimators\": [50, 100, 150],\"eval_metric\":[\"merror\"]}\n",
        "\n",
        "XgBoost_Grid = GridSearchCV(xgb.XGBClassifier(use_label_encoder=True, nthread=-1), param, cv= KFold(n_splits=5, random_state=42, shuffle = True), scoring =\"accuracy\")\n",
        "XgBoost_Grid.fit(x_train, y_train)\n",
        "y_pred_xgboost = XgBoost_Grid.predict(x_test)\n",
        "precision_score(y_test, y_pred_xgboost, average=\"micro\"), XgBoost_Grid\n"
      ],
      "metadata": {
        "id": "ttr226gTBK03",
        "colab": {
          "base_uri": "https://localhost:8080/",
          "height": 380
        },
        "outputId": "8acb64f6-eadb-4d81-9aef-95eb0cc2d552"
      },
      "execution_count": null,
      "outputs": [
        {
          "output_type": "error",
          "ename": "KeyboardInterrupt",
          "evalue": "ignored",
          "traceback": [
            "\u001b[0;31m---------------------------------------------------------------------------\u001b[0m",
            "\u001b[0;31mKeyboardInterrupt\u001b[0m                         Traceback (most recent call last)",
            "\u001b[0;32m<ipython-input-127-6d8b1b4de108>\u001b[0m in \u001b[0;36m<module>\u001b[0;34m()\u001b[0m\n\u001b[1;32m      2\u001b[0m \u001b[0;34m\u001b[0m\u001b[0m\n\u001b[1;32m      3\u001b[0m \u001b[0mXgBoost_Grid\u001b[0m \u001b[0;34m=\u001b[0m \u001b[0mGridSearchCV\u001b[0m\u001b[0;34m(\u001b[0m\u001b[0mxgb\u001b[0m\u001b[0;34m.\u001b[0m\u001b[0mXGBClassifier\u001b[0m\u001b[0;34m(\u001b[0m\u001b[0muse_label_encoder\u001b[0m\u001b[0;34m=\u001b[0m\u001b[0;32mTrue\u001b[0m\u001b[0;34m,\u001b[0m \u001b[0mnthread\u001b[0m\u001b[0;34m=\u001b[0m\u001b[0;34m-\u001b[0m\u001b[0;36m1\u001b[0m\u001b[0;34m)\u001b[0m\u001b[0;34m,\u001b[0m \u001b[0mparam\u001b[0m\u001b[0;34m,\u001b[0m \u001b[0mcv\u001b[0m\u001b[0;34m=\u001b[0m \u001b[0mKFold\u001b[0m\u001b[0;34m(\u001b[0m\u001b[0mn_splits\u001b[0m\u001b[0;34m=\u001b[0m\u001b[0;36m5\u001b[0m\u001b[0;34m,\u001b[0m \u001b[0mrandom_state\u001b[0m\u001b[0;34m=\u001b[0m\u001b[0;36m42\u001b[0m\u001b[0;34m,\u001b[0m \u001b[0mshuffle\u001b[0m \u001b[0;34m=\u001b[0m \u001b[0;32mTrue\u001b[0m\u001b[0;34m)\u001b[0m\u001b[0;34m,\u001b[0m \u001b[0mscoring\u001b[0m \u001b[0;34m=\u001b[0m\u001b[0;34m\"accuracy\"\u001b[0m\u001b[0;34m)\u001b[0m\u001b[0;34m\u001b[0m\u001b[0;34m\u001b[0m\u001b[0m\n\u001b[0;32m----> 4\u001b[0;31m \u001b[0mXgBoost_Grid\u001b[0m\u001b[0;34m.\u001b[0m\u001b[0mfit\u001b[0m\u001b[0;34m(\u001b[0m\u001b[0mx_train\u001b[0m\u001b[0;34m,\u001b[0m \u001b[0my_train\u001b[0m\u001b[0;34m)\u001b[0m\u001b[0;34m\u001b[0m\u001b[0;34m\u001b[0m\u001b[0m\n\u001b[0m\u001b[1;32m      5\u001b[0m \u001b[0my_pred_xgboost\u001b[0m \u001b[0;34m=\u001b[0m \u001b[0mXgBoost_Grid\u001b[0m\u001b[0;34m.\u001b[0m\u001b[0mpredict\u001b[0m\u001b[0;34m(\u001b[0m\u001b[0mx_test\u001b[0m\u001b[0;34m)\u001b[0m\u001b[0;34m\u001b[0m\u001b[0;34m\u001b[0m\u001b[0m\n\u001b[1;32m      6\u001b[0m \u001b[0mprecision_score\u001b[0m\u001b[0;34m(\u001b[0m\u001b[0my_test\u001b[0m\u001b[0;34m,\u001b[0m \u001b[0my_pred_xgboost\u001b[0m\u001b[0;34m,\u001b[0m \u001b[0maverage\u001b[0m\u001b[0;34m=\u001b[0m\u001b[0;34m\"micro\"\u001b[0m\u001b[0;34m)\u001b[0m\u001b[0;34m,\u001b[0m \u001b[0mXgBoost_Grid\u001b[0m\u001b[0;34m\u001b[0m\u001b[0;34m\u001b[0m\u001b[0m\n",
            "\u001b[0;32m/usr/local/lib/python3.7/dist-packages/sklearn/model_selection/_search.py\u001b[0m in \u001b[0;36mfit\u001b[0;34m(self, X, y, groups, **fit_params)\u001b[0m\n\u001b[1;32m    889\u001b[0m                 \u001b[0;32mreturn\u001b[0m \u001b[0mresults\u001b[0m\u001b[0;34m\u001b[0m\u001b[0;34m\u001b[0m\u001b[0m\n\u001b[1;32m    890\u001b[0m \u001b[0;34m\u001b[0m\u001b[0m\n\u001b[0;32m--> 891\u001b[0;31m             \u001b[0mself\u001b[0m\u001b[0;34m.\u001b[0m\u001b[0m_run_search\u001b[0m\u001b[0;34m(\u001b[0m\u001b[0mevaluate_candidates\u001b[0m\u001b[0;34m)\u001b[0m\u001b[0;34m\u001b[0m\u001b[0;34m\u001b[0m\u001b[0m\n\u001b[0m\u001b[1;32m    892\u001b[0m \u001b[0;34m\u001b[0m\u001b[0m\n\u001b[1;32m    893\u001b[0m             \u001b[0;31m# multimetric is determined here because in the case of a callable\u001b[0m\u001b[0;34m\u001b[0m\u001b[0;34m\u001b[0m\u001b[0;34m\u001b[0m\u001b[0m\n",
            "\u001b[0;32m/usr/local/lib/python3.7/dist-packages/sklearn/model_selection/_search.py\u001b[0m in \u001b[0;36m_run_search\u001b[0;34m(self, evaluate_candidates)\u001b[0m\n\u001b[1;32m   1390\u001b[0m     \u001b[0;32mdef\u001b[0m \u001b[0m_run_search\u001b[0m\u001b[0;34m(\u001b[0m\u001b[0mself\u001b[0m\u001b[0;34m,\u001b[0m \u001b[0mevaluate_candidates\u001b[0m\u001b[0;34m)\u001b[0m\u001b[0;34m:\u001b[0m\u001b[0;34m\u001b[0m\u001b[0;34m\u001b[0m\u001b[0m\n\u001b[1;32m   1391\u001b[0m         \u001b[0;34m\"\"\"Search all candidates in param_grid\"\"\"\u001b[0m\u001b[0;34m\u001b[0m\u001b[0;34m\u001b[0m\u001b[0m\n\u001b[0;32m-> 1392\u001b[0;31m         \u001b[0mevaluate_candidates\u001b[0m\u001b[0;34m(\u001b[0m\u001b[0mParameterGrid\u001b[0m\u001b[0;34m(\u001b[0m\u001b[0mself\u001b[0m\u001b[0;34m.\u001b[0m\u001b[0mparam_grid\u001b[0m\u001b[0;34m)\u001b[0m\u001b[0;34m)\u001b[0m\u001b[0;34m\u001b[0m\u001b[0;34m\u001b[0m\u001b[0m\n\u001b[0m\u001b[1;32m   1393\u001b[0m \u001b[0;34m\u001b[0m\u001b[0m\n\u001b[1;32m   1394\u001b[0m \u001b[0;34m\u001b[0m\u001b[0m\n",
            "\u001b[0;32m/usr/local/lib/python3.7/dist-packages/sklearn/model_selection/_search.py\u001b[0m in \u001b[0;36mevaluate_candidates\u001b[0;34m(candidate_params, cv, more_results)\u001b[0m\n\u001b[1;32m    849\u001b[0m                     )\n\u001b[1;32m    850\u001b[0m                     for (cand_idx, parameters), (split_idx, (train, test)) in product(\n\u001b[0;32m--> 851\u001b[0;31m                         \u001b[0menumerate\u001b[0m\u001b[0;34m(\u001b[0m\u001b[0mcandidate_params\u001b[0m\u001b[0;34m)\u001b[0m\u001b[0;34m,\u001b[0m \u001b[0menumerate\u001b[0m\u001b[0;34m(\u001b[0m\u001b[0mcv\u001b[0m\u001b[0;34m.\u001b[0m\u001b[0msplit\u001b[0m\u001b[0;34m(\u001b[0m\u001b[0mX\u001b[0m\u001b[0;34m,\u001b[0m \u001b[0my\u001b[0m\u001b[0;34m,\u001b[0m \u001b[0mgroups\u001b[0m\u001b[0;34m)\u001b[0m\u001b[0;34m)\u001b[0m\u001b[0;34m\u001b[0m\u001b[0;34m\u001b[0m\u001b[0m\n\u001b[0m\u001b[1;32m    852\u001b[0m                     )\n\u001b[1;32m    853\u001b[0m                 )\n",
            "\u001b[0;32m/usr/local/lib/python3.7/dist-packages/joblib/parallel.py\u001b[0m in \u001b[0;36m__call__\u001b[0;34m(self, iterable)\u001b[0m\n\u001b[1;32m   1044\u001b[0m                 \u001b[0mself\u001b[0m\u001b[0;34m.\u001b[0m\u001b[0m_iterating\u001b[0m \u001b[0;34m=\u001b[0m \u001b[0mself\u001b[0m\u001b[0;34m.\u001b[0m\u001b[0m_original_iterator\u001b[0m \u001b[0;32mis\u001b[0m \u001b[0;32mnot\u001b[0m \u001b[0;32mNone\u001b[0m\u001b[0;34m\u001b[0m\u001b[0;34m\u001b[0m\u001b[0m\n\u001b[1;32m   1045\u001b[0m \u001b[0;34m\u001b[0m\u001b[0m\n\u001b[0;32m-> 1046\u001b[0;31m             \u001b[0;32mwhile\u001b[0m \u001b[0mself\u001b[0m\u001b[0;34m.\u001b[0m\u001b[0mdispatch_one_batch\u001b[0m\u001b[0;34m(\u001b[0m\u001b[0miterator\u001b[0m\u001b[0;34m)\u001b[0m\u001b[0;34m:\u001b[0m\u001b[0;34m\u001b[0m\u001b[0;34m\u001b[0m\u001b[0m\n\u001b[0m\u001b[1;32m   1047\u001b[0m                 \u001b[0;32mpass\u001b[0m\u001b[0;34m\u001b[0m\u001b[0;34m\u001b[0m\u001b[0m\n\u001b[1;32m   1048\u001b[0m \u001b[0;34m\u001b[0m\u001b[0m\n",
            "\u001b[0;32m/usr/local/lib/python3.7/dist-packages/joblib/parallel.py\u001b[0m in \u001b[0;36mdispatch_one_batch\u001b[0;34m(self, iterator)\u001b[0m\n\u001b[1;32m    859\u001b[0m                 \u001b[0;32mreturn\u001b[0m \u001b[0;32mFalse\u001b[0m\u001b[0;34m\u001b[0m\u001b[0;34m\u001b[0m\u001b[0m\n\u001b[1;32m    860\u001b[0m             \u001b[0;32melse\u001b[0m\u001b[0;34m:\u001b[0m\u001b[0;34m\u001b[0m\u001b[0;34m\u001b[0m\u001b[0m\n\u001b[0;32m--> 861\u001b[0;31m                 \u001b[0mself\u001b[0m\u001b[0;34m.\u001b[0m\u001b[0m_dispatch\u001b[0m\u001b[0;34m(\u001b[0m\u001b[0mtasks\u001b[0m\u001b[0;34m)\u001b[0m\u001b[0;34m\u001b[0m\u001b[0;34m\u001b[0m\u001b[0m\n\u001b[0m\u001b[1;32m    862\u001b[0m                 \u001b[0;32mreturn\u001b[0m \u001b[0;32mTrue\u001b[0m\u001b[0;34m\u001b[0m\u001b[0;34m\u001b[0m\u001b[0m\n\u001b[1;32m    863\u001b[0m \u001b[0;34m\u001b[0m\u001b[0m\n",
            "\u001b[0;32m/usr/local/lib/python3.7/dist-packages/joblib/parallel.py\u001b[0m in \u001b[0;36m_dispatch\u001b[0;34m(self, batch)\u001b[0m\n\u001b[1;32m    777\u001b[0m         \u001b[0;32mwith\u001b[0m \u001b[0mself\u001b[0m\u001b[0;34m.\u001b[0m\u001b[0m_lock\u001b[0m\u001b[0;34m:\u001b[0m\u001b[0;34m\u001b[0m\u001b[0;34m\u001b[0m\u001b[0m\n\u001b[1;32m    778\u001b[0m             \u001b[0mjob_idx\u001b[0m \u001b[0;34m=\u001b[0m \u001b[0mlen\u001b[0m\u001b[0;34m(\u001b[0m\u001b[0mself\u001b[0m\u001b[0;34m.\u001b[0m\u001b[0m_jobs\u001b[0m\u001b[0;34m)\u001b[0m\u001b[0;34m\u001b[0m\u001b[0;34m\u001b[0m\u001b[0m\n\u001b[0;32m--> 779\u001b[0;31m             \u001b[0mjob\u001b[0m \u001b[0;34m=\u001b[0m \u001b[0mself\u001b[0m\u001b[0;34m.\u001b[0m\u001b[0m_backend\u001b[0m\u001b[0;34m.\u001b[0m\u001b[0mapply_async\u001b[0m\u001b[0;34m(\u001b[0m\u001b[0mbatch\u001b[0m\u001b[0;34m,\u001b[0m \u001b[0mcallback\u001b[0m\u001b[0;34m=\u001b[0m\u001b[0mcb\u001b[0m\u001b[0;34m)\u001b[0m\u001b[0;34m\u001b[0m\u001b[0;34m\u001b[0m\u001b[0m\n\u001b[0m\u001b[1;32m    780\u001b[0m             \u001b[0;31m# A job can complete so quickly than its callback is\u001b[0m\u001b[0;34m\u001b[0m\u001b[0;34m\u001b[0m\u001b[0;34m\u001b[0m\u001b[0m\n\u001b[1;32m    781\u001b[0m             \u001b[0;31m# called before we get here, causing self._jobs to\u001b[0m\u001b[0;34m\u001b[0m\u001b[0;34m\u001b[0m\u001b[0;34m\u001b[0m\u001b[0m\n",
            "\u001b[0;32m/usr/local/lib/python3.7/dist-packages/joblib/_parallel_backends.py\u001b[0m in \u001b[0;36mapply_async\u001b[0;34m(self, func, callback)\u001b[0m\n\u001b[1;32m    206\u001b[0m     \u001b[0;32mdef\u001b[0m \u001b[0mapply_async\u001b[0m\u001b[0;34m(\u001b[0m\u001b[0mself\u001b[0m\u001b[0;34m,\u001b[0m \u001b[0mfunc\u001b[0m\u001b[0;34m,\u001b[0m \u001b[0mcallback\u001b[0m\u001b[0;34m=\u001b[0m\u001b[0;32mNone\u001b[0m\u001b[0;34m)\u001b[0m\u001b[0;34m:\u001b[0m\u001b[0;34m\u001b[0m\u001b[0;34m\u001b[0m\u001b[0m\n\u001b[1;32m    207\u001b[0m         \u001b[0;34m\"\"\"Schedule a func to be run\"\"\"\u001b[0m\u001b[0;34m\u001b[0m\u001b[0;34m\u001b[0m\u001b[0m\n\u001b[0;32m--> 208\u001b[0;31m         \u001b[0mresult\u001b[0m \u001b[0;34m=\u001b[0m \u001b[0mImmediateResult\u001b[0m\u001b[0;34m(\u001b[0m\u001b[0mfunc\u001b[0m\u001b[0;34m)\u001b[0m\u001b[0;34m\u001b[0m\u001b[0;34m\u001b[0m\u001b[0m\n\u001b[0m\u001b[1;32m    209\u001b[0m         \u001b[0;32mif\u001b[0m \u001b[0mcallback\u001b[0m\u001b[0;34m:\u001b[0m\u001b[0;34m\u001b[0m\u001b[0;34m\u001b[0m\u001b[0m\n\u001b[1;32m    210\u001b[0m             \u001b[0mcallback\u001b[0m\u001b[0;34m(\u001b[0m\u001b[0mresult\u001b[0m\u001b[0;34m)\u001b[0m\u001b[0;34m\u001b[0m\u001b[0;34m\u001b[0m\u001b[0m\n",
            "\u001b[0;32m/usr/local/lib/python3.7/dist-packages/joblib/_parallel_backends.py\u001b[0m in \u001b[0;36m__init__\u001b[0;34m(self, batch)\u001b[0m\n\u001b[1;32m    570\u001b[0m         \u001b[0;31m# Don't delay the application, to avoid keeping the input\u001b[0m\u001b[0;34m\u001b[0m\u001b[0;34m\u001b[0m\u001b[0;34m\u001b[0m\u001b[0m\n\u001b[1;32m    571\u001b[0m         \u001b[0;31m# arguments in memory\u001b[0m\u001b[0;34m\u001b[0m\u001b[0;34m\u001b[0m\u001b[0;34m\u001b[0m\u001b[0m\n\u001b[0;32m--> 572\u001b[0;31m         \u001b[0mself\u001b[0m\u001b[0;34m.\u001b[0m\u001b[0mresults\u001b[0m \u001b[0;34m=\u001b[0m \u001b[0mbatch\u001b[0m\u001b[0;34m(\u001b[0m\u001b[0;34m)\u001b[0m\u001b[0;34m\u001b[0m\u001b[0;34m\u001b[0m\u001b[0m\n\u001b[0m\u001b[1;32m    573\u001b[0m \u001b[0;34m\u001b[0m\u001b[0m\n\u001b[1;32m    574\u001b[0m     \u001b[0;32mdef\u001b[0m \u001b[0mget\u001b[0m\u001b[0;34m(\u001b[0m\u001b[0mself\u001b[0m\u001b[0;34m)\u001b[0m\u001b[0;34m:\u001b[0m\u001b[0;34m\u001b[0m\u001b[0;34m\u001b[0m\u001b[0m\n",
            "\u001b[0;32m/usr/local/lib/python3.7/dist-packages/joblib/parallel.py\u001b[0m in \u001b[0;36m__call__\u001b[0;34m(self)\u001b[0m\n\u001b[1;32m    261\u001b[0m         \u001b[0;32mwith\u001b[0m \u001b[0mparallel_backend\u001b[0m\u001b[0;34m(\u001b[0m\u001b[0mself\u001b[0m\u001b[0;34m.\u001b[0m\u001b[0m_backend\u001b[0m\u001b[0;34m,\u001b[0m \u001b[0mn_jobs\u001b[0m\u001b[0;34m=\u001b[0m\u001b[0mself\u001b[0m\u001b[0;34m.\u001b[0m\u001b[0m_n_jobs\u001b[0m\u001b[0;34m)\u001b[0m\u001b[0;34m:\u001b[0m\u001b[0;34m\u001b[0m\u001b[0;34m\u001b[0m\u001b[0m\n\u001b[1;32m    262\u001b[0m             return [func(*args, **kwargs)\n\u001b[0;32m--> 263\u001b[0;31m                     for func, args, kwargs in self.items]\n\u001b[0m\u001b[1;32m    264\u001b[0m \u001b[0;34m\u001b[0m\u001b[0m\n\u001b[1;32m    265\u001b[0m     \u001b[0;32mdef\u001b[0m \u001b[0m__reduce__\u001b[0m\u001b[0;34m(\u001b[0m\u001b[0mself\u001b[0m\u001b[0;34m)\u001b[0m\u001b[0;34m:\u001b[0m\u001b[0;34m\u001b[0m\u001b[0;34m\u001b[0m\u001b[0m\n",
            "\u001b[0;32m/usr/local/lib/python3.7/dist-packages/joblib/parallel.py\u001b[0m in \u001b[0;36m<listcomp>\u001b[0;34m(.0)\u001b[0m\n\u001b[1;32m    261\u001b[0m         \u001b[0;32mwith\u001b[0m \u001b[0mparallel_backend\u001b[0m\u001b[0;34m(\u001b[0m\u001b[0mself\u001b[0m\u001b[0;34m.\u001b[0m\u001b[0m_backend\u001b[0m\u001b[0;34m,\u001b[0m \u001b[0mn_jobs\u001b[0m\u001b[0;34m=\u001b[0m\u001b[0mself\u001b[0m\u001b[0;34m.\u001b[0m\u001b[0m_n_jobs\u001b[0m\u001b[0;34m)\u001b[0m\u001b[0;34m:\u001b[0m\u001b[0;34m\u001b[0m\u001b[0;34m\u001b[0m\u001b[0m\n\u001b[1;32m    262\u001b[0m             return [func(*args, **kwargs)\n\u001b[0;32m--> 263\u001b[0;31m                     for func, args, kwargs in self.items]\n\u001b[0m\u001b[1;32m    264\u001b[0m \u001b[0;34m\u001b[0m\u001b[0m\n\u001b[1;32m    265\u001b[0m     \u001b[0;32mdef\u001b[0m \u001b[0m__reduce__\u001b[0m\u001b[0;34m(\u001b[0m\u001b[0mself\u001b[0m\u001b[0;34m)\u001b[0m\u001b[0;34m:\u001b[0m\u001b[0;34m\u001b[0m\u001b[0;34m\u001b[0m\u001b[0m\n",
            "\u001b[0;32m/usr/local/lib/python3.7/dist-packages/sklearn/utils/fixes.py\u001b[0m in \u001b[0;36m__call__\u001b[0;34m(self, *args, **kwargs)\u001b[0m\n\u001b[1;32m    214\u001b[0m     \u001b[0;32mdef\u001b[0m \u001b[0m__call__\u001b[0m\u001b[0;34m(\u001b[0m\u001b[0mself\u001b[0m\u001b[0;34m,\u001b[0m \u001b[0;34m*\u001b[0m\u001b[0margs\u001b[0m\u001b[0;34m,\u001b[0m \u001b[0;34m**\u001b[0m\u001b[0mkwargs\u001b[0m\u001b[0;34m)\u001b[0m\u001b[0;34m:\u001b[0m\u001b[0;34m\u001b[0m\u001b[0;34m\u001b[0m\u001b[0m\n\u001b[1;32m    215\u001b[0m         \u001b[0;32mwith\u001b[0m \u001b[0mconfig_context\u001b[0m\u001b[0;34m(\u001b[0m\u001b[0;34m**\u001b[0m\u001b[0mself\u001b[0m\u001b[0;34m.\u001b[0m\u001b[0mconfig\u001b[0m\u001b[0;34m)\u001b[0m\u001b[0;34m:\u001b[0m\u001b[0;34m\u001b[0m\u001b[0;34m\u001b[0m\u001b[0m\n\u001b[0;32m--> 216\u001b[0;31m             \u001b[0;32mreturn\u001b[0m \u001b[0mself\u001b[0m\u001b[0;34m.\u001b[0m\u001b[0mfunction\u001b[0m\u001b[0;34m(\u001b[0m\u001b[0;34m*\u001b[0m\u001b[0margs\u001b[0m\u001b[0;34m,\u001b[0m \u001b[0;34m**\u001b[0m\u001b[0mkwargs\u001b[0m\u001b[0;34m)\u001b[0m\u001b[0;34m\u001b[0m\u001b[0;34m\u001b[0m\u001b[0m\n\u001b[0m\u001b[1;32m    217\u001b[0m \u001b[0;34m\u001b[0m\u001b[0m\n\u001b[1;32m    218\u001b[0m \u001b[0;34m\u001b[0m\u001b[0m\n",
            "\u001b[0;32m/usr/local/lib/python3.7/dist-packages/sklearn/model_selection/_validation.py\u001b[0m in \u001b[0;36m_fit_and_score\u001b[0;34m(estimator, X, y, scorer, train, test, verbose, parameters, fit_params, return_train_score, return_parameters, return_n_test_samples, return_times, return_estimator, split_progress, candidate_progress, error_score)\u001b[0m\n\u001b[1;32m    678\u001b[0m             \u001b[0mestimator\u001b[0m\u001b[0;34m.\u001b[0m\u001b[0mfit\u001b[0m\u001b[0;34m(\u001b[0m\u001b[0mX_train\u001b[0m\u001b[0;34m,\u001b[0m \u001b[0;34m**\u001b[0m\u001b[0mfit_params\u001b[0m\u001b[0;34m)\u001b[0m\u001b[0;34m\u001b[0m\u001b[0;34m\u001b[0m\u001b[0m\n\u001b[1;32m    679\u001b[0m         \u001b[0;32melse\u001b[0m\u001b[0;34m:\u001b[0m\u001b[0;34m\u001b[0m\u001b[0;34m\u001b[0m\u001b[0m\n\u001b[0;32m--> 680\u001b[0;31m             \u001b[0mestimator\u001b[0m\u001b[0;34m.\u001b[0m\u001b[0mfit\u001b[0m\u001b[0;34m(\u001b[0m\u001b[0mX_train\u001b[0m\u001b[0;34m,\u001b[0m \u001b[0my_train\u001b[0m\u001b[0;34m,\u001b[0m \u001b[0;34m**\u001b[0m\u001b[0mfit_params\u001b[0m\u001b[0;34m)\u001b[0m\u001b[0;34m\u001b[0m\u001b[0;34m\u001b[0m\u001b[0m\n\u001b[0m\u001b[1;32m    681\u001b[0m \u001b[0;34m\u001b[0m\u001b[0m\n\u001b[1;32m    682\u001b[0m     \u001b[0;32mexcept\u001b[0m \u001b[0mException\u001b[0m\u001b[0;34m:\u001b[0m\u001b[0;34m\u001b[0m\u001b[0;34m\u001b[0m\u001b[0m\n",
            "\u001b[0;32m/usr/local/lib/python3.7/dist-packages/xgboost/sklearn.py\u001b[0m in \u001b[0;36mfit\u001b[0;34m(self, X, y, sample_weight, eval_set, eval_metric, early_stopping_rounds, verbose, xgb_model, sample_weight_eval_set, callbacks)\u001b[0m\n\u001b[1;32m    730\u001b[0m                               \u001b[0mevals_result\u001b[0m\u001b[0;34m=\u001b[0m\u001b[0mevals_result\u001b[0m\u001b[0;34m,\u001b[0m \u001b[0mobj\u001b[0m\u001b[0;34m=\u001b[0m\u001b[0mobj\u001b[0m\u001b[0;34m,\u001b[0m \u001b[0mfeval\u001b[0m\u001b[0;34m=\u001b[0m\u001b[0mfeval\u001b[0m\u001b[0;34m,\u001b[0m\u001b[0;34m\u001b[0m\u001b[0;34m\u001b[0m\u001b[0m\n\u001b[1;32m    731\u001b[0m                               \u001b[0mverbose_eval\u001b[0m\u001b[0;34m=\u001b[0m\u001b[0mverbose\u001b[0m\u001b[0;34m,\u001b[0m \u001b[0mxgb_model\u001b[0m\u001b[0;34m=\u001b[0m\u001b[0mxgb_model\u001b[0m\u001b[0;34m,\u001b[0m\u001b[0;34m\u001b[0m\u001b[0;34m\u001b[0m\u001b[0m\n\u001b[0;32m--> 732\u001b[0;31m                               callbacks=callbacks)\n\u001b[0m\u001b[1;32m    733\u001b[0m \u001b[0;34m\u001b[0m\u001b[0m\n\u001b[1;32m    734\u001b[0m         \u001b[0mself\u001b[0m\u001b[0;34m.\u001b[0m\u001b[0mobjective\u001b[0m \u001b[0;34m=\u001b[0m \u001b[0mxgb_options\u001b[0m\u001b[0;34m[\u001b[0m\u001b[0;34m\"objective\"\u001b[0m\u001b[0;34m]\u001b[0m\u001b[0;34m\u001b[0m\u001b[0;34m\u001b[0m\u001b[0m\n",
            "\u001b[0;32m/usr/local/lib/python3.7/dist-packages/xgboost/training.py\u001b[0m in \u001b[0;36mtrain\u001b[0;34m(params, dtrain, num_boost_round, evals, obj, feval, maximize, early_stopping_rounds, evals_result, verbose_eval, xgb_model, callbacks, learning_rates)\u001b[0m\n\u001b[1;32m    214\u001b[0m                            \u001b[0mevals\u001b[0m\u001b[0;34m=\u001b[0m\u001b[0mevals\u001b[0m\u001b[0;34m,\u001b[0m\u001b[0;34m\u001b[0m\u001b[0;34m\u001b[0m\u001b[0m\n\u001b[1;32m    215\u001b[0m                            \u001b[0mobj\u001b[0m\u001b[0;34m=\u001b[0m\u001b[0mobj\u001b[0m\u001b[0;34m,\u001b[0m \u001b[0mfeval\u001b[0m\u001b[0;34m=\u001b[0m\u001b[0mfeval\u001b[0m\u001b[0;34m,\u001b[0m\u001b[0;34m\u001b[0m\u001b[0;34m\u001b[0m\u001b[0m\n\u001b[0;32m--> 216\u001b[0;31m                            xgb_model=xgb_model, callbacks=callbacks)\n\u001b[0m\u001b[1;32m    217\u001b[0m \u001b[0;34m\u001b[0m\u001b[0m\n\u001b[1;32m    218\u001b[0m \u001b[0;34m\u001b[0m\u001b[0m\n",
            "\u001b[0;32m/usr/local/lib/python3.7/dist-packages/xgboost/training.py\u001b[0m in \u001b[0;36m_train_internal\u001b[0;34m(params, dtrain, num_boost_round, evals, obj, feval, xgb_model, callbacks)\u001b[0m\n\u001b[1;32m     72\u001b[0m         \u001b[0;31m# Skip the first update if it is a recovery step.\u001b[0m\u001b[0;34m\u001b[0m\u001b[0;34m\u001b[0m\u001b[0;34m\u001b[0m\u001b[0m\n\u001b[1;32m     73\u001b[0m         \u001b[0;32mif\u001b[0m \u001b[0mversion\u001b[0m \u001b[0;34m%\u001b[0m \u001b[0;36m2\u001b[0m \u001b[0;34m==\u001b[0m \u001b[0;36m0\u001b[0m\u001b[0;34m:\u001b[0m\u001b[0;34m\u001b[0m\u001b[0;34m\u001b[0m\u001b[0m\n\u001b[0;32m---> 74\u001b[0;31m             \u001b[0mbst\u001b[0m\u001b[0;34m.\u001b[0m\u001b[0mupdate\u001b[0m\u001b[0;34m(\u001b[0m\u001b[0mdtrain\u001b[0m\u001b[0;34m,\u001b[0m \u001b[0mi\u001b[0m\u001b[0;34m,\u001b[0m \u001b[0mobj\u001b[0m\u001b[0;34m)\u001b[0m\u001b[0;34m\u001b[0m\u001b[0;34m\u001b[0m\u001b[0m\n\u001b[0m\u001b[1;32m     75\u001b[0m             \u001b[0mbst\u001b[0m\u001b[0;34m.\u001b[0m\u001b[0msave_rabit_checkpoint\u001b[0m\u001b[0;34m(\u001b[0m\u001b[0;34m)\u001b[0m\u001b[0;34m\u001b[0m\u001b[0;34m\u001b[0m\u001b[0m\n\u001b[1;32m     76\u001b[0m             \u001b[0mversion\u001b[0m \u001b[0;34m+=\u001b[0m \u001b[0;36m1\u001b[0m\u001b[0;34m\u001b[0m\u001b[0;34m\u001b[0m\u001b[0m\n",
            "\u001b[0;32m/usr/local/lib/python3.7/dist-packages/xgboost/core.py\u001b[0m in \u001b[0;36mupdate\u001b[0;34m(self, dtrain, iteration, fobj)\u001b[0m\n\u001b[1;32m   1107\u001b[0m         \u001b[0;32mif\u001b[0m \u001b[0mfobj\u001b[0m \u001b[0;32mis\u001b[0m \u001b[0;32mNone\u001b[0m\u001b[0;34m:\u001b[0m\u001b[0;34m\u001b[0m\u001b[0;34m\u001b[0m\u001b[0m\n\u001b[1;32m   1108\u001b[0m             _check_call(_LIB.XGBoosterUpdateOneIter(self.handle, ctypes.c_int(iteration),\n\u001b[0;32m-> 1109\u001b[0;31m                                                     dtrain.handle))\n\u001b[0m\u001b[1;32m   1110\u001b[0m         \u001b[0;32melse\u001b[0m\u001b[0;34m:\u001b[0m\u001b[0;34m\u001b[0m\u001b[0;34m\u001b[0m\u001b[0m\n\u001b[1;32m   1111\u001b[0m             \u001b[0mpred\u001b[0m \u001b[0;34m=\u001b[0m \u001b[0mself\u001b[0m\u001b[0;34m.\u001b[0m\u001b[0mpredict\u001b[0m\u001b[0;34m(\u001b[0m\u001b[0mdtrain\u001b[0m\u001b[0;34m)\u001b[0m\u001b[0;34m\u001b[0m\u001b[0;34m\u001b[0m\u001b[0m\n",
            "\u001b[0;31mKeyboardInterrupt\u001b[0m: "
          ]
        }
      ]
    },
    {
      "cell_type": "code",
      "source": [
        "# Hyperparameters\n",
        "param = {\"max_depth\": [2,6,8,10] ,\\\n",
        "        \"min_samples_leaf\": [1,2,5,7],\\\n",
        "        \"n_estimators\": [500,1500,3000],\\\n",
        "        \"max_features\":[\"auto\", \"sqrt\",\"log2\"],\"min_samples_split\" : [2, 5, 10],\"bootstrap\":[True, False]}\n",
        "#GridSearch\n",
        "grid_search = GridSearchCV(RandomForestClassifier(), param, n_jobs=-1, cv=5, scoring = \"accuracy\")\n",
        "grid_search.fit(x_train, y_train)\n",
        "y_pred_rfc = grid_search.predict(x_test)\n",
        "precision_score(y_test, y_pred_rfc, average=\"micro\"), grid_search\n"
      ],
      "metadata": {
        "id": "V-e1qXa1_wka"
      },
      "execution_count": null,
      "outputs": []
    },
    {
      "cell_type": "code",
      "source": [
        "print(\"LDA : Best parameters {} with best score {} \".format(lda_grid.best_params_,\\\n",
        "lda_grid.best_score_))\n",
        "print(\"QDA : Best parameters {} with best score {} \".format(qda_grid.best_params_,\\\n",
        "qda_grid.best_score_))\n",
        "print(\"KNN : Best parameters {} with best score {} \".format(knn_grid.best_params_,\\\n",
        "knn_grid.best_score_))\n",
        "print(\"SVC : Best parameters {} with best score {} \".format(svc_grid.best_params_,\\\n",
        "svc_grid.best_score_))\n",
        "print(\"Random Forest : Best parameters {} with best score {} \".format(grid_search.best_params_,\\\n",
        "grid_search.best_score_))\n",
        "print(\"XGBoost : Best parameters {} with best score {} \".format(XgBoost_Grid.best_params_,\\\n",
        "XgBoost_Grid.best_score_))\n",
        "print(\"Gradient Boost : Best parameters {} with best score {} \".format(GradientBoost_Grid.best_params_,\\\n",
        "GradientBoost_Grid.best_score_))\n",
        "print(\"ADA Boost : Best parameters {} with best score {} \".format(AdaBoost_Grid.best_params_,\\\n",
        "AdaBoost_Grid.best_score_))"
      ],
      "metadata": {
        "id": "lhULFbl_5LSH"
      },
      "execution_count": null,
      "outputs": []
    }
  ]
}