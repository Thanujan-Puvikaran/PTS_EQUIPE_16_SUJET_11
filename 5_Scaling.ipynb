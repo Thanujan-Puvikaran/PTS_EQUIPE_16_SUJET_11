{
  "nbformat": 4,
  "nbformat_minor": 0,
  "metadata": {
    "colab": {
      "name": "5_Scaling.ipynb",
      "provenance": [],
      "collapsed_sections": []
    },
    "kernelspec": {
      "name": "python3",
      "display_name": "Python 3"
    },
    "language_info": {
      "name": "python"
    }
  },
  "cells": [
    {
      "cell_type": "code",
      "execution_count": null,
      "metadata": {
        "id": "YrxL8z0k0tkO"
      },
      "outputs": [],
      "source": [
        "import requests\n",
        "import pandas as pd\n",
        "import numpy as np\n",
        "import csv\n",
        "import matplotlib.pyplot as plt\n",
        "import seaborn as sns\n",
        "from sklearn.model_selection import train_test_split\n",
        "from sklearn.preprocessing import StandardScaler\n",
        "from sklearn.model_selection import GridSearchCV\n",
        "from sklearn.model_selection import  KFold\n",
        "import warnings\n",
        "import re\n",
        "warnings.filterwarnings('ignore')"
      ]
    },
    {
      "cell_type": "code",
      "source": [
        "movies_db = pd.read_csv(\"movies_db_3.csv\", delimiter=\",\",engine='python') #Provient de 3_Definition_Labels_X"
      ],
      "metadata": {
        "id": "5Wk6jUre1YAt"
      },
      "execution_count": null,
      "outputs": []
    },
    {
      "cell_type": "code",
      "source": [
        "scaler = StandardScaler()\n",
        "scaler.fit(movies_model_data.drop([\"target\",\"title\"],axis=1))\n",
        "movies_model_data_scaled = scaler.transform(movies_model_data.drop([\"target\",\"title\"],axis=1))\n",
        "movies_model_data_scaled = pd.DataFrame(movies_model_data_scaled)\n",
        "movies_model_data_scaled.columns = movies_model_data.drop([\"target\",\"title\"],axis=1).columns\n",
        "movies_model_data_scaled[\"target\"] = movies_model_data[\"target\"]\n",
        "movies_model_data_scaled[\"title\"] = movies_model_data[\"title\"]\n",
        "movies_model_data_scaled"
      ],
      "metadata": {
        "id": "o7mD3bW4QNo1"
      },
      "execution_count": null,
      "outputs": []
    },
    {
      "cell_type": "markdown",
      "source": [
        "Export CSV"
      ],
      "metadata": {
        "id": "c59b25uz4Pes"
      }
    },
    {
      "cell_type": "code",
      "source": [
        "movies_db.to_csv(\"movies_db.csv\",index=False)"
      ],
      "metadata": {
        "id": "jPPEfsAb2kU4"
      },
      "execution_count": null,
      "outputs": []
    }
  ]
}