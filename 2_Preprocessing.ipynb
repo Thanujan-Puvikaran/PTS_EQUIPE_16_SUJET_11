{
  "nbformat": 4,
  "nbformat_minor": 0,
  "metadata": {
    "colab": {
      "name": "2_Preprocessing.ipynb",
      "provenance": [],
      "collapsed_sections": []
    },
    "kernelspec": {
      "name": "python3",
      "display_name": "Python 3"
    },
    "language_info": {
      "name": "python"
    }
  },
  "cells": [
    {
      "cell_type": "code",
      "metadata": {
        "id": "8PYMQMtxrwJC"
      },
      "source": [
        "import requests\n",
        "import pandas as pd\n",
        "import numpy as np\n",
        "import csv\n",
        "import matplotlib.pyplot as plt\n",
        "import seaborn as sns\n",
        "from sklearn.model_selection import train_test_split\n",
        "from sklearn.preprocessing import StandardScaler\n",
        "from sklearn.model_selection import GridSearchCV\n",
        "from sklearn.model_selection import  KFold\n",
        "import warnings\n",
        "import re\n",
        "warnings.filterwarnings('ignore')"
      ],
      "execution_count": null,
      "outputs": []
    },
    {
      "cell_type": "code",
      "metadata": {
        "id": "gg-23MGzk7HV"
      },
      "source": [
        "movies_db = pd.read_csv(\"movies_db_1.csv\", delimiter=\",\",engine='python') #Provient de 1_Recuperation_Movies"
      ],
      "execution_count": null,
      "outputs": []
    },
    {
      "cell_type": "code",
      "metadata": {
        "id": "sUEL4YCEY0Rx"
      },
      "source": [
        "movies_db.dropna(inplace=True) #Nettoyage des Na"
      ],
      "execution_count": null,
      "outputs": []
    },
    {
      "cell_type": "code",
      "source": [
        "movies_db['actors'] = movies_db['actors'].str.strip('[]')\n",
        "movies_db['director'] = movies_db['director'].str.strip('[]')\n",
        "movies_db['producers'] = movies_db['producers'].str.strip('[]')"
      ],
      "metadata": {
        "id": "DjFXfOvwY5BX"
      },
      "execution_count": null,
      "outputs": []
    },
    {
      "cell_type": "code",
      "source": [
        "def extract_popularities(col):\n",
        "  movies_db_col = movies_db[col].apply(lambda s : re.findall('\\'popularity\\': \\d+.?\\d*',s))\n",
        "  return movies_db_col.apply(lambda s :  np.sum([float(re.search('(\\'popularity\\': )(\\d+.?\\d*)', x).group(2)) for x in s]))"
      ],
      "metadata": {
        "id": "UHRX1E1YkWm9"
      },
      "execution_count": null,
      "outputs": []
    },
    {
      "cell_type": "code",
      "source": [
        "movies_actors_popularities = movies_db['actors'].apply(lambda s : re.findall('\\'popularity\\': \\d+.?\\d*',s))"
      ],
      "metadata": {
        "id": "tQvmxAvBe2Y4"
      },
      "execution_count": null,
      "outputs": []
    },
    {
      "cell_type": "code",
      "source": [
        "movies_actors_popularities = movies_actors_popularities.apply(lambda s :  np.sum([float(re.search('(\\'popularity\\': )(\\d+.?\\d*)', x).group(2)) for x in s]))"
      ],
      "metadata": {
        "id": "i1ElE8QahPX5"
      },
      "execution_count": null,
      "outputs": []
    },
    {
      "cell_type": "code",
      "source": [
        "movies_db['pop_actors'] = extract_popularities('actors')\n",
        "movies_db['pop_directors'] = extract_popularities('director')\n",
        "movies_db['pop_producer'] = extract_popularities('producers')"
      ],
      "metadata": {
        "id": "BoaQJcQBk7Xs"
      },
      "execution_count": null,
      "outputs": []
    },
    {
      "cell_type": "code",
      "metadata": {
        "id": "DbplMKqUb1U7"
      },
      "source": [
        "convert_dict = {'budget':'int64',\n",
        "                'revenue':'int64',\n",
        "                'runtime':'float64',\n",
        "                'vote_count':'int64'\n",
        "                }\n",
        "\n",
        "movies_db[['budget','revenue','runtime','vote_count']] = movies_db[['budget','revenue','runtime','vote_count']].astype(convert_dict)"
      ],
      "execution_count": null,
      "outputs": []
    },
    {
      "cell_type": "code",
      "metadata": {
        "id": "q59nLwA5dcHY"
      },
      "source": [
        "movies_db['release_date'] = pd.to_datetime(movies_db['release_date'])"
      ],
      "execution_count": null,
      "outputs": []
    },
    {
      "cell_type": "code",
      "metadata": {
        "id": "UyyatbUqGJBs"
      },
      "source": [
        "movies_db.drop(movies_db[movies_db['revenue']<=0].index,inplace=True)"
      ],
      "execution_count": null,
      "outputs": []
    },
    {
      "cell_type": "code",
      "metadata": {
        "id": "TNDZlUhxGwwO"
      },
      "source": [
        "movies_db.drop(movies_db[movies_db['runtime']==0].index,inplace=True)"
      ],
      "execution_count": null,
      "outputs": []
    },
    {
      "cell_type": "code",
      "metadata": {
        "id": "We8WgUC0M8Wy"
      },
      "source": [
        "movies_db[\"year\"] = movies_db[\"release_date\"].apply(lambda s: s.year)"
      ],
      "execution_count": null,
      "outputs": []
    },
    {
      "cell_type": "code",
      "metadata": {
        "id": "YiVxI9kzNZAZ"
      },
      "source": [
        "movies_db.drop(movies_db[movies_db[\"year\"]==2023].index,inplace=True)"
      ],
      "execution_count": null,
      "outputs": []
    },
    {
      "cell_type": "code",
      "metadata": {
        "id": "dlZxTdNLbc2v"
      },
      "source": [
        "movies_db['director'] = movies_db['director'].str.strip('[]')\n",
        "movies_db['producers'] = movies_db['producers'].str.strip('[]')\n",
        "movies_db['genres'] = movies_db['genres'].str.strip('[]')\n",
        "movies_db['production_companies'] = movies_db['production_companies'].str.strip('[]')"
      ],
      "execution_count": null,
      "outputs": []
    },
    {
      "cell_type": "code",
      "source": [
        "movies_db['actors'] = movies_db['actors'].apply(lambda s : re.findall('[a-zA-Z]+ [a-zA-Z]*',s))"
      ],
      "metadata": {
        "id": "antCXRvtaej0"
      },
      "execution_count": null,
      "outputs": []
    },
    {
      "cell_type": "code",
      "source": [
        "movies_db = movies_db[movies_db['year']>=2010]"
      ],
      "metadata": {
        "id": "Crx-ugxTdsJ-"
      },
      "execution_count": null,
      "outputs": []
    },
    {
      "cell_type": "code",
      "source": [
        "movies_db.reset_index(inplace=True)\n",
        "movies_db"
      ],
      "metadata": {
        "id": "gRZ_kLBNXn1F"
      },
      "execution_count": null,
      "outputs": []
    },
    {
      "cell_type": "code",
      "source": [
        "movies_db.drop([\"index\"],axis=1,inplace=True)"
      ],
      "metadata": {
        "id": "kKk7XVwPjvfK"
      },
      "execution_count": null,
      "outputs": []
    },
    {
      "cell_type": "markdown",
      "source": [
        "Importation données Youtube"
      ],
      "metadata": {
        "id": "nbJ8lx8t3Cls"
      }
    },
    {
      "cell_type": "code",
      "source": [
        "youtube = pd.read_csv(\"Film_View_Like_BIS.csv\",engine='python',names=[\"count_view\",\"count_like\"],sep=None)"
      ],
      "metadata": {
        "id": "YyCtcIrEr8BN"
      },
      "execution_count": null,
      "outputs": []
    },
    {
      "cell_type": "code",
      "source": [
        "youtube.reset_index(inplace=True)"
      ],
      "metadata": {
        "id": "ANLNb219UrTc"
      },
      "execution_count": null,
      "outputs": []
    },
    {
      "cell_type": "code",
      "source": [
        "youtube.rename(columns={\"index\":\"title\"},inplace=True)"
      ],
      "metadata": {
        "id": "9cLI1I3UWLxI"
      },
      "execution_count": null,
      "outputs": []
    },
    {
      "cell_type": "code",
      "source": [
        "movies_db['title']=movies_db['title'].apply(lambda s: s.replace(\":\",\" \"))\n",
        "movies_db['title']=movies_db['title'].apply(lambda s: s.replace(\"-\",\" \"))\n",
        "youtube['title']=youtube['title'].apply(lambda s: s.replace('\"',''))\n",
        "youtube['title']=youtube['title'].apply(lambda s: s.replace(\":\",\" \"))\n",
        "youtube['title']=youtube['title'].apply(lambda s: s.replace(\"-\",\" \"))"
      ],
      "metadata": {
        "id": "TNrQxjfIA3Y6"
      },
      "execution_count": null,
      "outputs": []
    },
    {
      "cell_type": "code",
      "source": [
        "movies_db=pd.merge(movies_db,youtube,on=[\"title\"])"
      ],
      "metadata": {
        "id": "Ys_Mslt2eiN0"
      },
      "execution_count": null,
      "outputs": []
    },
    {
      "cell_type": "markdown",
      "source": [
        "Export CSV"
      ],
      "metadata": {
        "id": "-rtxKRgE3Z6f"
      }
    },
    {
      "cell_type": "code",
      "source": [
        "movies_db.to_csv(\"movies_db_2.csv\",index=False)"
      ],
      "metadata": {
        "id": "SJvsFf1Ny5e8"
      },
      "execution_count": null,
      "outputs": []
    }
  ]
}