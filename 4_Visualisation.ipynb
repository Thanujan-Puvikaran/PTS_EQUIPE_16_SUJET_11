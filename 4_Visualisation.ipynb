{
  "nbformat": 4,
  "nbformat_minor": 0,
  "metadata": {
    "colab": {
      "name": "4_Visualisation.ipynb",
      "provenance": [],
      "collapsed_sections": []
    },
    "kernelspec": {
      "name": "python3",
      "display_name": "Python 3"
    },
    "language_info": {
      "name": "python"
    }
  },
  "cells": [
    {
      "cell_type": "code",
      "execution_count": null,
      "metadata": {
        "id": "YrxL8z0k0tkO"
      },
      "outputs": [],
      "source": [
        "import requests\n",
        "import pandas as pd\n",
        "import numpy as np\n",
        "import csv\n",
        "import matplotlib.pyplot as plt\n",
        "import seaborn as sns\n",
        "from sklearn.model_selection import train_test_split\n",
        "from sklearn.preprocessing import StandardScaler\n",
        "from sklearn.model_selection import GridSearchCV\n",
        "from sklearn.model_selection import  KFold\n",
        "import warnings\n",
        "import re\n",
        "warnings.filterwarnings('ignore')"
      ]
    },
    {
      "cell_type": "code",
      "source": [
        "movies_db = pd.read_csv(\"movies_db_3.csv\", delimiter=\",\",engine='python') #Provient de 3_Definition_Labels_X"
      ],
      "metadata": {
        "id": "5Wk6jUre1YAt"
      },
      "execution_count": null,
      "outputs": []
    },
    {
      "cell_type": "code",
      "source": [
        "fig, ax = plt.subplots()\n",
        "ax.ticklabel_format(style='plain')\n",
        "movies_db.plot.scatter(\"vote_average\",\"vote_count\",figsize=(20,10),ax=ax)\n",
        "plt.show()"
      ],
      "metadata": {
        "id": "N8U3NRfoe26E"
      },
      "execution_count": null,
      "outputs": []
    },
    {
      "cell_type": "code",
      "source": [
        "fig, ax = plt.subplots(figsize=(20,10))\n",
        "ax.ticklabel_format(style='plain')\n",
        "# movies_db.hist(\"target\",bins=20,ax=ax)\n",
        "movies_db['target'].value_counts().plot(kind='bar')\n",
        "plt.title('Répartition de la target')\n",
        "plt.xlabel('target')\n",
        "plt.show()"
      ],
      "metadata": {
        "id": "Mgxg-MiF77YM"
      },
      "execution_count": null,
      "outputs": []
    },
    {
      "cell_type": "code",
      "metadata": {
        "id": "rHlyX09OtwWe"
      },
      "source": [
        "movies_db[[\"vote_average\"]].boxplot(figsize=(20,10))"
      ],
      "execution_count": null,
      "outputs": []
    },
    {
      "cell_type": "code",
      "metadata": {
        "id": "myEhw4Ygm5AJ"
      },
      "source": [
        "fig, ax = plt.subplots(figsize=(20,10))\n",
        "ax.ticklabel_format(style='plain')\n",
        "movies_db.hist(\"budget\",bins=20,ax=ax)\n",
        "plt.title('Répartition du budget')\n",
        "plt.xlabel('Budget')\n",
        "plt.show()"
      ],
      "execution_count": null,
      "outputs": []
    },
    {
      "cell_type": "code",
      "metadata": {
        "id": "hjvh8jLBou6S"
      },
      "source": [
        "fig, ax = plt.subplots(figsize=(20,10))\n",
        "ax.ticklabel_format(style='plain')\n",
        "movies_db.hist(\"revenue\",bins=20,ax=ax)\n",
        "plt.title('Répartition du revenue')\n",
        "plt.xlabel('Revenue')\n",
        "plt.show()"
      ],
      "execution_count": null,
      "outputs": []
    },
    {
      "cell_type": "code",
      "metadata": {
        "id": "4IKJcUANLxoM"
      },
      "source": [
        "movies_db.pivot_table(values=\"vote_count\",index=\"year\",aggfunc=\"sum\").reset_index().plot.scatter('year','vote_count',figsize=(20,10))\n",
        "plt.title(\"Nombre de votes par année de sortie de films\")\n",
        "plt.xlabel(\"Années de sortie\")\n",
        "plt.ylabel(\"Nombre de votes\")\n",
        "plt.show()"
      ],
      "execution_count": null,
      "outputs": []
    },
    {
      "cell_type": "code",
      "metadata": {
        "id": "XyA2X88qpJ_Z"
      },
      "source": [
        "fig, ax = plt.subplots()\n",
        "ax.ticklabel_format(style='plain')\n",
        "movies_db.plot.scatter(\"revenue\",\"budget\",figsize=(20,10),ax=ax)\n",
        "plt.title(\"Budget par rapport au revenue\")\n",
        "plt.xlabel(\"Revenue\")\n",
        "plt.ylabel(\"Budget\")\n",
        "plt.show()"
      ],
      "execution_count": null,
      "outputs": []
    },
    {
      "cell_type": "code",
      "metadata": {
        "id": "YgOkZ1pCpV48"
      },
      "source": [
        "fig, ax = plt.subplots()\n",
        "ax.ticklabel_format(style='plain')\n",
        "movies_db.plot.scatter(\"revenue\",\"vote_average\",figsize=(20,10),ax=ax)\n",
        "plt.title(\"Note moyenne par rapport au revenue\")\n",
        "plt.xlabel(\"Revenue\")\n",
        "plt.ylabel(\"Note moyenne\")\n",
        "plt.show()"
      ],
      "execution_count": null,
      "outputs": []
    },
    {
      "cell_type": "code",
      "metadata": {
        "id": "p5C4lma4pk1c"
      },
      "source": [
        "fig, ax = plt.subplots()\n",
        "ax.ticklabel_format(style='plain')\n",
        "movies_db.plot.scatter(\"budget\",\"vote_average\",figsize=(20,10),ax=ax)\n",
        "plt.title(\"Note moyenne par rapport au budget\")\n",
        "plt.xlabel(\"Budget\")\n",
        "plt.ylabel(\"Note moyenne\")\n",
        "plt.show()"
      ],
      "execution_count": null,
      "outputs": []
    }
  ]
}