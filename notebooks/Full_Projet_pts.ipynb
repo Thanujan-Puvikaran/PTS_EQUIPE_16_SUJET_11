{
  "nbformat": 4,
  "nbformat_minor": 0,
  "metadata": {
    "colab": {
      "name": "Full_Projet_pts",
      "provenance": [],
      "collapsed_sections": [
        "0feO4cKWksvz",
        "DieTNxDp0FFo",
        "WSzrWZWV0O0H",
        "L1N0d4XN0WG_",
        "Z60IfcQ8lG_l"
      ],
      "toc_visible": true
    },
    "kernelspec": {
      "display_name": "Python 3",
      "name": "python3"
    },
    "language_info": {
      "name": "python"
    },
    "accelerator": "GPU"
  },
  "cells": [
    {
      "cell_type": "code",
      "metadata": {
        "id": "8PYMQMtxrwJC"
      },
      "source": [
        "import requests\n",
        "import pandas as pd\n",
        "import numpy as np\n",
        "import csv\n",
        "import matplotlib.pyplot as plt\n",
        "import seaborn as sns\n",
        "from sklearn.model_selection import train_test_split\n",
        "from sklearn.preprocessing import StandardScaler\n",
        "from sklearn.model_selection import GridSearchCV\n",
        "from sklearn.model_selection import  KFold\n",
        "import warnings\n",
        "import re\n",
        "warnings.filterwarnings('ignore')"
      ],
      "execution_count": null,
      "outputs": []
    },
    {
      "cell_type": "markdown",
      "metadata": {
        "id": "0feO4cKWksvz"
      },
      "source": [
        "# **Préparation des endpoints**"
      ]
    },
    {
      "cell_type": "code",
      "metadata": {
        "id": "7MYR9O6x2c-Z"
      },
      "source": [
        "api_key = \"a7a0813f3d0ae3a4c26bf99545474eae\"\n",
        "api_base_url = \"https://api.themoviedb.org/3\"\n",
        "\n",
        "discover_endpoint = f\"{api_base_url}/discover/movie?api_key={api_key}&with_original_language=en\"  \n",
        "\n",
        "movie_endpoint = f\"{api_base_url}/movie/\"\n",
        "\n",
        "def create_discover_endpoint(i,sort):\n",
        "  return f\"{discover_endpoint}&page={i}&sort_by={sort}\"\n",
        "\n",
        "def create_movie_endpoint(movie_id):\n",
        "  return f\"{movie_endpoint}{movie_id}?api_key={api_key}\"\n",
        "\n",
        "def create_credits_endpoint(movie_id):\n",
        "  return f\"{movie_endpoint}{movie_id}/credits?api_key={api_key}\"\n"
      ],
      "execution_count": null,
      "outputs": []
    },
    {
      "cell_type": "code",
      "source": [
        "requests.get(create_movie_endpoint(8967))"
      ],
      "metadata": {
        "colab": {
          "base_uri": "https://localhost:8080/"
        },
        "id": "vR-BRJJCYuKa",
        "outputId": "cfe61f70-f8e7-426e-925e-36a4882d52a9"
      },
      "execution_count": null,
      "outputs": [
        {
          "output_type": "execute_result",
          "data": {
            "text/plain": [
              "<Response [200]>"
            ]
          },
          "metadata": {},
          "execution_count": 141
        }
      ]
    },
    {
      "cell_type": "markdown",
      "source": [
        ""
      ],
      "metadata": {
        "id": "iQ30AF9WDHja"
      }
    },
    {
      "cell_type": "markdown",
      "metadata": {
        "id": "DieTNxDp0FFo"
      },
      "source": [
        "# **Récupération et sauvegarde des ids de films**"
      ]
    },
    {
      "cell_type": "code",
      "metadata": {
        "id": "ax7Fvf-xRLV9"
      },
      "source": [
        "ids=[]\n",
        "\n",
        "movie_sorting = [\"popularity.asc\", \"popularity.desc\", \"release_date.asc\", \"release_date.desc\", \"revenue.asc\", \"revenue.desc\", \"primary_release_date.asc\", \"primary_release_date.desc\", \"original_title.asc\", \"original_title.desc\", \"vote_average.asc\", \"vote_average.desc\", \"vote_count.asc\", \"vote_count.desc\"]\n",
        "\n",
        "for sort in movie_sorting :\n",
        "  for i in range(1,501):\n",
        "    r=requests.get(create_discover_endpoint(i,sort))\n",
        "    for j in range(len(r.json()[\"results\"])): \n",
        "      try:\n",
        "        if r.json()[\"results\"][j][\"release_date\"] != '' :\n",
        "          ids.append(r.json()[\"results\"][j][\"id\"])\n",
        "      except :\n",
        "        pass"
      ],
      "execution_count": null,
      "outputs": []
    },
    {
      "cell_type": "code",
      "metadata": {
        "id": "LjuQBv4gI51r",
        "colab": {
          "base_uri": "https://localhost:8080/"
        },
        "outputId": "c4262702-83ca-4844-b76c-f5c32d9440b8"
      },
      "source": [
        "ids = set(ids)\n",
        "len(ids)"
      ],
      "execution_count": null,
      "outputs": [
        {
          "output_type": "execute_result",
          "data": {
            "text/plain": [
              "62535"
            ]
          },
          "metadata": {},
          "execution_count": 4
        }
      ]
    },
    {
      "cell_type": "code",
      "metadata": {
        "id": "j0CnsmLq66t8"
      },
      "source": [
        "with open('movies_ids.csv', 'w') as f:\n",
        "    write = csv.writer(f)  \n",
        "    write.writerow(list(ids))"
      ],
      "execution_count": null,
      "outputs": []
    },
    {
      "cell_type": "markdown",
      "metadata": {
        "id": "WSzrWZWV0O0H"
      },
      "source": [
        "# **Import des ids de films**"
      ]
    },
    {
      "cell_type": "code",
      "metadata": {
        "id": "myMSmJf60Vfh"
      },
      "source": [
        "with open('movies_ids.csv', 'r') as f:\n",
        "    ids = f.readlines()\n",
        "\n",
        "ids = ids[0].split(',')\n",
        "ids = [int(x) for x in ids]"
      ],
      "execution_count": null,
      "outputs": []
    },
    {
      "cell_type": "code",
      "metadata": {
        "colab": {
          "base_uri": "https://localhost:8080/"
        },
        "id": "M0d3GO021LSZ",
        "outputId": "6904a1c4-bbb6-443b-fdae-6a9c537f876f"
      },
      "source": [
        "print(len(ids))"
      ],
      "execution_count": null,
      "outputs": [
        {
          "output_type": "stream",
          "name": "stdout",
          "text": [
            "63492\n"
          ]
        }
      ]
    },
    {
      "cell_type": "markdown",
      "metadata": {
        "id": "L1N0d4XN0WG_"
      },
      "source": [
        "# **Récupération des infos sur les films**"
      ]
    },
    {
      "cell_type": "code",
      "metadata": {
        "id": "4c9tcm2a6KXL"
      },
      "source": [
        "movies_db_columns=['id','title','budget','genres','original_language','overview','production_companies','release_date','revenue','runtime','vote_average','vote_count','actors','director','producers']\n",
        "movies = []\n",
        "pestiferes = []\n",
        "\n",
        "for id in ids:\n",
        "  print(id)\n",
        "  r=requests.get(create_movie_endpoint(id))\n",
        "  movie = r.json()\n",
        "  \n",
        "  try:\n",
        "    if movie['budget']!=0 and movie['revenue']!=0:\n",
        "      title = movie['title']\n",
        "      \n",
        "      budget = movie['budget']\n",
        "      revenue = movie['revenue']\n",
        "      genres = [movie['genres'][i].get('name') for i in range(len(movie['genres']))]\n",
        "      original_language = movie['original_language']\n",
        "      overview = movie['overview']\n",
        "      production_companies = [movie['production_companies'][i].get('name') for i in range(len(movie['production_companies']))]\n",
        "      release_date = movie['release_date']\n",
        "      \n",
        "      runtime = movie['runtime']\n",
        "      vote_average = movie['vote_average']\n",
        "      vote_count = movie['vote_count']\n",
        "\n",
        "      r = requests.get(create_credits_endpoint(id))\n",
        "      cast = r.json()['cast']\n",
        "      try:\n",
        "        actors = [cast[i] for i in range(5)]\n",
        "      except IndexError:\n",
        "        actors = [cast[i] for i in range(len(cast))]\n",
        "\n",
        "      crew = r.json()['crew']\n",
        "\n",
        "      directors = [crew[i]for i in range(len(crew)) if crew[i].get('job') == 'Director']\n",
        "      producers = [crew[i] for i in range(len(crew)) if crew[i].get('job') == 'Producer']\n",
        "      \n",
        "      movies.append([id,title,budget,genres,original_language,overview,production_companies,release_date,revenue,runtime,vote_average,vote_count,actors,directors,producers])\n",
        "    else:\n",
        "      pestiferes.append([id,movie['title'],movie['budget'],movie['revenue']])\n",
        "  except KeyError as e:\n",
        "    print(e, id)\n",
        "\n"
      ],
      "execution_count": null,
      "outputs": []
    },
    {
      "cell_type": "code",
      "metadata": {
        "id": "JNrfJZ6sBoOj",
        "colab": {
          "base_uri": "https://localhost:8080/"
        },
        "outputId": "6336a696-6b83-4012-ac72-14b1e28bfe8f"
      },
      "source": [
        "len(movies)"
      ],
      "execution_count": null,
      "outputs": [
        {
          "output_type": "execute_result",
          "data": {
            "text/plain": [
              "7128"
            ]
          },
          "metadata": {},
          "execution_count": 149
        }
      ]
    },
    {
      "cell_type": "code",
      "metadata": {
        "id": "iRVnTlmrhcmE",
        "colab": {
          "base_uri": "https://localhost:8080/"
        },
        "outputId": "3fc8e787-20ba-4324-b31b-cf5e92452e07"
      },
      "source": [
        "movies_db = pd.DataFrame(movies,columns=movies_db_columns)\n",
        "movies_db.info()"
      ],
      "execution_count": null,
      "outputs": [
        {
          "output_type": "stream",
          "name": "stdout",
          "text": [
            "<class 'pandas.core.frame.DataFrame'>\n",
            "RangeIndex: 7128 entries, 0 to 7127\n",
            "Data columns (total 15 columns):\n",
            " #   Column                Non-Null Count  Dtype  \n",
            "---  ------                --------------  -----  \n",
            " 0   id                    7128 non-null   int64  \n",
            " 1   title                 7128 non-null   object \n",
            " 2   budget                7128 non-null   int64  \n",
            " 3   genres                7128 non-null   object \n",
            " 4   original_language     7128 non-null   object \n",
            " 5   overview              7128 non-null   object \n",
            " 6   production_companies  7128 non-null   object \n",
            " 7   release_date          7128 non-null   object \n",
            " 8   revenue               7128 non-null   int64  \n",
            " 9   runtime               7126 non-null   float64\n",
            " 10  vote_average          7128 non-null   float64\n",
            " 11  vote_count            7128 non-null   int64  \n",
            " 12  actors                7128 non-null   object \n",
            " 13  director              7128 non-null   object \n",
            " 14  producers             7128 non-null   object \n",
            "dtypes: float64(2), int64(4), object(9)\n",
            "memory usage: 835.4+ KB\n"
          ]
        }
      ]
    },
    {
      "cell_type": "code",
      "metadata": {
        "id": "WbJ8gcpESgj7",
        "colab": {
          "base_uri": "https://localhost:8080/",
          "height": 3325
        },
        "outputId": "4f5e9044-e996-46b3-e4eb-bd860cde9d35"
      },
      "source": [
        "movies_db.head()"
      ],
      "execution_count": null,
      "outputs": [
        {
          "output_type": "execute_result",
          "data": {
            "text/html": [
              "\n",
              "  <div id=\"df-b09f60a2-85f5-460f-888f-4bff95485abb\">\n",
              "    <div class=\"colab-df-container\">\n",
              "      <div>\n",
              "<style scoped>\n",
              "    .dataframe tbody tr th:only-of-type {\n",
              "        vertical-align: middle;\n",
              "    }\n",
              "\n",
              "    .dataframe tbody tr th {\n",
              "        vertical-align: top;\n",
              "    }\n",
              "\n",
              "    .dataframe thead th {\n",
              "        text-align: right;\n",
              "    }\n",
              "</style>\n",
              "<table border=\"1\" class=\"dataframe\">\n",
              "  <thead>\n",
              "    <tr style=\"text-align: right;\">\n",
              "      <th></th>\n",
              "      <th>id</th>\n",
              "      <th>title</th>\n",
              "      <th>budget</th>\n",
              "      <th>genres</th>\n",
              "      <th>original_language</th>\n",
              "      <th>overview</th>\n",
              "      <th>production_companies</th>\n",
              "      <th>release_date</th>\n",
              "      <th>revenue</th>\n",
              "      <th>runtime</th>\n",
              "      <th>vote_average</th>\n",
              "      <th>vote_count</th>\n",
              "      <th>actors</th>\n",
              "      <th>director</th>\n",
              "      <th>producers</th>\n",
              "    </tr>\n",
              "  </thead>\n",
              "  <tbody>\n",
              "    <tr>\n",
              "      <th>0</th>\n",
              "      <td>5</td>\n",
              "      <td>Four Rooms</td>\n",
              "      <td>4000000</td>\n",
              "      <td>[Crime, Comedy]</td>\n",
              "      <td>en</td>\n",
              "      <td>It's Ted the Bellhop's first night on the job....</td>\n",
              "      <td>[Miramax, A Band Apart]</td>\n",
              "      <td>1995-12-09</td>\n",
              "      <td>4257354</td>\n",
              "      <td>98.0</td>\n",
              "      <td>5.7</td>\n",
              "      <td>2086</td>\n",
              "      <td>[{'adult': False, 'gender': 2, 'id': 3129, 'kn...</td>\n",
              "      <td>[{'adult': False, 'gender': 1, 'id': 3110, 'kn...</td>\n",
              "      <td>[{'adult': False, 'gender': 2, 'id': 2545, 'kn...</td>\n",
              "    </tr>\n",
              "    <tr>\n",
              "      <th>1</th>\n",
              "      <td>6</td>\n",
              "      <td>Judgment Night</td>\n",
              "      <td>21000000</td>\n",
              "      <td>[Action, Thriller, Crime]</td>\n",
              "      <td>en</td>\n",
              "      <td>While racing to a boxing match, Frank, Mike, J...</td>\n",
              "      <td>[Universal Pictures, Largo Entertainment, JVC]</td>\n",
              "      <td>1993-10-15</td>\n",
              "      <td>12136938</td>\n",
              "      <td>110.0</td>\n",
              "      <td>6.5</td>\n",
              "      <td>224</td>\n",
              "      <td>[{'adult': False, 'gender': 2, 'id': 2880, 'kn...</td>\n",
              "      <td>[{'adult': False, 'gender': 2, 'id': 2042, 'kn...</td>\n",
              "      <td>[{'adult': False, 'gender': 2, 'id': 71417, 'k...</td>\n",
              "    </tr>\n",
              "    <tr>\n",
              "      <th>2</th>\n",
              "      <td>11</td>\n",
              "      <td>Star Wars</td>\n",
              "      <td>11000000</td>\n",
              "      <td>[Adventure, Action, Science Fiction]</td>\n",
              "      <td>en</td>\n",
              "      <td>Princess Leia is captured and held hostage by ...</td>\n",
              "      <td>[Lucasfilm, 20th Century Fox]</td>\n",
              "      <td>1977-05-25</td>\n",
              "      <td>775398007</td>\n",
              "      <td>121.0</td>\n",
              "      <td>8.2</td>\n",
              "      <td>16675</td>\n",
              "      <td>[{'adult': False, 'gender': 2, 'id': 2, 'known...</td>\n",
              "      <td>[{'adult': False, 'gender': 2, 'id': 1, 'known...</td>\n",
              "      <td>[{'adult': False, 'gender': 2, 'id': 12401, 'k...</td>\n",
              "    </tr>\n",
              "    <tr>\n",
              "      <th>3</th>\n",
              "      <td>12</td>\n",
              "      <td>Finding Nemo</td>\n",
              "      <td>94000000</td>\n",
              "      <td>[Animation, Family]</td>\n",
              "      <td>en</td>\n",
              "      <td>Nemo, an adventurous young clownfish, is unexp...</td>\n",
              "      <td>[Pixar]</td>\n",
              "      <td>2003-05-30</td>\n",
              "      <td>940335536</td>\n",
              "      <td>100.0</td>\n",
              "      <td>7.8</td>\n",
              "      <td>15985</td>\n",
              "      <td>[{'adult': False, 'gender': 2, 'id': 13, 'know...</td>\n",
              "      <td>[{'adult': False, 'gender': 2, 'id': 7, 'known...</td>\n",
              "      <td>[{'adult': False, 'gender': 2, 'id': 9, 'known...</td>\n",
              "    </tr>\n",
              "    <tr>\n",
              "      <th>4</th>\n",
              "      <td>13</td>\n",
              "      <td>Forrest Gump</td>\n",
              "      <td>55000000</td>\n",
              "      <td>[Comedy, Drama, Romance]</td>\n",
              "      <td>en</td>\n",
              "      <td>A man with a low IQ has accomplished great thi...</td>\n",
              "      <td>[Paramount, The Steve Tisch Company]</td>\n",
              "      <td>1994-07-06</td>\n",
              "      <td>677387716</td>\n",
              "      <td>142.0</td>\n",
              "      <td>8.5</td>\n",
              "      <td>22143</td>\n",
              "      <td>[{'adult': False, 'gender': 2, 'id': 31, 'know...</td>\n",
              "      <td>[{'adult': False, 'gender': 2, 'id': 24, 'know...</td>\n",
              "      <td>[{'adult': False, 'gender': 1, 'id': 28, 'know...</td>\n",
              "    </tr>\n",
              "  </tbody>\n",
              "</table>\n",
              "</div>\n",
              "      <button class=\"colab-df-convert\" onclick=\"convertToInteractive('df-b09f60a2-85f5-460f-888f-4bff95485abb')\"\n",
              "              title=\"Convert this dataframe to an interactive table.\"\n",
              "              style=\"display:none;\">\n",
              "        \n",
              "  <svg xmlns=\"http://www.w3.org/2000/svg\" height=\"24px\"viewBox=\"0 0 24 24\"\n",
              "       width=\"24px\">\n",
              "    <path d=\"M0 0h24v24H0V0z\" fill=\"none\"/>\n",
              "    <path d=\"M18.56 5.44l.94 2.06.94-2.06 2.06-.94-2.06-.94-.94-2.06-.94 2.06-2.06.94zm-11 1L8.5 8.5l.94-2.06 2.06-.94-2.06-.94L8.5 2.5l-.94 2.06-2.06.94zm10 10l.94 2.06.94-2.06 2.06-.94-2.06-.94-.94-2.06-.94 2.06-2.06.94z\"/><path d=\"M17.41 7.96l-1.37-1.37c-.4-.4-.92-.59-1.43-.59-.52 0-1.04.2-1.43.59L10.3 9.45l-7.72 7.72c-.78.78-.78 2.05 0 2.83L4 21.41c.39.39.9.59 1.41.59.51 0 1.02-.2 1.41-.59l7.78-7.78 2.81-2.81c.8-.78.8-2.07 0-2.86zM5.41 20L4 18.59l7.72-7.72 1.47 1.35L5.41 20z\"/>\n",
              "  </svg>\n",
              "      </button>\n",
              "      \n",
              "  <style>\n",
              "    .colab-df-container {\n",
              "      display:flex;\n",
              "      flex-wrap:wrap;\n",
              "      gap: 12px;\n",
              "    }\n",
              "\n",
              "    .colab-df-convert {\n",
              "      background-color: #E8F0FE;\n",
              "      border: none;\n",
              "      border-radius: 50%;\n",
              "      cursor: pointer;\n",
              "      display: none;\n",
              "      fill: #1967D2;\n",
              "      height: 32px;\n",
              "      padding: 0 0 0 0;\n",
              "      width: 32px;\n",
              "    }\n",
              "\n",
              "    .colab-df-convert:hover {\n",
              "      background-color: #E2EBFA;\n",
              "      box-shadow: 0px 1px 2px rgba(60, 64, 67, 0.3), 0px 1px 3px 1px rgba(60, 64, 67, 0.15);\n",
              "      fill: #174EA6;\n",
              "    }\n",
              "\n",
              "    [theme=dark] .colab-df-convert {\n",
              "      background-color: #3B4455;\n",
              "      fill: #D2E3FC;\n",
              "    }\n",
              "\n",
              "    [theme=dark] .colab-df-convert:hover {\n",
              "      background-color: #434B5C;\n",
              "      box-shadow: 0px 1px 3px 1px rgba(0, 0, 0, 0.15);\n",
              "      filter: drop-shadow(0px 1px 2px rgba(0, 0, 0, 0.3));\n",
              "      fill: #FFFFFF;\n",
              "    }\n",
              "  </style>\n",
              "\n",
              "      <script>\n",
              "        const buttonEl =\n",
              "          document.querySelector('#df-b09f60a2-85f5-460f-888f-4bff95485abb button.colab-df-convert');\n",
              "        buttonEl.style.display =\n",
              "          google.colab.kernel.accessAllowed ? 'block' : 'none';\n",
              "\n",
              "        async function convertToInteractive(key) {\n",
              "          const element = document.querySelector('#df-b09f60a2-85f5-460f-888f-4bff95485abb');\n",
              "          const dataTable =\n",
              "            await google.colab.kernel.invokeFunction('convertToInteractive',\n",
              "                                                     [key], {});\n",
              "          if (!dataTable) return;\n",
              "\n",
              "          const docLinkHtml = 'Like what you see? Visit the ' +\n",
              "            '<a target=\"_blank\" href=https://colab.research.google.com/notebooks/data_table.ipynb>data table notebook</a>'\n",
              "            + ' to learn more about interactive tables.';\n",
              "          element.innerHTML = '';\n",
              "          dataTable['output_type'] = 'display_data';\n",
              "          await google.colab.output.renderOutput(dataTable, element);\n",
              "          const docLink = document.createElement('div');\n",
              "          docLink.innerHTML = docLinkHtml;\n",
              "          element.appendChild(docLink);\n",
              "        }\n",
              "      </script>\n",
              "    </div>\n",
              "  </div>\n",
              "  "
            ],
            "text/plain": [
              "   id  ...                                          producers\n",
              "0   5  ...  [{'adult': False, 'gender': 2, 'id': 2545, 'kn...\n",
              "1   6  ...  [{'adult': False, 'gender': 2, 'id': 71417, 'k...\n",
              "2  11  ...  [{'adult': False, 'gender': 2, 'id': 12401, 'k...\n",
              "3  12  ...  [{'adult': False, 'gender': 2, 'id': 9, 'known...\n",
              "4  13  ...  [{'adult': False, 'gender': 1, 'id': 28, 'know...\n",
              "\n",
              "[5 rows x 15 columns]"
            ]
          },
          "metadata": {},
          "execution_count": 151
        }
      ]
    },
    {
      "cell_type": "code",
      "metadata": {
        "id": "1T3h1qEGlqgP"
      },
      "source": [
        "movies_db.to_csv(\"movies_db.csv\",index=False)"
      ],
      "execution_count": null,
      "outputs": []
    },
    {
      "cell_type": "code",
      "source": [
        "movies_db.to_csv(\"movies_db_v2.csv\",index=False)"
      ],
      "metadata": {
        "id": "J1NIqIvvGpda",
        "colab": {
          "base_uri": "https://localhost:8080/",
          "height": 166
        },
        "outputId": "7f3784ff-8882-4ab7-9da9-ee2edc386156"
      },
      "execution_count": null,
      "outputs": [
        {
          "output_type": "error",
          "ename": "NameError",
          "evalue": "ignored",
          "traceback": [
            "\u001b[0;31m---------------------------------------------------------------------------\u001b[0m",
            "\u001b[0;31mNameError\u001b[0m                                 Traceback (most recent call last)",
            "\u001b[0;32m<ipython-input-5-35667418753a>\u001b[0m in \u001b[0;36m<module>\u001b[0;34m()\u001b[0m\n\u001b[0;32m----> 1\u001b[0;31m \u001b[0mmovies_db\u001b[0m\u001b[0;34m.\u001b[0m\u001b[0mto_csv\u001b[0m\u001b[0;34m(\u001b[0m\u001b[0;34m\"movies_db_v2.csv\"\u001b[0m\u001b[0;34m,\u001b[0m\u001b[0mindex\u001b[0m\u001b[0;34m=\u001b[0m\u001b[0;32mFalse\u001b[0m\u001b[0;34m)\u001b[0m\u001b[0;34m\u001b[0m\u001b[0;34m\u001b[0m\u001b[0m\n\u001b[0m",
            "\u001b[0;31mNameError\u001b[0m: name 'movies_db' is not defined"
          ]
        }
      ]
    },
    {
      "cell_type": "markdown",
      "metadata": {
        "id": "1UAZgdmRk0EF"
      },
      "source": [
        "# **Import de la base de données de films**"
      ]
    },
    {
      "cell_type": "code",
      "metadata": {
        "id": "gg-23MGzk7HV"
      },
      "source": [
        "movies_db = pd.read_csv(\"movies_db.csv\", delimiter=\",\",engine='python')"
      ],
      "execution_count": null,
      "outputs": []
    },
    {
      "cell_type": "code",
      "source": [
        "movies_db = pd.read_csv(\"movies_db_v2.csv\", delimiter=\",\",engine='python',  error_bad_lines=False)"
      ],
      "metadata": {
        "id": "-pAaewt0WAlZ"
      },
      "execution_count": null,
      "outputs": []
    },
    {
      "cell_type": "code",
      "metadata": {
        "id": "GGVLizw_lp21",
        "colab": {
          "base_uri": "https://localhost:8080/",
          "height": 684
        },
        "outputId": "d92e44e2-6ac6-4e86-d7d7-914f969d20af"
      },
      "source": [
        "movies_db.tail()"
      ],
      "execution_count": null,
      "outputs": [
        {
          "output_type": "execute_result",
          "data": {
            "text/html": [
              "\n",
              "  <div id=\"df-ab0b7f92-dc42-498c-917a-90d4253d6fc8\">\n",
              "    <div class=\"colab-df-container\">\n",
              "      <div>\n",
              "<style scoped>\n",
              "    .dataframe tbody tr th:only-of-type {\n",
              "        vertical-align: middle;\n",
              "    }\n",
              "\n",
              "    .dataframe tbody tr th {\n",
              "        vertical-align: top;\n",
              "    }\n",
              "\n",
              "    .dataframe thead th {\n",
              "        text-align: right;\n",
              "    }\n",
              "</style>\n",
              "<table border=\"1\" class=\"dataframe\">\n",
              "  <thead>\n",
              "    <tr style=\"text-align: right;\">\n",
              "      <th></th>\n",
              "      <th>id</th>\n",
              "      <th>title</th>\n",
              "      <th>budget</th>\n",
              "      <th>genres</th>\n",
              "      <th>original_language</th>\n",
              "      <th>overview</th>\n",
              "      <th>production_companies</th>\n",
              "      <th>release_date</th>\n",
              "      <th>revenue</th>\n",
              "      <th>runtime</th>\n",
              "      <th>vote_average</th>\n",
              "      <th>vote_count</th>\n",
              "      <th>actors</th>\n",
              "      <th>director</th>\n",
              "      <th>producers</th>\n",
              "    </tr>\n",
              "  </thead>\n",
              "  <tbody>\n",
              "    <tr>\n",
              "      <th>7124</th>\n",
              "      <td>392982</td>\n",
              "      <td>Marshall</td>\n",
              "      <td>12000000</td>\n",
              "      <td>['Drama']</td>\n",
              "      <td>en</td>\n",
              "      <td>Thurgood Marshall, the first African-American ...</td>\n",
              "      <td>['Chestnut Ridge']</td>\n",
              "      <td>2017-10-13</td>\n",
              "      <td>10051659</td>\n",
              "      <td>118.0</td>\n",
              "      <td>7.3</td>\n",
              "      <td>479.0</td>\n",
              "      <td>[{'adult': False, 'gender': 2, 'id': 172069, '...</td>\n",
              "      <td>[{'adult': False, 'gender': 2, 'id': 68215, 'k...</td>\n",
              "      <td>[{'adult': False, 'gender': 1, 'id': 9183, 'kn...</td>\n",
              "    </tr>\n",
              "    <tr>\n",
              "      <th>7125</th>\n",
              "      <td>261949</td>\n",
              "      <td>Thanks Maa</td>\n",
              "      <td>500000</td>\n",
              "      <td>['Comedy', 'Drama']</td>\n",
              "      <td>en</td>\n",
              "      <td>While on the run from the reformatory, a 12 ye...</td>\n",
              "      <td>['Quantum Films [in]', 'Sony Pictures']</td>\n",
              "      <td>2010-03-05</td>\n",
              "      <td>2000000</td>\n",
              "      <td>120.0</td>\n",
              "      <td>5.8</td>\n",
              "      <td>3.0</td>\n",
              "      <td>[{'adult': False, 'gender': 0, 'id': 1305480, ...</td>\n",
              "      <td>[{'adult': False, 'gender': 0, 'id': 1265938, ...</td>\n",
              "      <td>[]</td>\n",
              "    </tr>\n",
              "    <tr>\n",
              "      <th>7126</th>\n",
              "      <td>78127</td>\n",
              "      <td>Silk Shoes</td>\n",
              "      <td>300</td>\n",
              "      <td>['Comedy', 'Drama']</td>\n",
              "      <td>en</td>\n",
              "      <td>With his film having failed and producer havin...</td>\n",
              "      <td>[]</td>\n",
              "      <td>2006-06-22</td>\n",
              "      <td>300</td>\n",
              "      <td>100.0</td>\n",
              "      <td>4.9</td>\n",
              "      <td>4.0</td>\n",
              "      <td>[{'adult': False, 'gender': 2, 'id': 141857, '...</td>\n",
              "      <td>[{'adult': False, 'gender': 2, 'id': 96780, 'k...</td>\n",
              "      <td>[{'adult': False, 'gender': 2, 'id': 96780, 'k...</td>\n",
              "    </tr>\n",
              "    <tr>\n",
              "      <th>7127</th>\n",
              "      <td>655232</td>\n",
              "      <td>Vazante</td>\n",
              "      <td>2424713</td>\n",
              "      <td>['Drama']</td>\n",
              "      <td>en</td>\n",
              "      <td>On an empty beach, 5 kids talk and talk, over ...</td>\n",
              "      <td>['Processo Multiartes']</td>\n",
              "      <td>2018-06-10</td>\n",
              "      <td>100</td>\n",
              "      <td>18.0</td>\n",
              "      <td>0.0</td>\n",
              "      <td>0.0</td>\n",
              "      <td>[]</td>\n",
              "      <td>[{'adult': False, 'gender': 2, 'id': 1270398, ...</td>\n",
              "      <td>[{'adult': False, 'gender': 0, 'id': 1270396, ...</td>\n",
              "    </tr>\n",
              "    <tr>\n",
              "      <th>7128</th>\n",
              "      <td>393170</td>\n",
              "      <td>Kaptaan</td>\n",
              "      <td>60</td>\n",
              "      <td>['Action', 'Comedy', 'Drama', 'Family']</td>\n",
              "      <td>en</td>\n",
              "      <td>Kaptaan is Latest 2016 indian Punjabi Action C...</td>\n",
              "      <td>['Tips Industries']</td>\n",
              "      <td>2016-05-20</td>\n",
              "      <td>109</td>\n",
              "      <td>142.0</td>\n",
              "      <td>5.5</td>\n",
              "      <td>2.0</td>\n",
              "      <td>[{'adult': False, 'gender': 2, 'id': 928229, '...</td>\n",
              "      <td>[{'adult': False, 'gender': 0, 'id': 1015085, ...</td>\n",
              "      <td>[]</td>\n",
              "    </tr>\n",
              "  </tbody>\n",
              "</table>\n",
              "</div>\n",
              "      <button class=\"colab-df-convert\" onclick=\"convertToInteractive('df-ab0b7f92-dc42-498c-917a-90d4253d6fc8')\"\n",
              "              title=\"Convert this dataframe to an interactive table.\"\n",
              "              style=\"display:none;\">\n",
              "        \n",
              "  <svg xmlns=\"http://www.w3.org/2000/svg\" height=\"24px\"viewBox=\"0 0 24 24\"\n",
              "       width=\"24px\">\n",
              "    <path d=\"M0 0h24v24H0V0z\" fill=\"none\"/>\n",
              "    <path d=\"M18.56 5.44l.94 2.06.94-2.06 2.06-.94-2.06-.94-.94-2.06-.94 2.06-2.06.94zm-11 1L8.5 8.5l.94-2.06 2.06-.94-2.06-.94L8.5 2.5l-.94 2.06-2.06.94zm10 10l.94 2.06.94-2.06 2.06-.94-2.06-.94-.94-2.06-.94 2.06-2.06.94z\"/><path d=\"M17.41 7.96l-1.37-1.37c-.4-.4-.92-.59-1.43-.59-.52 0-1.04.2-1.43.59L10.3 9.45l-7.72 7.72c-.78.78-.78 2.05 0 2.83L4 21.41c.39.39.9.59 1.41.59.51 0 1.02-.2 1.41-.59l7.78-7.78 2.81-2.81c.8-.78.8-2.07 0-2.86zM5.41 20L4 18.59l7.72-7.72 1.47 1.35L5.41 20z\"/>\n",
              "  </svg>\n",
              "      </button>\n",
              "      \n",
              "  <style>\n",
              "    .colab-df-container {\n",
              "      display:flex;\n",
              "      flex-wrap:wrap;\n",
              "      gap: 12px;\n",
              "    }\n",
              "\n",
              "    .colab-df-convert {\n",
              "      background-color: #E8F0FE;\n",
              "      border: none;\n",
              "      border-radius: 50%;\n",
              "      cursor: pointer;\n",
              "      display: none;\n",
              "      fill: #1967D2;\n",
              "      height: 32px;\n",
              "      padding: 0 0 0 0;\n",
              "      width: 32px;\n",
              "    }\n",
              "\n",
              "    .colab-df-convert:hover {\n",
              "      background-color: #E2EBFA;\n",
              "      box-shadow: 0px 1px 2px rgba(60, 64, 67, 0.3), 0px 1px 3px 1px rgba(60, 64, 67, 0.15);\n",
              "      fill: #174EA6;\n",
              "    }\n",
              "\n",
              "    [theme=dark] .colab-df-convert {\n",
              "      background-color: #3B4455;\n",
              "      fill: #D2E3FC;\n",
              "    }\n",
              "\n",
              "    [theme=dark] .colab-df-convert:hover {\n",
              "      background-color: #434B5C;\n",
              "      box-shadow: 0px 1px 3px 1px rgba(0, 0, 0, 0.15);\n",
              "      filter: drop-shadow(0px 1px 2px rgba(0, 0, 0, 0.3));\n",
              "      fill: #FFFFFF;\n",
              "    }\n",
              "  </style>\n",
              "\n",
              "      <script>\n",
              "        const buttonEl =\n",
              "          document.querySelector('#df-ab0b7f92-dc42-498c-917a-90d4253d6fc8 button.colab-df-convert');\n",
              "        buttonEl.style.display =\n",
              "          google.colab.kernel.accessAllowed ? 'block' : 'none';\n",
              "\n",
              "        async function convertToInteractive(key) {\n",
              "          const element = document.querySelector('#df-ab0b7f92-dc42-498c-917a-90d4253d6fc8');\n",
              "          const dataTable =\n",
              "            await google.colab.kernel.invokeFunction('convertToInteractive',\n",
              "                                                     [key], {});\n",
              "          if (!dataTable) return;\n",
              "\n",
              "          const docLinkHtml = 'Like what you see? Visit the ' +\n",
              "            '<a target=\"_blank\" href=https://colab.research.google.com/notebooks/data_table.ipynb>data table notebook</a>'\n",
              "            + ' to learn more about interactive tables.';\n",
              "          element.innerHTML = '';\n",
              "          dataTable['output_type'] = 'display_data';\n",
              "          await google.colab.output.renderOutput(dataTable, element);\n",
              "          const docLink = document.createElement('div');\n",
              "          docLink.innerHTML = docLinkHtml;\n",
              "          element.appendChild(docLink);\n",
              "        }\n",
              "      </script>\n",
              "    </div>\n",
              "  </div>\n",
              "  "
            ],
            "text/plain": [
              "          id  ...                                          producers\n",
              "7124  392982  ...  [{'adult': False, 'gender': 1, 'id': 9183, 'kn...\n",
              "7125  261949  ...                                                 []\n",
              "7126   78127  ...  [{'adult': False, 'gender': 2, 'id': 96780, 'k...\n",
              "7127  655232  ...  [{'adult': False, 'gender': 0, 'id': 1270396, ...\n",
              "7128  393170  ...                                                 []\n",
              "\n",
              "[5 rows x 15 columns]"
            ]
          },
          "metadata": {},
          "execution_count": 12
        }
      ]
    },
    {
      "cell_type": "code",
      "metadata": {
        "id": "ahqYk5lKYt7r",
        "colab": {
          "base_uri": "https://localhost:8080/"
        },
        "outputId": "ceef47d4-4de0-4a57-de44-1d363ae77a4c"
      },
      "source": [
        "movies_db.info()"
      ],
      "execution_count": null,
      "outputs": [
        {
          "output_type": "stream",
          "name": "stdout",
          "text": [
            "<class 'pandas.core.frame.DataFrame'>\n",
            "RangeIndex: 7129 entries, 0 to 7128\n",
            "Data columns (total 15 columns):\n",
            " #   Column                Non-Null Count  Dtype  \n",
            "---  ------                --------------  -----  \n",
            " 0   id                    7129 non-null   object \n",
            " 1   title                 7129 non-null   object \n",
            " 2   budget                7129 non-null   object \n",
            " 3   genres                7129 non-null   object \n",
            " 4   original_language     7129 non-null   object \n",
            " 5   overview              7117 non-null   object \n",
            " 6   production_companies  7128 non-null   object \n",
            " 7   release_date          7128 non-null   object \n",
            " 8   revenue               7128 non-null   object \n",
            " 9   runtime               7126 non-null   object \n",
            " 10  vote_average          7127 non-null   float64\n",
            " 11  vote_count            7127 non-null   float64\n",
            " 12  actors                7127 non-null   object \n",
            " 13  director              7127 non-null   object \n",
            " 14  producers             7127 non-null   object \n",
            "dtypes: float64(2), object(13)\n",
            "memory usage: 835.6+ KB\n"
          ]
        }
      ]
    },
    {
      "cell_type": "markdown",
      "metadata": {
        "id": "azByTpegdJKP"
      },
      "source": [
        "# **Preprocessing des données**"
      ]
    },
    {
      "cell_type": "code",
      "metadata": {
        "id": "b8-SPm5eEnzz",
        "colab": {
          "base_uri": "https://localhost:8080/",
          "height": 231
        },
        "outputId": "501dffa2-0839-4b6f-f781-42a38dd3c667"
      },
      "source": [
        "movies_db[movies_db['budget']=='2018-05-10']"
      ],
      "execution_count": null,
      "outputs": [
        {
          "output_type": "execute_result",
          "data": {
            "text/html": [
              "\n",
              "  <div id=\"df-f444ed89-c440-49dd-8cde-19929cb45801\">\n",
              "    <div class=\"colab-df-container\">\n",
              "      <div>\n",
              "<style scoped>\n",
              "    .dataframe tbody tr th:only-of-type {\n",
              "        vertical-align: middle;\n",
              "    }\n",
              "\n",
              "    .dataframe tbody tr th {\n",
              "        vertical-align: top;\n",
              "    }\n",
              "\n",
              "    .dataframe thead th {\n",
              "        text-align: right;\n",
              "    }\n",
              "</style>\n",
              "<table border=\"1\" class=\"dataframe\">\n",
              "  <thead>\n",
              "    <tr style=\"text-align: right;\">\n",
              "      <th></th>\n",
              "      <th>id</th>\n",
              "      <th>title</th>\n",
              "      <th>budget</th>\n",
              "      <th>genres</th>\n",
              "      <th>original_language</th>\n",
              "      <th>overview</th>\n",
              "      <th>production_companies</th>\n",
              "      <th>release_date</th>\n",
              "      <th>revenue</th>\n",
              "      <th>runtime</th>\n",
              "      <th>vote_average</th>\n",
              "      <th>vote_count</th>\n",
              "      <th>actors</th>\n",
              "      <th>director</th>\n",
              "      <th>producers</th>\n",
              "    </tr>\n",
              "  </thead>\n",
              "  <tbody>\n",
              "    <tr>\n",
              "      <th>406</th>\n",
              "      <td>https://vimeo.com/268935633</td>\n",
              "      <td>[]</td>\n",
              "      <td>2018-05-10</td>\n",
              "      <td>2</td>\n",
              "      <td>22.0</td>\n",
              "      <td>10.0</td>\n",
              "      <td>1</td>\n",
              "      <td>[{'adult': False, 'gender': 0, 'id': 2045589, ...</td>\n",
              "      <td>[{'adult': False, 'gender': 2, 'id': 1349796, ...</td>\n",
              "      <td>[]</td>\n",
              "      <td>NaN</td>\n",
              "      <td>NaN</td>\n",
              "      <td>None</td>\n",
              "      <td>None</td>\n",
              "      <td>None</td>\n",
              "    </tr>\n",
              "  </tbody>\n",
              "</table>\n",
              "</div>\n",
              "      <button class=\"colab-df-convert\" onclick=\"convertToInteractive('df-f444ed89-c440-49dd-8cde-19929cb45801')\"\n",
              "              title=\"Convert this dataframe to an interactive table.\"\n",
              "              style=\"display:none;\">\n",
              "        \n",
              "  <svg xmlns=\"http://www.w3.org/2000/svg\" height=\"24px\"viewBox=\"0 0 24 24\"\n",
              "       width=\"24px\">\n",
              "    <path d=\"M0 0h24v24H0V0z\" fill=\"none\"/>\n",
              "    <path d=\"M18.56 5.44l.94 2.06.94-2.06 2.06-.94-2.06-.94-.94-2.06-.94 2.06-2.06.94zm-11 1L8.5 8.5l.94-2.06 2.06-.94-2.06-.94L8.5 2.5l-.94 2.06-2.06.94zm10 10l.94 2.06.94-2.06 2.06-.94-2.06-.94-.94-2.06-.94 2.06-2.06.94z\"/><path d=\"M17.41 7.96l-1.37-1.37c-.4-.4-.92-.59-1.43-.59-.52 0-1.04.2-1.43.59L10.3 9.45l-7.72 7.72c-.78.78-.78 2.05 0 2.83L4 21.41c.39.39.9.59 1.41.59.51 0 1.02-.2 1.41-.59l7.78-7.78 2.81-2.81c.8-.78.8-2.07 0-2.86zM5.41 20L4 18.59l7.72-7.72 1.47 1.35L5.41 20z\"/>\n",
              "  </svg>\n",
              "      </button>\n",
              "      \n",
              "  <style>\n",
              "    .colab-df-container {\n",
              "      display:flex;\n",
              "      flex-wrap:wrap;\n",
              "      gap: 12px;\n",
              "    }\n",
              "\n",
              "    .colab-df-convert {\n",
              "      background-color: #E8F0FE;\n",
              "      border: none;\n",
              "      border-radius: 50%;\n",
              "      cursor: pointer;\n",
              "      display: none;\n",
              "      fill: #1967D2;\n",
              "      height: 32px;\n",
              "      padding: 0 0 0 0;\n",
              "      width: 32px;\n",
              "    }\n",
              "\n",
              "    .colab-df-convert:hover {\n",
              "      background-color: #E2EBFA;\n",
              "      box-shadow: 0px 1px 2px rgba(60, 64, 67, 0.3), 0px 1px 3px 1px rgba(60, 64, 67, 0.15);\n",
              "      fill: #174EA6;\n",
              "    }\n",
              "\n",
              "    [theme=dark] .colab-df-convert {\n",
              "      background-color: #3B4455;\n",
              "      fill: #D2E3FC;\n",
              "    }\n",
              "\n",
              "    [theme=dark] .colab-df-convert:hover {\n",
              "      background-color: #434B5C;\n",
              "      box-shadow: 0px 1px 3px 1px rgba(0, 0, 0, 0.15);\n",
              "      filter: drop-shadow(0px 1px 2px rgba(0, 0, 0, 0.3));\n",
              "      fill: #FFFFFF;\n",
              "    }\n",
              "  </style>\n",
              "\n",
              "      <script>\n",
              "        const buttonEl =\n",
              "          document.querySelector('#df-f444ed89-c440-49dd-8cde-19929cb45801 button.colab-df-convert');\n",
              "        buttonEl.style.display =\n",
              "          google.colab.kernel.accessAllowed ? 'block' : 'none';\n",
              "\n",
              "        async function convertToInteractive(key) {\n",
              "          const element = document.querySelector('#df-f444ed89-c440-49dd-8cde-19929cb45801');\n",
              "          const dataTable =\n",
              "            await google.colab.kernel.invokeFunction('convertToInteractive',\n",
              "                                                     [key], {});\n",
              "          if (!dataTable) return;\n",
              "\n",
              "          const docLinkHtml = 'Like what you see? Visit the ' +\n",
              "            '<a target=\"_blank\" href=https://colab.research.google.com/notebooks/data_table.ipynb>data table notebook</a>'\n",
              "            + ' to learn more about interactive tables.';\n",
              "          element.innerHTML = '';\n",
              "          dataTable['output_type'] = 'display_data';\n",
              "          await google.colab.output.renderOutput(dataTable, element);\n",
              "          const docLink = document.createElement('div');\n",
              "          docLink.innerHTML = docLinkHtml;\n",
              "          element.appendChild(docLink);\n",
              "        }\n",
              "      </script>\n",
              "    </div>\n",
              "  </div>\n",
              "  "
            ],
            "text/plain": [
              "                               id title      budget  ... actors director producers\n",
              "406   https://vimeo.com/268935633    []  2018-05-10  ...   None     None      None\n",
              "\n",
              "[1 rows x 15 columns]"
            ]
          },
          "metadata": {},
          "execution_count": 14
        }
      ]
    },
    {
      "cell_type": "code",
      "metadata": {
        "id": "sUEL4YCEY0Rx"
      },
      "source": [
        "movies_db.dropna(inplace=True) #Nettoyage des Na"
      ],
      "execution_count": null,
      "outputs": []
    },
    {
      "cell_type": "code",
      "source": [
        "movies_db['actors'] = movies_db['actors'].str.strip('[]')\n",
        "movies_db['director'] = movies_db['director'].str.strip('[]')\n",
        "movies_db['producers'] = movies_db['producers'].str.strip('[]')"
      ],
      "metadata": {
        "id": "DjFXfOvwY5BX"
      },
      "execution_count": null,
      "outputs": []
    },
    {
      "cell_type": "code",
      "source": [
        "movies_db.head()"
      ],
      "metadata": {
        "colab": {
          "base_uri": "https://localhost:8080/",
          "height": 632
        },
        "id": "ZROWqiJ3ZCD0",
        "outputId": "20cf6386-9db8-40dd-8a4d-7979da79a6ce"
      },
      "execution_count": null,
      "outputs": [
        {
          "output_type": "execute_result",
          "data": {
            "text/html": [
              "\n",
              "  <div id=\"df-fad1415b-f3d5-47e4-a226-efcaa5799ff9\">\n",
              "    <div class=\"colab-df-container\">\n",
              "      <div>\n",
              "<style scoped>\n",
              "    .dataframe tbody tr th:only-of-type {\n",
              "        vertical-align: middle;\n",
              "    }\n",
              "\n",
              "    .dataframe tbody tr th {\n",
              "        vertical-align: top;\n",
              "    }\n",
              "\n",
              "    .dataframe thead th {\n",
              "        text-align: right;\n",
              "    }\n",
              "</style>\n",
              "<table border=\"1\" class=\"dataframe\">\n",
              "  <thead>\n",
              "    <tr style=\"text-align: right;\">\n",
              "      <th></th>\n",
              "      <th>id</th>\n",
              "      <th>title</th>\n",
              "      <th>budget</th>\n",
              "      <th>genres</th>\n",
              "      <th>original_language</th>\n",
              "      <th>overview</th>\n",
              "      <th>production_companies</th>\n",
              "      <th>release_date</th>\n",
              "      <th>revenue</th>\n",
              "      <th>runtime</th>\n",
              "      <th>vote_average</th>\n",
              "      <th>vote_count</th>\n",
              "      <th>actors</th>\n",
              "      <th>director</th>\n",
              "      <th>producers</th>\n",
              "    </tr>\n",
              "  </thead>\n",
              "  <tbody>\n",
              "    <tr>\n",
              "      <th>0</th>\n",
              "      <td>5</td>\n",
              "      <td>Four Rooms</td>\n",
              "      <td>4000000</td>\n",
              "      <td>['Crime', 'Comedy']</td>\n",
              "      <td>en</td>\n",
              "      <td>It's Ted the Bellhop's first night on the job....</td>\n",
              "      <td>['Miramax', 'A Band Apart']</td>\n",
              "      <td>1995-12-09</td>\n",
              "      <td>4257354</td>\n",
              "      <td>98.0</td>\n",
              "      <td>5.7</td>\n",
              "      <td>2086.0</td>\n",
              "      <td>{'adult': False, 'gender': 2, 'id': 3129, 'kno...</td>\n",
              "      <td>{'adult': False, 'gender': 1, 'id': 3110, 'kno...</td>\n",
              "      <td>{'adult': False, 'gender': 2, 'id': 2545, 'kno...</td>\n",
              "    </tr>\n",
              "    <tr>\n",
              "      <th>1</th>\n",
              "      <td>6</td>\n",
              "      <td>Judgment Night</td>\n",
              "      <td>21000000</td>\n",
              "      <td>['Action', 'Thriller', 'Crime']</td>\n",
              "      <td>en</td>\n",
              "      <td>While racing to a boxing match, Frank, Mike, J...</td>\n",
              "      <td>['Universal Pictures', 'Largo Entertainment', ...</td>\n",
              "      <td>1993-10-15</td>\n",
              "      <td>12136938</td>\n",
              "      <td>110.0</td>\n",
              "      <td>6.5</td>\n",
              "      <td>224.0</td>\n",
              "      <td>{'adult': False, 'gender': 2, 'id': 2880, 'kno...</td>\n",
              "      <td>{'adult': False, 'gender': 2, 'id': 2042, 'kno...</td>\n",
              "      <td>{'adult': False, 'gender': 2, 'id': 71417, 'kn...</td>\n",
              "    </tr>\n",
              "    <tr>\n",
              "      <th>2</th>\n",
              "      <td>11</td>\n",
              "      <td>Star Wars</td>\n",
              "      <td>11000000</td>\n",
              "      <td>['Adventure', 'Action', 'Science Fiction']</td>\n",
              "      <td>en</td>\n",
              "      <td>Princess Leia is captured and held hostage by ...</td>\n",
              "      <td>['Lucasfilm', '20th Century Fox']</td>\n",
              "      <td>1977-05-25</td>\n",
              "      <td>775398007</td>\n",
              "      <td>121.0</td>\n",
              "      <td>8.2</td>\n",
              "      <td>16675.0</td>\n",
              "      <td>{'adult': False, 'gender': 2, 'id': 2, 'known_...</td>\n",
              "      <td>{'adult': False, 'gender': 2, 'id': 1, 'known_...</td>\n",
              "      <td>{'adult': False, 'gender': 2, 'id': 12401, 'kn...</td>\n",
              "    </tr>\n",
              "    <tr>\n",
              "      <th>3</th>\n",
              "      <td>12</td>\n",
              "      <td>Finding Nemo</td>\n",
              "      <td>94000000</td>\n",
              "      <td>['Animation', 'Family']</td>\n",
              "      <td>en</td>\n",
              "      <td>Nemo, an adventurous young clownfish, is unexp...</td>\n",
              "      <td>['Pixar']</td>\n",
              "      <td>2003-05-30</td>\n",
              "      <td>940335536</td>\n",
              "      <td>100.0</td>\n",
              "      <td>7.8</td>\n",
              "      <td>15985.0</td>\n",
              "      <td>{'adult': False, 'gender': 2, 'id': 13, 'known...</td>\n",
              "      <td>{'adult': False, 'gender': 2, 'id': 7, 'known_...</td>\n",
              "      <td>{'adult': False, 'gender': 2, 'id': 9, 'known_...</td>\n",
              "    </tr>\n",
              "    <tr>\n",
              "      <th>4</th>\n",
              "      <td>13</td>\n",
              "      <td>Forrest Gump</td>\n",
              "      <td>55000000</td>\n",
              "      <td>['Comedy', 'Drama', 'Romance']</td>\n",
              "      <td>en</td>\n",
              "      <td>A man with a low IQ has accomplished great thi...</td>\n",
              "      <td>['Paramount', 'The Steve Tisch Company']</td>\n",
              "      <td>1994-07-06</td>\n",
              "      <td>677387716</td>\n",
              "      <td>142.0</td>\n",
              "      <td>8.5</td>\n",
              "      <td>22143.0</td>\n",
              "      <td>{'adult': False, 'gender': 2, 'id': 31, 'known...</td>\n",
              "      <td>{'adult': False, 'gender': 2, 'id': 24, 'known...</td>\n",
              "      <td>{'adult': False, 'gender': 1, 'id': 28, 'known...</td>\n",
              "    </tr>\n",
              "  </tbody>\n",
              "</table>\n",
              "</div>\n",
              "      <button class=\"colab-df-convert\" onclick=\"convertToInteractive('df-fad1415b-f3d5-47e4-a226-efcaa5799ff9')\"\n",
              "              title=\"Convert this dataframe to an interactive table.\"\n",
              "              style=\"display:none;\">\n",
              "        \n",
              "  <svg xmlns=\"http://www.w3.org/2000/svg\" height=\"24px\"viewBox=\"0 0 24 24\"\n",
              "       width=\"24px\">\n",
              "    <path d=\"M0 0h24v24H0V0z\" fill=\"none\"/>\n",
              "    <path d=\"M18.56 5.44l.94 2.06.94-2.06 2.06-.94-2.06-.94-.94-2.06-.94 2.06-2.06.94zm-11 1L8.5 8.5l.94-2.06 2.06-.94-2.06-.94L8.5 2.5l-.94 2.06-2.06.94zm10 10l.94 2.06.94-2.06 2.06-.94-2.06-.94-.94-2.06-.94 2.06-2.06.94z\"/><path d=\"M17.41 7.96l-1.37-1.37c-.4-.4-.92-.59-1.43-.59-.52 0-1.04.2-1.43.59L10.3 9.45l-7.72 7.72c-.78.78-.78 2.05 0 2.83L4 21.41c.39.39.9.59 1.41.59.51 0 1.02-.2 1.41-.59l7.78-7.78 2.81-2.81c.8-.78.8-2.07 0-2.86zM5.41 20L4 18.59l7.72-7.72 1.47 1.35L5.41 20z\"/>\n",
              "  </svg>\n",
              "      </button>\n",
              "      \n",
              "  <style>\n",
              "    .colab-df-container {\n",
              "      display:flex;\n",
              "      flex-wrap:wrap;\n",
              "      gap: 12px;\n",
              "    }\n",
              "\n",
              "    .colab-df-convert {\n",
              "      background-color: #E8F0FE;\n",
              "      border: none;\n",
              "      border-radius: 50%;\n",
              "      cursor: pointer;\n",
              "      display: none;\n",
              "      fill: #1967D2;\n",
              "      height: 32px;\n",
              "      padding: 0 0 0 0;\n",
              "      width: 32px;\n",
              "    }\n",
              "\n",
              "    .colab-df-convert:hover {\n",
              "      background-color: #E2EBFA;\n",
              "      box-shadow: 0px 1px 2px rgba(60, 64, 67, 0.3), 0px 1px 3px 1px rgba(60, 64, 67, 0.15);\n",
              "      fill: #174EA6;\n",
              "    }\n",
              "\n",
              "    [theme=dark] .colab-df-convert {\n",
              "      background-color: #3B4455;\n",
              "      fill: #D2E3FC;\n",
              "    }\n",
              "\n",
              "    [theme=dark] .colab-df-convert:hover {\n",
              "      background-color: #434B5C;\n",
              "      box-shadow: 0px 1px 3px 1px rgba(0, 0, 0, 0.15);\n",
              "      filter: drop-shadow(0px 1px 2px rgba(0, 0, 0, 0.3));\n",
              "      fill: #FFFFFF;\n",
              "    }\n",
              "  </style>\n",
              "\n",
              "      <script>\n",
              "        const buttonEl =\n",
              "          document.querySelector('#df-fad1415b-f3d5-47e4-a226-efcaa5799ff9 button.colab-df-convert');\n",
              "        buttonEl.style.display =\n",
              "          google.colab.kernel.accessAllowed ? 'block' : 'none';\n",
              "\n",
              "        async function convertToInteractive(key) {\n",
              "          const element = document.querySelector('#df-fad1415b-f3d5-47e4-a226-efcaa5799ff9');\n",
              "          const dataTable =\n",
              "            await google.colab.kernel.invokeFunction('convertToInteractive',\n",
              "                                                     [key], {});\n",
              "          if (!dataTable) return;\n",
              "\n",
              "          const docLinkHtml = 'Like what you see? Visit the ' +\n",
              "            '<a target=\"_blank\" href=https://colab.research.google.com/notebooks/data_table.ipynb>data table notebook</a>'\n",
              "            + ' to learn more about interactive tables.';\n",
              "          element.innerHTML = '';\n",
              "          dataTable['output_type'] = 'display_data';\n",
              "          await google.colab.output.renderOutput(dataTable, element);\n",
              "          const docLink = document.createElement('div');\n",
              "          docLink.innerHTML = docLinkHtml;\n",
              "          element.appendChild(docLink);\n",
              "        }\n",
              "      </script>\n",
              "    </div>\n",
              "  </div>\n",
              "  "
            ],
            "text/plain": [
              "   id  ...                                          producers\n",
              "0   5  ...  {'adult': False, 'gender': 2, 'id': 2545, 'kno...\n",
              "1   6  ...  {'adult': False, 'gender': 2, 'id': 71417, 'kn...\n",
              "2  11  ...  {'adult': False, 'gender': 2, 'id': 12401, 'kn...\n",
              "3  12  ...  {'adult': False, 'gender': 2, 'id': 9, 'known_...\n",
              "4  13  ...  {'adult': False, 'gender': 1, 'id': 28, 'known...\n",
              "\n",
              "[5 rows x 15 columns]"
            ]
          },
          "metadata": {},
          "execution_count": 17
        }
      ]
    },
    {
      "cell_type": "code",
      "source": [
        "movies_db"
      ],
      "metadata": {
        "colab": {
          "base_uri": "https://localhost:8080/",
          "height": 1000
        },
        "id": "iGD9IPvdgvnO",
        "outputId": "ac10da7b-3d26-4f09-94a0-bea67d75f9f5"
      },
      "execution_count": null,
      "outputs": [
        {
          "output_type": "execute_result",
          "data": {
            "text/html": [
              "\n",
              "  <div id=\"df-56f1fa4c-c7da-48cc-a476-2b208c55a5f4\">\n",
              "    <div class=\"colab-df-container\">\n",
              "      <div>\n",
              "<style scoped>\n",
              "    .dataframe tbody tr th:only-of-type {\n",
              "        vertical-align: middle;\n",
              "    }\n",
              "\n",
              "    .dataframe tbody tr th {\n",
              "        vertical-align: top;\n",
              "    }\n",
              "\n",
              "    .dataframe thead th {\n",
              "        text-align: right;\n",
              "    }\n",
              "</style>\n",
              "<table border=\"1\" class=\"dataframe\">\n",
              "  <thead>\n",
              "    <tr style=\"text-align: right;\">\n",
              "      <th></th>\n",
              "      <th>id</th>\n",
              "      <th>title</th>\n",
              "      <th>budget</th>\n",
              "      <th>genres</th>\n",
              "      <th>original_language</th>\n",
              "      <th>overview</th>\n",
              "      <th>production_companies</th>\n",
              "      <th>release_date</th>\n",
              "      <th>revenue</th>\n",
              "      <th>runtime</th>\n",
              "      <th>vote_average</th>\n",
              "      <th>vote_count</th>\n",
              "      <th>actors</th>\n",
              "      <th>director</th>\n",
              "      <th>producers</th>\n",
              "    </tr>\n",
              "  </thead>\n",
              "  <tbody>\n",
              "    <tr>\n",
              "      <th>0</th>\n",
              "      <td>5</td>\n",
              "      <td>Four Rooms</td>\n",
              "      <td>4000000</td>\n",
              "      <td>['Crime', 'Comedy']</td>\n",
              "      <td>en</td>\n",
              "      <td>It's Ted the Bellhop's first night on the job....</td>\n",
              "      <td>['Miramax', 'A Band Apart']</td>\n",
              "      <td>1995-12-09</td>\n",
              "      <td>4257354</td>\n",
              "      <td>98.0</td>\n",
              "      <td>5.7</td>\n",
              "      <td>2086.0</td>\n",
              "      <td>{'adult': False, 'gender': 2, 'id': 3129, 'kno...</td>\n",
              "      <td>{'adult': False, 'gender': 1, 'id': 3110, 'kno...</td>\n",
              "      <td>{'adult': False, 'gender': 2, 'id': 2545, 'kno...</td>\n",
              "    </tr>\n",
              "    <tr>\n",
              "      <th>1</th>\n",
              "      <td>6</td>\n",
              "      <td>Judgment Night</td>\n",
              "      <td>21000000</td>\n",
              "      <td>['Action', 'Thriller', 'Crime']</td>\n",
              "      <td>en</td>\n",
              "      <td>While racing to a boxing match, Frank, Mike, J...</td>\n",
              "      <td>['Universal Pictures', 'Largo Entertainment', ...</td>\n",
              "      <td>1993-10-15</td>\n",
              "      <td>12136938</td>\n",
              "      <td>110.0</td>\n",
              "      <td>6.5</td>\n",
              "      <td>224.0</td>\n",
              "      <td>{'adult': False, 'gender': 2, 'id': 2880, 'kno...</td>\n",
              "      <td>{'adult': False, 'gender': 2, 'id': 2042, 'kno...</td>\n",
              "      <td>{'adult': False, 'gender': 2, 'id': 71417, 'kn...</td>\n",
              "    </tr>\n",
              "    <tr>\n",
              "      <th>2</th>\n",
              "      <td>11</td>\n",
              "      <td>Star Wars</td>\n",
              "      <td>11000000</td>\n",
              "      <td>['Adventure', 'Action', 'Science Fiction']</td>\n",
              "      <td>en</td>\n",
              "      <td>Princess Leia is captured and held hostage by ...</td>\n",
              "      <td>['Lucasfilm', '20th Century Fox']</td>\n",
              "      <td>1977-05-25</td>\n",
              "      <td>775398007</td>\n",
              "      <td>121.0</td>\n",
              "      <td>8.2</td>\n",
              "      <td>16675.0</td>\n",
              "      <td>{'adult': False, 'gender': 2, 'id': 2, 'known_...</td>\n",
              "      <td>{'adult': False, 'gender': 2, 'id': 1, 'known_...</td>\n",
              "      <td>{'adult': False, 'gender': 2, 'id': 12401, 'kn...</td>\n",
              "    </tr>\n",
              "    <tr>\n",
              "      <th>3</th>\n",
              "      <td>12</td>\n",
              "      <td>Finding Nemo</td>\n",
              "      <td>94000000</td>\n",
              "      <td>['Animation', 'Family']</td>\n",
              "      <td>en</td>\n",
              "      <td>Nemo, an adventurous young clownfish, is unexp...</td>\n",
              "      <td>['Pixar']</td>\n",
              "      <td>2003-05-30</td>\n",
              "      <td>940335536</td>\n",
              "      <td>100.0</td>\n",
              "      <td>7.8</td>\n",
              "      <td>15985.0</td>\n",
              "      <td>{'adult': False, 'gender': 2, 'id': 13, 'known...</td>\n",
              "      <td>{'adult': False, 'gender': 2, 'id': 7, 'known_...</td>\n",
              "      <td>{'adult': False, 'gender': 2, 'id': 9, 'known_...</td>\n",
              "    </tr>\n",
              "    <tr>\n",
              "      <th>4</th>\n",
              "      <td>13</td>\n",
              "      <td>Forrest Gump</td>\n",
              "      <td>55000000</td>\n",
              "      <td>['Comedy', 'Drama', 'Romance']</td>\n",
              "      <td>en</td>\n",
              "      <td>A man with a low IQ has accomplished great thi...</td>\n",
              "      <td>['Paramount', 'The Steve Tisch Company']</td>\n",
              "      <td>1994-07-06</td>\n",
              "      <td>677387716</td>\n",
              "      <td>142.0</td>\n",
              "      <td>8.5</td>\n",
              "      <td>22143.0</td>\n",
              "      <td>{'adult': False, 'gender': 2, 'id': 31, 'known...</td>\n",
              "      <td>{'adult': False, 'gender': 2, 'id': 24, 'known...</td>\n",
              "      <td>{'adult': False, 'gender': 1, 'id': 28, 'known...</td>\n",
              "    </tr>\n",
              "    <tr>\n",
              "      <th>...</th>\n",
              "      <td>...</td>\n",
              "      <td>...</td>\n",
              "      <td>...</td>\n",
              "      <td>...</td>\n",
              "      <td>...</td>\n",
              "      <td>...</td>\n",
              "      <td>...</td>\n",
              "      <td>...</td>\n",
              "      <td>...</td>\n",
              "      <td>...</td>\n",
              "      <td>...</td>\n",
              "      <td>...</td>\n",
              "      <td>...</td>\n",
              "      <td>...</td>\n",
              "      <td>...</td>\n",
              "    </tr>\n",
              "    <tr>\n",
              "      <th>7124</th>\n",
              "      <td>392982</td>\n",
              "      <td>Marshall</td>\n",
              "      <td>12000000</td>\n",
              "      <td>['Drama']</td>\n",
              "      <td>en</td>\n",
              "      <td>Thurgood Marshall, the first African-American ...</td>\n",
              "      <td>['Chestnut Ridge']</td>\n",
              "      <td>2017-10-13</td>\n",
              "      <td>10051659</td>\n",
              "      <td>118.0</td>\n",
              "      <td>7.3</td>\n",
              "      <td>479.0</td>\n",
              "      <td>{'adult': False, 'gender': 2, 'id': 172069, 'k...</td>\n",
              "      <td>{'adult': False, 'gender': 2, 'id': 68215, 'kn...</td>\n",
              "      <td>{'adult': False, 'gender': 1, 'id': 9183, 'kno...</td>\n",
              "    </tr>\n",
              "    <tr>\n",
              "      <th>7125</th>\n",
              "      <td>261949</td>\n",
              "      <td>Thanks Maa</td>\n",
              "      <td>500000</td>\n",
              "      <td>['Comedy', 'Drama']</td>\n",
              "      <td>en</td>\n",
              "      <td>While on the run from the reformatory, a 12 ye...</td>\n",
              "      <td>['Quantum Films [in]', 'Sony Pictures']</td>\n",
              "      <td>2010-03-05</td>\n",
              "      <td>2000000</td>\n",
              "      <td>120.0</td>\n",
              "      <td>5.8</td>\n",
              "      <td>3.0</td>\n",
              "      <td>{'adult': False, 'gender': 0, 'id': 1305480, '...</td>\n",
              "      <td>{'adult': False, 'gender': 0, 'id': 1265938, '...</td>\n",
              "      <td></td>\n",
              "    </tr>\n",
              "    <tr>\n",
              "      <th>7126</th>\n",
              "      <td>78127</td>\n",
              "      <td>Silk Shoes</td>\n",
              "      <td>300</td>\n",
              "      <td>['Comedy', 'Drama']</td>\n",
              "      <td>en</td>\n",
              "      <td>With his film having failed and producer havin...</td>\n",
              "      <td>[]</td>\n",
              "      <td>2006-06-22</td>\n",
              "      <td>300</td>\n",
              "      <td>100.0</td>\n",
              "      <td>4.9</td>\n",
              "      <td>4.0</td>\n",
              "      <td>{'adult': False, 'gender': 2, 'id': 141857, 'k...</td>\n",
              "      <td>{'adult': False, 'gender': 2, 'id': 96780, 'kn...</td>\n",
              "      <td>{'adult': False, 'gender': 2, 'id': 96780, 'kn...</td>\n",
              "    </tr>\n",
              "    <tr>\n",
              "      <th>7127</th>\n",
              "      <td>655232</td>\n",
              "      <td>Vazante</td>\n",
              "      <td>2424713</td>\n",
              "      <td>['Drama']</td>\n",
              "      <td>en</td>\n",
              "      <td>On an empty beach, 5 kids talk and talk, over ...</td>\n",
              "      <td>['Processo Multiartes']</td>\n",
              "      <td>2018-06-10</td>\n",
              "      <td>100</td>\n",
              "      <td>18.0</td>\n",
              "      <td>0.0</td>\n",
              "      <td>0.0</td>\n",
              "      <td></td>\n",
              "      <td>{'adult': False, 'gender': 2, 'id': 1270398, '...</td>\n",
              "      <td>{'adult': False, 'gender': 0, 'id': 1270396, '...</td>\n",
              "    </tr>\n",
              "    <tr>\n",
              "      <th>7128</th>\n",
              "      <td>393170</td>\n",
              "      <td>Kaptaan</td>\n",
              "      <td>60</td>\n",
              "      <td>['Action', 'Comedy', 'Drama', 'Family']</td>\n",
              "      <td>en</td>\n",
              "      <td>Kaptaan is Latest 2016 indian Punjabi Action C...</td>\n",
              "      <td>['Tips Industries']</td>\n",
              "      <td>2016-05-20</td>\n",
              "      <td>109</td>\n",
              "      <td>142.0</td>\n",
              "      <td>5.5</td>\n",
              "      <td>2.0</td>\n",
              "      <td>{'adult': False, 'gender': 2, 'id': 928229, 'k...</td>\n",
              "      <td>{'adult': False, 'gender': 0, 'id': 1015085, '...</td>\n",
              "      <td></td>\n",
              "    </tr>\n",
              "  </tbody>\n",
              "</table>\n",
              "<p>7114 rows × 15 columns</p>\n",
              "</div>\n",
              "      <button class=\"colab-df-convert\" onclick=\"convertToInteractive('df-56f1fa4c-c7da-48cc-a476-2b208c55a5f4')\"\n",
              "              title=\"Convert this dataframe to an interactive table.\"\n",
              "              style=\"display:none;\">\n",
              "        \n",
              "  <svg xmlns=\"http://www.w3.org/2000/svg\" height=\"24px\"viewBox=\"0 0 24 24\"\n",
              "       width=\"24px\">\n",
              "    <path d=\"M0 0h24v24H0V0z\" fill=\"none\"/>\n",
              "    <path d=\"M18.56 5.44l.94 2.06.94-2.06 2.06-.94-2.06-.94-.94-2.06-.94 2.06-2.06.94zm-11 1L8.5 8.5l.94-2.06 2.06-.94-2.06-.94L8.5 2.5l-.94 2.06-2.06.94zm10 10l.94 2.06.94-2.06 2.06-.94-2.06-.94-.94-2.06-.94 2.06-2.06.94z\"/><path d=\"M17.41 7.96l-1.37-1.37c-.4-.4-.92-.59-1.43-.59-.52 0-1.04.2-1.43.59L10.3 9.45l-7.72 7.72c-.78.78-.78 2.05 0 2.83L4 21.41c.39.39.9.59 1.41.59.51 0 1.02-.2 1.41-.59l7.78-7.78 2.81-2.81c.8-.78.8-2.07 0-2.86zM5.41 20L4 18.59l7.72-7.72 1.47 1.35L5.41 20z\"/>\n",
              "  </svg>\n",
              "      </button>\n",
              "      \n",
              "  <style>\n",
              "    .colab-df-container {\n",
              "      display:flex;\n",
              "      flex-wrap:wrap;\n",
              "      gap: 12px;\n",
              "    }\n",
              "\n",
              "    .colab-df-convert {\n",
              "      background-color: #E8F0FE;\n",
              "      border: none;\n",
              "      border-radius: 50%;\n",
              "      cursor: pointer;\n",
              "      display: none;\n",
              "      fill: #1967D2;\n",
              "      height: 32px;\n",
              "      padding: 0 0 0 0;\n",
              "      width: 32px;\n",
              "    }\n",
              "\n",
              "    .colab-df-convert:hover {\n",
              "      background-color: #E2EBFA;\n",
              "      box-shadow: 0px 1px 2px rgba(60, 64, 67, 0.3), 0px 1px 3px 1px rgba(60, 64, 67, 0.15);\n",
              "      fill: #174EA6;\n",
              "    }\n",
              "\n",
              "    [theme=dark] .colab-df-convert {\n",
              "      background-color: #3B4455;\n",
              "      fill: #D2E3FC;\n",
              "    }\n",
              "\n",
              "    [theme=dark] .colab-df-convert:hover {\n",
              "      background-color: #434B5C;\n",
              "      box-shadow: 0px 1px 3px 1px rgba(0, 0, 0, 0.15);\n",
              "      filter: drop-shadow(0px 1px 2px rgba(0, 0, 0, 0.3));\n",
              "      fill: #FFFFFF;\n",
              "    }\n",
              "  </style>\n",
              "\n",
              "      <script>\n",
              "        const buttonEl =\n",
              "          document.querySelector('#df-56f1fa4c-c7da-48cc-a476-2b208c55a5f4 button.colab-df-convert');\n",
              "        buttonEl.style.display =\n",
              "          google.colab.kernel.accessAllowed ? 'block' : 'none';\n",
              "\n",
              "        async function convertToInteractive(key) {\n",
              "          const element = document.querySelector('#df-56f1fa4c-c7da-48cc-a476-2b208c55a5f4');\n",
              "          const dataTable =\n",
              "            await google.colab.kernel.invokeFunction('convertToInteractive',\n",
              "                                                     [key], {});\n",
              "          if (!dataTable) return;\n",
              "\n",
              "          const docLinkHtml = 'Like what you see? Visit the ' +\n",
              "            '<a target=\"_blank\" href=https://colab.research.google.com/notebooks/data_table.ipynb>data table notebook</a>'\n",
              "            + ' to learn more about interactive tables.';\n",
              "          element.innerHTML = '';\n",
              "          dataTable['output_type'] = 'display_data';\n",
              "          await google.colab.output.renderOutput(dataTable, element);\n",
              "          const docLink = document.createElement('div');\n",
              "          docLink.innerHTML = docLinkHtml;\n",
              "          element.appendChild(docLink);\n",
              "        }\n",
              "      </script>\n",
              "    </div>\n",
              "  </div>\n",
              "  "
            ],
            "text/plain": [
              "          id  ...                                          producers\n",
              "0          5  ...  {'adult': False, 'gender': 2, 'id': 2545, 'kno...\n",
              "1          6  ...  {'adult': False, 'gender': 2, 'id': 71417, 'kn...\n",
              "2         11  ...  {'adult': False, 'gender': 2, 'id': 12401, 'kn...\n",
              "3         12  ...  {'adult': False, 'gender': 2, 'id': 9, 'known_...\n",
              "4         13  ...  {'adult': False, 'gender': 1, 'id': 28, 'known...\n",
              "...      ...  ...                                                ...\n",
              "7124  392982  ...  {'adult': False, 'gender': 1, 'id': 9183, 'kno...\n",
              "7125  261949  ...                                                   \n",
              "7126   78127  ...  {'adult': False, 'gender': 2, 'id': 96780, 'kn...\n",
              "7127  655232  ...  {'adult': False, 'gender': 0, 'id': 1270396, '...\n",
              "7128  393170  ...                                                   \n",
              "\n",
              "[7114 rows x 15 columns]"
            ]
          },
          "metadata": {},
          "execution_count": 18
        }
      ]
    },
    {
      "cell_type": "code",
      "source": [
        "movies_db.loc[0]['actors']"
      ],
      "metadata": {
        "colab": {
          "base_uri": "https://localhost:8080/",
          "height": 122
        },
        "id": "592RTnYMZnTo",
        "outputId": "ea5e489b-32d0-4c85-bb6a-93544a9656c0"
      },
      "execution_count": null,
      "outputs": [
        {
          "output_type": "execute_result",
          "data": {
            "application/vnd.google.colaboratory.intrinsic+json": {
              "type": "string"
            },
            "text/plain": [
              "\"{'adult': False, 'gender': 2, 'id': 3129, 'known_for_department': 'Acting', 'name': 'Tim Roth', 'original_name': 'Tim Roth', 'popularity': 19.514, 'profile_path': '/qSizF2i9gz6c6DbAC5RoIq8sVqX.jpg', 'cast_id': 42, 'character': 'Ted the Bellhop', 'credit_id': '52fe420dc3a36847f80001b7', 'order': 0}, {'adult': False, 'gender': 1, 'id': 3130, 'known_for_department': 'Acting', 'name': 'Jennifer Beals', 'original_name': 'Jennifer Beals', 'popularity': 25.906, 'profile_path': '/gSgjPBfke1fz55WyO8AnFWtidOq.jpg', 'cast_id': 29, 'character': 'Angela', 'credit_id': '52fe420dc3a36847f8000183', 'order': 1}, {'adult': False, 'gender': 2, 'id': 3131, 'known_for_department': 'Acting', 'name': 'Antonio Banderas', 'original_name': 'Antonio Banderas', 'popularity': 23.137, 'profile_path': '/uqqgAdPfi1TmG3tfKfhsf20fHE6.jpg', 'cast_id': 31, 'character': 'Man', 'credit_id': '52fe420dc3a36847f800018b', 'order': 2}, {'adult': False, 'gender': 1, 'id': 3124, 'known_for_department': 'Acting', 'name': 'Valeria Golino', 'original_name': 'Valeria Golino', 'popularity': 20.923, 'profile_path': '/wqtdNbQm5H6pIdv1UKWdnCZvUlm.jpg', 'cast_id': 24, 'character': 'Athena', 'credit_id': '52fe420dc3a36847f800016f', 'order': 3}, {'adult': False, 'gender': 2, 'id': 2555, 'known_for_department': 'Acting', 'name': 'David Proval', 'original_name': 'David Proval', 'popularity': 9.285, 'profile_path': '/ku3LWQXiJ80nWgs21fKvTMaR6Ui.jpg', 'cast_id': 30, 'character': 'Siegfried', 'credit_id': '52fe420dc3a36847f8000187', 'order': 4}\""
            ]
          },
          "metadata": {},
          "execution_count": 19
        }
      ]
    },
    {
      "cell_type": "code",
      "source": [
        "def extract_popularities(col):\n",
        "  movies_db_col = movies_db[col].apply(lambda s : re.findall('\\'popularity\\': \\d+.?\\d*',s))\n",
        "  return movies_db_col.apply(lambda s :  np.sum([float(re.search('(\\'popularity\\': )(\\d+.?\\d*)', x).group(2)) for x in s]))"
      ],
      "metadata": {
        "id": "UHRX1E1YkWm9"
      },
      "execution_count": null,
      "outputs": []
    },
    {
      "cell_type": "code",
      "source": [
        "movies_actors_popularities = movies_db['actors'].apply(lambda s : re.findall('\\'popularity\\': \\d+.?\\d*',s))"
      ],
      "metadata": {
        "id": "tQvmxAvBe2Y4"
      },
      "execution_count": null,
      "outputs": []
    },
    {
      "cell_type": "code",
      "source": [
        "movies_actors_popularities = movies_actors_popularities.apply(lambda s :  np.sum([float(re.search('(\\'popularity\\': )(\\d+.?\\d*)', x).group(2)) for x in s]))"
      ],
      "metadata": {
        "id": "i1ElE8QahPX5"
      },
      "execution_count": null,
      "outputs": []
    },
    {
      "cell_type": "code",
      "source": [
        "movies_actors_popularities"
      ],
      "metadata": {
        "colab": {
          "base_uri": "https://localhost:8080/"
        },
        "id": "h5deEgEujHvW",
        "outputId": "1ad984c0-62c8-4683-cd2a-420481afa061"
      },
      "execution_count": null,
      "outputs": [
        {
          "output_type": "execute_result",
          "data": {
            "text/plain": [
              "0        98.765\n",
              "1        61.835\n",
              "2        84.796\n",
              "3        99.258\n",
              "4       107.316\n",
              "         ...   \n",
              "7124     64.272\n",
              "7125     12.806\n",
              "7126     19.557\n",
              "7127      0.000\n",
              "7128     11.479\n",
              "Name: actors, Length: 7114, dtype: float64"
            ]
          },
          "metadata": {},
          "execution_count": 23
        }
      ]
    },
    {
      "cell_type": "code",
      "source": [
        "movies_db['pop_actors'] = extract_popularities('actors')\n",
        "movies_db['pop_directors'] = extract_popularities('director')\n",
        "movies_db['pop_producer'] = extract_popularities('producers')"
      ],
      "metadata": {
        "id": "BoaQJcQBk7Xs"
      },
      "execution_count": null,
      "outputs": []
    },
    {
      "cell_type": "code",
      "source": [
        "movies_db"
      ],
      "metadata": {
        "id": "Iui52d_0lXOA",
        "colab": {
          "base_uri": "https://localhost:8080/",
          "height": 1000
        },
        "outputId": "320109a7-83cc-48b1-eac7-4ca384db309e"
      },
      "execution_count": null,
      "outputs": [
        {
          "output_type": "execute_result",
          "data": {
            "text/html": [
              "\n",
              "  <div id=\"df-e6655f02-ffb3-42cc-a514-64d3831986a8\">\n",
              "    <div class=\"colab-df-container\">\n",
              "      <div>\n",
              "<style scoped>\n",
              "    .dataframe tbody tr th:only-of-type {\n",
              "        vertical-align: middle;\n",
              "    }\n",
              "\n",
              "    .dataframe tbody tr th {\n",
              "        vertical-align: top;\n",
              "    }\n",
              "\n",
              "    .dataframe thead th {\n",
              "        text-align: right;\n",
              "    }\n",
              "</style>\n",
              "<table border=\"1\" class=\"dataframe\">\n",
              "  <thead>\n",
              "    <tr style=\"text-align: right;\">\n",
              "      <th></th>\n",
              "      <th>id</th>\n",
              "      <th>title</th>\n",
              "      <th>budget</th>\n",
              "      <th>genres</th>\n",
              "      <th>original_language</th>\n",
              "      <th>overview</th>\n",
              "      <th>production_companies</th>\n",
              "      <th>release_date</th>\n",
              "      <th>revenue</th>\n",
              "      <th>runtime</th>\n",
              "      <th>vote_average</th>\n",
              "      <th>vote_count</th>\n",
              "      <th>actors</th>\n",
              "      <th>director</th>\n",
              "      <th>producers</th>\n",
              "      <th>pop_actors</th>\n",
              "      <th>pop_directors</th>\n",
              "      <th>pop_producer</th>\n",
              "    </tr>\n",
              "  </thead>\n",
              "  <tbody>\n",
              "    <tr>\n",
              "      <th>0</th>\n",
              "      <td>5</td>\n",
              "      <td>Four Rooms</td>\n",
              "      <td>4000000</td>\n",
              "      <td>['Crime', 'Comedy']</td>\n",
              "      <td>en</td>\n",
              "      <td>It's Ted the Bellhop's first night on the job....</td>\n",
              "      <td>['Miramax', 'A Band Apart']</td>\n",
              "      <td>1995-12-09</td>\n",
              "      <td>4257354</td>\n",
              "      <td>98.0</td>\n",
              "      <td>5.7</td>\n",
              "      <td>2086.0</td>\n",
              "      <td>{'adult': False, 'gender': 2, 'id': 3129, 'kno...</td>\n",
              "      <td>{'adult': False, 'gender': 1, 'id': 3110, 'kno...</td>\n",
              "      <td>{'adult': False, 'gender': 2, 'id': 2545, 'kno...</td>\n",
              "      <td>98.765</td>\n",
              "      <td>30.168</td>\n",
              "      <td>1.551</td>\n",
              "    </tr>\n",
              "    <tr>\n",
              "      <th>1</th>\n",
              "      <td>6</td>\n",
              "      <td>Judgment Night</td>\n",
              "      <td>21000000</td>\n",
              "      <td>['Action', 'Thriller', 'Crime']</td>\n",
              "      <td>en</td>\n",
              "      <td>While racing to a boxing match, Frank, Mike, J...</td>\n",
              "      <td>['Universal Pictures', 'Largo Entertainment', ...</td>\n",
              "      <td>1993-10-15</td>\n",
              "      <td>12136938</td>\n",
              "      <td>110.0</td>\n",
              "      <td>6.5</td>\n",
              "      <td>224.0</td>\n",
              "      <td>{'adult': False, 'gender': 2, 'id': 2880, 'kno...</td>\n",
              "      <td>{'adult': False, 'gender': 2, 'id': 2042, 'kno...</td>\n",
              "      <td>{'adult': False, 'gender': 2, 'id': 71417, 'kn...</td>\n",
              "      <td>61.835</td>\n",
              "      <td>2.359</td>\n",
              "      <td>0.600</td>\n",
              "    </tr>\n",
              "    <tr>\n",
              "      <th>2</th>\n",
              "      <td>11</td>\n",
              "      <td>Star Wars</td>\n",
              "      <td>11000000</td>\n",
              "      <td>['Adventure', 'Action', 'Science Fiction']</td>\n",
              "      <td>en</td>\n",
              "      <td>Princess Leia is captured and held hostage by ...</td>\n",
              "      <td>['Lucasfilm', '20th Century Fox']</td>\n",
              "      <td>1977-05-25</td>\n",
              "      <td>775398007</td>\n",
              "      <td>121.0</td>\n",
              "      <td>8.2</td>\n",
              "      <td>16675.0</td>\n",
              "      <td>{'adult': False, 'gender': 2, 'id': 2, 'known_...</td>\n",
              "      <td>{'adult': False, 'gender': 2, 'id': 1, 'known_...</td>\n",
              "      <td>{'adult': False, 'gender': 2, 'id': 12401, 'kn...</td>\n",
              "      <td>84.796</td>\n",
              "      <td>21.636</td>\n",
              "      <td>2.390</td>\n",
              "    </tr>\n",
              "    <tr>\n",
              "      <th>3</th>\n",
              "      <td>12</td>\n",
              "      <td>Finding Nemo</td>\n",
              "      <td>94000000</td>\n",
              "      <td>['Animation', 'Family']</td>\n",
              "      <td>en</td>\n",
              "      <td>Nemo, an adventurous young clownfish, is unexp...</td>\n",
              "      <td>['Pixar']</td>\n",
              "      <td>2003-05-30</td>\n",
              "      <td>940335536</td>\n",
              "      <td>100.0</td>\n",
              "      <td>7.8</td>\n",
              "      <td>15985.0</td>\n",
              "      <td>{'adult': False, 'gender': 2, 'id': 13, 'known...</td>\n",
              "      <td>{'adult': False, 'gender': 2, 'id': 7, 'known_...</td>\n",
              "      <td>{'adult': False, 'gender': 2, 'id': 9, 'known_...</td>\n",
              "      <td>99.258</td>\n",
              "      <td>9.682</td>\n",
              "      <td>1.400</td>\n",
              "    </tr>\n",
              "    <tr>\n",
              "      <th>4</th>\n",
              "      <td>13</td>\n",
              "      <td>Forrest Gump</td>\n",
              "      <td>55000000</td>\n",
              "      <td>['Comedy', 'Drama', 'Romance']</td>\n",
              "      <td>en</td>\n",
              "      <td>A man with a low IQ has accomplished great thi...</td>\n",
              "      <td>['Paramount', 'The Steve Tisch Company']</td>\n",
              "      <td>1994-07-06</td>\n",
              "      <td>677387716</td>\n",
              "      <td>142.0</td>\n",
              "      <td>8.5</td>\n",
              "      <td>22143.0</td>\n",
              "      <td>{'adult': False, 'gender': 2, 'id': 31, 'known...</td>\n",
              "      <td>{'adult': False, 'gender': 2, 'id': 24, 'known...</td>\n",
              "      <td>{'adult': False, 'gender': 1, 'id': 28, 'known...</td>\n",
              "      <td>107.316</td>\n",
              "      <td>3.925</td>\n",
              "      <td>5.474</td>\n",
              "    </tr>\n",
              "    <tr>\n",
              "      <th>...</th>\n",
              "      <td>...</td>\n",
              "      <td>...</td>\n",
              "      <td>...</td>\n",
              "      <td>...</td>\n",
              "      <td>...</td>\n",
              "      <td>...</td>\n",
              "      <td>...</td>\n",
              "      <td>...</td>\n",
              "      <td>...</td>\n",
              "      <td>...</td>\n",
              "      <td>...</td>\n",
              "      <td>...</td>\n",
              "      <td>...</td>\n",
              "      <td>...</td>\n",
              "      <td>...</td>\n",
              "      <td>...</td>\n",
              "      <td>...</td>\n",
              "      <td>...</td>\n",
              "    </tr>\n",
              "    <tr>\n",
              "      <th>7124</th>\n",
              "      <td>392982</td>\n",
              "      <td>Marshall</td>\n",
              "      <td>12000000</td>\n",
              "      <td>['Drama']</td>\n",
              "      <td>en</td>\n",
              "      <td>Thurgood Marshall, the first African-American ...</td>\n",
              "      <td>['Chestnut Ridge']</td>\n",
              "      <td>2017-10-13</td>\n",
              "      <td>10051659</td>\n",
              "      <td>118.0</td>\n",
              "      <td>7.3</td>\n",
              "      <td>479.0</td>\n",
              "      <td>{'adult': False, 'gender': 2, 'id': 172069, 'k...</td>\n",
              "      <td>{'adult': False, 'gender': 2, 'id': 68215, 'kn...</td>\n",
              "      <td>{'adult': False, 'gender': 1, 'id': 9183, 'kno...</td>\n",
              "      <td>64.272</td>\n",
              "      <td>1.868</td>\n",
              "      <td>5.625</td>\n",
              "    </tr>\n",
              "    <tr>\n",
              "      <th>7125</th>\n",
              "      <td>261949</td>\n",
              "      <td>Thanks Maa</td>\n",
              "      <td>500000</td>\n",
              "      <td>['Comedy', 'Drama']</td>\n",
              "      <td>en</td>\n",
              "      <td>While on the run from the reformatory, a 12 ye...</td>\n",
              "      <td>['Quantum Films [in]', 'Sony Pictures']</td>\n",
              "      <td>2010-03-05</td>\n",
              "      <td>2000000</td>\n",
              "      <td>120.0</td>\n",
              "      <td>5.8</td>\n",
              "      <td>3.0</td>\n",
              "      <td>{'adult': False, 'gender': 0, 'id': 1305480, '...</td>\n",
              "      <td>{'adult': False, 'gender': 0, 'id': 1265938, '...</td>\n",
              "      <td></td>\n",
              "      <td>12.806</td>\n",
              "      <td>1.214</td>\n",
              "      <td>0.000</td>\n",
              "    </tr>\n",
              "    <tr>\n",
              "      <th>7126</th>\n",
              "      <td>78127</td>\n",
              "      <td>Silk Shoes</td>\n",
              "      <td>300</td>\n",
              "      <td>['Comedy', 'Drama']</td>\n",
              "      <td>en</td>\n",
              "      <td>With his film having failed and producer havin...</td>\n",
              "      <td>[]</td>\n",
              "      <td>2006-06-22</td>\n",
              "      <td>300</td>\n",
              "      <td>100.0</td>\n",
              "      <td>4.9</td>\n",
              "      <td>4.0</td>\n",
              "      <td>{'adult': False, 'gender': 2, 'id': 141857, 'k...</td>\n",
              "      <td>{'adult': False, 'gender': 2, 'id': 96780, 'kn...</td>\n",
              "      <td>{'adult': False, 'gender': 2, 'id': 96780, 'kn...</td>\n",
              "      <td>19.557</td>\n",
              "      <td>0.732</td>\n",
              "      <td>0.732</td>\n",
              "    </tr>\n",
              "    <tr>\n",
              "      <th>7127</th>\n",
              "      <td>655232</td>\n",
              "      <td>Vazante</td>\n",
              "      <td>2424713</td>\n",
              "      <td>['Drama']</td>\n",
              "      <td>en</td>\n",
              "      <td>On an empty beach, 5 kids talk and talk, over ...</td>\n",
              "      <td>['Processo Multiartes']</td>\n",
              "      <td>2018-06-10</td>\n",
              "      <td>100</td>\n",
              "      <td>18.0</td>\n",
              "      <td>0.0</td>\n",
              "      <td>0.0</td>\n",
              "      <td></td>\n",
              "      <td>{'adult': False, 'gender': 2, 'id': 1270398, '...</td>\n",
              "      <td>{'adult': False, 'gender': 0, 'id': 1270396, '...</td>\n",
              "      <td>0.000</td>\n",
              "      <td>0.840</td>\n",
              "      <td>0.600</td>\n",
              "    </tr>\n",
              "    <tr>\n",
              "      <th>7128</th>\n",
              "      <td>393170</td>\n",
              "      <td>Kaptaan</td>\n",
              "      <td>60</td>\n",
              "      <td>['Action', 'Comedy', 'Drama', 'Family']</td>\n",
              "      <td>en</td>\n",
              "      <td>Kaptaan is Latest 2016 indian Punjabi Action C...</td>\n",
              "      <td>['Tips Industries']</td>\n",
              "      <td>2016-05-20</td>\n",
              "      <td>109</td>\n",
              "      <td>142.0</td>\n",
              "      <td>5.5</td>\n",
              "      <td>2.0</td>\n",
              "      <td>{'adult': False, 'gender': 2, 'id': 928229, 'k...</td>\n",
              "      <td>{'adult': False, 'gender': 0, 'id': 1015085, '...</td>\n",
              "      <td></td>\n",
              "      <td>11.479</td>\n",
              "      <td>1.400</td>\n",
              "      <td>0.000</td>\n",
              "    </tr>\n",
              "  </tbody>\n",
              "</table>\n",
              "<p>7114 rows × 18 columns</p>\n",
              "</div>\n",
              "      <button class=\"colab-df-convert\" onclick=\"convertToInteractive('df-e6655f02-ffb3-42cc-a514-64d3831986a8')\"\n",
              "              title=\"Convert this dataframe to an interactive table.\"\n",
              "              style=\"display:none;\">\n",
              "        \n",
              "  <svg xmlns=\"http://www.w3.org/2000/svg\" height=\"24px\"viewBox=\"0 0 24 24\"\n",
              "       width=\"24px\">\n",
              "    <path d=\"M0 0h24v24H0V0z\" fill=\"none\"/>\n",
              "    <path d=\"M18.56 5.44l.94 2.06.94-2.06 2.06-.94-2.06-.94-.94-2.06-.94 2.06-2.06.94zm-11 1L8.5 8.5l.94-2.06 2.06-.94-2.06-.94L8.5 2.5l-.94 2.06-2.06.94zm10 10l.94 2.06.94-2.06 2.06-.94-2.06-.94-.94-2.06-.94 2.06-2.06.94z\"/><path d=\"M17.41 7.96l-1.37-1.37c-.4-.4-.92-.59-1.43-.59-.52 0-1.04.2-1.43.59L10.3 9.45l-7.72 7.72c-.78.78-.78 2.05 0 2.83L4 21.41c.39.39.9.59 1.41.59.51 0 1.02-.2 1.41-.59l7.78-7.78 2.81-2.81c.8-.78.8-2.07 0-2.86zM5.41 20L4 18.59l7.72-7.72 1.47 1.35L5.41 20z\"/>\n",
              "  </svg>\n",
              "      </button>\n",
              "      \n",
              "  <style>\n",
              "    .colab-df-container {\n",
              "      display:flex;\n",
              "      flex-wrap:wrap;\n",
              "      gap: 12px;\n",
              "    }\n",
              "\n",
              "    .colab-df-convert {\n",
              "      background-color: #E8F0FE;\n",
              "      border: none;\n",
              "      border-radius: 50%;\n",
              "      cursor: pointer;\n",
              "      display: none;\n",
              "      fill: #1967D2;\n",
              "      height: 32px;\n",
              "      padding: 0 0 0 0;\n",
              "      width: 32px;\n",
              "    }\n",
              "\n",
              "    .colab-df-convert:hover {\n",
              "      background-color: #E2EBFA;\n",
              "      box-shadow: 0px 1px 2px rgba(60, 64, 67, 0.3), 0px 1px 3px 1px rgba(60, 64, 67, 0.15);\n",
              "      fill: #174EA6;\n",
              "    }\n",
              "\n",
              "    [theme=dark] .colab-df-convert {\n",
              "      background-color: #3B4455;\n",
              "      fill: #D2E3FC;\n",
              "    }\n",
              "\n",
              "    [theme=dark] .colab-df-convert:hover {\n",
              "      background-color: #434B5C;\n",
              "      box-shadow: 0px 1px 3px 1px rgba(0, 0, 0, 0.15);\n",
              "      filter: drop-shadow(0px 1px 2px rgba(0, 0, 0, 0.3));\n",
              "      fill: #FFFFFF;\n",
              "    }\n",
              "  </style>\n",
              "\n",
              "      <script>\n",
              "        const buttonEl =\n",
              "          document.querySelector('#df-e6655f02-ffb3-42cc-a514-64d3831986a8 button.colab-df-convert');\n",
              "        buttonEl.style.display =\n",
              "          google.colab.kernel.accessAllowed ? 'block' : 'none';\n",
              "\n",
              "        async function convertToInteractive(key) {\n",
              "          const element = document.querySelector('#df-e6655f02-ffb3-42cc-a514-64d3831986a8');\n",
              "          const dataTable =\n",
              "            await google.colab.kernel.invokeFunction('convertToInteractive',\n",
              "                                                     [key], {});\n",
              "          if (!dataTable) return;\n",
              "\n",
              "          const docLinkHtml = 'Like what you see? Visit the ' +\n",
              "            '<a target=\"_blank\" href=https://colab.research.google.com/notebooks/data_table.ipynb>data table notebook</a>'\n",
              "            + ' to learn more about interactive tables.';\n",
              "          element.innerHTML = '';\n",
              "          dataTable['output_type'] = 'display_data';\n",
              "          await google.colab.output.renderOutput(dataTable, element);\n",
              "          const docLink = document.createElement('div');\n",
              "          docLink.innerHTML = docLinkHtml;\n",
              "          element.appendChild(docLink);\n",
              "        }\n",
              "      </script>\n",
              "    </div>\n",
              "  </div>\n",
              "  "
            ],
            "text/plain": [
              "          id           title    budget  ... pop_actors pop_directors pop_producer\n",
              "0          5      Four Rooms   4000000  ...     98.765        30.168        1.551\n",
              "1          6  Judgment Night  21000000  ...     61.835         2.359        0.600\n",
              "2         11       Star Wars  11000000  ...     84.796        21.636        2.390\n",
              "3         12    Finding Nemo  94000000  ...     99.258         9.682        1.400\n",
              "4         13    Forrest Gump  55000000  ...    107.316         3.925        5.474\n",
              "...      ...             ...       ...  ...        ...           ...          ...\n",
              "7124  392982        Marshall  12000000  ...     64.272         1.868        5.625\n",
              "7125  261949      Thanks Maa    500000  ...     12.806         1.214        0.000\n",
              "7126   78127      Silk Shoes       300  ...     19.557         0.732        0.732\n",
              "7127  655232         Vazante   2424713  ...      0.000         0.840        0.600\n",
              "7128  393170         Kaptaan        60  ...     11.479         1.400        0.000\n",
              "\n",
              "[7114 rows x 18 columns]"
            ]
          },
          "metadata": {},
          "execution_count": 25
        }
      ]
    },
    {
      "cell_type": "code",
      "metadata": {
        "id": "DbplMKqUb1U7"
      },
      "source": [
        "convert_dict = {'budget':'int64',\n",
        "                'revenue':'int64',\n",
        "                'runtime':'float64',\n",
        "                'vote_count':'int64'\n",
        "                }\n",
        "\n",
        "movies_db[['budget','revenue','runtime','vote_count']] = movies_db[['budget','revenue','runtime','vote_count']].astype(convert_dict)"
      ],
      "execution_count": null,
      "outputs": []
    },
    {
      "cell_type": "code",
      "metadata": {
        "id": "q59nLwA5dcHY"
      },
      "source": [
        "movies_db['release_date'] = pd.to_datetime(movies_db['release_date'])"
      ],
      "execution_count": null,
      "outputs": []
    },
    {
      "cell_type": "code",
      "metadata": {
        "id": "yoTOeJ3GdmA8",
        "colab": {
          "base_uri": "https://localhost:8080/"
        },
        "outputId": "29b99bbe-fd13-4c24-a2b4-6f1d4906dc3f"
      },
      "source": [
        "movies_db['release_date']"
      ],
      "execution_count": null,
      "outputs": [
        {
          "output_type": "execute_result",
          "data": {
            "text/plain": [
              "0      1995-12-09\n",
              "1      1993-10-15\n",
              "2      1977-05-25\n",
              "3      2003-05-30\n",
              "4      1994-07-06\n",
              "          ...    \n",
              "7124   2017-10-13\n",
              "7125   2010-03-05\n",
              "7126   2006-06-22\n",
              "7127   2018-06-10\n",
              "7128   2016-05-20\n",
              "Name: release_date, Length: 7114, dtype: datetime64[ns]"
            ]
          },
          "metadata": {},
          "execution_count": 28
        }
      ]
    },
    {
      "cell_type": "code",
      "metadata": {
        "id": "JfZlIRwUFkz0",
        "colab": {
          "base_uri": "https://localhost:8080/",
          "height": 231
        },
        "outputId": "fe308925-9aa8-4be9-b8ec-fa0461cfd15a"
      },
      "source": [
        "movies_db[movies_db['revenue']<0]"
      ],
      "execution_count": null,
      "outputs": [
        {
          "output_type": "execute_result",
          "data": {
            "text/html": [
              "\n",
              "  <div id=\"df-f227f96a-27ab-45a5-9bb8-e3e0e9753826\">\n",
              "    <div class=\"colab-df-container\">\n",
              "      <div>\n",
              "<style scoped>\n",
              "    .dataframe tbody tr th:only-of-type {\n",
              "        vertical-align: middle;\n",
              "    }\n",
              "\n",
              "    .dataframe tbody tr th {\n",
              "        vertical-align: top;\n",
              "    }\n",
              "\n",
              "    .dataframe thead th {\n",
              "        text-align: right;\n",
              "    }\n",
              "</style>\n",
              "<table border=\"1\" class=\"dataframe\">\n",
              "  <thead>\n",
              "    <tr style=\"text-align: right;\">\n",
              "      <th></th>\n",
              "      <th>id</th>\n",
              "      <th>title</th>\n",
              "      <th>budget</th>\n",
              "      <th>genres</th>\n",
              "      <th>original_language</th>\n",
              "      <th>overview</th>\n",
              "      <th>production_companies</th>\n",
              "      <th>release_date</th>\n",
              "      <th>revenue</th>\n",
              "      <th>runtime</th>\n",
              "      <th>vote_average</th>\n",
              "      <th>vote_count</th>\n",
              "      <th>actors</th>\n",
              "      <th>director</th>\n",
              "      <th>producers</th>\n",
              "      <th>pop_actors</th>\n",
              "      <th>pop_directors</th>\n",
              "      <th>pop_producer</th>\n",
              "    </tr>\n",
              "  </thead>\n",
              "  <tbody>\n",
              "    <tr>\n",
              "      <th>1033</th>\n",
              "      <td>339294</td>\n",
              "      <td>Some Bears</td>\n",
              "      <td>12</td>\n",
              "      <td>[]</td>\n",
              "      <td>en</td>\n",
              "      <td>A young man slips into a world of delusion aft...</td>\n",
              "      <td>[]</td>\n",
              "      <td>2013-05-15</td>\n",
              "      <td>-12</td>\n",
              "      <td>8.0</td>\n",
              "      <td>7.0</td>\n",
              "      <td>2</td>\n",
              "      <td>{'adult': False, 'gender': 0, 'id': 1464870, '...</td>\n",
              "      <td>{'adult': False, 'gender': 0, 'id': 1464873, '...</td>\n",
              "      <td></td>\n",
              "      <td>1.8</td>\n",
              "      <td>0.6</td>\n",
              "      <td>0.0</td>\n",
              "    </tr>\n",
              "  </tbody>\n",
              "</table>\n",
              "</div>\n",
              "      <button class=\"colab-df-convert\" onclick=\"convertToInteractive('df-f227f96a-27ab-45a5-9bb8-e3e0e9753826')\"\n",
              "              title=\"Convert this dataframe to an interactive table.\"\n",
              "              style=\"display:none;\">\n",
              "        \n",
              "  <svg xmlns=\"http://www.w3.org/2000/svg\" height=\"24px\"viewBox=\"0 0 24 24\"\n",
              "       width=\"24px\">\n",
              "    <path d=\"M0 0h24v24H0V0z\" fill=\"none\"/>\n",
              "    <path d=\"M18.56 5.44l.94 2.06.94-2.06 2.06-.94-2.06-.94-.94-2.06-.94 2.06-2.06.94zm-11 1L8.5 8.5l.94-2.06 2.06-.94-2.06-.94L8.5 2.5l-.94 2.06-2.06.94zm10 10l.94 2.06.94-2.06 2.06-.94-2.06-.94-.94-2.06-.94 2.06-2.06.94z\"/><path d=\"M17.41 7.96l-1.37-1.37c-.4-.4-.92-.59-1.43-.59-.52 0-1.04.2-1.43.59L10.3 9.45l-7.72 7.72c-.78.78-.78 2.05 0 2.83L4 21.41c.39.39.9.59 1.41.59.51 0 1.02-.2 1.41-.59l7.78-7.78 2.81-2.81c.8-.78.8-2.07 0-2.86zM5.41 20L4 18.59l7.72-7.72 1.47 1.35L5.41 20z\"/>\n",
              "  </svg>\n",
              "      </button>\n",
              "      \n",
              "  <style>\n",
              "    .colab-df-container {\n",
              "      display:flex;\n",
              "      flex-wrap:wrap;\n",
              "      gap: 12px;\n",
              "    }\n",
              "\n",
              "    .colab-df-convert {\n",
              "      background-color: #E8F0FE;\n",
              "      border: none;\n",
              "      border-radius: 50%;\n",
              "      cursor: pointer;\n",
              "      display: none;\n",
              "      fill: #1967D2;\n",
              "      height: 32px;\n",
              "      padding: 0 0 0 0;\n",
              "      width: 32px;\n",
              "    }\n",
              "\n",
              "    .colab-df-convert:hover {\n",
              "      background-color: #E2EBFA;\n",
              "      box-shadow: 0px 1px 2px rgba(60, 64, 67, 0.3), 0px 1px 3px 1px rgba(60, 64, 67, 0.15);\n",
              "      fill: #174EA6;\n",
              "    }\n",
              "\n",
              "    [theme=dark] .colab-df-convert {\n",
              "      background-color: #3B4455;\n",
              "      fill: #D2E3FC;\n",
              "    }\n",
              "\n",
              "    [theme=dark] .colab-df-convert:hover {\n",
              "      background-color: #434B5C;\n",
              "      box-shadow: 0px 1px 3px 1px rgba(0, 0, 0, 0.15);\n",
              "      filter: drop-shadow(0px 1px 2px rgba(0, 0, 0, 0.3));\n",
              "      fill: #FFFFFF;\n",
              "    }\n",
              "  </style>\n",
              "\n",
              "      <script>\n",
              "        const buttonEl =\n",
              "          document.querySelector('#df-f227f96a-27ab-45a5-9bb8-e3e0e9753826 button.colab-df-convert');\n",
              "        buttonEl.style.display =\n",
              "          google.colab.kernel.accessAllowed ? 'block' : 'none';\n",
              "\n",
              "        async function convertToInteractive(key) {\n",
              "          const element = document.querySelector('#df-f227f96a-27ab-45a5-9bb8-e3e0e9753826');\n",
              "          const dataTable =\n",
              "            await google.colab.kernel.invokeFunction('convertToInteractive',\n",
              "                                                     [key], {});\n",
              "          if (!dataTable) return;\n",
              "\n",
              "          const docLinkHtml = 'Like what you see? Visit the ' +\n",
              "            '<a target=\"_blank\" href=https://colab.research.google.com/notebooks/data_table.ipynb>data table notebook</a>'\n",
              "            + ' to learn more about interactive tables.';\n",
              "          element.innerHTML = '';\n",
              "          dataTable['output_type'] = 'display_data';\n",
              "          await google.colab.output.renderOutput(dataTable, element);\n",
              "          const docLink = document.createElement('div');\n",
              "          docLink.innerHTML = docLinkHtml;\n",
              "          element.appendChild(docLink);\n",
              "        }\n",
              "      </script>\n",
              "    </div>\n",
              "  </div>\n",
              "  "
            ],
            "text/plain": [
              "          id       title  budget  ... pop_actors pop_directors pop_producer\n",
              "1033  339294  Some Bears      12  ...        1.8           0.6          0.0\n",
              "\n",
              "[1 rows x 18 columns]"
            ]
          },
          "metadata": {},
          "execution_count": 29
        }
      ]
    },
    {
      "cell_type": "code",
      "metadata": {
        "id": "UyyatbUqGJBs"
      },
      "source": [
        "movies_db.drop(movies_db[movies_db['revenue']<=0].index,inplace=True)"
      ],
      "execution_count": null,
      "outputs": []
    },
    {
      "cell_type": "code",
      "metadata": {
        "id": "mWHGW0vsHZsN",
        "colab": {
          "base_uri": "https://localhost:8080/",
          "height": 1000
        },
        "outputId": "1a424320-aaa8-4f82-9c0e-8a11acf6aa19"
      },
      "source": [
        "movies_db[movies_db['runtime']==0]"
      ],
      "execution_count": null,
      "outputs": [
        {
          "output_type": "execute_result",
          "data": {
            "text/html": [
              "\n",
              "  <div id=\"df-b53fb3ac-ddbb-40ed-99a2-265d949ce426\">\n",
              "    <div class=\"colab-df-container\">\n",
              "      <div>\n",
              "<style scoped>\n",
              "    .dataframe tbody tr th:only-of-type {\n",
              "        vertical-align: middle;\n",
              "    }\n",
              "\n",
              "    .dataframe tbody tr th {\n",
              "        vertical-align: top;\n",
              "    }\n",
              "\n",
              "    .dataframe thead th {\n",
              "        text-align: right;\n",
              "    }\n",
              "</style>\n",
              "<table border=\"1\" class=\"dataframe\">\n",
              "  <thead>\n",
              "    <tr style=\"text-align: right;\">\n",
              "      <th></th>\n",
              "      <th>id</th>\n",
              "      <th>title</th>\n",
              "      <th>budget</th>\n",
              "      <th>genres</th>\n",
              "      <th>original_language</th>\n",
              "      <th>overview</th>\n",
              "      <th>production_companies</th>\n",
              "      <th>release_date</th>\n",
              "      <th>revenue</th>\n",
              "      <th>runtime</th>\n",
              "      <th>vote_average</th>\n",
              "      <th>vote_count</th>\n",
              "      <th>actors</th>\n",
              "      <th>director</th>\n",
              "      <th>producers</th>\n",
              "      <th>pop_actors</th>\n",
              "      <th>pop_directors</th>\n",
              "      <th>pop_producer</th>\n",
              "    </tr>\n",
              "  </thead>\n",
              "  <tbody>\n",
              "    <tr>\n",
              "      <th>1678</th>\n",
              "      <td>271251</td>\n",
              "      <td>Killer City</td>\n",
              "      <td>75000</td>\n",
              "      <td>['Drama', 'Crime', 'Romance']</td>\n",
              "      <td>tr</td>\n",
              "      <td>Selma is a young eighteen-year-old girl and he...</td>\n",
              "      <td>[]</td>\n",
              "      <td>1953-01-01</td>\n",
              "      <td>100000</td>\n",
              "      <td>0.0</td>\n",
              "      <td>10.0</td>\n",
              "      <td>1</td>\n",
              "      <td>{'adult': False, 'gender': 2, 'id': 1305123, '...</td>\n",
              "      <td>{'adult': False, 'gender': 2, 'id': 1007638, '...</td>\n",
              "      <td>{'adult': False, 'gender': 2, 'id': 145714, 'k...</td>\n",
              "      <td>5.059</td>\n",
              "      <td>0.694</td>\n",
              "      <td>1.200</td>\n",
              "    </tr>\n",
              "    <tr>\n",
              "      <th>1789</th>\n",
              "      <td>664792</td>\n",
              "      <td>Jewelled Nights</td>\n",
              "      <td>10480</td>\n",
              "      <td>['Drama', 'Adventure']</td>\n",
              "      <td>en</td>\n",
              "      <td>After her father's death, socialite Elaine Fle...</td>\n",
              "      <td>['Louise Lovely Productions']</td>\n",
              "      <td>1925-10-24</td>\n",
              "      <td>6500</td>\n",
              "      <td>0.0</td>\n",
              "      <td>0.0</td>\n",
              "      <td>0</td>\n",
              "      <td>{'adult': False, 'gender': 1, 'id': 1420285, '...</td>\n",
              "      <td>{'adult': False, 'gender': 1, 'id': 1420285, '...</td>\n",
              "      <td>{'adult': False, 'gender': 0, 'id': 2580969, '...</td>\n",
              "      <td>3.228</td>\n",
              "      <td>1.200</td>\n",
              "      <td>0.600</td>\n",
              "    </tr>\n",
              "    <tr>\n",
              "      <th>2199</th>\n",
              "      <td>272415</td>\n",
              "      <td>Şafak Bekçileri</td>\n",
              "      <td>55000</td>\n",
              "      <td>['Drama', 'Romance']</td>\n",
              "      <td>en</td>\n",
              "      <td>Watchmen of the Dawn is about the lives of pil...</td>\n",
              "      <td>['Göksel Film']</td>\n",
              "      <td>1963-01-01</td>\n",
              "      <td>100000</td>\n",
              "      <td>0.0</td>\n",
              "      <td>9.0</td>\n",
              "      <td>2</td>\n",
              "      <td>{'adult': False, 'gender': 2, 'id': 1246732, '...</td>\n",
              "      <td>{'adult': False, 'gender': 2, 'id': 556473, 'k...</td>\n",
              "      <td>{'adult': False, 'gender': 2, 'id': 1633085, '...</td>\n",
              "      <td>3.561</td>\n",
              "      <td>0.600</td>\n",
              "      <td>0.600</td>\n",
              "    </tr>\n",
              "    <tr>\n",
              "      <th>3498</th>\n",
              "      <td>671911</td>\n",
              "      <td>Chaal Gazab Hai</td>\n",
              "      <td>10000</td>\n",
              "      <td>['Music']</td>\n",
              "      <td>en</td>\n",
              "      <td>Chaal Gazab Hai is an Indian short musical fil...</td>\n",
              "      <td>['Dev Narayan Production']</td>\n",
              "      <td>2019-05-27</td>\n",
              "      <td>15000</td>\n",
              "      <td>0.0</td>\n",
              "      <td>0.0</td>\n",
              "      <td>0</td>\n",
              "      <td>{'adult': False, 'gender': 2, 'id': 1974042, '...</td>\n",
              "      <td>{'adult': False, 'gender': 2, 'id': 2438425, '...</td>\n",
              "      <td>{'adult': False, 'gender': 2, 'id': 1974097, '...</td>\n",
              "      <td>5.436</td>\n",
              "      <td>0.600</td>\n",
              "      <td>0.828</td>\n",
              "    </tr>\n",
              "    <tr>\n",
              "      <th>3582</th>\n",
              "      <td>672873</td>\n",
              "      <td>Bottle</td>\n",
              "      <td>5</td>\n",
              "      <td>['Action', 'Mystery', 'Thriller']</td>\n",
              "      <td>en</td>\n",
              "      <td>The Pepsi-obsessed Brennen, a detective at the...</td>\n",
              "      <td>['Goaty Studios']</td>\n",
              "      <td>2020-02-15</td>\n",
              "      <td>4</td>\n",
              "      <td>0.0</td>\n",
              "      <td>0.0</td>\n",
              "      <td>0</td>\n",
              "      <td>{'adult': False, 'gender': 0, 'id': 2539001, '...</td>\n",
              "      <td>{'adult': False, 'gender': 0, 'id': 2539004, '...</td>\n",
              "      <td>{'adult': False, 'gender': 0, 'id': 2539007, '...</td>\n",
              "      <td>3.000</td>\n",
              "      <td>0.600</td>\n",
              "      <td>0.600</td>\n",
              "    </tr>\n",
              "    <tr>\n",
              "      <th>3697</th>\n",
              "      <td>150126</td>\n",
              "      <td>Carmen G</td>\n",
              "      <td>93</td>\n",
              "      <td>['Thriller', 'Drama']</td>\n",
              "      <td>en</td>\n",
              "      <td>Carmen lives in the world of dreams. Her bigge...</td>\n",
              "      <td>['Circular Music', 'Mandala Image Productions']</td>\n",
              "      <td>2012-12-07</td>\n",
              "      <td>87</td>\n",
              "      <td>0.0</td>\n",
              "      <td>7.0</td>\n",
              "      <td>1</td>\n",
              "      <td>{'adult': False, 'gender': 1, 'id': 570374, 'k...</td>\n",
              "      <td>{'adult': False, 'gender': 0, 'id': 1129834, '...</td>\n",
              "      <td></td>\n",
              "      <td>7.567</td>\n",
              "      <td>0.600</td>\n",
              "      <td>0.000</td>\n",
              "    </tr>\n",
              "    <tr>\n",
              "      <th>3828</th>\n",
              "      <td>499129</td>\n",
              "      <td>Sudden Reality</td>\n",
              "      <td>10</td>\n",
              "      <td>['Thriller', 'Horror']</td>\n",
              "      <td>en</td>\n",
              "      <td>A college student is obsessed with his dream g...</td>\n",
              "      <td>[]</td>\n",
              "      <td>2015-11-15</td>\n",
              "      <td>17</td>\n",
              "      <td>0.0</td>\n",
              "      <td>0.0</td>\n",
              "      <td>0</td>\n",
              "      <td>{'adult': False, 'gender': 2, 'id': 1439079, '...</td>\n",
              "      <td>{'adult': False, 'gender': 2, 'id': 1439079, '...</td>\n",
              "      <td>{'adult': False, 'gender': 2, 'id': 1439079, '...</td>\n",
              "      <td>4.822</td>\n",
              "      <td>2.422</td>\n",
              "      <td>2.422</td>\n",
              "    </tr>\n",
              "    <tr>\n",
              "      <th>4034</th>\n",
              "      <td>679670</td>\n",
              "      <td>Rescue Me: A Home 4 Spot</td>\n",
              "      <td>25000</td>\n",
              "      <td>['Documentary']</td>\n",
              "      <td>en</td>\n",
              "      <td>This sweet and inspiring documentary explores ...</td>\n",
              "      <td>['Zapruder Pictures']</td>\n",
              "      <td>2019-10-08</td>\n",
              "      <td>50000</td>\n",
              "      <td>0.0</td>\n",
              "      <td>0.0</td>\n",
              "      <td>0</td>\n",
              "      <td>{'adult': False, 'gender': 0, 'id': 2554419, '...</td>\n",
              "      <td>{'adult': False, 'gender': 0, 'id': 2554422, '...</td>\n",
              "      <td>{'adult': False, 'gender': 2, 'id': 92675, 'kn...</td>\n",
              "      <td>0.600</td>\n",
              "      <td>0.600</td>\n",
              "      <td>0.600</td>\n",
              "    </tr>\n",
              "    <tr>\n",
              "      <th>4147</th>\n",
              "      <td>812419</td>\n",
              "      <td>Noga Can Fly</td>\n",
              "      <td>1000000</td>\n",
              "      <td>['Fantasy', 'Comedy']</td>\n",
              "      <td>en</td>\n",
              "      <td>Noga is doing yoga... Until she finds out she ...</td>\n",
              "      <td>[]</td>\n",
              "      <td>2021-04-05</td>\n",
              "      <td>25</td>\n",
              "      <td>0.0</td>\n",
              "      <td>0.0</td>\n",
              "      <td>0</td>\n",
              "      <td>{'adult': False, 'gender': 0, 'id': 3031891, '...</td>\n",
              "      <td>{'adult': False, 'gender': 0, 'id': 2359354, '...</td>\n",
              "      <td>{'adult': False, 'gender': 0, 'id': 3031886, '...</td>\n",
              "      <td>1.800</td>\n",
              "      <td>0.600</td>\n",
              "      <td>0.600</td>\n",
              "    </tr>\n",
              "    <tr>\n",
              "      <th>4582</th>\n",
              "      <td>820605</td>\n",
              "      <td>Mr. Local Man</td>\n",
              "      <td>100000</td>\n",
              "      <td>['Romance', 'Adventure', 'Drama']</td>\n",
              "      <td>en</td>\n",
              "      <td>Nhwale a villager and of course a bush man dec...</td>\n",
              "      <td>['JQ Pictures']</td>\n",
              "      <td>2019-02-02</td>\n",
              "      <td>1000</td>\n",
              "      <td>0.0</td>\n",
              "      <td>10.0</td>\n",
              "      <td>2</td>\n",
              "      <td>{'adult': False, 'gender': 2, 'id': 3059793, '...</td>\n",
              "      <td></td>\n",
              "      <td>{'adult': False, 'gender': 2, 'id': 55267, 'kn...</td>\n",
              "      <td>11.197</td>\n",
              "      <td>0.000</td>\n",
              "      <td>10.686</td>\n",
              "    </tr>\n",
              "    <tr>\n",
              "      <th>4951</th>\n",
              "      <td>41894</td>\n",
              "      <td>Blood Done Sign My Name</td>\n",
              "      <td>10000000</td>\n",
              "      <td>['Drama', 'Crime']</td>\n",
              "      <td>en</td>\n",
              "      <td>A drama based on the true story in which a bla...</td>\n",
              "      <td>[]</td>\n",
              "      <td>2010-02-01</td>\n",
              "      <td>82739</td>\n",
              "      <td>0.0</td>\n",
              "      <td>6.3</td>\n",
              "      <td>11</td>\n",
              "      <td>{'adult': False, 'gender': 1, 'id': 211484, 'k...</td>\n",
              "      <td>{'adult': False, 'gender': 2, 'id': 7671, 'kno...</td>\n",
              "      <td></td>\n",
              "      <td>61.627</td>\n",
              "      <td>2.888</td>\n",
              "      <td>0.000</td>\n",
              "    </tr>\n",
              "    <tr>\n",
              "      <th>5749</th>\n",
              "      <td>719906</td>\n",
              "      <td>Transatlantic Storytelling</td>\n",
              "      <td>25200</td>\n",
              "      <td>['Documentary']</td>\n",
              "      <td>en</td>\n",
              "      <td>The story of 7 athletes affiliated with Cardif...</td>\n",
              "      <td>['Ball State Sports Link', 'Cardiff Met Sport ...</td>\n",
              "      <td>2020-06-30</td>\n",
              "      <td>2</td>\n",
              "      <td>0.0</td>\n",
              "      <td>0.0</td>\n",
              "      <td>0</td>\n",
              "      <td>{'adult': False, 'gender': 0, 'id': 2206492, '...</td>\n",
              "      <td>{'adult': False, 'gender': 0, 'id': 2695418, '...</td>\n",
              "      <td></td>\n",
              "      <td>3.000</td>\n",
              "      <td>0.600</td>\n",
              "      <td>0.000</td>\n",
              "    </tr>\n",
              "    <tr>\n",
              "      <th>5919</th>\n",
              "      <td>726563</td>\n",
              "      <td>Gamers! The Movie</td>\n",
              "      <td>25</td>\n",
              "      <td>[]</td>\n",
              "      <td>en</td>\n",
              "      <td>The journey of two podcast hosts attempting to...</td>\n",
              "      <td>[]</td>\n",
              "      <td>2020-08-03</td>\n",
              "      <td>2799</td>\n",
              "      <td>0.0</td>\n",
              "      <td>0.0</td>\n",
              "      <td>0</td>\n",
              "      <td></td>\n",
              "      <td></td>\n",
              "      <td></td>\n",
              "      <td>0.000</td>\n",
              "      <td>0.000</td>\n",
              "      <td>0.000</td>\n",
              "    </tr>\n",
              "    <tr>\n",
              "      <th>6042</th>\n",
              "      <td>599240</td>\n",
              "      <td>EVE The Sequel</td>\n",
              "      <td>9998</td>\n",
              "      <td>[]</td>\n",
              "      <td>en</td>\n",
              "      <td>Singles Match Britani Knight Shanna Tag Team M...</td>\n",
              "      <td>['Pro-Wrestling: EVE']</td>\n",
              "      <td>2010-10-16</td>\n",
              "      <td>44328</td>\n",
              "      <td>0.0</td>\n",
              "      <td>8.0</td>\n",
              "      <td>1</td>\n",
              "      <td>{'adult': False, 'gender': 0, 'id': 1522049, '...</td>\n",
              "      <td></td>\n",
              "      <td></td>\n",
              "      <td>14.720</td>\n",
              "      <td>0.000</td>\n",
              "      <td>0.000</td>\n",
              "    </tr>\n",
              "    <tr>\n",
              "      <th>6134</th>\n",
              "      <td>864237</td>\n",
              "      <td>Minh Tu Le Scissorhands</td>\n",
              "      <td>1</td>\n",
              "      <td>['Horror', 'Mystery']</td>\n",
              "      <td>en</td>\n",
              "      <td>A Vietnamese avant-garde film about a kid who ...</td>\n",
              "      <td>[]</td>\n",
              "      <td>2021-04-20</td>\n",
              "      <td>500</td>\n",
              "      <td>0.0</td>\n",
              "      <td>0.0</td>\n",
              "      <td>0</td>\n",
              "      <td>{'adult': False, 'gender': 0, 'id': 3207824, '...</td>\n",
              "      <td>{'adult': False, 'gender': 0, 'id': 3207824, '...</td>\n",
              "      <td></td>\n",
              "      <td>0.600</td>\n",
              "      <td>0.600</td>\n",
              "      <td>0.000</td>\n",
              "    </tr>\n",
              "    <tr>\n",
              "      <th>6283</th>\n",
              "      <td>738883</td>\n",
              "      <td>How To Ensure Safe Internet</td>\n",
              "      <td>5000</td>\n",
              "      <td>['Documentary']</td>\n",
              "      <td>en</td>\n",
              "      <td>This is movie based on cyber security . Throug...</td>\n",
              "      <td>[]</td>\n",
              "      <td>2019-11-01</td>\n",
              "      <td>6000</td>\n",
              "      <td>0.0</td>\n",
              "      <td>0.0</td>\n",
              "      <td>0</td>\n",
              "      <td>{'adult': False, 'gender': 2, 'id': 2763272, '...</td>\n",
              "      <td></td>\n",
              "      <td></td>\n",
              "      <td>2.400</td>\n",
              "      <td>0.000</td>\n",
              "      <td>0.000</td>\n",
              "    </tr>\n",
              "    <tr>\n",
              "      <th>6367</th>\n",
              "      <td>742459</td>\n",
              "      <td>Sosha</td>\n",
              "      <td>149327</td>\n",
              "      <td>[]</td>\n",
              "      <td>en</td>\n",
              "      <td>when three unemployed renters leave in the sam...</td>\n",
              "      <td>['LIM STUDIO']</td>\n",
              "      <td>2020-11-13</td>\n",
              "      <td>91924</td>\n",
              "      <td>0.0</td>\n",
              "      <td>0.0</td>\n",
              "      <td>0</td>\n",
              "      <td></td>\n",
              "      <td>{'adult': False, 'gender': 0, 'id': 2776696, '...</td>\n",
              "      <td>{'adult': False, 'gender': 0, 'id': 2776693, '...</td>\n",
              "      <td>0.000</td>\n",
              "      <td>0.600</td>\n",
              "      <td>0.600</td>\n",
              "    </tr>\n",
              "    <tr>\n",
              "      <th>6462</th>\n",
              "      <td>92384</td>\n",
              "      <td>Trois 2: Pandora's Box</td>\n",
              "      <td>800000</td>\n",
              "      <td>['Drama', 'Thriller', 'Romance']</td>\n",
              "      <td>en</td>\n",
              "      <td>Stuck in a dull marriage, successful shrink Mi...</td>\n",
              "      <td>['Rainforest Entertainment']</td>\n",
              "      <td>2002-08-09</td>\n",
              "      <td>833779</td>\n",
              "      <td>0.0</td>\n",
              "      <td>6.2</td>\n",
              "      <td>13</td>\n",
              "      <td>{'adult': False, 'gender': 2, 'id': 64856, 'kn...</td>\n",
              "      <td>{'adult': False, 'gender': 2, 'id': 31123, 'kn...</td>\n",
              "      <td></td>\n",
              "      <td>37.853</td>\n",
              "      <td>2.560</td>\n",
              "      <td>0.000</td>\n",
              "    </tr>\n",
              "    <tr>\n",
              "      <th>6640</th>\n",
              "      <td>889971</td>\n",
              "      <td>A Dangerous Adventure</td>\n",
              "      <td>175000</td>\n",
              "      <td>['Adventure']</td>\n",
              "      <td>en</td>\n",
              "      <td>Grace Darmond, who had made quite a splash in ...</td>\n",
              "      <td>['Warner Bros. Pictures']</td>\n",
              "      <td>1922-11-01</td>\n",
              "      <td>142000</td>\n",
              "      <td>0.0</td>\n",
              "      <td>0.0</td>\n",
              "      <td>0</td>\n",
              "      <td>{'adult': False, 'gender': 0, 'id': 1374224, '...</td>\n",
              "      <td>{'adult': False, 'gender': 2, 'id': 2663, 'kno...</td>\n",
              "      <td>{'adult': False, 'gender': 0, 'id': 29535, 'kn...</td>\n",
              "      <td>8.575</td>\n",
              "      <td>1.207</td>\n",
              "      <td>0.600</td>\n",
              "    </tr>\n",
              "  </tbody>\n",
              "</table>\n",
              "</div>\n",
              "      <button class=\"colab-df-convert\" onclick=\"convertToInteractive('df-b53fb3ac-ddbb-40ed-99a2-265d949ce426')\"\n",
              "              title=\"Convert this dataframe to an interactive table.\"\n",
              "              style=\"display:none;\">\n",
              "        \n",
              "  <svg xmlns=\"http://www.w3.org/2000/svg\" height=\"24px\"viewBox=\"0 0 24 24\"\n",
              "       width=\"24px\">\n",
              "    <path d=\"M0 0h24v24H0V0z\" fill=\"none\"/>\n",
              "    <path d=\"M18.56 5.44l.94 2.06.94-2.06 2.06-.94-2.06-.94-.94-2.06-.94 2.06-2.06.94zm-11 1L8.5 8.5l.94-2.06 2.06-.94-2.06-.94L8.5 2.5l-.94 2.06-2.06.94zm10 10l.94 2.06.94-2.06 2.06-.94-2.06-.94-.94-2.06-.94 2.06-2.06.94z\"/><path d=\"M17.41 7.96l-1.37-1.37c-.4-.4-.92-.59-1.43-.59-.52 0-1.04.2-1.43.59L10.3 9.45l-7.72 7.72c-.78.78-.78 2.05 0 2.83L4 21.41c.39.39.9.59 1.41.59.51 0 1.02-.2 1.41-.59l7.78-7.78 2.81-2.81c.8-.78.8-2.07 0-2.86zM5.41 20L4 18.59l7.72-7.72 1.47 1.35L5.41 20z\"/>\n",
              "  </svg>\n",
              "      </button>\n",
              "      \n",
              "  <style>\n",
              "    .colab-df-container {\n",
              "      display:flex;\n",
              "      flex-wrap:wrap;\n",
              "      gap: 12px;\n",
              "    }\n",
              "\n",
              "    .colab-df-convert {\n",
              "      background-color: #E8F0FE;\n",
              "      border: none;\n",
              "      border-radius: 50%;\n",
              "      cursor: pointer;\n",
              "      display: none;\n",
              "      fill: #1967D2;\n",
              "      height: 32px;\n",
              "      padding: 0 0 0 0;\n",
              "      width: 32px;\n",
              "    }\n",
              "\n",
              "    .colab-df-convert:hover {\n",
              "      background-color: #E2EBFA;\n",
              "      box-shadow: 0px 1px 2px rgba(60, 64, 67, 0.3), 0px 1px 3px 1px rgba(60, 64, 67, 0.15);\n",
              "      fill: #174EA6;\n",
              "    }\n",
              "\n",
              "    [theme=dark] .colab-df-convert {\n",
              "      background-color: #3B4455;\n",
              "      fill: #D2E3FC;\n",
              "    }\n",
              "\n",
              "    [theme=dark] .colab-df-convert:hover {\n",
              "      background-color: #434B5C;\n",
              "      box-shadow: 0px 1px 3px 1px rgba(0, 0, 0, 0.15);\n",
              "      filter: drop-shadow(0px 1px 2px rgba(0, 0, 0, 0.3));\n",
              "      fill: #FFFFFF;\n",
              "    }\n",
              "  </style>\n",
              "\n",
              "      <script>\n",
              "        const buttonEl =\n",
              "          document.querySelector('#df-b53fb3ac-ddbb-40ed-99a2-265d949ce426 button.colab-df-convert');\n",
              "        buttonEl.style.display =\n",
              "          google.colab.kernel.accessAllowed ? 'block' : 'none';\n",
              "\n",
              "        async function convertToInteractive(key) {\n",
              "          const element = document.querySelector('#df-b53fb3ac-ddbb-40ed-99a2-265d949ce426');\n",
              "          const dataTable =\n",
              "            await google.colab.kernel.invokeFunction('convertToInteractive',\n",
              "                                                     [key], {});\n",
              "          if (!dataTable) return;\n",
              "\n",
              "          const docLinkHtml = 'Like what you see? Visit the ' +\n",
              "            '<a target=\"_blank\" href=https://colab.research.google.com/notebooks/data_table.ipynb>data table notebook</a>'\n",
              "            + ' to learn more about interactive tables.';\n",
              "          element.innerHTML = '';\n",
              "          dataTable['output_type'] = 'display_data';\n",
              "          await google.colab.output.renderOutput(dataTable, element);\n",
              "          const docLink = document.createElement('div');\n",
              "          docLink.innerHTML = docLinkHtml;\n",
              "          element.appendChild(docLink);\n",
              "        }\n",
              "      </script>\n",
              "    </div>\n",
              "  </div>\n",
              "  "
            ],
            "text/plain": [
              "          id                        title  ...  pop_directors pop_producer\n",
              "1678  271251                  Killer City  ...          0.694        1.200\n",
              "1789  664792              Jewelled Nights  ...          1.200        0.600\n",
              "2199  272415              Şafak Bekçileri  ...          0.600        0.600\n",
              "3498  671911              Chaal Gazab Hai  ...          0.600        0.828\n",
              "3582  672873                       Bottle  ...          0.600        0.600\n",
              "3697  150126                     Carmen G  ...          0.600        0.000\n",
              "3828  499129               Sudden Reality  ...          2.422        2.422\n",
              "4034  679670     Rescue Me: A Home 4 Spot  ...          0.600        0.600\n",
              "4147  812419                 Noga Can Fly  ...          0.600        0.600\n",
              "4582  820605                Mr. Local Man  ...          0.000       10.686\n",
              "4951   41894      Blood Done Sign My Name  ...          2.888        0.000\n",
              "5749  719906   Transatlantic Storytelling  ...          0.600        0.000\n",
              "5919  726563            Gamers! The Movie  ...          0.000        0.000\n",
              "6042  599240               EVE The Sequel  ...          0.000        0.000\n",
              "6134  864237      Minh Tu Le Scissorhands  ...          0.600        0.000\n",
              "6283  738883  How To Ensure Safe Internet  ...          0.000        0.000\n",
              "6367  742459                        Sosha  ...          0.600        0.600\n",
              "6462   92384       Trois 2: Pandora's Box  ...          2.560        0.000\n",
              "6640  889971        A Dangerous Adventure  ...          1.207        0.600\n",
              "\n",
              "[19 rows x 18 columns]"
            ]
          },
          "metadata": {},
          "execution_count": 31
        }
      ]
    },
    {
      "cell_type": "code",
      "metadata": {
        "id": "TNDZlUhxGwwO"
      },
      "source": [
        "movies_db.drop(movies_db[movies_db['runtime']==0].index,inplace=True)"
      ],
      "execution_count": null,
      "outputs": []
    },
    {
      "cell_type": "code",
      "metadata": {
        "id": "We8WgUC0M8Wy"
      },
      "source": [
        "movies_db[\"year\"] = movies_db[\"release_date\"].apply(lambda s: s.year)"
      ],
      "execution_count": null,
      "outputs": []
    },
    {
      "cell_type": "code",
      "metadata": {
        "id": "YiVxI9kzNZAZ"
      },
      "source": [
        "movies_db.drop(movies_db[movies_db[\"year\"]==2023].index,inplace=True)"
      ],
      "execution_count": null,
      "outputs": []
    },
    {
      "cell_type": "code",
      "metadata": {
        "id": "dlZxTdNLbc2v"
      },
      "source": [
        "movies_db['director'] = movies_db['director'].str.strip('[]')\n",
        "movies_db['producers'] = movies_db['producers'].str.strip('[]')\n",
        "movies_db['genres'] = movies_db['genres'].str.strip('[]')\n",
        "movies_db['production_companies'] = movies_db['production_companies'].str.strip('[]')"
      ],
      "execution_count": null,
      "outputs": []
    },
    {
      "cell_type": "code",
      "source": [
        "\n",
        "movies_db['actors'] = movies_db['actors'].apply(lambda s : re.findall('[a-zA-Z]+ [a-zA-Z]*',s))"
      ],
      "metadata": {
        "id": "antCXRvtaej0"
      },
      "execution_count": null,
      "outputs": []
    },
    {
      "cell_type": "code",
      "metadata": {
        "id": "5IJSxAmEjw7Z",
        "colab": {
          "base_uri": "https://localhost:8080/"
        },
        "outputId": "0f193110-408c-436c-a88f-9c57f5ff7ab7"
      },
      "source": [
        "movies_db.info()"
      ],
      "execution_count": null,
      "outputs": [
        {
          "output_type": "stream",
          "name": "stdout",
          "text": [
            "<class 'pandas.core.frame.DataFrame'>\n",
            "Int64Index: 7093 entries, 0 to 7128\n",
            "Data columns (total 19 columns):\n",
            " #   Column                Non-Null Count  Dtype         \n",
            "---  ------                --------------  -----         \n",
            " 0   id                    7093 non-null   object        \n",
            " 1   title                 7093 non-null   object        \n",
            " 2   budget                7093 non-null   int64         \n",
            " 3   genres                7093 non-null   object        \n",
            " 4   original_language     7093 non-null   object        \n",
            " 5   overview              7093 non-null   object        \n",
            " 6   production_companies  7093 non-null   object        \n",
            " 7   release_date          7093 non-null   datetime64[ns]\n",
            " 8   revenue               7093 non-null   int64         \n",
            " 9   runtime               7093 non-null   float64       \n",
            " 10  vote_average          7093 non-null   float64       \n",
            " 11  vote_count            7093 non-null   int64         \n",
            " 12  actors                7093 non-null   object        \n",
            " 13  director              7093 non-null   object        \n",
            " 14  producers             7093 non-null   object        \n",
            " 15  pop_actors            7093 non-null   float64       \n",
            " 16  pop_directors         7093 non-null   float64       \n",
            " 17  pop_producer          7093 non-null   float64       \n",
            " 18  year                  7093 non-null   int64         \n",
            "dtypes: datetime64[ns](1), float64(5), int64(4), object(9)\n",
            "memory usage: 1.1+ MB\n"
          ]
        }
      ]
    },
    {
      "cell_type": "code",
      "source": [
        "movies_db = movies_db[movies_db['vote_count'] >= movies_db['vote_count'].mean()]"
      ],
      "metadata": {
        "id": "RMu5NbGCWSSP"
      },
      "execution_count": null,
      "outputs": []
    },
    {
      "cell_type": "code",
      "source": [
        "movies_db = movies_db[movies_db['year']>=2010]"
      ],
      "metadata": {
        "id": "Crx-ugxTdsJ-"
      },
      "execution_count": null,
      "outputs": []
    },
    {
      "cell_type": "code",
      "source": [
        "movies_db.reset_index(inplace=True)\n",
        "movies_db"
      ],
      "metadata": {
        "id": "gRZ_kLBNXn1F",
        "colab": {
          "base_uri": "https://localhost:8080/",
          "height": 1000
        },
        "outputId": "15f7765f-656c-4cd6-b68a-2732d47b80dd"
      },
      "execution_count": null,
      "outputs": [
        {
          "output_type": "execute_result",
          "data": {
            "text/html": [
              "\n",
              "  <div id=\"df-d1670085-c980-4973-9008-dec20b125238\">\n",
              "    <div class=\"colab-df-container\">\n",
              "      <div>\n",
              "<style scoped>\n",
              "    .dataframe tbody tr th:only-of-type {\n",
              "        vertical-align: middle;\n",
              "    }\n",
              "\n",
              "    .dataframe tbody tr th {\n",
              "        vertical-align: top;\n",
              "    }\n",
              "\n",
              "    .dataframe thead th {\n",
              "        text-align: right;\n",
              "    }\n",
              "</style>\n",
              "<table border=\"1\" class=\"dataframe\">\n",
              "  <thead>\n",
              "    <tr style=\"text-align: right;\">\n",
              "      <th></th>\n",
              "      <th>index</th>\n",
              "      <th>id</th>\n",
              "      <th>title</th>\n",
              "      <th>budget</th>\n",
              "      <th>genres</th>\n",
              "      <th>original_language</th>\n",
              "      <th>overview</th>\n",
              "      <th>production_companies</th>\n",
              "      <th>release_date</th>\n",
              "      <th>revenue</th>\n",
              "      <th>runtime</th>\n",
              "      <th>vote_average</th>\n",
              "      <th>vote_count</th>\n",
              "      <th>actors</th>\n",
              "      <th>director</th>\n",
              "      <th>producers</th>\n",
              "      <th>pop_actors</th>\n",
              "      <th>pop_directors</th>\n",
              "      <th>pop_producer</th>\n",
              "      <th>year</th>\n",
              "    </tr>\n",
              "  </thead>\n",
              "  <tbody>\n",
              "    <tr>\n",
              "      <th>0</th>\n",
              "      <td>70</td>\n",
              "      <td>524434</td>\n",
              "      <td>Eternals</td>\n",
              "      <td>200000000</td>\n",
              "      <td>'Action', 'Adventure', 'Fantasy', 'Science Fic...</td>\n",
              "      <td>en</td>\n",
              "      <td>The Eternals are a team of ancient aliens who ...</td>\n",
              "      <td>'Marvel Studios'</td>\n",
              "      <td>2021-11-03</td>\n",
              "      <td>402027582</td>\n",
              "      <td>156.0</td>\n",
              "      <td>7.2</td>\n",
              "      <td>4137</td>\n",
              "      <td>[Gemma Chan, Gemma Chan, Richard Madden, Richa...</td>\n",
              "      <td>{'adult': False, 'gender': 1, 'id': 1395183, '...</td>\n",
              "      <td>{'adult': False, 'gender': 2, 'id': 10850, 'kn...</td>\n",
              "      <td>125.108</td>\n",
              "      <td>11.639</td>\n",
              "      <td>14.992</td>\n",
              "      <td>2021</td>\n",
              "    </tr>\n",
              "    <tr>\n",
              "      <th>1</th>\n",
              "      <td>100</td>\n",
              "      <td>189</td>\n",
              "      <td>Sin City: A Dame to Kill For</td>\n",
              "      <td>65000000</td>\n",
              "      <td>'Crime', 'Action', 'Thriller'</td>\n",
              "      <td>en</td>\n",
              "      <td>Some of Sin City's most hard-boiled citizens c...</td>\n",
              "      <td>'Residaco', 'Miramax', 'Troublemaker Studios',...</td>\n",
              "      <td>2014-08-20</td>\n",
              "      <td>39407616</td>\n",
              "      <td>102.0</td>\n",
              "      <td>6.3</td>\n",
              "      <td>3118</td>\n",
              "      <td>[Mickey Rourke, Mickey Rourke, Jessica Alba, J...</td>\n",
              "      <td>{'adult': False, 'gender': 2, 'id': 2294, 'kno...</td>\n",
              "      <td>{'adult': False, 'gender': 2, 'id': 2294, 'kno...</td>\n",
              "      <td>122.319</td>\n",
              "      <td>14.280</td>\n",
              "      <td>12.013</td>\n",
              "      <td>2014</td>\n",
              "    </tr>\n",
              "    <tr>\n",
              "      <th>2</th>\n",
              "      <td>131</td>\n",
              "      <td>393457</td>\n",
              "      <td>Fences</td>\n",
              "      <td>24000000</td>\n",
              "      <td>'Drama'</td>\n",
              "      <td>en</td>\n",
              "      <td>In 1950s Pittsburgh, a frustrated African-Amer...</td>\n",
              "      <td>'Paramount', 'Scott Rudin Productions', 'MACRO...</td>\n",
              "      <td>2016-12-16</td>\n",
              "      <td>64414761</td>\n",
              "      <td>139.0</td>\n",
              "      <td>6.8</td>\n",
              "      <td>2115</td>\n",
              "      <td>[Denzel Washington, Denzel Washington, Troy Ma...</td>\n",
              "      <td>{'adult': False, 'gender': 2, 'id': 5292, 'kno...</td>\n",
              "      <td>{'adult': False, 'gender': 2, 'id': 2997, 'kno...</td>\n",
              "      <td>73.304</td>\n",
              "      <td>32.818</td>\n",
              "      <td>35.038</td>\n",
              "      <td>2016</td>\n",
              "    </tr>\n",
              "    <tr>\n",
              "      <th>3</th>\n",
              "      <td>192</td>\n",
              "      <td>262500</td>\n",
              "      <td>Insurgent</td>\n",
              "      <td>110000000</td>\n",
              "      <td>'Action', 'Adventure', 'Science Fiction', 'Thr...</td>\n",
              "      <td>en</td>\n",
              "      <td>Beatrice Prior must confront her inner demons ...</td>\n",
              "      <td>'Summit Entertainment', 'Red Wagon Entertainme...</td>\n",
              "      <td>2015-03-18</td>\n",
              "      <td>295238201</td>\n",
              "      <td>119.0</td>\n",
              "      <td>6.4</td>\n",
              "      <td>8735</td>\n",
              "      <td>[Shailene Woodley, Shailene Woodley, Beatrice ...</td>\n",
              "      <td>{'adult': False, 'gender': 2, 'id': 57270, 'kn...</td>\n",
              "      <td>{'adult': False, 'gender': 2, 'id': 931, 'know...</td>\n",
              "      <td>93.900</td>\n",
              "      <td>2.412</td>\n",
              "      <td>3.066</td>\n",
              "      <td>2015</td>\n",
              "    </tr>\n",
              "    <tr>\n",
              "      <th>4</th>\n",
              "      <td>193</td>\n",
              "      <td>262504</td>\n",
              "      <td>Allegiant</td>\n",
              "      <td>110000000</td>\n",
              "      <td>'Adventure', 'Science Fiction', 'Action', 'Mys...</td>\n",
              "      <td>en</td>\n",
              "      <td>Beatrice Prior and Tobias Eaton venture into t...</td>\n",
              "      <td>'Mandeville Films', 'Summit Entertainment', 'L...</td>\n",
              "      <td>2016-03-09</td>\n",
              "      <td>179246868</td>\n",
              "      <td>120.0</td>\n",
              "      <td>6.1</td>\n",
              "      <td>5658</td>\n",
              "      <td>[Shailene Woodley, Shailene Woodley, Beatrice ...</td>\n",
              "      <td>{'adult': False, 'gender': 2, 'id': 57270, 'kn...</td>\n",
              "      <td>{'adult': False, 'gender': 2, 'id': 931, 'know...</td>\n",
              "      <td>91.913</td>\n",
              "      <td>2.412</td>\n",
              "      <td>3.066</td>\n",
              "      <td>2016</td>\n",
              "    </tr>\n",
              "    <tr>\n",
              "      <th>...</th>\n",
              "      <td>...</td>\n",
              "      <td>...</td>\n",
              "      <td>...</td>\n",
              "      <td>...</td>\n",
              "      <td>...</td>\n",
              "      <td>...</td>\n",
              "      <td>...</td>\n",
              "      <td>...</td>\n",
              "      <td>...</td>\n",
              "      <td>...</td>\n",
              "      <td>...</td>\n",
              "      <td>...</td>\n",
              "      <td>...</td>\n",
              "      <td>...</td>\n",
              "      <td>...</td>\n",
              "      <td>...</td>\n",
              "      <td>...</td>\n",
              "      <td>...</td>\n",
              "      <td>...</td>\n",
              "      <td>...</td>\n",
              "    </tr>\n",
              "    <tr>\n",
              "      <th>933</th>\n",
              "      <td>7109</td>\n",
              "      <td>522938</td>\n",
              "      <td>Rambo: Last Blood</td>\n",
              "      <td>50000000</td>\n",
              "      <td>'Action', 'Thriller', 'Drama'</td>\n",
              "      <td>en</td>\n",
              "      <td>After fighting his demons for decades, John Ra...</td>\n",
              "      <td>'Millennium Films', 'Templeton Media', 'Campbe...</td>\n",
              "      <td>2019-09-19</td>\n",
              "      <td>91490353</td>\n",
              "      <td>89.0</td>\n",
              "      <td>6.5</td>\n",
              "      <td>2925</td>\n",
              "      <td>[Sylvester Stallone, Sylvester Stallone, John ...</td>\n",
              "      <td>{'adult': False, 'gender': 2, 'id': 589402, 'k...</td>\n",
              "      <td>{'adult': False, 'gender': 0, 'id': 16486, 'kn...</td>\n",
              "      <td>79.491</td>\n",
              "      <td>4.049</td>\n",
              "      <td>6.938</td>\n",
              "      <td>2019</td>\n",
              "    </tr>\n",
              "    <tr>\n",
              "      <th>934</th>\n",
              "      <td>7112</td>\n",
              "      <td>392044</td>\n",
              "      <td>Murder on the Orient Express</td>\n",
              "      <td>55000000</td>\n",
              "      <td>'Mystery', 'Crime', 'Drama'</td>\n",
              "      <td>en</td>\n",
              "      <td>Genius Belgian detective Hercule Poirot invest...</td>\n",
              "      <td>'The Mark Gordon Company', 'Scott Free Product...</td>\n",
              "      <td>2017-11-03</td>\n",
              "      <td>351839303</td>\n",
              "      <td>114.0</td>\n",
              "      <td>6.7</td>\n",
              "      <td>8045</td>\n",
              "      <td>[Tom Bateman, Tom Bateman, Kenneth Branagh, Ke...</td>\n",
              "      <td>{'adult': False, 'gender': 2, 'id': 11181, 'kn...</td>\n",
              "      <td>{'adult': False, 'gender': 2, 'id': 578, 'know...</td>\n",
              "      <td>143.077</td>\n",
              "      <td>20.555</td>\n",
              "      <td>47.196</td>\n",
              "      <td>2017</td>\n",
              "    </tr>\n",
              "    <tr>\n",
              "      <th>935</th>\n",
              "      <td>7113</td>\n",
              "      <td>261023</td>\n",
              "      <td>Black Mass</td>\n",
              "      <td>53000000</td>\n",
              "      <td>'Drama', 'Crime', 'History'</td>\n",
              "      <td>en</td>\n",
              "      <td>The true story of Whitey Bulger, the brother o...</td>\n",
              "      <td>'Vendian Entertainment', 'Infinitum Nihil', 'H...</td>\n",
              "      <td>2015-09-04</td>\n",
              "      <td>98837872</td>\n",
              "      <td>123.0</td>\n",
              "      <td>6.4</td>\n",
              "      <td>2787</td>\n",
              "      <td>[Johnny Depp, Johnny Depp, James , Joel Edgert...</td>\n",
              "      <td>{'adult': False, 'gender': 2, 'id': 65167, 'kn...</td>\n",
              "      <td>{'adult': False, 'gender': 2, 'id': 57049, 'kn...</td>\n",
              "      <td>91.819</td>\n",
              "      <td>5.977</td>\n",
              "      <td>11.275</td>\n",
              "      <td>2015</td>\n",
              "    </tr>\n",
              "    <tr>\n",
              "      <th>936</th>\n",
              "      <td>7118</td>\n",
              "      <td>261392</td>\n",
              "      <td>American Ultra</td>\n",
              "      <td>28000000</td>\n",
              "      <td>'Comedy', 'Action'</td>\n",
              "      <td>en</td>\n",
              "      <td>Mike is an unmotivated stoner whose small-town...</td>\n",
              "      <td>'Merced Media Partners', 'Lionsgate', 'The Bri...</td>\n",
              "      <td>2015-08-19</td>\n",
              "      <td>27139524</td>\n",
              "      <td>96.0</td>\n",
              "      <td>6.1</td>\n",
              "      <td>2368</td>\n",
              "      <td>[Jesse Eisenberg, Jesse Eisenberg, Mike Howell...</td>\n",
              "      <td>{'adult': False, 'gender': 2, 'id': 1299380, '...</td>\n",
              "      <td>{'adult': False, 'gender': 2, 'id': 321, 'know...</td>\n",
              "      <td>86.217</td>\n",
              "      <td>3.029</td>\n",
              "      <td>5.726</td>\n",
              "      <td>2015</td>\n",
              "    </tr>\n",
              "    <tr>\n",
              "      <th>937</th>\n",
              "      <td>7123</td>\n",
              "      <td>524047</td>\n",
              "      <td>Greenland</td>\n",
              "      <td>34000000</td>\n",
              "      <td>'Action', 'Thriller', 'Drama'</td>\n",
              "      <td>en</td>\n",
              "      <td>John Garrity, his estranged wife and their you...</td>\n",
              "      <td>'STX Entertainment', 'Thunder Road', 'Anton', ...</td>\n",
              "      <td>2020-07-29</td>\n",
              "      <td>47800000</td>\n",
              "      <td>120.0</td>\n",
              "      <td>7.2</td>\n",
              "      <td>3245</td>\n",
              "      <td>[Gerard Butler, Gerard Butler, John Garrity, M...</td>\n",
              "      <td>{'adult': False, 'gender': 2, 'id': 76422, 'kn...</td>\n",
              "      <td>{'adult': False, 'gender': 2, 'id': 17276, 'kn...</td>\n",
              "      <td>79.512</td>\n",
              "      <td>3.784</td>\n",
              "      <td>28.956</td>\n",
              "      <td>2020</td>\n",
              "    </tr>\n",
              "  </tbody>\n",
              "</table>\n",
              "<p>938 rows × 20 columns</p>\n",
              "</div>\n",
              "      <button class=\"colab-df-convert\" onclick=\"convertToInteractive('df-d1670085-c980-4973-9008-dec20b125238')\"\n",
              "              title=\"Convert this dataframe to an interactive table.\"\n",
              "              style=\"display:none;\">\n",
              "        \n",
              "  <svg xmlns=\"http://www.w3.org/2000/svg\" height=\"24px\"viewBox=\"0 0 24 24\"\n",
              "       width=\"24px\">\n",
              "    <path d=\"M0 0h24v24H0V0z\" fill=\"none\"/>\n",
              "    <path d=\"M18.56 5.44l.94 2.06.94-2.06 2.06-.94-2.06-.94-.94-2.06-.94 2.06-2.06.94zm-11 1L8.5 8.5l.94-2.06 2.06-.94-2.06-.94L8.5 2.5l-.94 2.06-2.06.94zm10 10l.94 2.06.94-2.06 2.06-.94-2.06-.94-.94-2.06-.94 2.06-2.06.94z\"/><path d=\"M17.41 7.96l-1.37-1.37c-.4-.4-.92-.59-1.43-.59-.52 0-1.04.2-1.43.59L10.3 9.45l-7.72 7.72c-.78.78-.78 2.05 0 2.83L4 21.41c.39.39.9.59 1.41.59.51 0 1.02-.2 1.41-.59l7.78-7.78 2.81-2.81c.8-.78.8-2.07 0-2.86zM5.41 20L4 18.59l7.72-7.72 1.47 1.35L5.41 20z\"/>\n",
              "  </svg>\n",
              "      </button>\n",
              "      \n",
              "  <style>\n",
              "    .colab-df-container {\n",
              "      display:flex;\n",
              "      flex-wrap:wrap;\n",
              "      gap: 12px;\n",
              "    }\n",
              "\n",
              "    .colab-df-convert {\n",
              "      background-color: #E8F0FE;\n",
              "      border: none;\n",
              "      border-radius: 50%;\n",
              "      cursor: pointer;\n",
              "      display: none;\n",
              "      fill: #1967D2;\n",
              "      height: 32px;\n",
              "      padding: 0 0 0 0;\n",
              "      width: 32px;\n",
              "    }\n",
              "\n",
              "    .colab-df-convert:hover {\n",
              "      background-color: #E2EBFA;\n",
              "      box-shadow: 0px 1px 2px rgba(60, 64, 67, 0.3), 0px 1px 3px 1px rgba(60, 64, 67, 0.15);\n",
              "      fill: #174EA6;\n",
              "    }\n",
              "\n",
              "    [theme=dark] .colab-df-convert {\n",
              "      background-color: #3B4455;\n",
              "      fill: #D2E3FC;\n",
              "    }\n",
              "\n",
              "    [theme=dark] .colab-df-convert:hover {\n",
              "      background-color: #434B5C;\n",
              "      box-shadow: 0px 1px 3px 1px rgba(0, 0, 0, 0.15);\n",
              "      filter: drop-shadow(0px 1px 2px rgba(0, 0, 0, 0.3));\n",
              "      fill: #FFFFFF;\n",
              "    }\n",
              "  </style>\n",
              "\n",
              "      <script>\n",
              "        const buttonEl =\n",
              "          document.querySelector('#df-d1670085-c980-4973-9008-dec20b125238 button.colab-df-convert');\n",
              "        buttonEl.style.display =\n",
              "          google.colab.kernel.accessAllowed ? 'block' : 'none';\n",
              "\n",
              "        async function convertToInteractive(key) {\n",
              "          const element = document.querySelector('#df-d1670085-c980-4973-9008-dec20b125238');\n",
              "          const dataTable =\n",
              "            await google.colab.kernel.invokeFunction('convertToInteractive',\n",
              "                                                     [key], {});\n",
              "          if (!dataTable) return;\n",
              "\n",
              "          const docLinkHtml = 'Like what you see? Visit the ' +\n",
              "            '<a target=\"_blank\" href=https://colab.research.google.com/notebooks/data_table.ipynb>data table notebook</a>'\n",
              "            + ' to learn more about interactive tables.';\n",
              "          element.innerHTML = '';\n",
              "          dataTable['output_type'] = 'display_data';\n",
              "          await google.colab.output.renderOutput(dataTable, element);\n",
              "          const docLink = document.createElement('div');\n",
              "          docLink.innerHTML = docLinkHtml;\n",
              "          element.appendChild(docLink);\n",
              "        }\n",
              "      </script>\n",
              "    </div>\n",
              "  </div>\n",
              "  "
            ],
            "text/plain": [
              "     index      id  ... pop_producer  year\n",
              "0       70  524434  ...       14.992  2021\n",
              "1      100     189  ...       12.013  2014\n",
              "2      131  393457  ...       35.038  2016\n",
              "3      192  262500  ...        3.066  2015\n",
              "4      193  262504  ...        3.066  2016\n",
              "..     ...     ...  ...          ...   ...\n",
              "933   7109  522938  ...        6.938  2019\n",
              "934   7112  392044  ...       47.196  2017\n",
              "935   7113  261023  ...       11.275  2015\n",
              "936   7118  261392  ...        5.726  2015\n",
              "937   7123  524047  ...       28.956  2020\n",
              "\n",
              "[938 rows x 20 columns]"
            ]
          },
          "metadata": {},
          "execution_count": 40
        }
      ]
    },
    {
      "cell_type": "code",
      "source": [
        "movies_db.drop([\"index\"],axis=1,inplace=True)"
      ],
      "metadata": {
        "id": "kKk7XVwPjvfK"
      },
      "execution_count": null,
      "outputs": []
    },
    {
      "cell_type": "code",
      "source": [
        "from sklearn.preprocessing import MinMaxScaler\n",
        "scaler = MinMaxScaler((-1,1))\n",
        "#movies_db.drop(index=265,inplace=True)\n",
        "scaler.fit(movies_db[['vote_average','vote_count',\"revenue\"]])\n",
        "data_scaled = scaler.transform(movies_db[['vote_average','vote_count','revenue']])\n",
        "data_scaled = pd.DataFrame(data_scaled)\n",
        "data_scaled.columns = ['vote_average','vote_count','revenue']\n",
        "data_scaled"
      ],
      "metadata": {
        "id": "EPbHYaZ-dRi2",
        "colab": {
          "base_uri": "https://localhost:8080/",
          "height": 423
        },
        "outputId": "a09443ac-2113-4256-8985-a2f5d4728eca"
      },
      "execution_count": null,
      "outputs": [
        {
          "output_type": "execute_result",
          "data": {
            "text/html": [
              "\n",
              "  <div id=\"df-b90842ad-a2d8-47b7-bb7e-c784d08999e1\">\n",
              "    <div class=\"colab-df-container\">\n",
              "      <div>\n",
              "<style scoped>\n",
              "    .dataframe tbody tr th:only-of-type {\n",
              "        vertical-align: middle;\n",
              "    }\n",
              "\n",
              "    .dataframe tbody tr th {\n",
              "        vertical-align: top;\n",
              "    }\n",
              "\n",
              "    .dataframe thead th {\n",
              "        text-align: right;\n",
              "    }\n",
              "</style>\n",
              "<table border=\"1\" class=\"dataframe\">\n",
              "  <thead>\n",
              "    <tr style=\"text-align: right;\">\n",
              "      <th></th>\n",
              "      <th>vote_average</th>\n",
              "      <th>vote_count</th>\n",
              "      <th>revenue</th>\n",
              "    </tr>\n",
              "  </thead>\n",
              "  <tbody>\n",
              "    <tr>\n",
              "      <th>0</th>\n",
              "      <td>0.414634</td>\n",
              "      <td>-0.833071</td>\n",
              "      <td>-0.712677</td>\n",
              "    </tr>\n",
              "    <tr>\n",
              "      <th>1</th>\n",
              "      <td>-0.024390</td>\n",
              "      <td>-0.902870</td>\n",
              "      <td>-0.971905</td>\n",
              "    </tr>\n",
              "    <tr>\n",
              "      <th>2</th>\n",
              "      <td>0.219512</td>\n",
              "      <td>-0.971573</td>\n",
              "      <td>-0.954028</td>\n",
              "    </tr>\n",
              "    <tr>\n",
              "      <th>3</th>\n",
              "      <td>0.024390</td>\n",
              "      <td>-0.518118</td>\n",
              "      <td>-0.789018</td>\n",
              "    </tr>\n",
              "    <tr>\n",
              "      <th>4</th>\n",
              "      <td>-0.121951</td>\n",
              "      <td>-0.728886</td>\n",
              "      <td>-0.871938</td>\n",
              "    </tr>\n",
              "    <tr>\n",
              "      <th>...</th>\n",
              "      <td>...</td>\n",
              "      <td>...</td>\n",
              "      <td>...</td>\n",
              "    </tr>\n",
              "    <tr>\n",
              "      <th>933</th>\n",
              "      <td>0.073171</td>\n",
              "      <td>-0.916090</td>\n",
              "      <td>-0.934673</td>\n",
              "    </tr>\n",
              "    <tr>\n",
              "      <th>934</th>\n",
              "      <td>0.170732</td>\n",
              "      <td>-0.565381</td>\n",
              "      <td>-0.748556</td>\n",
              "    </tr>\n",
              "    <tr>\n",
              "      <th>935</th>\n",
              "      <td>0.024390</td>\n",
              "      <td>-0.925543</td>\n",
              "      <td>-0.929420</td>\n",
              "    </tr>\n",
              "    <tr>\n",
              "      <th>936</th>\n",
              "      <td>-0.121951</td>\n",
              "      <td>-0.954243</td>\n",
              "      <td>-0.980675</td>\n",
              "    </tr>\n",
              "    <tr>\n",
              "      <th>937</th>\n",
              "      <td>0.414634</td>\n",
              "      <td>-0.894171</td>\n",
              "      <td>-0.965906</td>\n",
              "    </tr>\n",
              "  </tbody>\n",
              "</table>\n",
              "<p>938 rows × 3 columns</p>\n",
              "</div>\n",
              "      <button class=\"colab-df-convert\" onclick=\"convertToInteractive('df-b90842ad-a2d8-47b7-bb7e-c784d08999e1')\"\n",
              "              title=\"Convert this dataframe to an interactive table.\"\n",
              "              style=\"display:none;\">\n",
              "        \n",
              "  <svg xmlns=\"http://www.w3.org/2000/svg\" height=\"24px\"viewBox=\"0 0 24 24\"\n",
              "       width=\"24px\">\n",
              "    <path d=\"M0 0h24v24H0V0z\" fill=\"none\"/>\n",
              "    <path d=\"M18.56 5.44l.94 2.06.94-2.06 2.06-.94-2.06-.94-.94-2.06-.94 2.06-2.06.94zm-11 1L8.5 8.5l.94-2.06 2.06-.94-2.06-.94L8.5 2.5l-.94 2.06-2.06.94zm10 10l.94 2.06.94-2.06 2.06-.94-2.06-.94-.94-2.06-.94 2.06-2.06.94z\"/><path d=\"M17.41 7.96l-1.37-1.37c-.4-.4-.92-.59-1.43-.59-.52 0-1.04.2-1.43.59L10.3 9.45l-7.72 7.72c-.78.78-.78 2.05 0 2.83L4 21.41c.39.39.9.59 1.41.59.51 0 1.02-.2 1.41-.59l7.78-7.78 2.81-2.81c.8-.78.8-2.07 0-2.86zM5.41 20L4 18.59l7.72-7.72 1.47 1.35L5.41 20z\"/>\n",
              "  </svg>\n",
              "      </button>\n",
              "      \n",
              "  <style>\n",
              "    .colab-df-container {\n",
              "      display:flex;\n",
              "      flex-wrap:wrap;\n",
              "      gap: 12px;\n",
              "    }\n",
              "\n",
              "    .colab-df-convert {\n",
              "      background-color: #E8F0FE;\n",
              "      border: none;\n",
              "      border-radius: 50%;\n",
              "      cursor: pointer;\n",
              "      display: none;\n",
              "      fill: #1967D2;\n",
              "      height: 32px;\n",
              "      padding: 0 0 0 0;\n",
              "      width: 32px;\n",
              "    }\n",
              "\n",
              "    .colab-df-convert:hover {\n",
              "      background-color: #E2EBFA;\n",
              "      box-shadow: 0px 1px 2px rgba(60, 64, 67, 0.3), 0px 1px 3px 1px rgba(60, 64, 67, 0.15);\n",
              "      fill: #174EA6;\n",
              "    }\n",
              "\n",
              "    [theme=dark] .colab-df-convert {\n",
              "      background-color: #3B4455;\n",
              "      fill: #D2E3FC;\n",
              "    }\n",
              "\n",
              "    [theme=dark] .colab-df-convert:hover {\n",
              "      background-color: #434B5C;\n",
              "      box-shadow: 0px 1px 3px 1px rgba(0, 0, 0, 0.15);\n",
              "      filter: drop-shadow(0px 1px 2px rgba(0, 0, 0, 0.3));\n",
              "      fill: #FFFFFF;\n",
              "    }\n",
              "  </style>\n",
              "\n",
              "      <script>\n",
              "        const buttonEl =\n",
              "          document.querySelector('#df-b90842ad-a2d8-47b7-bb7e-c784d08999e1 button.colab-df-convert');\n",
              "        buttonEl.style.display =\n",
              "          google.colab.kernel.accessAllowed ? 'block' : 'none';\n",
              "\n",
              "        async function convertToInteractive(key) {\n",
              "          const element = document.querySelector('#df-b90842ad-a2d8-47b7-bb7e-c784d08999e1');\n",
              "          const dataTable =\n",
              "            await google.colab.kernel.invokeFunction('convertToInteractive',\n",
              "                                                     [key], {});\n",
              "          if (!dataTable) return;\n",
              "\n",
              "          const docLinkHtml = 'Like what you see? Visit the ' +\n",
              "            '<a target=\"_blank\" href=https://colab.research.google.com/notebooks/data_table.ipynb>data table notebook</a>'\n",
              "            + ' to learn more about interactive tables.';\n",
              "          element.innerHTML = '';\n",
              "          dataTable['output_type'] = 'display_data';\n",
              "          await google.colab.output.renderOutput(dataTable, element);\n",
              "          const docLink = document.createElement('div');\n",
              "          docLink.innerHTML = docLinkHtml;\n",
              "          element.appendChild(docLink);\n",
              "        }\n",
              "      </script>\n",
              "    </div>\n",
              "  </div>\n",
              "  "
            ],
            "text/plain": [
              "     vote_average  vote_count   revenue\n",
              "0        0.414634   -0.833071 -0.712677\n",
              "1       -0.024390   -0.902870 -0.971905\n",
              "2        0.219512   -0.971573 -0.954028\n",
              "3        0.024390   -0.518118 -0.789018\n",
              "4       -0.121951   -0.728886 -0.871938\n",
              "..            ...         ...       ...\n",
              "933      0.073171   -0.916090 -0.934673\n",
              "934      0.170732   -0.565381 -0.748556\n",
              "935      0.024390   -0.925543 -0.929420\n",
              "936     -0.121951   -0.954243 -0.980675\n",
              "937      0.414634   -0.894171 -0.965906\n",
              "\n",
              "[938 rows x 3 columns]"
            ]
          },
          "metadata": {},
          "execution_count": 42
        }
      ]
    },
    {
      "cell_type": "code",
      "source": [
        "data_scaled.describe().apply(lambda s: s.apply('{0:.1f}'.format))"
      ],
      "metadata": {
        "id": "9QUs9Ys0fSL8",
        "colab": {
          "base_uri": "https://localhost:8080/",
          "height": 300
        },
        "outputId": "ab4f46a2-c2b0-4143-9a57-3a1e8a8292fc"
      },
      "execution_count": null,
      "outputs": [
        {
          "output_type": "execute_result",
          "data": {
            "text/html": [
              "\n",
              "  <div id=\"df-151a0f17-0aab-45fc-92f3-25b7bd189fbe\">\n",
              "    <div class=\"colab-df-container\">\n",
              "      <div>\n",
              "<style scoped>\n",
              "    .dataframe tbody tr th:only-of-type {\n",
              "        vertical-align: middle;\n",
              "    }\n",
              "\n",
              "    .dataframe tbody tr th {\n",
              "        vertical-align: top;\n",
              "    }\n",
              "\n",
              "    .dataframe thead th {\n",
              "        text-align: right;\n",
              "    }\n",
              "</style>\n",
              "<table border=\"1\" class=\"dataframe\">\n",
              "  <thead>\n",
              "    <tr style=\"text-align: right;\">\n",
              "      <th></th>\n",
              "      <th>vote_average</th>\n",
              "      <th>vote_count</th>\n",
              "      <th>revenue</th>\n",
              "    </tr>\n",
              "  </thead>\n",
              "  <tbody>\n",
              "    <tr>\n",
              "      <th>count</th>\n",
              "      <td>938.0</td>\n",
              "      <td>938.0</td>\n",
              "      <td>938.0</td>\n",
              "    </tr>\n",
              "    <tr>\n",
              "      <th>mean</th>\n",
              "      <td>0.2</td>\n",
              "      <td>-0.7</td>\n",
              "      <td>-0.8</td>\n",
              "    </tr>\n",
              "    <tr>\n",
              "      <th>std</th>\n",
              "      <td>0.3</td>\n",
              "      <td>0.3</td>\n",
              "      <td>0.2</td>\n",
              "    </tr>\n",
              "    <tr>\n",
              "      <th>min</th>\n",
              "      <td>-1.0</td>\n",
              "      <td>-1.0</td>\n",
              "      <td>-1.0</td>\n",
              "    </tr>\n",
              "    <tr>\n",
              "      <th>25%</th>\n",
              "      <td>-0.0</td>\n",
              "      <td>-0.9</td>\n",
              "      <td>-1.0</td>\n",
              "    </tr>\n",
              "    <tr>\n",
              "      <th>50%</th>\n",
              "      <td>0.2</td>\n",
              "      <td>-0.8</td>\n",
              "      <td>-0.9</td>\n",
              "    </tr>\n",
              "    <tr>\n",
              "      <th>75%</th>\n",
              "      <td>0.5</td>\n",
              "      <td>-0.7</td>\n",
              "      <td>-0.8</td>\n",
              "    </tr>\n",
              "    <tr>\n",
              "      <th>max</th>\n",
              "      <td>1.0</td>\n",
              "      <td>1.0</td>\n",
              "      <td>1.0</td>\n",
              "    </tr>\n",
              "  </tbody>\n",
              "</table>\n",
              "</div>\n",
              "      <button class=\"colab-df-convert\" onclick=\"convertToInteractive('df-151a0f17-0aab-45fc-92f3-25b7bd189fbe')\"\n",
              "              title=\"Convert this dataframe to an interactive table.\"\n",
              "              style=\"display:none;\">\n",
              "        \n",
              "  <svg xmlns=\"http://www.w3.org/2000/svg\" height=\"24px\"viewBox=\"0 0 24 24\"\n",
              "       width=\"24px\">\n",
              "    <path d=\"M0 0h24v24H0V0z\" fill=\"none\"/>\n",
              "    <path d=\"M18.56 5.44l.94 2.06.94-2.06 2.06-.94-2.06-.94-.94-2.06-.94 2.06-2.06.94zm-11 1L8.5 8.5l.94-2.06 2.06-.94-2.06-.94L8.5 2.5l-.94 2.06-2.06.94zm10 10l.94 2.06.94-2.06 2.06-.94-2.06-.94-.94-2.06-.94 2.06-2.06.94z\"/><path d=\"M17.41 7.96l-1.37-1.37c-.4-.4-.92-.59-1.43-.59-.52 0-1.04.2-1.43.59L10.3 9.45l-7.72 7.72c-.78.78-.78 2.05 0 2.83L4 21.41c.39.39.9.59 1.41.59.51 0 1.02-.2 1.41-.59l7.78-7.78 2.81-2.81c.8-.78.8-2.07 0-2.86zM5.41 20L4 18.59l7.72-7.72 1.47 1.35L5.41 20z\"/>\n",
              "  </svg>\n",
              "      </button>\n",
              "      \n",
              "  <style>\n",
              "    .colab-df-container {\n",
              "      display:flex;\n",
              "      flex-wrap:wrap;\n",
              "      gap: 12px;\n",
              "    }\n",
              "\n",
              "    .colab-df-convert {\n",
              "      background-color: #E8F0FE;\n",
              "      border: none;\n",
              "      border-radius: 50%;\n",
              "      cursor: pointer;\n",
              "      display: none;\n",
              "      fill: #1967D2;\n",
              "      height: 32px;\n",
              "      padding: 0 0 0 0;\n",
              "      width: 32px;\n",
              "    }\n",
              "\n",
              "    .colab-df-convert:hover {\n",
              "      background-color: #E2EBFA;\n",
              "      box-shadow: 0px 1px 2px rgba(60, 64, 67, 0.3), 0px 1px 3px 1px rgba(60, 64, 67, 0.15);\n",
              "      fill: #174EA6;\n",
              "    }\n",
              "\n",
              "    [theme=dark] .colab-df-convert {\n",
              "      background-color: #3B4455;\n",
              "      fill: #D2E3FC;\n",
              "    }\n",
              "\n",
              "    [theme=dark] .colab-df-convert:hover {\n",
              "      background-color: #434B5C;\n",
              "      box-shadow: 0px 1px 3px 1px rgba(0, 0, 0, 0.15);\n",
              "      filter: drop-shadow(0px 1px 2px rgba(0, 0, 0, 0.3));\n",
              "      fill: #FFFFFF;\n",
              "    }\n",
              "  </style>\n",
              "\n",
              "      <script>\n",
              "        const buttonEl =\n",
              "          document.querySelector('#df-151a0f17-0aab-45fc-92f3-25b7bd189fbe button.colab-df-convert');\n",
              "        buttonEl.style.display =\n",
              "          google.colab.kernel.accessAllowed ? 'block' : 'none';\n",
              "\n",
              "        async function convertToInteractive(key) {\n",
              "          const element = document.querySelector('#df-151a0f17-0aab-45fc-92f3-25b7bd189fbe');\n",
              "          const dataTable =\n",
              "            await google.colab.kernel.invokeFunction('convertToInteractive',\n",
              "                                                     [key], {});\n",
              "          if (!dataTable) return;\n",
              "\n",
              "          const docLinkHtml = 'Like what you see? Visit the ' +\n",
              "            '<a target=\"_blank\" href=https://colab.research.google.com/notebooks/data_table.ipynb>data table notebook</a>'\n",
              "            + ' to learn more about interactive tables.';\n",
              "          element.innerHTML = '';\n",
              "          dataTable['output_type'] = 'display_data';\n",
              "          await google.colab.output.renderOutput(dataTable, element);\n",
              "          const docLink = document.createElement('div');\n",
              "          docLink.innerHTML = docLinkHtml;\n",
              "          element.appendChild(docLink);\n",
              "        }\n",
              "      </script>\n",
              "    </div>\n",
              "  </div>\n",
              "  "
            ],
            "text/plain": [
              "      vote_average vote_count revenue\n",
              "count        938.0      938.0   938.0\n",
              "mean           0.2       -0.7    -0.8\n",
              "std            0.3        0.3     0.2\n",
              "min           -1.0       -1.0    -1.0\n",
              "25%           -0.0       -0.9    -1.0\n",
              "50%            0.2       -0.8    -0.9\n",
              "75%            0.5       -0.7    -0.8\n",
              "max            1.0        1.0     1.0"
            ]
          },
          "metadata": {},
          "execution_count": 43
        }
      ]
    },
    {
      "cell_type": "code",
      "source": [
        "fig, ax = plt.subplots()\n",
        "ax.ticklabel_format(style='plain')\n",
        "data_scaled.plot.scatter(\"vote_average\",\"vote_count\",figsize=(20,10),ax=ax)\n",
        "plt.show()"
      ],
      "metadata": {
        "id": "N8U3NRfoe26E",
        "colab": {
          "base_uri": "https://localhost:8080/",
          "height": 606
        },
        "outputId": "547d7db6-2906-48ef-9c2a-5e4a1c28ca19"
      },
      "execution_count": null,
      "outputs": [
        {
          "output_type": "display_data",
          "data": {
            "image/png": "[encoded data removed]",
            "text/plain": [
              "<Figure size 1440x720 with 1 Axes>"
            ]
          },
          "metadata": {
            "needs_background": "light"
          }
        }
      ]
    },
    {
      "cell_type": "code",
      "source": [
        "benefice_ratio=(movies_db[\"revenue\"]-movies_db[\"budget\"])/movies_db[\"revenue\"]\n",
        "# print(benefice_ratio.describe())\n",
        "benefice_ratio=pd.DataFrame(benefice_ratio)\n",
        "scaler = MinMaxScaler((-1,1))\n",
        "scaler.fit(benefice_ratio)\n",
        "data_scaled[\"benefice_ratio\"] = scaler.transform(benefice_ratio)\n",
        "# ratio = 0.3*data_scaled[\"vote_average\"]+0.5*(data_scaled['benefice_ratio'])+0.2*data_scaled[\"vote_count\"]\n",
        "ratio = (data_scaled[\"vote_average\"]+data_scaled['benefice_ratio']+data_scaled[\"vote_count\"])/3\n",
        "ratio.describe()"
      ],
      "metadata": {
        "id": "t4OoQekyhpq2",
        "colab": {
          "base_uri": "https://localhost:8080/"
        },
        "outputId": "6b9c9c43-76ce-423f-c6a9-8f7a226b446f"
      },
      "execution_count": null,
      "outputs": [
        {
          "output_type": "execute_result",
          "data": {
            "text/plain": [
              "count    938.000000\n",
              "mean       0.150637\n",
              "std        0.181085\n",
              "min       -0.565024\n",
              "25%        0.026361\n",
              "50%        0.123820\n",
              "75%        0.250334\n",
              "max        0.999860\n",
              "dtype: float64"
            ]
          },
          "metadata": {},
          "execution_count": 45
        }
      ]
    },
    {
      "cell_type": "code",
      "source": [
        "movies_db['ratio'] = ratio\n",
        "movies_db.sort_values(\"ratio\",ascending=False)"
      ],
      "metadata": {
        "id": "QciVDLPWiVfE",
        "colab": {
          "base_uri": "https://localhost:8080/",
          "height": 1000
        },
        "outputId": "7aced09e-65b2-401c-c36f-31428411abfd"
      },
      "execution_count": null,
      "outputs": [
        {
          "output_type": "execute_result",
          "data": {
            "text/html": [
              "\n",
              "  <div id=\"df-6c20844d-fb3a-41e0-b6ef-0d15b0132000\">\n",
              "    <div class=\"colab-df-container\">\n",
              "      <div>\n",
              "<style scoped>\n",
              "    .dataframe tbody tr th:only-of-type {\n",
              "        vertical-align: middle;\n",
              "    }\n",
              "\n",
              "    .dataframe tbody tr th {\n",
              "        vertical-align: top;\n",
              "    }\n",
              "\n",
              "    .dataframe thead th {\n",
              "        text-align: right;\n",
              "    }\n",
              "</style>\n",
              "<table border=\"1\" class=\"dataframe\">\n",
              "  <thead>\n",
              "    <tr style=\"text-align: right;\">\n",
              "      <th></th>\n",
              "      <th>id</th>\n",
              "      <th>title</th>\n",
              "      <th>budget</th>\n",
              "      <th>genres</th>\n",
              "      <th>original_language</th>\n",
              "      <th>overview</th>\n",
              "      <th>production_companies</th>\n",
              "      <th>release_date</th>\n",
              "      <th>revenue</th>\n",
              "      <th>runtime</th>\n",
              "      <th>vote_average</th>\n",
              "      <th>vote_count</th>\n",
              "      <th>actors</th>\n",
              "      <th>director</th>\n",
              "      <th>producers</th>\n",
              "      <th>pop_actors</th>\n",
              "      <th>pop_directors</th>\n",
              "      <th>pop_producer</th>\n",
              "      <th>year</th>\n",
              "      <th>ratio</th>\n",
              "    </tr>\n",
              "  </thead>\n",
              "  <tbody>\n",
              "    <tr>\n",
              "      <th>203</th>\n",
              "      <td>27205</td>\n",
              "      <td>Inception</td>\n",
              "      <td>160000000</td>\n",
              "      <td>'Action', 'Science Fiction', 'Adventure'</td>\n",
              "      <td>en</td>\n",
              "      <td>Cobb, a skilled thief who commits corporate es...</td>\n",
              "      <td>'Legendary Pictures', 'Syncopy', 'Warner Bros....</td>\n",
              "      <td>2010-07-15</td>\n",
              "      <td>825532764</td>\n",
              "      <td>148.0</td>\n",
              "      <td>8.4</td>\n",
              "      <td>30898</td>\n",
              "      <td>[Leonardo DiCaprio, Leonardo DiCaprio, Dom Cob...</td>\n",
              "      <td>{'adult': False, 'gender': 2, 'id': 525, 'know...</td>\n",
              "      <td>{'adult': False, 'gender': 2, 'id': 525, 'know...</td>\n",
              "      <td>156.821</td>\n",
              "      <td>18.254</td>\n",
              "      <td>27.309</td>\n",
              "      <td>2010</td>\n",
              "      <td>0.999860</td>\n",
              "    </tr>\n",
              "    <tr>\n",
              "      <th>190</th>\n",
              "      <td>157336</td>\n",
              "      <td>Interstellar</td>\n",
              "      <td>165000000</td>\n",
              "      <td>'Adventure', 'Drama', 'Science Fiction'</td>\n",
              "      <td>en</td>\n",
              "      <td>The adventures of a group of explorers who mak...</td>\n",
              "      <td>'Legendary Pictures', 'Syncopy', 'Lynda Obst P...</td>\n",
              "      <td>2014-11-05</td>\n",
              "      <td>701729206</td>\n",
              "      <td>169.0</td>\n",
              "      <td>8.4</td>\n",
              "      <td>27770</td>\n",
              "      <td>[Matthew McConaughey, Matthew McConaughey, Jos...</td>\n",
              "      <td>{'adult': False, 'gender': 2, 'id': 525, 'know...</td>\n",
              "      <td>{'adult': False, 'gender': 2, 'id': 525, 'know...</td>\n",
              "      <td>106.888</td>\n",
              "      <td>18.254</td>\n",
              "      <td>28.069</td>\n",
              "      <td>2014</td>\n",
              "      <td>0.928409</td>\n",
              "    </tr>\n",
              "    <tr>\n",
              "      <th>269</th>\n",
              "      <td>299536</td>\n",
              "      <td>Avengers: Infinity War</td>\n",
              "      <td>300000000</td>\n",
              "      <td>'Adventure', 'Action', 'Science Fiction'</td>\n",
              "      <td>en</td>\n",
              "      <td>As the Avengers and their allies have continue...</td>\n",
              "      <td>'Marvel Studios'</td>\n",
              "      <td>2018-04-25</td>\n",
              "      <td>2046239637</td>\n",
              "      <td>149.0</td>\n",
              "      <td>8.3</td>\n",
              "      <td>23864</td>\n",
              "      <td>[Robert Downey, Robert Downey, Tony Stark, Iro...</td>\n",
              "      <td>{'adult': False, 'gender': 2, 'id': 19271, 'kn...</td>\n",
              "      <td>{'adult': False, 'gender': 2, 'id': 10850, 'kn...</td>\n",
              "      <td>176.206</td>\n",
              "      <td>15.108</td>\n",
              "      <td>14.260</td>\n",
              "      <td>2018</td>\n",
              "      <td>0.823030</td>\n",
              "    </tr>\n",
              "    <tr>\n",
              "      <th>181</th>\n",
              "      <td>24428</td>\n",
              "      <td>The Avengers</td>\n",
              "      <td>220000000</td>\n",
              "      <td>'Science Fiction', 'Action', 'Adventure'</td>\n",
              "      <td>en</td>\n",
              "      <td>When an unexpected enemy emerges and threatens...</td>\n",
              "      <td>'Marvel Studios'</td>\n",
              "      <td>2012-04-25</td>\n",
              "      <td>1518815515</td>\n",
              "      <td>143.0</td>\n",
              "      <td>7.7</td>\n",
              "      <td>26313</td>\n",
              "      <td>[Robert Downey, Robert Downey, Tony Stark, Iro...</td>\n",
              "      <td>{'adult': False, 'gender': 2, 'id': 12891, 'kn...</td>\n",
              "      <td>{'adult': False, 'gender': 2, 'id': 10850, 'kn...</td>\n",
              "      <td>176.206</td>\n",
              "      <td>8.873</td>\n",
              "      <td>12.818</td>\n",
              "      <td>2012</td>\n",
              "      <td>0.781388</td>\n",
              "    </tr>\n",
              "    <tr>\n",
              "      <th>229</th>\n",
              "      <td>293660</td>\n",
              "      <td>Deadpool</td>\n",
              "      <td>58000000</td>\n",
              "      <td>'Action', 'Adventure', 'Comedy'</td>\n",
              "      <td>en</td>\n",
              "      <td>Deadpool tells the origin story of former Spec...</td>\n",
              "      <td>'20th Century Fox', 'Marvel Entertainment', \"T...</td>\n",
              "      <td>2016-02-09</td>\n",
              "      <td>783100000</td>\n",
              "      <td>108.0</td>\n",
              "      <td>7.6</td>\n",
              "      <td>26250</td>\n",
              "      <td>[Ryan Reynolds, Ryan Reynolds, Wade Wilson, Mo...</td>\n",
              "      <td>{'adult': False, 'gender': 2, 'id': 55252, 'kn...</td>\n",
              "      <td>{'adult': False, 'gender': 1, 'id': 7200, 'kno...</td>\n",
              "      <td>124.922</td>\n",
              "      <td>8.362</td>\n",
              "      <td>63.261</td>\n",
              "      <td>2016</td>\n",
              "      <td>0.763741</td>\n",
              "    </tr>\n",
              "    <tr>\n",
              "      <th>...</th>\n",
              "      <td>...</td>\n",
              "      <td>...</td>\n",
              "      <td>...</td>\n",
              "      <td>...</td>\n",
              "      <td>...</td>\n",
              "      <td>...</td>\n",
              "      <td>...</td>\n",
              "      <td>...</td>\n",
              "      <td>...</td>\n",
              "      <td>...</td>\n",
              "      <td>...</td>\n",
              "      <td>...</td>\n",
              "      <td>...</td>\n",
              "      <td>...</td>\n",
              "      <td>...</td>\n",
              "      <td>...</td>\n",
              "      <td>...</td>\n",
              "      <td>...</td>\n",
              "      <td>...</td>\n",
              "      <td>...</td>\n",
              "    </tr>\n",
              "    <tr>\n",
              "      <th>827</th>\n",
              "      <td>241251</td>\n",
              "      <td>The Boy Next Door</td>\n",
              "      <td>4000000</td>\n",
              "      <td>'Thriller'</td>\n",
              "      <td>en</td>\n",
              "      <td>A recently cheated on married woman falls for ...</td>\n",
              "      <td>'Smart Entertainment', 'Blumhouse Productions'...</td>\n",
              "      <td>2015-01-23</td>\n",
              "      <td>52425855</td>\n",
              "      <td>91.0</td>\n",
              "      <td>4.8</td>\n",
              "      <td>1792</td>\n",
              "      <td>[Jennifer Lopez, Jennifer Lopez, Claire Peters...</td>\n",
              "      <td>{'adult': False, 'gender': 2, 'id': 18878, 'kn...</td>\n",
              "      <td>{'adult': False, 'gender': 1, 'id': 16866, 'kn...</td>\n",
              "      <td>75.494</td>\n",
              "      <td>5.817</td>\n",
              "      <td>33.230</td>\n",
              "      <td>2015</td>\n",
              "      <td>-0.249985</td>\n",
              "    </tr>\n",
              "    <tr>\n",
              "      <th>550</th>\n",
              "      <td>329833</td>\n",
              "      <td>Zoolander 2</td>\n",
              "      <td>50000000</td>\n",
              "      <td>'Comedy'</td>\n",
              "      <td>en</td>\n",
              "      <td>Derek and Hansel are modelling again when an o...</td>\n",
              "      <td>'Scott Rudin Productions', 'Red Hour'</td>\n",
              "      <td>2016-02-06</td>\n",
              "      <td>55969000</td>\n",
              "      <td>100.0</td>\n",
              "      <td>4.8</td>\n",
              "      <td>1817</td>\n",
              "      <td>[Ben Stiller, Ben Stiller, Derek Zoolander, Ow...</td>\n",
              "      <td>{'adult': False, 'gender': 2, 'id': 7399, 'kno...</td>\n",
              "      <td>{'adult': False, 'gender': 2, 'id': 2997, 'kno...</td>\n",
              "      <td>133.058</td>\n",
              "      <td>14.784</td>\n",
              "      <td>21.056</td>\n",
              "      <td>2016</td>\n",
              "      <td>-0.250020</td>\n",
              "    </tr>\n",
              "    <tr>\n",
              "      <th>726</th>\n",
              "      <td>87818</td>\n",
              "      <td>Movie 43</td>\n",
              "      <td>6000000</td>\n",
              "      <td>'Comedy'</td>\n",
              "      <td>en</td>\n",
              "      <td>Fifteen directors and an all-star cast created...</td>\n",
              "      <td>'Witness Protection Films', 'Relativity Media'...</td>\n",
              "      <td>2013-01-01</td>\n",
              "      <td>32438988</td>\n",
              "      <td>90.0</td>\n",
              "      <td>4.5</td>\n",
              "      <td>1858</td>\n",
              "      <td>[Hugh Jackman, Hugh Jackman, Davis , segment ,...</td>\n",
              "      <td>{'adult': False, 'gender': 2, 'id': 2171, 'kno...</td>\n",
              "      <td>{'adult': False, 'gender': 2, 'id': 7396, 'kno...</td>\n",
              "      <td>115.447</td>\n",
              "      <td>70.390</td>\n",
              "      <td>7.857</td>\n",
              "      <td>2013</td>\n",
              "      <td>-0.297339</td>\n",
              "    </tr>\n",
              "    <tr>\n",
              "      <th>583</th>\n",
              "      <td>71880</td>\n",
              "      <td>Jack and Jill</td>\n",
              "      <td>79000000</td>\n",
              "      <td>'Comedy'</td>\n",
              "      <td>en</td>\n",
              "      <td>Jack Sadelstein, a successful advertising exec...</td>\n",
              "      <td>'Broken Road Productions', 'Columbia Pictures'...</td>\n",
              "      <td>2011-11-11</td>\n",
              "      <td>149673788</td>\n",
              "      <td>91.0</td>\n",
              "      <td>4.3</td>\n",
              "      <td>1701</td>\n",
              "      <td>[Adam Sandler, Adam Sandler, Jack , Katie Holm...</td>\n",
              "      <td>{'adult': False, 'gender': 2, 'id': 17494, 'kn...</td>\n",
              "      <td>{'adult': False, 'gender': 2, 'id': 11814, 'kn...</td>\n",
              "      <td>101.717</td>\n",
              "      <td>5.360</td>\n",
              "      <td>30.769</td>\n",
              "      <td>2011</td>\n",
              "      <td>-0.333699</td>\n",
              "    </tr>\n",
              "    <tr>\n",
              "      <th>874</th>\n",
              "      <td>512195</td>\n",
              "      <td>Red Notice</td>\n",
              "      <td>160000000</td>\n",
              "      <td>'Action', 'Comedy', 'Crime', 'Thriller'</td>\n",
              "      <td>en</td>\n",
              "      <td>An Interpol-issued Red Notice is a global aler...</td>\n",
              "      <td>'Flynn Picture Company', 'Seven Bucks Producti...</td>\n",
              "      <td>2021-11-04</td>\n",
              "      <td>178143</td>\n",
              "      <td>117.0</td>\n",
              "      <td>6.8</td>\n",
              "      <td>2947</td>\n",
              "      <td>[Dwayne Johnson, Dwayne Johnson, John Hartley,...</td>\n",
              "      <td>{'adult': False, 'gender': 2, 'id': 57633, 'kn...</td>\n",
              "      <td>{'adult': False, 'gender': 2, 'id': 9543, 'kno...</td>\n",
              "      <td>170.320</td>\n",
              "      <td>6.695</td>\n",
              "      <td>64.735</td>\n",
              "      <td>2021</td>\n",
              "      <td>-0.565024</td>\n",
              "    </tr>\n",
              "  </tbody>\n",
              "</table>\n",
              "<p>938 rows × 20 columns</p>\n",
              "</div>\n",
              "      <button class=\"colab-df-convert\" onclick=\"convertToInteractive('df-6c20844d-fb3a-41e0-b6ef-0d15b0132000')\"\n",
              "              title=\"Convert this dataframe to an interactive table.\"\n",
              "              style=\"display:none;\">\n",
              "        \n",
              "  <svg xmlns=\"http://www.w3.org/2000/svg\" height=\"24px\"viewBox=\"0 0 24 24\"\n",
              "       width=\"24px\">\n",
              "    <path d=\"M0 0h24v24H0V0z\" fill=\"none\"/>\n",
              "    <path d=\"M18.56 5.44l.94 2.06.94-2.06 2.06-.94-2.06-.94-.94-2.06-.94 2.06-2.06.94zm-11 1L8.5 8.5l.94-2.06 2.06-.94-2.06-.94L8.5 2.5l-.94 2.06-2.06.94zm10 10l.94 2.06.94-2.06 2.06-.94-2.06-.94-.94-2.06-.94 2.06-2.06.94z\"/><path d=\"M17.41 7.96l-1.37-1.37c-.4-.4-.92-.59-1.43-.59-.52 0-1.04.2-1.43.59L10.3 9.45l-7.72 7.72c-.78.78-.78 2.05 0 2.83L4 21.41c.39.39.9.59 1.41.59.51 0 1.02-.2 1.41-.59l7.78-7.78 2.81-2.81c.8-.78.8-2.07 0-2.86zM5.41 20L4 18.59l7.72-7.72 1.47 1.35L5.41 20z\"/>\n",
              "  </svg>\n",
              "      </button>\n",
              "      \n",
              "  <style>\n",
              "    .colab-df-container {\n",
              "      display:flex;\n",
              "      flex-wrap:wrap;\n",
              "      gap: 12px;\n",
              "    }\n",
              "\n",
              "    .colab-df-convert {\n",
              "      background-color: #E8F0FE;\n",
              "      border: none;\n",
              "      border-radius: 50%;\n",
              "      cursor: pointer;\n",
              "      display: none;\n",
              "      fill: #1967D2;\n",
              "      height: 32px;\n",
              "      padding: 0 0 0 0;\n",
              "      width: 32px;\n",
              "    }\n",
              "\n",
              "    .colab-df-convert:hover {\n",
              "      background-color: #E2EBFA;\n",
              "      box-shadow: 0px 1px 2px rgba(60, 64, 67, 0.3), 0px 1px 3px 1px rgba(60, 64, 67, 0.15);\n",
              "      fill: #174EA6;\n",
              "    }\n",
              "\n",
              "    [theme=dark] .colab-df-convert {\n",
              "      background-color: #3B4455;\n",
              "      fill: #D2E3FC;\n",
              "    }\n",
              "\n",
              "    [theme=dark] .colab-df-convert:hover {\n",
              "      background-color: #434B5C;\n",
              "      box-shadow: 0px 1px 3px 1px rgba(0, 0, 0, 0.15);\n",
              "      filter: drop-shadow(0px 1px 2px rgba(0, 0, 0, 0.3));\n",
              "      fill: #FFFFFF;\n",
              "    }\n",
              "  </style>\n",
              "\n",
              "      <script>\n",
              "        const buttonEl =\n",
              "          document.querySelector('#df-6c20844d-fb3a-41e0-b6ef-0d15b0132000 button.colab-df-convert');\n",
              "        buttonEl.style.display =\n",
              "          google.colab.kernel.accessAllowed ? 'block' : 'none';\n",
              "\n",
              "        async function convertToInteractive(key) {\n",
              "          const element = document.querySelector('#df-6c20844d-fb3a-41e0-b6ef-0d15b0132000');\n",
              "          const dataTable =\n",
              "            await google.colab.kernel.invokeFunction('convertToInteractive',\n",
              "                                                     [key], {});\n",
              "          if (!dataTable) return;\n",
              "\n",
              "          const docLinkHtml = 'Like what you see? Visit the ' +\n",
              "            '<a target=\"_blank\" href=https://colab.research.google.com/notebooks/data_table.ipynb>data table notebook</a>'\n",
              "            + ' to learn more about interactive tables.';\n",
              "          element.innerHTML = '';\n",
              "          dataTable['output_type'] = 'display_data';\n",
              "          await google.colab.output.renderOutput(dataTable, element);\n",
              "          const docLink = document.createElement('div');\n",
              "          docLink.innerHTML = docLinkHtml;\n",
              "          element.appendChild(docLink);\n",
              "        }\n",
              "      </script>\n",
              "    </div>\n",
              "  </div>\n",
              "  "
            ],
            "text/plain": [
              "         id                   title     budget  ... pop_producer  year     ratio\n",
              "203   27205               Inception  160000000  ...       27.309  2010  0.999860\n",
              "190  157336            Interstellar  165000000  ...       28.069  2014  0.928409\n",
              "269  299536  Avengers: Infinity War  300000000  ...       14.260  2018  0.823030\n",
              "181   24428            The Avengers  220000000  ...       12.818  2012  0.781388\n",
              "229  293660                Deadpool   58000000  ...       63.261  2016  0.763741\n",
              "..      ...                     ...        ...  ...          ...   ...       ...\n",
              "827  241251       The Boy Next Door    4000000  ...       33.230  2015 -0.249985\n",
              "550  329833             Zoolander 2   50000000  ...       21.056  2016 -0.250020\n",
              "726   87818                Movie 43    6000000  ...        7.857  2013 -0.297339\n",
              "583   71880           Jack and Jill   79000000  ...       30.769  2011 -0.333699\n",
              "874  512195              Red Notice  160000000  ...       64.735  2021 -0.565024\n",
              "\n",
              "[938 rows x 20 columns]"
            ]
          },
          "metadata": {},
          "execution_count": 46
        }
      ]
    },
    {
      "cell_type": "code",
      "source": [
        "def class_df(row):\n",
        "  # SUPER HIT\n",
        "  if row[\"ratio\"] >= 0.5:\n",
        "    return \"SUPER HIT\"\n",
        "  # HIT\n",
        "  elif 0.25<= row[\"ratio\"] <.5 :\n",
        "    return \"HIT\"\n",
        "  # BOF\n",
        "  elif 0<= row[\"ratio\"] <0.25 :\n",
        "    return \"BOF\"\n",
        "  # FlOP\n",
        "  else:\n",
        "    return \"FLOP\"\n",
        "\n",
        "movies_db[\"target\"]=movies_db.apply(lambda row: class_df(row), axis=1)"
      ],
      "metadata": {
        "id": "d-KmOI8On4v_"
      },
      "execution_count": null,
      "outputs": []
    },
    {
      "cell_type": "code",
      "source": [
        "movies_db.sort_values(\"ratio\",ascending=False)"
      ],
      "metadata": {
        "id": "AjPsRZUr7pVC",
        "colab": {
          "base_uri": "https://localhost:8080/",
          "height": 1000
        },
        "outputId": "8db3547a-033d-4691-e7cd-86877902d913"
      },
      "execution_count": null,
      "outputs": [
        {
          "output_type": "execute_result",
          "data": {
            "text/html": [
              "\n",
              "  <div id=\"df-4eca8e5d-b3d5-4f89-8dc5-2fa9fb8613b2\">\n",
              "    <div class=\"colab-df-container\">\n",
              "      <div>\n",
              "<style scoped>\n",
              "    .dataframe tbody tr th:only-of-type {\n",
              "        vertical-align: middle;\n",
              "    }\n",
              "\n",
              "    .dataframe tbody tr th {\n",
              "        vertical-align: top;\n",
              "    }\n",
              "\n",
              "    .dataframe thead th {\n",
              "        text-align: right;\n",
              "    }\n",
              "</style>\n",
              "<table border=\"1\" class=\"dataframe\">\n",
              "  <thead>\n",
              "    <tr style=\"text-align: right;\">\n",
              "      <th></th>\n",
              "      <th>id</th>\n",
              "      <th>title</th>\n",
              "      <th>budget</th>\n",
              "      <th>genres</th>\n",
              "      <th>original_language</th>\n",
              "      <th>overview</th>\n",
              "      <th>production_companies</th>\n",
              "      <th>release_date</th>\n",
              "      <th>revenue</th>\n",
              "      <th>runtime</th>\n",
              "      <th>vote_average</th>\n",
              "      <th>vote_count</th>\n",
              "      <th>actors</th>\n",
              "      <th>director</th>\n",
              "      <th>producers</th>\n",
              "      <th>pop_actors</th>\n",
              "      <th>pop_directors</th>\n",
              "      <th>pop_producer</th>\n",
              "      <th>year</th>\n",
              "      <th>ratio</th>\n",
              "      <th>target</th>\n",
              "    </tr>\n",
              "  </thead>\n",
              "  <tbody>\n",
              "    <tr>\n",
              "      <th>203</th>\n",
              "      <td>27205</td>\n",
              "      <td>Inception</td>\n",
              "      <td>160000000</td>\n",
              "      <td>'Action', 'Science Fiction', 'Adventure'</td>\n",
              "      <td>en</td>\n",
              "      <td>Cobb, a skilled thief who commits corporate es...</td>\n",
              "      <td>'Legendary Pictures', 'Syncopy', 'Warner Bros....</td>\n",
              "      <td>2010-07-15</td>\n",
              "      <td>825532764</td>\n",
              "      <td>148.0</td>\n",
              "      <td>8.4</td>\n",
              "      <td>30898</td>\n",
              "      <td>[Leonardo DiCaprio, Leonardo DiCaprio, Dom Cob...</td>\n",
              "      <td>{'adult': False, 'gender': 2, 'id': 525, 'know...</td>\n",
              "      <td>{'adult': False, 'gender': 2, 'id': 525, 'know...</td>\n",
              "      <td>156.821</td>\n",
              "      <td>18.254</td>\n",
              "      <td>27.309</td>\n",
              "      <td>2010</td>\n",
              "      <td>0.999860</td>\n",
              "      <td>SUPER HIT</td>\n",
              "    </tr>\n",
              "    <tr>\n",
              "      <th>190</th>\n",
              "      <td>157336</td>\n",
              "      <td>Interstellar</td>\n",
              "      <td>165000000</td>\n",
              "      <td>'Adventure', 'Drama', 'Science Fiction'</td>\n",
              "      <td>en</td>\n",
              "      <td>The adventures of a group of explorers who mak...</td>\n",
              "      <td>'Legendary Pictures', 'Syncopy', 'Lynda Obst P...</td>\n",
              "      <td>2014-11-05</td>\n",
              "      <td>701729206</td>\n",
              "      <td>169.0</td>\n",
              "      <td>8.4</td>\n",
              "      <td>27770</td>\n",
              "      <td>[Matthew McConaughey, Matthew McConaughey, Jos...</td>\n",
              "      <td>{'adult': False, 'gender': 2, 'id': 525, 'know...</td>\n",
              "      <td>{'adult': False, 'gender': 2, 'id': 525, 'know...</td>\n",
              "      <td>106.888</td>\n",
              "      <td>18.254</td>\n",
              "      <td>28.069</td>\n",
              "      <td>2014</td>\n",
              "      <td>0.928409</td>\n",
              "      <td>SUPER HIT</td>\n",
              "    </tr>\n",
              "    <tr>\n",
              "      <th>269</th>\n",
              "      <td>299536</td>\n",
              "      <td>Avengers: Infinity War</td>\n",
              "      <td>300000000</td>\n",
              "      <td>'Adventure', 'Action', 'Science Fiction'</td>\n",
              "      <td>en</td>\n",
              "      <td>As the Avengers and their allies have continue...</td>\n",
              "      <td>'Marvel Studios'</td>\n",
              "      <td>2018-04-25</td>\n",
              "      <td>2046239637</td>\n",
              "      <td>149.0</td>\n",
              "      <td>8.3</td>\n",
              "      <td>23864</td>\n",
              "      <td>[Robert Downey, Robert Downey, Tony Stark, Iro...</td>\n",
              "      <td>{'adult': False, 'gender': 2, 'id': 19271, 'kn...</td>\n",
              "      <td>{'adult': False, 'gender': 2, 'id': 10850, 'kn...</td>\n",
              "      <td>176.206</td>\n",
              "      <td>15.108</td>\n",
              "      <td>14.260</td>\n",
              "      <td>2018</td>\n",
              "      <td>0.823030</td>\n",
              "      <td>SUPER HIT</td>\n",
              "    </tr>\n",
              "    <tr>\n",
              "      <th>181</th>\n",
              "      <td>24428</td>\n",
              "      <td>The Avengers</td>\n",
              "      <td>220000000</td>\n",
              "      <td>'Science Fiction', 'Action', 'Adventure'</td>\n",
              "      <td>en</td>\n",
              "      <td>When an unexpected enemy emerges and threatens...</td>\n",
              "      <td>'Marvel Studios'</td>\n",
              "      <td>2012-04-25</td>\n",
              "      <td>1518815515</td>\n",
              "      <td>143.0</td>\n",
              "      <td>7.7</td>\n",
              "      <td>26313</td>\n",
              "      <td>[Robert Downey, Robert Downey, Tony Stark, Iro...</td>\n",
              "      <td>{'adult': False, 'gender': 2, 'id': 12891, 'kn...</td>\n",
              "      <td>{'adult': False, 'gender': 2, 'id': 10850, 'kn...</td>\n",
              "      <td>176.206</td>\n",
              "      <td>8.873</td>\n",
              "      <td>12.818</td>\n",
              "      <td>2012</td>\n",
              "      <td>0.781388</td>\n",
              "      <td>SUPER HIT</td>\n",
              "    </tr>\n",
              "    <tr>\n",
              "      <th>229</th>\n",
              "      <td>293660</td>\n",
              "      <td>Deadpool</td>\n",
              "      <td>58000000</td>\n",
              "      <td>'Action', 'Adventure', 'Comedy'</td>\n",
              "      <td>en</td>\n",
              "      <td>Deadpool tells the origin story of former Spec...</td>\n",
              "      <td>'20th Century Fox', 'Marvel Entertainment', \"T...</td>\n",
              "      <td>2016-02-09</td>\n",
              "      <td>783100000</td>\n",
              "      <td>108.0</td>\n",
              "      <td>7.6</td>\n",
              "      <td>26250</td>\n",
              "      <td>[Ryan Reynolds, Ryan Reynolds, Wade Wilson, Mo...</td>\n",
              "      <td>{'adult': False, 'gender': 2, 'id': 55252, 'kn...</td>\n",
              "      <td>{'adult': False, 'gender': 1, 'id': 7200, 'kno...</td>\n",
              "      <td>124.922</td>\n",
              "      <td>8.362</td>\n",
              "      <td>63.261</td>\n",
              "      <td>2016</td>\n",
              "      <td>0.763741</td>\n",
              "      <td>SUPER HIT</td>\n",
              "    </tr>\n",
              "    <tr>\n",
              "      <th>...</th>\n",
              "      <td>...</td>\n",
              "      <td>...</td>\n",
              "      <td>...</td>\n",
              "      <td>...</td>\n",
              "      <td>...</td>\n",
              "      <td>...</td>\n",
              "      <td>...</td>\n",
              "      <td>...</td>\n",
              "      <td>...</td>\n",
              "      <td>...</td>\n",
              "      <td>...</td>\n",
              "      <td>...</td>\n",
              "      <td>...</td>\n",
              "      <td>...</td>\n",
              "      <td>...</td>\n",
              "      <td>...</td>\n",
              "      <td>...</td>\n",
              "      <td>...</td>\n",
              "      <td>...</td>\n",
              "      <td>...</td>\n",
              "      <td>...</td>\n",
              "    </tr>\n",
              "    <tr>\n",
              "      <th>827</th>\n",
              "      <td>241251</td>\n",
              "      <td>The Boy Next Door</td>\n",
              "      <td>4000000</td>\n",
              "      <td>'Thriller'</td>\n",
              "      <td>en</td>\n",
              "      <td>A recently cheated on married woman falls for ...</td>\n",
              "      <td>'Smart Entertainment', 'Blumhouse Productions'...</td>\n",
              "      <td>2015-01-23</td>\n",
              "      <td>52425855</td>\n",
              "      <td>91.0</td>\n",
              "      <td>4.8</td>\n",
              "      <td>1792</td>\n",
              "      <td>[Jennifer Lopez, Jennifer Lopez, Claire Peters...</td>\n",
              "      <td>{'adult': False, 'gender': 2, 'id': 18878, 'kn...</td>\n",
              "      <td>{'adult': False, 'gender': 1, 'id': 16866, 'kn...</td>\n",
              "      <td>75.494</td>\n",
              "      <td>5.817</td>\n",
              "      <td>33.230</td>\n",
              "      <td>2015</td>\n",
              "      <td>-0.249985</td>\n",
              "      <td>FLOP</td>\n",
              "    </tr>\n",
              "    <tr>\n",
              "      <th>550</th>\n",
              "      <td>329833</td>\n",
              "      <td>Zoolander 2</td>\n",
              "      <td>50000000</td>\n",
              "      <td>'Comedy'</td>\n",
              "      <td>en</td>\n",
              "      <td>Derek and Hansel are modelling again when an o...</td>\n",
              "      <td>'Scott Rudin Productions', 'Red Hour'</td>\n",
              "      <td>2016-02-06</td>\n",
              "      <td>55969000</td>\n",
              "      <td>100.0</td>\n",
              "      <td>4.8</td>\n",
              "      <td>1817</td>\n",
              "      <td>[Ben Stiller, Ben Stiller, Derek Zoolander, Ow...</td>\n",
              "      <td>{'adult': False, 'gender': 2, 'id': 7399, 'kno...</td>\n",
              "      <td>{'adult': False, 'gender': 2, 'id': 2997, 'kno...</td>\n",
              "      <td>133.058</td>\n",
              "      <td>14.784</td>\n",
              "      <td>21.056</td>\n",
              "      <td>2016</td>\n",
              "      <td>-0.250020</td>\n",
              "      <td>FLOP</td>\n",
              "    </tr>\n",
              "    <tr>\n",
              "      <th>726</th>\n",
              "      <td>87818</td>\n",
              "      <td>Movie 43</td>\n",
              "      <td>6000000</td>\n",
              "      <td>'Comedy'</td>\n",
              "      <td>en</td>\n",
              "      <td>Fifteen directors and an all-star cast created...</td>\n",
              "      <td>'Witness Protection Films', 'Relativity Media'...</td>\n",
              "      <td>2013-01-01</td>\n",
              "      <td>32438988</td>\n",
              "      <td>90.0</td>\n",
              "      <td>4.5</td>\n",
              "      <td>1858</td>\n",
              "      <td>[Hugh Jackman, Hugh Jackman, Davis , segment ,...</td>\n",
              "      <td>{'adult': False, 'gender': 2, 'id': 2171, 'kno...</td>\n",
              "      <td>{'adult': False, 'gender': 2, 'id': 7396, 'kno...</td>\n",
              "      <td>115.447</td>\n",
              "      <td>70.390</td>\n",
              "      <td>7.857</td>\n",
              "      <td>2013</td>\n",
              "      <td>-0.297339</td>\n",
              "      <td>FLOP</td>\n",
              "    </tr>\n",
              "    <tr>\n",
              "      <th>583</th>\n",
              "      <td>71880</td>\n",
              "      <td>Jack and Jill</td>\n",
              "      <td>79000000</td>\n",
              "      <td>'Comedy'</td>\n",
              "      <td>en</td>\n",
              "      <td>Jack Sadelstein, a successful advertising exec...</td>\n",
              "      <td>'Broken Road Productions', 'Columbia Pictures'...</td>\n",
              "      <td>2011-11-11</td>\n",
              "      <td>149673788</td>\n",
              "      <td>91.0</td>\n",
              "      <td>4.3</td>\n",
              "      <td>1701</td>\n",
              "      <td>[Adam Sandler, Adam Sandler, Jack , Katie Holm...</td>\n",
              "      <td>{'adult': False, 'gender': 2, 'id': 17494, 'kn...</td>\n",
              "      <td>{'adult': False, 'gender': 2, 'id': 11814, 'kn...</td>\n",
              "      <td>101.717</td>\n",
              "      <td>5.360</td>\n",
              "      <td>30.769</td>\n",
              "      <td>2011</td>\n",
              "      <td>-0.333699</td>\n",
              "      <td>FLOP</td>\n",
              "    </tr>\n",
              "    <tr>\n",
              "      <th>874</th>\n",
              "      <td>512195</td>\n",
              "      <td>Red Notice</td>\n",
              "      <td>160000000</td>\n",
              "      <td>'Action', 'Comedy', 'Crime', 'Thriller'</td>\n",
              "      <td>en</td>\n",
              "      <td>An Interpol-issued Red Notice is a global aler...</td>\n",
              "      <td>'Flynn Picture Company', 'Seven Bucks Producti...</td>\n",
              "      <td>2021-11-04</td>\n",
              "      <td>178143</td>\n",
              "      <td>117.0</td>\n",
              "      <td>6.8</td>\n",
              "      <td>2947</td>\n",
              "      <td>[Dwayne Johnson, Dwayne Johnson, John Hartley,...</td>\n",
              "      <td>{'adult': False, 'gender': 2, 'id': 57633, 'kn...</td>\n",
              "      <td>{'adult': False, 'gender': 2, 'id': 9543, 'kno...</td>\n",
              "      <td>170.320</td>\n",
              "      <td>6.695</td>\n",
              "      <td>64.735</td>\n",
              "      <td>2021</td>\n",
              "      <td>-0.565024</td>\n",
              "      <td>FLOP</td>\n",
              "    </tr>\n",
              "  </tbody>\n",
              "</table>\n",
              "<p>938 rows × 21 columns</p>\n",
              "</div>\n",
              "      <button class=\"colab-df-convert\" onclick=\"convertToInteractive('df-4eca8e5d-b3d5-4f89-8dc5-2fa9fb8613b2')\"\n",
              "              title=\"Convert this dataframe to an interactive table.\"\n",
              "              style=\"display:none;\">\n",
              "        \n",
              "  <svg xmlns=\"http://www.w3.org/2000/svg\" height=\"24px\"viewBox=\"0 0 24 24\"\n",
              "       width=\"24px\">\n",
              "    <path d=\"M0 0h24v24H0V0z\" fill=\"none\"/>\n",
              "    <path d=\"M18.56 5.44l.94 2.06.94-2.06 2.06-.94-2.06-.94-.94-2.06-.94 2.06-2.06.94zm-11 1L8.5 8.5l.94-2.06 2.06-.94-2.06-.94L8.5 2.5l-.94 2.06-2.06.94zm10 10l.94 2.06.94-2.06 2.06-.94-2.06-.94-.94-2.06-.94 2.06-2.06.94z\"/><path d=\"M17.41 7.96l-1.37-1.37c-.4-.4-.92-.59-1.43-.59-.52 0-1.04.2-1.43.59L10.3 9.45l-7.72 7.72c-.78.78-.78 2.05 0 2.83L4 21.41c.39.39.9.59 1.41.59.51 0 1.02-.2 1.41-.59l7.78-7.78 2.81-2.81c.8-.78.8-2.07 0-2.86zM5.41 20L4 18.59l7.72-7.72 1.47 1.35L5.41 20z\"/>\n",
              "  </svg>\n",
              "      </button>\n",
              "      \n",
              "  <style>\n",
              "    .colab-df-container {\n",
              "      display:flex;\n",
              "      flex-wrap:wrap;\n",
              "      gap: 12px;\n",
              "    }\n",
              "\n",
              "    .colab-df-convert {\n",
              "      background-color: #E8F0FE;\n",
              "      border: none;\n",
              "      border-radius: 50%;\n",
              "      cursor: pointer;\n",
              "      display: none;\n",
              "      fill: #1967D2;\n",
              "      height: 32px;\n",
              "      padding: 0 0 0 0;\n",
              "      width: 32px;\n",
              "    }\n",
              "\n",
              "    .colab-df-convert:hover {\n",
              "      background-color: #E2EBFA;\n",
              "      box-shadow: 0px 1px 2px rgba(60, 64, 67, 0.3), 0px 1px 3px 1px rgba(60, 64, 67, 0.15);\n",
              "      fill: #174EA6;\n",
              "    }\n",
              "\n",
              "    [theme=dark] .colab-df-convert {\n",
              "      background-color: #3B4455;\n",
              "      fill: #D2E3FC;\n",
              "    }\n",
              "\n",
              "    [theme=dark] .colab-df-convert:hover {\n",
              "      background-color: #434B5C;\n",
              "      box-shadow: 0px 1px 3px 1px rgba(0, 0, 0, 0.15);\n",
              "      filter: drop-shadow(0px 1px 2px rgba(0, 0, 0, 0.3));\n",
              "      fill: #FFFFFF;\n",
              "    }\n",
              "  </style>\n",
              "\n",
              "      <script>\n",
              "        const buttonEl =\n",
              "          document.querySelector('#df-4eca8e5d-b3d5-4f89-8dc5-2fa9fb8613b2 button.colab-df-convert');\n",
              "        buttonEl.style.display =\n",
              "          google.colab.kernel.accessAllowed ? 'block' : 'none';\n",
              "\n",
              "        async function convertToInteractive(key) {\n",
              "          const element = document.querySelector('#df-4eca8e5d-b3d5-4f89-8dc5-2fa9fb8613b2');\n",
              "          const dataTable =\n",
              "            await google.colab.kernel.invokeFunction('convertToInteractive',\n",
              "                                                     [key], {});\n",
              "          if (!dataTable) return;\n",
              "\n",
              "          const docLinkHtml = 'Like what you see? Visit the ' +\n",
              "            '<a target=\"_blank\" href=https://colab.research.google.com/notebooks/data_table.ipynb>data table notebook</a>'\n",
              "            + ' to learn more about interactive tables.';\n",
              "          element.innerHTML = '';\n",
              "          dataTable['output_type'] = 'display_data';\n",
              "          await google.colab.output.renderOutput(dataTable, element);\n",
              "          const docLink = document.createElement('div');\n",
              "          docLink.innerHTML = docLinkHtml;\n",
              "          element.appendChild(docLink);\n",
              "        }\n",
              "      </script>\n",
              "    </div>\n",
              "  </div>\n",
              "  "
            ],
            "text/plain": [
              "         id                   title     budget  ...  year     ratio     target\n",
              "203   27205               Inception  160000000  ...  2010  0.999860  SUPER HIT\n",
              "190  157336            Interstellar  165000000  ...  2014  0.928409  SUPER HIT\n",
              "269  299536  Avengers: Infinity War  300000000  ...  2018  0.823030  SUPER HIT\n",
              "181   24428            The Avengers  220000000  ...  2012  0.781388  SUPER HIT\n",
              "229  293660                Deadpool   58000000  ...  2016  0.763741  SUPER HIT\n",
              "..      ...                     ...        ...  ...   ...       ...        ...\n",
              "827  241251       The Boy Next Door    4000000  ...  2015 -0.249985       FLOP\n",
              "550  329833             Zoolander 2   50000000  ...  2016 -0.250020       FLOP\n",
              "726   87818                Movie 43    6000000  ...  2013 -0.297339       FLOP\n",
              "583   71880           Jack and Jill   79000000  ...  2011 -0.333699       FLOP\n",
              "874  512195              Red Notice  160000000  ...  2021 -0.565024       FLOP\n",
              "\n",
              "[938 rows x 21 columns]"
            ]
          },
          "metadata": {},
          "execution_count": 48
        }
      ]
    },
    {
      "cell_type": "code",
      "source": [
        "fig, ax = plt.subplots(figsize=(20,10))\n",
        "ax.ticklabel_format(style='plain')\n",
        "# movies_db.hist(\"target\",bins=20,ax=ax)\n",
        "movies_db['target'].value_counts().plot(kind='bar')\n",
        "plt.title('Répartition de la target')\n",
        "plt.xlabel('target')\n",
        "plt.show()"
      ],
      "metadata": {
        "id": "Mgxg-MiF77YM",
        "colab": {
          "base_uri": "https://localhost:8080/",
          "height": 664
        },
        "outputId": "0ae28677-9ebf-4a1d-a348-f997439fa160"
      },
      "execution_count": null,
      "outputs": [
        {
          "output_type": "display_data",
          "data": {
            "image/png": "[encoded data removed]",
            "text/plain": [
              "<Figure size 1440x720 with 1 Axes>"
            ]
          },
          "metadata": {
            "needs_background": "light"
          }
        }
      ]
    },
    {
      "cell_type": "code",
      "source": [
        "movies_db[\"target\"].value_counts()"
      ],
      "metadata": {
        "id": "FYOqIhtNFZSa",
        "colab": {
          "base_uri": "https://localhost:8080/"
        },
        "outputId": "2cfda0a5-25ce-4cfe-8e0b-65c37334f03b"
      },
      "execution_count": null,
      "outputs": [
        {
          "output_type": "execute_result",
          "data": {
            "text/plain": [
              "BOF          525\n",
              "HIT          196\n",
              "FLOP         177\n",
              "SUPER HIT     40\n",
              "Name: target, dtype: int64"
            ]
          },
          "metadata": {},
          "execution_count": 50
        }
      ]
    },
    {
      "cell_type": "code",
      "source": [
        "from sklearn.cluster import KMeans\n",
        "df=movies_db[[\"revenue\",\"budget\",\"vote_average\",'vote_count']]\n",
        "wcss = []\n",
        "for i in range(1, 11):\n",
        "    kmeans = KMeans(n_clusters = i, init = 'k-means++')\n",
        "    kmeans.fit(df)\n",
        "    print (i,kmeans.inertia_)\n",
        "    wcss.append(kmeans.inertia_)\n",
        "    \n",
        "fig, ax = plt.subplots(figsize=(20,10))\n",
        "plt.plot(range(1, 11), wcss)\n",
        "plt.title('Elbow Method')\n",
        "plt.xlabel('Clusters')\n",
        "plt.ylabel('WSS')\n",
        "plt.show()"
      ],
      "metadata": {
        "id": "qrDwX9OuJpcF",
        "colab": {
          "base_uri": "https://localhost:8080/",
          "height": 794
        },
        "outputId": "c53ce0b8-0f1b-4adf-950a-0d374bfe6928"
      },
      "execution_count": null,
      "outputs": [
        {
          "output_type": "stream",
          "name": "stdout",
          "text": [
            "1 9.392525379105699e+19\n",
            "2 3.1841840466717385e+19\n",
            "3 1.8246287144471552e+19\n",
            "4 1.1709167249228132e+19\n",
            "5 8.304485465982459e+18\n",
            "6 6.150580058844278e+18\n",
            "7 5.202294648239423e+18\n",
            "8 4.2253901454965975e+18\n",
            "9 3.72657844517867e+18\n",
            "10 3.2261052341707776e+18\n"
          ]
        },
        {
          "output_type": "display_data",
          "data": {
            "image/png": "[encoded data removed]",
            "text/plain": [
              "<Figure size 1440x720 with 1 Axes>"
            ]
          },
          "metadata": {
            "needs_background": "light"
          }
        }
      ]
    },
    {
      "cell_type": "code",
      "source": [
        "kmeans = KMeans(n_clusters = 4, init = 'k-means++',random_state = 0)\n",
        "estimator = kmeans.fit(df)\n",
        "estimator"
      ],
      "metadata": {
        "id": "tH-Dnnt2Kycs",
        "colab": {
          "base_uri": "https://localhost:8080/"
        },
        "outputId": "dc240f28-d3ea-4aaa-e53e-08e287ea4d5a"
      },
      "execution_count": null,
      "outputs": [
        {
          "output_type": "execute_result",
          "data": {
            "text/plain": [
              "KMeans(n_clusters=4, random_state=0)"
            ]
          },
          "metadata": {},
          "execution_count": 52
        }
      ]
    },
    {
      "cell_type": "code",
      "source": [
        "class_predict = estimator.predict(df)\n",
        "movies_db[\"target2\"] = class_predict"
      ],
      "metadata": {
        "id": "1SD0k0XQK4qS"
      },
      "execution_count": null,
      "outputs": []
    },
    {
      "cell_type": "code",
      "source": [
        "pd.crosstab(movies_db[\"target\"],movies_db['target2'])"
      ],
      "metadata": {
        "id": "xAHhSJrTLQzL",
        "colab": {
          "base_uri": "https://localhost:8080/",
          "height": 206
        },
        "outputId": "1f33ba72-00c7-46af-825d-2c8c0e7bc273"
      },
      "execution_count": null,
      "outputs": [
        {
          "output_type": "execute_result",
          "data": {
            "text/html": [
              "\n",
              "  <div id=\"df-c4a30d6c-74e7-4842-9cdc-42285de89023\">\n",
              "    <div class=\"colab-df-container\">\n",
              "      <div>\n",
              "<style scoped>\n",
              "    .dataframe tbody tr th:only-of-type {\n",
              "        vertical-align: middle;\n",
              "    }\n",
              "\n",
              "    .dataframe tbody tr th {\n",
              "        vertical-align: top;\n",
              "    }\n",
              "\n",
              "    .dataframe thead th {\n",
              "        text-align: right;\n",
              "    }\n",
              "</style>\n",
              "<table border=\"1\" class=\"dataframe\">\n",
              "  <thead>\n",
              "    <tr style=\"text-align: right;\">\n",
              "      <th>target2</th>\n",
              "      <th>0</th>\n",
              "      <th>1</th>\n",
              "      <th>2</th>\n",
              "      <th>3</th>\n",
              "    </tr>\n",
              "    <tr>\n",
              "      <th>target</th>\n",
              "      <th></th>\n",
              "      <th></th>\n",
              "      <th></th>\n",
              "      <th></th>\n",
              "    </tr>\n",
              "  </thead>\n",
              "  <tbody>\n",
              "    <tr>\n",
              "      <th>BOF</th>\n",
              "      <td>372</td>\n",
              "      <td>28</td>\n",
              "      <td>124</td>\n",
              "      <td>1</td>\n",
              "    </tr>\n",
              "    <tr>\n",
              "      <th>FLOP</th>\n",
              "      <td>137</td>\n",
              "      <td>0</td>\n",
              "      <td>40</td>\n",
              "      <td>0</td>\n",
              "    </tr>\n",
              "    <tr>\n",
              "      <th>HIT</th>\n",
              "      <td>80</td>\n",
              "      <td>44</td>\n",
              "      <td>60</td>\n",
              "      <td>12</td>\n",
              "    </tr>\n",
              "    <tr>\n",
              "      <th>SUPER HIT</th>\n",
              "      <td>5</td>\n",
              "      <td>21</td>\n",
              "      <td>8</td>\n",
              "      <td>6</td>\n",
              "    </tr>\n",
              "  </tbody>\n",
              "</table>\n",
              "</div>\n",
              "      <button class=\"colab-df-convert\" onclick=\"convertToInteractive('df-c4a30d6c-74e7-4842-9cdc-42285de89023')\"\n",
              "              title=\"Convert this dataframe to an interactive table.\"\n",
              "              style=\"display:none;\">\n",
              "        \n",
              "  <svg xmlns=\"http://www.w3.org/2000/svg\" height=\"24px\"viewBox=\"0 0 24 24\"\n",
              "       width=\"24px\">\n",
              "    <path d=\"M0 0h24v24H0V0z\" fill=\"none\"/>\n",
              "    <path d=\"M18.56 5.44l.94 2.06.94-2.06 2.06-.94-2.06-.94-.94-2.06-.94 2.06-2.06.94zm-11 1L8.5 8.5l.94-2.06 2.06-.94-2.06-.94L8.5 2.5l-.94 2.06-2.06.94zm10 10l.94 2.06.94-2.06 2.06-.94-2.06-.94-.94-2.06-.94 2.06-2.06.94z\"/><path d=\"M17.41 7.96l-1.37-1.37c-.4-.4-.92-.59-1.43-.59-.52 0-1.04.2-1.43.59L10.3 9.45l-7.72 7.72c-.78.78-.78 2.05 0 2.83L4 21.41c.39.39.9.59 1.41.59.51 0 1.02-.2 1.41-.59l7.78-7.78 2.81-2.81c.8-.78.8-2.07 0-2.86zM5.41 20L4 18.59l7.72-7.72 1.47 1.35L5.41 20z\"/>\n",
              "  </svg>\n",
              "      </button>\n",
              "      \n",
              "  <style>\n",
              "    .colab-df-container {\n",
              "      display:flex;\n",
              "      flex-wrap:wrap;\n",
              "      gap: 12px;\n",
              "    }\n",
              "\n",
              "    .colab-df-convert {\n",
              "      background-color: #E8F0FE;\n",
              "      border: none;\n",
              "      border-radius: 50%;\n",
              "      cursor: pointer;\n",
              "      display: none;\n",
              "      fill: #1967D2;\n",
              "      height: 32px;\n",
              "      padding: 0 0 0 0;\n",
              "      width: 32px;\n",
              "    }\n",
              "\n",
              "    .colab-df-convert:hover {\n",
              "      background-color: #E2EBFA;\n",
              "      box-shadow: 0px 1px 2px rgba(60, 64, 67, 0.3), 0px 1px 3px 1px rgba(60, 64, 67, 0.15);\n",
              "      fill: #174EA6;\n",
              "    }\n",
              "\n",
              "    [theme=dark] .colab-df-convert {\n",
              "      background-color: #3B4455;\n",
              "      fill: #D2E3FC;\n",
              "    }\n",
              "\n",
              "    [theme=dark] .colab-df-convert:hover {\n",
              "      background-color: #434B5C;\n",
              "      box-shadow: 0px 1px 3px 1px rgba(0, 0, 0, 0.15);\n",
              "      filter: drop-shadow(0px 1px 2px rgba(0, 0, 0, 0.3));\n",
              "      fill: #FFFFFF;\n",
              "    }\n",
              "  </style>\n",
              "\n",
              "      <script>\n",
              "        const buttonEl =\n",
              "          document.querySelector('#df-c4a30d6c-74e7-4842-9cdc-42285de89023 button.colab-df-convert');\n",
              "        buttonEl.style.display =\n",
              "          google.colab.kernel.accessAllowed ? 'block' : 'none';\n",
              "\n",
              "        async function convertToInteractive(key) {\n",
              "          const element = document.querySelector('#df-c4a30d6c-74e7-4842-9cdc-42285de89023');\n",
              "          const dataTable =\n",
              "            await google.colab.kernel.invokeFunction('convertToInteractive',\n",
              "                                                     [key], {});\n",
              "          if (!dataTable) return;\n",
              "\n",
              "          const docLinkHtml = 'Like what you see? Visit the ' +\n",
              "            '<a target=\"_blank\" href=https://colab.research.google.com/notebooks/data_table.ipynb>data table notebook</a>'\n",
              "            + ' to learn more about interactive tables.';\n",
              "          element.innerHTML = '';\n",
              "          dataTable['output_type'] = 'display_data';\n",
              "          await google.colab.output.renderOutput(dataTable, element);\n",
              "          const docLink = document.createElement('div');\n",
              "          docLink.innerHTML = docLinkHtml;\n",
              "          element.appendChild(docLink);\n",
              "        }\n",
              "      </script>\n",
              "    </div>\n",
              "  </div>\n",
              "  "
            ],
            "text/plain": [
              "target2      0   1    2   3\n",
              "target                     \n",
              "BOF        372  28  124   1\n",
              "FLOP       137   0   40   0\n",
              "HIT         80  44   60  12\n",
              "SUPER HIT    5  21    8   6"
            ]
          },
          "metadata": {},
          "execution_count": 54
        }
      ]
    },
    {
      "cell_type": "code",
      "source": [
        "\n",
        "#df['class'] = np.where(df['ratio']>='Z', 'green', 'red')"
      ],
      "metadata": {
        "id": "3rj0frwTmVft"
      },
      "execution_count": null,
      "outputs": []
    },
    {
      "cell_type": "markdown",
      "metadata": {
        "id": "4GH2p88li4k0"
      },
      "source": [
        "# **Exploration des données**"
      ]
    },
    {
      "cell_type": "code",
      "metadata": {
        "id": "4kQOMQ1fpicu",
        "colab": {
          "base_uri": "https://localhost:8080/",
          "height": 300
        },
        "outputId": "b3203047-c995-4281-f0c1-b33ef5bea260"
      },
      "source": [
        "movies_db.describe().apply(lambda s: s.apply('{0:.1f}'.format))"
      ],
      "execution_count": null,
      "outputs": [
        {
          "output_type": "execute_result",
          "data": {
            "text/html": [
              "\n",
              "  <div id=\"df-0b1b3715-f8b8-4b1b-9f42-daa85a080c5f\">\n",
              "    <div class=\"colab-df-container\">\n",
              "      <div>\n",
              "<style scoped>\n",
              "    .dataframe tbody tr th:only-of-type {\n",
              "        vertical-align: middle;\n",
              "    }\n",
              "\n",
              "    .dataframe tbody tr th {\n",
              "        vertical-align: top;\n",
              "    }\n",
              "\n",
              "    .dataframe thead th {\n",
              "        text-align: right;\n",
              "    }\n",
              "</style>\n",
              "<table border=\"1\" class=\"dataframe\">\n",
              "  <thead>\n",
              "    <tr style=\"text-align: right;\">\n",
              "      <th></th>\n",
              "      <th>budget</th>\n",
              "      <th>revenue</th>\n",
              "      <th>runtime</th>\n",
              "      <th>vote_average</th>\n",
              "      <th>vote_count</th>\n",
              "      <th>pop_actors</th>\n",
              "      <th>pop_directors</th>\n",
              "      <th>pop_producer</th>\n",
              "      <th>year</th>\n",
              "      <th>ratio</th>\n",
              "      <th>target2</th>\n",
              "    </tr>\n",
              "  </thead>\n",
              "  <tbody>\n",
              "    <tr>\n",
              "      <th>count</th>\n",
              "      <td>938.0</td>\n",
              "      <td>938.0</td>\n",
              "      <td>938.0</td>\n",
              "      <td>938.0</td>\n",
              "      <td>938.0</td>\n",
              "      <td>938.0</td>\n",
              "      <td>938.0</td>\n",
              "      <td>938.0</td>\n",
              "      <td>938.0</td>\n",
              "      <td>938.0</td>\n",
              "      <td>938.0</td>\n",
              "    </tr>\n",
              "    <tr>\n",
              "      <th>mean</th>\n",
              "      <td>73259976.4</td>\n",
              "      <td>262629616.3</td>\n",
              "      <td>114.3</td>\n",
              "      <td>6.8</td>\n",
              "      <td>5469.5</td>\n",
              "      <td>97.5</td>\n",
              "      <td>7.4</td>\n",
              "      <td>14.3</td>\n",
              "      <td>2014.8</td>\n",
              "      <td>0.2</td>\n",
              "      <td>0.7</td>\n",
              "    </tr>\n",
              "    <tr>\n",
              "      <th>std</th>\n",
              "      <td>65434808.7</td>\n",
              "      <td>309771988.3</td>\n",
              "      <td>18.3</td>\n",
              "      <td>0.7</td>\n",
              "      <td>4241.9</td>\n",
              "      <td>31.9</td>\n",
              "      <td>7.4</td>\n",
              "      <td>15.1</td>\n",
              "      <td>3.0</td>\n",
              "      <td>0.2</td>\n",
              "      <td>0.9</td>\n",
              "    </tr>\n",
              "    <tr>\n",
              "      <th>min</th>\n",
              "      <td>100000.0</td>\n",
              "      <td>107423.0</td>\n",
              "      <td>80.0</td>\n",
              "      <td>4.3</td>\n",
              "      <td>1700.0</td>\n",
              "      <td>16.1</td>\n",
              "      <td>0.6</td>\n",
              "      <td>0.0</td>\n",
              "      <td>2010.0</td>\n",
              "      <td>-0.6</td>\n",
              "      <td>0.0</td>\n",
              "    </tr>\n",
              "    <tr>\n",
              "      <th>25%</th>\n",
              "      <td>24000000.0</td>\n",
              "      <td>66845114.0</td>\n",
              "      <td>101.0</td>\n",
              "      <td>6.3</td>\n",
              "      <td>2544.8</td>\n",
              "      <td>76.1</td>\n",
              "      <td>2.7</td>\n",
              "      <td>3.7</td>\n",
              "      <td>2012.0</td>\n",
              "      <td>0.0</td>\n",
              "      <td>0.0</td>\n",
              "    </tr>\n",
              "    <tr>\n",
              "      <th>50%</th>\n",
              "      <td>50000000.0</td>\n",
              "      <td>154011977.5</td>\n",
              "      <td>112.0</td>\n",
              "      <td>6.8</td>\n",
              "      <td>4007.0</td>\n",
              "      <td>93.0</td>\n",
              "      <td>5.5</td>\n",
              "      <td>9.2</td>\n",
              "      <td>2015.0</td>\n",
              "      <td>0.1</td>\n",
              "      <td>0.0</td>\n",
              "    </tr>\n",
              "    <tr>\n",
              "      <th>75%</th>\n",
              "      <td>110000000.0</td>\n",
              "      <td>332145029.5</td>\n",
              "      <td>125.0</td>\n",
              "      <td>7.3</td>\n",
              "      <td>6673.0</td>\n",
              "      <td>115.3</td>\n",
              "      <td>9.5</td>\n",
              "      <td>19.0</td>\n",
              "      <td>2017.0</td>\n",
              "      <td>0.3</td>\n",
              "      <td>2.0</td>\n",
              "    </tr>\n",
              "    <tr>\n",
              "      <th>max</th>\n",
              "      <td>380000000.0</td>\n",
              "      <td>2797800564.0</td>\n",
              "      <td>242.0</td>\n",
              "      <td>8.4</td>\n",
              "      <td>30898.0</td>\n",
              "      <td>289.7</td>\n",
              "      <td>83.0</td>\n",
              "      <td>106.9</td>\n",
              "      <td>2021.0</td>\n",
              "      <td>1.0</td>\n",
              "      <td>3.0</td>\n",
              "    </tr>\n",
              "  </tbody>\n",
              "</table>\n",
              "</div>\n",
              "      <button class=\"colab-df-convert\" onclick=\"convertToInteractive('df-0b1b3715-f8b8-4b1b-9f42-daa85a080c5f')\"\n",
              "              title=\"Convert this dataframe to an interactive table.\"\n",
              "              style=\"display:none;\">\n",
              "        \n",
              "  <svg xmlns=\"http://www.w3.org/2000/svg\" height=\"24px\"viewBox=\"0 0 24 24\"\n",
              "       width=\"24px\">\n",
              "    <path d=\"M0 0h24v24H0V0z\" fill=\"none\"/>\n",
              "    <path d=\"M18.56 5.44l.94 2.06.94-2.06 2.06-.94-2.06-.94-.94-2.06-.94 2.06-2.06.94zm-11 1L8.5 8.5l.94-2.06 2.06-.94-2.06-.94L8.5 2.5l-.94 2.06-2.06.94zm10 10l.94 2.06.94-2.06 2.06-.94-2.06-.94-.94-2.06-.94 2.06-2.06.94z\"/><path d=\"M17.41 7.96l-1.37-1.37c-.4-.4-.92-.59-1.43-.59-.52 0-1.04.2-1.43.59L10.3 9.45l-7.72 7.72c-.78.78-.78 2.05 0 2.83L4 21.41c.39.39.9.59 1.41.59.51 0 1.02-.2 1.41-.59l7.78-7.78 2.81-2.81c.8-.78.8-2.07 0-2.86zM5.41 20L4 18.59l7.72-7.72 1.47 1.35L5.41 20z\"/>\n",
              "  </svg>\n",
              "      </button>\n",
              "      \n",
              "  <style>\n",
              "    .colab-df-container {\n",
              "      display:flex;\n",
              "      flex-wrap:wrap;\n",
              "      gap: 12px;\n",
              "    }\n",
              "\n",
              "    .colab-df-convert {\n",
              "      background-color: #E8F0FE;\n",
              "      border: none;\n",
              "      border-radius: 50%;\n",
              "      cursor: pointer;\n",
              "      display: none;\n",
              "      fill: #1967D2;\n",
              "      height: 32px;\n",
              "      padding: 0 0 0 0;\n",
              "      width: 32px;\n",
              "    }\n",
              "\n",
              "    .colab-df-convert:hover {\n",
              "      background-color: #E2EBFA;\n",
              "      box-shadow: 0px 1px 2px rgba(60, 64, 67, 0.3), 0px 1px 3px 1px rgba(60, 64, 67, 0.15);\n",
              "      fill: #174EA6;\n",
              "    }\n",
              "\n",
              "    [theme=dark] .colab-df-convert {\n",
              "      background-color: #3B4455;\n",
              "      fill: #D2E3FC;\n",
              "    }\n",
              "\n",
              "    [theme=dark] .colab-df-convert:hover {\n",
              "      background-color: #434B5C;\n",
              "      box-shadow: 0px 1px 3px 1px rgba(0, 0, 0, 0.15);\n",
              "      filter: drop-shadow(0px 1px 2px rgba(0, 0, 0, 0.3));\n",
              "      fill: #FFFFFF;\n",
              "    }\n",
              "  </style>\n",
              "\n",
              "      <script>\n",
              "        const buttonEl =\n",
              "          document.querySelector('#df-0b1b3715-f8b8-4b1b-9f42-daa85a080c5f button.colab-df-convert');\n",
              "        buttonEl.style.display =\n",
              "          google.colab.kernel.accessAllowed ? 'block' : 'none';\n",
              "\n",
              "        async function convertToInteractive(key) {\n",
              "          const element = document.querySelector('#df-0b1b3715-f8b8-4b1b-9f42-daa85a080c5f');\n",
              "          const dataTable =\n",
              "            await google.colab.kernel.invokeFunction('convertToInteractive',\n",
              "                                                     [key], {});\n",
              "          if (!dataTable) return;\n",
              "\n",
              "          const docLinkHtml = 'Like what you see? Visit the ' +\n",
              "            '<a target=\"_blank\" href=https://colab.research.google.com/notebooks/data_table.ipynb>data table notebook</a>'\n",
              "            + ' to learn more about interactive tables.';\n",
              "          element.innerHTML = '';\n",
              "          dataTable['output_type'] = 'display_data';\n",
              "          await google.colab.output.renderOutput(dataTable, element);\n",
              "          const docLink = document.createElement('div');\n",
              "          docLink.innerHTML = docLinkHtml;\n",
              "          element.appendChild(docLink);\n",
              "        }\n",
              "      </script>\n",
              "    </div>\n",
              "  </div>\n",
              "  "
            ],
            "text/plain": [
              "            budget       revenue runtime  ...    year  ratio target2\n",
              "count        938.0         938.0   938.0  ...   938.0  938.0   938.0\n",
              "mean    73259976.4   262629616.3   114.3  ...  2014.8    0.2     0.7\n",
              "std     65434808.7   309771988.3    18.3  ...     3.0    0.2     0.9\n",
              "min       100000.0      107423.0    80.0  ...  2010.0   -0.6     0.0\n",
              "25%     24000000.0    66845114.0   101.0  ...  2012.0    0.0     0.0\n",
              "50%     50000000.0   154011977.5   112.0  ...  2015.0    0.1     0.0\n",
              "75%    110000000.0   332145029.5   125.0  ...  2017.0    0.3     2.0\n",
              "max    380000000.0  2797800564.0   242.0  ...  2021.0    1.0     3.0\n",
              "\n",
              "[8 rows x 11 columns]"
            ]
          },
          "metadata": {},
          "execution_count": 56
        }
      ]
    },
    {
      "cell_type": "code",
      "metadata": {
        "id": "rHlyX09OtwWe",
        "colab": {
          "base_uri": "https://localhost:8080/",
          "height": 610
        },
        "outputId": "61eec254-2a0a-4fdd-aa59-b16836680335"
      },
      "source": [
        "movies_db[[\"vote_average\"]].boxplot(figsize=(20,10))"
      ],
      "execution_count": null,
      "outputs": [
        {
          "output_type": "execute_result",
          "data": {
            "text/plain": [
              "<matplotlib.axes._subplots.AxesSubplot at 0x7f3657847c90>"
            ]
          },
          "metadata": {},
          "execution_count": 57
        },
        {
          "output_type": "display_data",
          "data": {
            "image/png": "[encoded data removed]",
            "text/plain": [
              "<Figure size 1440x720 with 1 Axes>"
            ]
          },
          "metadata": {
            "needs_background": "light"
          }
        }
      ]
    },
    {
      "cell_type": "code",
      "metadata": {
        "id": "myEhw4Ygm5AJ",
        "colab": {
          "base_uri": "https://localhost:8080/",
          "height": 621
        },
        "outputId": "fca06118-7d10-47d1-fe1f-4ee79f7ccd91"
      },
      "source": [
        "fig, ax = plt.subplots(figsize=(20,10))\n",
        "ax.ticklabel_format(style='plain')\n",
        "movies_db.hist(\"budget\",bins=20,ax=ax)\n",
        "plt.title('Répartition du budget')\n",
        "plt.xlabel('Budget')\n",
        "plt.show()"
      ],
      "execution_count": null,
      "outputs": [
        {
          "output_type": "display_data",
          "data": {
            "image/png": "[encoded data removed]",
            "text/plain": [
              "<Figure size 1440x720 with 1 Axes>"
            ]
          },
          "metadata": {
            "needs_background": "light"
          }
        }
      ]
    },
    {
      "cell_type": "code",
      "metadata": {
        "id": "hjvh8jLBou6S",
        "colab": {
          "base_uri": "https://localhost:8080/",
          "height": 621
        },
        "outputId": "b939b001-b028-4533-f689-b006ba868c65"
      },
      "source": [
        "fig, ax = plt.subplots(figsize=(20,10))\n",
        "ax.ticklabel_format(style='plain')\n",
        "movies_db.hist(\"revenue\",bins=20,ax=ax)\n",
        "plt.title('Répartition du revenue')\n",
        "plt.xlabel('Revenue')\n",
        "plt.show()"
      ],
      "execution_count": null,
      "outputs": [
        {
          "output_type": "display_data",
          "data": {
            "image/png": "[encoded data removed]",
            "text/plain": [
              "<Figure size 1440x720 with 1 Axes>"
            ]
          },
          "metadata": {
            "needs_background": "light"
          }
        }
      ]
    },
    {
      "cell_type": "code",
      "metadata": {
        "id": "4IKJcUANLxoM",
        "colab": {
          "base_uri": "https://localhost:8080/",
          "height": 621
        },
        "outputId": "af88713f-fac5-4fed-996a-de9aab6023c0"
      },
      "source": [
        "movies_db.pivot_table(values=\"vote_count\",index=\"year\",aggfunc=\"sum\").reset_index().plot.scatter('year','vote_count',figsize=(20,10))\n",
        "plt.title(\"Nombre de votes par année de sortie de films\")\n",
        "plt.xlabel(\"Années de sortie\")\n",
        "plt.ylabel(\"Nombre de votes\")\n",
        "plt.show()"
      ],
      "execution_count": null,
      "outputs": [
        {
          "output_type": "display_data",
          "data": {
            "image/png": "[encoded data removed]",
            "text/plain": [
              "<Figure size 1440x720 with 1 Axes>"
            ]
          },
          "metadata": {
            "needs_background": "light"
          }
        }
      ]
    },
    {
      "cell_type": "code",
      "metadata": {
        "id": "XyA2X88qpJ_Z",
        "colab": {
          "base_uri": "https://localhost:8080/",
          "height": 621
        },
        "outputId": "33930347-c0de-4d97-ee8f-b0b3ae1cbc7a"
      },
      "source": [
        "fig, ax = plt.subplots()\n",
        "ax.ticklabel_format(style='plain')\n",
        "movies_db.plot.scatter(\"revenue\",\"budget\",figsize=(20,10),ax=ax)\n",
        "plt.title(\"Budget par rapport au revenue\")\n",
        "plt.xlabel(\"Revenue\")\n",
        "plt.ylabel(\"Budget\")\n",
        "plt.show()"
      ],
      "execution_count": null,
      "outputs": [
        {
          "output_type": "display_data",
          "data": {
            "image/png": "[encoded data removed]",
            "text/plain": [
              "<Figure size 1440x720 with 1 Axes>"
            ]
          },
          "metadata": {
            "needs_background": "light"
          }
        }
      ]
    },
    {
      "cell_type": "code",
      "metadata": {
        "id": "YgOkZ1pCpV48",
        "colab": {
          "base_uri": "https://localhost:8080/",
          "height": 621
        },
        "outputId": "d3cc0cb4-e566-4950-cbf8-f7c40bbd52f8"
      },
      "source": [
        "fig, ax = plt.subplots()\n",
        "ax.ticklabel_format(style='plain')\n",
        "movies_db.plot.scatter(\"revenue\",\"vote_average\",figsize=(20,10),ax=ax)\n",
        "plt.title(\"Note moyenne par rapport au revenue\")\n",
        "plt.xlabel(\"Revenue\")\n",
        "plt.ylabel(\"Note moyenne\")\n",
        "plt.show()"
      ],
      "execution_count": null,
      "outputs": [
        {
          "output_type": "display_data",
          "data": {
            "image/png": "[encoded data removed]",
            "text/plain": [
              "<Figure size 1440x720 with 1 Axes>"
            ]
          },
          "metadata": {
            "needs_background": "light"
          }
        }
      ]
    },
    {
      "cell_type": "code",
      "metadata": {
        "id": "p5C4lma4pk1c",
        "colab": {
          "base_uri": "https://localhost:8080/",
          "height": 621
        },
        "outputId": "63709642-47f2-4173-c7bf-8ed5b561b21f"
      },
      "source": [
        "fig, ax = plt.subplots()\n",
        "ax.ticklabel_format(style='plain')\n",
        "movies_db.plot.scatter(\"budget\",\"vote_average\",figsize=(20,10),ax=ax)\n",
        "plt.title(\"Note moyenne par rapport au budget\")\n",
        "plt.xlabel(\"Budget\")\n",
        "plt.ylabel(\"Note moyenne\")\n",
        "plt.show()"
      ],
      "execution_count": null,
      "outputs": [
        {
          "output_type": "display_data",
          "data": {
            "image/png": "[encoded data removed]",
            "text/plain": [
              "<Figure size 1440x720 with 1 Axes>"
            ]
          },
          "metadata": {
            "needs_background": "light"
          }
        }
      ]
    },
    {
      "cell_type": "markdown",
      "metadata": {
        "id": "hDJiMnEpl_yX"
      },
      "source": [
        "## *Exploration par genres, compagnies de production,réalisateurs, producteurs*"
      ]
    },
    {
      "cell_type": "code",
      "metadata": {
        "id": "2RHs7kAskPMM"
      },
      "source": [
        "movies_db['genres'] = movies_db['genres'].str.split(',')\n",
        "movies_db['production_companies'] = movies_db['production_companies'].str.split(',')\n",
        "movies_db[\"genres\"] = movies_db[\"genres\"].apply(lambda s: [x.strip().replace(\"'\",\"\") for x in s])\n",
        "movies_db[\"production_companies\"] = movies_db[\"production_companies\"].apply(lambda s: [x.strip().replace(\"'\",\"\") for x in s])"
      ],
      "execution_count": null,
      "outputs": []
    },
    {
      "cell_type": "code",
      "metadata": {
        "id": "JsUq2kdd0yuA",
        "colab": {
          "base_uri": "https://localhost:8080/",
          "height": 455
        },
        "outputId": "1a2464aa-e1d2-46aa-af0d-d812856793f7"
      },
      "source": [
        "\"\"\"\n",
        "companies_explode = movies_db.explode('production_companies')\n",
        "companies_pivot = pd.pivot_table(companies_explode,values='revenue',index='production_companies',aggfunc=['count','min','max','mean','sum'])\n",
        "tri_companies = companies_pivot['sum'].sort_values(ascending=False,by='revenue').reset_index()['production_companies']\n",
        "companies_pivot.loc[tri_companies].apply(lambda s: s.apply('{0:.1f}'.format))\n",
        "\"\"\"\n",
        "\n",
        "companies_explode = movies_db.explode('production_companies')\n",
        "companies_pivot = pd.pivot_table(companies_explode,values='ratio',index='production_companies',aggfunc='mean')\n",
        "companies_pivot.sort_values(by=\"ratio\", ascending=False)"
      ],
      "execution_count": null,
      "outputs": [
        {
          "output_type": "execute_result",
          "data": {
            "text/html": [
              "\n",
              "  <div id=\"df-1190a857-9fb6-4819-af2c-7350d1ae07bd\">\n",
              "    <div class=\"colab-df-container\">\n",
              "      <div>\n",
              "<style scoped>\n",
              "    .dataframe tbody tr th:only-of-type {\n",
              "        vertical-align: middle;\n",
              "    }\n",
              "\n",
              "    .dataframe tbody tr th {\n",
              "        vertical-align: top;\n",
              "    }\n",
              "\n",
              "    .dataframe thead th {\n",
              "        text-align: right;\n",
              "    }\n",
              "</style>\n",
              "<table border=\"1\" class=\"dataframe\">\n",
              "  <thead>\n",
              "    <tr style=\"text-align: right;\">\n",
              "      <th></th>\n",
              "      <th>ratio</th>\n",
              "    </tr>\n",
              "    <tr>\n",
              "      <th>production_companies</th>\n",
              "      <th></th>\n",
              "    </tr>\n",
              "  </thead>\n",
              "  <tbody>\n",
              "    <tr>\n",
              "      <th>Lynda Obst Productions</th>\n",
              "      <td>0.928409</td>\n",
              "    </tr>\n",
              "    <tr>\n",
              "      <th>Phoenix Pictures</th>\n",
              "      <td>0.703588</td>\n",
              "    </tr>\n",
              "    <tr>\n",
              "      <th>Paramount Home Entertainment</th>\n",
              "      <td>0.667335</td>\n",
              "    </tr>\n",
              "    <tr>\n",
              "      <th>EMJAG Productions</th>\n",
              "      <td>0.667335</td>\n",
              "    </tr>\n",
              "    <tr>\n",
              "      <th>Kennedy Miller Productions</th>\n",
              "      <td>0.581272</td>\n",
              "    </tr>\n",
              "    <tr>\n",
              "      <th>...</th>\n",
              "      <td>...</td>\n",
              "    </tr>\n",
              "    <tr>\n",
              "      <th>GreeneStreet Films</th>\n",
              "      <td>-0.297339</td>\n",
              "    </tr>\n",
              "    <tr>\n",
              "      <th>Witness Protection Films</th>\n",
              "      <td>-0.297339</td>\n",
              "    </tr>\n",
              "    <tr>\n",
              "      <th>Wessler Entertainment</th>\n",
              "      <td>-0.297339</td>\n",
              "    </tr>\n",
              "    <tr>\n",
              "      <th>Bad Version</th>\n",
              "      <td>-0.565024</td>\n",
              "    </tr>\n",
              "    <tr>\n",
              "      <th>Inc.</th>\n",
              "      <td>-0.565024</td>\n",
              "    </tr>\n",
              "  </tbody>\n",
              "</table>\n",
              "<p>1309 rows × 1 columns</p>\n",
              "</div>\n",
              "      <button class=\"colab-df-convert\" onclick=\"convertToInteractive('df-1190a857-9fb6-4819-af2c-7350d1ae07bd')\"\n",
              "              title=\"Convert this dataframe to an interactive table.\"\n",
              "              style=\"display:none;\">\n",
              "        \n",
              "  <svg xmlns=\"http://www.w3.org/2000/svg\" height=\"24px\"viewBox=\"0 0 24 24\"\n",
              "       width=\"24px\">\n",
              "    <path d=\"M0 0h24v24H0V0z\" fill=\"none\"/>\n",
              "    <path d=\"M18.56 5.44l.94 2.06.94-2.06 2.06-.94-2.06-.94-.94-2.06-.94 2.06-2.06.94zm-11 1L8.5 8.5l.94-2.06 2.06-.94-2.06-.94L8.5 2.5l-.94 2.06-2.06.94zm10 10l.94 2.06.94-2.06 2.06-.94-2.06-.94-.94-2.06-.94 2.06-2.06.94z\"/><path d=\"M17.41 7.96l-1.37-1.37c-.4-.4-.92-.59-1.43-.59-.52 0-1.04.2-1.43.59L10.3 9.45l-7.72 7.72c-.78.78-.78 2.05 0 2.83L4 21.41c.39.39.9.59 1.41.59.51 0 1.02-.2 1.41-.59l7.78-7.78 2.81-2.81c.8-.78.8-2.07 0-2.86zM5.41 20L4 18.59l7.72-7.72 1.47 1.35L5.41 20z\"/>\n",
              "  </svg>\n",
              "      </button>\n",
              "      \n",
              "  <style>\n",
              "    .colab-df-container {\n",
              "      display:flex;\n",
              "      flex-wrap:wrap;\n",
              "      gap: 12px;\n",
              "    }\n",
              "\n",
              "    .colab-df-convert {\n",
              "      background-color: #E8F0FE;\n",
              "      border: none;\n",
              "      border-radius: 50%;\n",
              "      cursor: pointer;\n",
              "      display: none;\n",
              "      fill: #1967D2;\n",
              "      height: 32px;\n",
              "      padding: 0 0 0 0;\n",
              "      width: 32px;\n",
              "    }\n",
              "\n",
              "    .colab-df-convert:hover {\n",
              "      background-color: #E2EBFA;\n",
              "      box-shadow: 0px 1px 2px rgba(60, 64, 67, 0.3), 0px 1px 3px 1px rgba(60, 64, 67, 0.15);\n",
              "      fill: #174EA6;\n",
              "    }\n",
              "\n",
              "    [theme=dark] .colab-df-convert {\n",
              "      background-color: #3B4455;\n",
              "      fill: #D2E3FC;\n",
              "    }\n",
              "\n",
              "    [theme=dark] .colab-df-convert:hover {\n",
              "      background-color: #434B5C;\n",
              "      box-shadow: 0px 1px 3px 1px rgba(0, 0, 0, 0.15);\n",
              "      filter: drop-shadow(0px 1px 2px rgba(0, 0, 0, 0.3));\n",
              "      fill: #FFFFFF;\n",
              "    }\n",
              "  </style>\n",
              "\n",
              "      <script>\n",
              "        const buttonEl =\n",
              "          document.querySelector('#df-1190a857-9fb6-4819-af2c-7350d1ae07bd button.colab-df-convert');\n",
              "        buttonEl.style.display =\n",
              "          google.colab.kernel.accessAllowed ? 'block' : 'none';\n",
              "\n",
              "        async function convertToInteractive(key) {\n",
              "          const element = document.querySelector('#df-1190a857-9fb6-4819-af2c-7350d1ae07bd');\n",
              "          const dataTable =\n",
              "            await google.colab.kernel.invokeFunction('convertToInteractive',\n",
              "                                                     [key], {});\n",
              "          if (!dataTable) return;\n",
              "\n",
              "          const docLinkHtml = 'Like what you see? Visit the ' +\n",
              "            '<a target=\"_blank\" href=https://colab.research.google.com/notebooks/data_table.ipynb>data table notebook</a>'\n",
              "            + ' to learn more about interactive tables.';\n",
              "          element.innerHTML = '';\n",
              "          dataTable['output_type'] = 'display_data';\n",
              "          await google.colab.output.renderOutput(dataTable, element);\n",
              "          const docLink = document.createElement('div');\n",
              "          docLink.innerHTML = docLinkHtml;\n",
              "          element.appendChild(docLink);\n",
              "        }\n",
              "      </script>\n",
              "    </div>\n",
              "  </div>\n",
              "  "
            ],
            "text/plain": [
              "                                 ratio\n",
              "production_companies                  \n",
              "Lynda Obst Productions        0.928409\n",
              "Phoenix Pictures              0.703588\n",
              "Paramount Home Entertainment  0.667335\n",
              "EMJAG Productions             0.667335\n",
              "Kennedy Miller Productions    0.581272\n",
              "...                                ...\n",
              "GreeneStreet Films           -0.297339\n",
              "Witness Protection Films     -0.297339\n",
              "Wessler Entertainment        -0.297339\n",
              "Bad Version                  -0.565024\n",
              "Inc.                         -0.565024\n",
              "\n",
              "[1309 rows x 1 columns]"
            ]
          },
          "metadata": {},
          "execution_count": 65
        }
      ]
    },
    {
      "cell_type": "code",
      "source": [
        "\"\"\"\n",
        "actors_explode = movies_db.explode('actors')\n",
        "actors_pivot = pd.pivot_table(actors_explode,values='revenue',index='actors',aggfunc=['count','min','max','mean','sum'])\n",
        "tri_actors = actors_pivot['sum'].sort_values(ascending=False,by='revenue').reset_index()['actors']\n",
        "actors_pivot.loc[tri_actors].apply(lambda s: s.apply('{0:.1f}'.format)) \n",
        "\n",
        "actors_explode = movies_db.explode('actors')\n",
        "actors_pivot = pd.pivot_table(actors_explode,values='ratio',index='actors',aggfunc='mean')\n",
        "actors_pivot.sort_values(by=\"ratio\", ascending=False)\n",
        "\"\"\""
      ],
      "metadata": {
        "colab": {
          "base_uri": "https://localhost:8080/",
          "height": 88
        },
        "id": "2jLOrKp9fm7S",
        "outputId": "04df743b-eb17-4251-c10a-5b9d2e1124fc"
      },
      "execution_count": null,
      "outputs": [
        {
          "output_type": "execute_result",
          "data": {
            "application/vnd.google.colaboratory.intrinsic+json": {
              "type": "string"
            },
            "text/plain": [
              "'\\nactors_explode = movies_db.explode(\\'actors\\')\\nactors_pivot = pd.pivot_table(actors_explode,values=\\'revenue\\',index=\\'actors\\',aggfunc=[\\'count\\',\\'min\\',\\'max\\',\\'mean\\',\\'sum\\'])\\ntri_actors = actors_pivot[\\'sum\\'].sort_values(ascending=False,by=\\'revenue\\').reset_index()[\\'actors\\']\\nactors_pivot.loc[tri_actors].apply(lambda s: s.apply(\\'{0:.1f}\\'.format)) \\n\\nactors_explode = movies_db.explode(\\'actors\\')\\nactors_pivot = pd.pivot_table(actors_explode,values=\\'ratio\\',index=\\'actors\\',aggfunc=\\'mean\\')\\nactors_pivot.sort_values(by=\"ratio\", ascending=False)\\n'"
            ]
          },
          "metadata": {},
          "execution_count": 66
        }
      ]
    },
    {
      "cell_type": "code",
      "source": [
        "#pd.pivot_table(actors_explode,index='actors').reset_index()[['actors']].to_csv(\"actors.csv\",index=False)"
      ],
      "metadata": {
        "id": "e8Br0kcAeHJy"
      },
      "execution_count": null,
      "outputs": []
    },
    {
      "cell_type": "code",
      "source": [
        "movies_db['science_fiction'] = movies_db[\"genres\"].apply(lambda s: 1 if \"Science Fiction\" in s else 0)\n",
        "movies_db['adventure'] = movies_db[\"genres\"].apply(lambda s: 1 if \"Adventure\" in s else 0)\n",
        "movies_db['drama'] = movies_db[\"genres\"].apply(lambda s: 1 if \"Drama\" in s else 0)\n",
        "movies_db['comedy'] = movies_db[\"genres\"].apply(lambda s: 1 if \"Comedy\" in s else 0)\n",
        "movies_db['action'] = movies_db[\"genres\"].apply(lambda s: 1 if \"Action\" in s else 0)\n",
        "movies_db['fantasy'] = movies_db[\"genres\"].apply(lambda s: 1 if \"Fantasy\" in s else 0)\n",
        "movies_db['thriller'] = movies_db[\"genres\"].apply(lambda s: 1 if \"Thriller\" in s else 0)\n",
        "movies_db['animation'] = movies_db[\"genres\"].apply(lambda s: 1 if \"Animation\" in s else 0)\n",
        "movies_db['family'] = movies_db[\"genres\"].apply(lambda s: 1 if \"Family\" in s else 0)"
      ],
      "metadata": {
        "id": "OuYcx7ixhkNl"
      },
      "execution_count": null,
      "outputs": []
    },
    {
      "cell_type": "code",
      "source": [
        "\"\"\"\n",
        "movies_db['pop_company'] = movies_db[\"production_companies\"].apply(lambda s: max(companies_pivot.loc[s][\"ratio\"]))\n",
        "movies_db['pop_director'] = movies_db[\"director\"].apply(lambda s: max(director_pivot.loc[s][\"ratio\"]))\n",
        "movies_db['pop_producers'] = movies_db[\"producers\"].apply(lambda s: max(producers_pivot.loc[s][\"ratio\"]))\n",
        "movies_db['pop_actors'] = movies_db[\"actors\"].apply(lambda s: sum(actors_pivot.loc[s][\"ratio\"]))\n",
        "\"\"\""
      ],
      "metadata": {
        "id": "ylL_gmH8taiD",
        "colab": {
          "base_uri": "https://localhost:8080/",
          "height": 70
        },
        "outputId": "ff9297a8-e7c7-45c9-ed42-6e99884f073b"
      },
      "execution_count": null,
      "outputs": [
        {
          "output_type": "execute_result",
          "data": {
            "application/vnd.google.colaboratory.intrinsic+json": {
              "type": "string"
            },
            "text/plain": [
              "'\\nmovies_db[\\'pop_company\\'] = movies_db[\"production_companies\"].apply(lambda s: max(companies_pivot.loc[s][\"ratio\"]))\\nmovies_db[\\'pop_director\\'] = movies_db[\"director\"].apply(lambda s: max(director_pivot.loc[s][\"ratio\"]))\\nmovies_db[\\'pop_producers\\'] = movies_db[\"producers\"].apply(lambda s: max(producers_pivot.loc[s][\"ratio\"]))\\nmovies_db[\\'pop_actors\\'] = movies_db[\"actors\"].apply(lambda s: sum(actors_pivot.loc[s][\"ratio\"]))\\n'"
            ]
          },
          "metadata": {},
          "execution_count": 69
        }
      ]
    },
    {
      "cell_type": "code",
      "source": [
        "movies_db"
      ],
      "metadata": {
        "id": "HKk-JniCoDz5",
        "colab": {
          "base_uri": "https://localhost:8080/",
          "height": 1000
        },
        "outputId": "b8505c92-d4f6-4ba7-9af5-78327fa77f0d"
      },
      "execution_count": null,
      "outputs": [
        {
          "output_type": "execute_result",
          "data": {
            "text/html": [
              "\n",
              "  <div id=\"df-b7d513b0-4ab9-4e49-8107-aba5fb45e64a\">\n",
              "    <div class=\"colab-df-container\">\n",
              "      <div>\n",
              "<style scoped>\n",
              "    .dataframe tbody tr th:only-of-type {\n",
              "        vertical-align: middle;\n",
              "    }\n",
              "\n",
              "    .dataframe tbody tr th {\n",
              "        vertical-align: top;\n",
              "    }\n",
              "\n",
              "    .dataframe thead th {\n",
              "        text-align: right;\n",
              "    }\n",
              "</style>\n",
              "<table border=\"1\" class=\"dataframe\">\n",
              "  <thead>\n",
              "    <tr style=\"text-align: right;\">\n",
              "      <th></th>\n",
              "      <th>id</th>\n",
              "      <th>title</th>\n",
              "      <th>budget</th>\n",
              "      <th>genres</th>\n",
              "      <th>original_language</th>\n",
              "      <th>overview</th>\n",
              "      <th>production_companies</th>\n",
              "      <th>release_date</th>\n",
              "      <th>revenue</th>\n",
              "      <th>runtime</th>\n",
              "      <th>vote_average</th>\n",
              "      <th>vote_count</th>\n",
              "      <th>actors</th>\n",
              "      <th>director</th>\n",
              "      <th>producers</th>\n",
              "      <th>pop_actors</th>\n",
              "      <th>pop_directors</th>\n",
              "      <th>pop_producer</th>\n",
              "      <th>year</th>\n",
              "      <th>ratio</th>\n",
              "      <th>target</th>\n",
              "      <th>target2</th>\n",
              "      <th>science_fiction</th>\n",
              "      <th>adventure</th>\n",
              "      <th>drama</th>\n",
              "      <th>comedy</th>\n",
              "      <th>action</th>\n",
              "      <th>fantasy</th>\n",
              "      <th>thriller</th>\n",
              "      <th>animation</th>\n",
              "      <th>family</th>\n",
              "    </tr>\n",
              "  </thead>\n",
              "  <tbody>\n",
              "    <tr>\n",
              "      <th>0</th>\n",
              "      <td>524434</td>\n",
              "      <td>Eternals</td>\n",
              "      <td>200000000</td>\n",
              "      <td>[Action, Adventure, Fantasy, Science Fiction]</td>\n",
              "      <td>en</td>\n",
              "      <td>The Eternals are a team of ancient aliens who ...</td>\n",
              "      <td>[Marvel Studios]</td>\n",
              "      <td>2021-11-03</td>\n",
              "      <td>402027582</td>\n",
              "      <td>156.0</td>\n",
              "      <td>7.2</td>\n",
              "      <td>4137</td>\n",
              "      <td>[Gemma Chan, Gemma Chan, Richard Madden, Richa...</td>\n",
              "      <td>{'adult': False, 'gender': 1, 'id': 1395183, '...</td>\n",
              "      <td>{'adult': False, 'gender': 2, 'id': 10850, 'kn...</td>\n",
              "      <td>125.108</td>\n",
              "      <td>11.639</td>\n",
              "      <td>14.992</td>\n",
              "      <td>2021</td>\n",
              "      <td>0.193489</td>\n",
              "      <td>BOF</td>\n",
              "      <td>2</td>\n",
              "      <td>1</td>\n",
              "      <td>1</td>\n",
              "      <td>0</td>\n",
              "      <td>0</td>\n",
              "      <td>1</td>\n",
              "      <td>1</td>\n",
              "      <td>0</td>\n",
              "      <td>0</td>\n",
              "      <td>0</td>\n",
              "    </tr>\n",
              "    <tr>\n",
              "      <th>1</th>\n",
              "      <td>189</td>\n",
              "      <td>Sin City: A Dame to Kill For</td>\n",
              "      <td>65000000</td>\n",
              "      <td>[Crime, Action, Thriller]</td>\n",
              "      <td>en</td>\n",
              "      <td>Some of Sin City's most hard-boiled citizens c...</td>\n",
              "      <td>[Residaco, Miramax, Troublemaker Studios, Alda...</td>\n",
              "      <td>2014-08-20</td>\n",
              "      <td>39407616</td>\n",
              "      <td>102.0</td>\n",
              "      <td>6.3</td>\n",
              "      <td>3118</td>\n",
              "      <td>[Mickey Rourke, Mickey Rourke, Jessica Alba, J...</td>\n",
              "      <td>{'adult': False, 'gender': 2, 'id': 2294, 'kno...</td>\n",
              "      <td>{'adult': False, 'gender': 2, 'id': 2294, 'kno...</td>\n",
              "      <td>122.319</td>\n",
              "      <td>14.280</td>\n",
              "      <td>12.013</td>\n",
              "      <td>2014</td>\n",
              "      <td>0.023026</td>\n",
              "      <td>BOF</td>\n",
              "      <td>0</td>\n",
              "      <td>0</td>\n",
              "      <td>0</td>\n",
              "      <td>0</td>\n",
              "      <td>0</td>\n",
              "      <td>1</td>\n",
              "      <td>0</td>\n",
              "      <td>1</td>\n",
              "      <td>0</td>\n",
              "      <td>0</td>\n",
              "    </tr>\n",
              "    <tr>\n",
              "      <th>2</th>\n",
              "      <td>393457</td>\n",
              "      <td>Fences</td>\n",
              "      <td>24000000</td>\n",
              "      <td>[Drama]</td>\n",
              "      <td>en</td>\n",
              "      <td>In 1950s Pittsburgh, a frustrated African-Amer...</td>\n",
              "      <td>[Paramount, Scott Rudin Productions, MACRO, Br...</td>\n",
              "      <td>2016-12-16</td>\n",
              "      <td>64414761</td>\n",
              "      <td>139.0</td>\n",
              "      <td>6.8</td>\n",
              "      <td>2115</td>\n",
              "      <td>[Denzel Washington, Denzel Washington, Troy Ma...</td>\n",
              "      <td>{'adult': False, 'gender': 2, 'id': 5292, 'kno...</td>\n",
              "      <td>{'adult': False, 'gender': 2, 'id': 2997, 'kno...</td>\n",
              "      <td>73.304</td>\n",
              "      <td>32.818</td>\n",
              "      <td>35.038</td>\n",
              "      <td>2016</td>\n",
              "      <td>0.082373</td>\n",
              "      <td>BOF</td>\n",
              "      <td>0</td>\n",
              "      <td>0</td>\n",
              "      <td>0</td>\n",
              "      <td>1</td>\n",
              "      <td>0</td>\n",
              "      <td>0</td>\n",
              "      <td>0</td>\n",
              "      <td>0</td>\n",
              "      <td>0</td>\n",
              "      <td>0</td>\n",
              "    </tr>\n",
              "    <tr>\n",
              "      <th>3</th>\n",
              "      <td>262500</td>\n",
              "      <td>Insurgent</td>\n",
              "      <td>110000000</td>\n",
              "      <td>[Action, Adventure, Science Fiction, Thriller]</td>\n",
              "      <td>en</td>\n",
              "      <td>Beatrice Prior must confront her inner demons ...</td>\n",
              "      <td>[Summit Entertainment, Red Wagon Entertainment...</td>\n",
              "      <td>2015-03-18</td>\n",
              "      <td>295238201</td>\n",
              "      <td>119.0</td>\n",
              "      <td>6.4</td>\n",
              "      <td>8735</td>\n",
              "      <td>[Shailene Woodley, Shailene Woodley, Beatrice ...</td>\n",
              "      <td>{'adult': False, 'gender': 2, 'id': 57270, 'kn...</td>\n",
              "      <td>{'adult': False, 'gender': 2, 'id': 931, 'know...</td>\n",
              "      <td>93.900</td>\n",
              "      <td>2.412</td>\n",
              "      <td>3.066</td>\n",
              "      <td>2015</td>\n",
              "      <td>0.168485</td>\n",
              "      <td>BOF</td>\n",
              "      <td>2</td>\n",
              "      <td>1</td>\n",
              "      <td>1</td>\n",
              "      <td>0</td>\n",
              "      <td>0</td>\n",
              "      <td>1</td>\n",
              "      <td>0</td>\n",
              "      <td>1</td>\n",
              "      <td>0</td>\n",
              "      <td>0</td>\n",
              "    </tr>\n",
              "    <tr>\n",
              "      <th>4</th>\n",
              "      <td>262504</td>\n",
              "      <td>Allegiant</td>\n",
              "      <td>110000000</td>\n",
              "      <td>[Adventure, Science Fiction, Action, Mystery]</td>\n",
              "      <td>en</td>\n",
              "      <td>Beatrice Prior and Tobias Eaton venture into t...</td>\n",
              "      <td>[Mandeville Films, Summit Entertainment, Lions...</td>\n",
              "      <td>2016-03-09</td>\n",
              "      <td>179246868</td>\n",
              "      <td>120.0</td>\n",
              "      <td>6.1</td>\n",
              "      <td>5658</td>\n",
              "      <td>[Shailene Woodley, Shailene Woodley, Beatrice ...</td>\n",
              "      <td>{'adult': False, 'gender': 2, 'id': 57270, 'kn...</td>\n",
              "      <td>{'adult': False, 'gender': 2, 'id': 931, 'know...</td>\n",
              "      <td>91.913</td>\n",
              "      <td>2.412</td>\n",
              "      <td>3.066</td>\n",
              "      <td>2016</td>\n",
              "      <td>0.049269</td>\n",
              "      <td>BOF</td>\n",
              "      <td>0</td>\n",
              "      <td>1</td>\n",
              "      <td>1</td>\n",
              "      <td>0</td>\n",
              "      <td>0</td>\n",
              "      <td>1</td>\n",
              "      <td>0</td>\n",
              "      <td>0</td>\n",
              "      <td>0</td>\n",
              "      <td>0</td>\n",
              "    </tr>\n",
              "    <tr>\n",
              "      <th>...</th>\n",
              "      <td>...</td>\n",
              "      <td>...</td>\n",
              "      <td>...</td>\n",
              "      <td>...</td>\n",
              "      <td>...</td>\n",
              "      <td>...</td>\n",
              "      <td>...</td>\n",
              "      <td>...</td>\n",
              "      <td>...</td>\n",
              "      <td>...</td>\n",
              "      <td>...</td>\n",
              "      <td>...</td>\n",
              "      <td>...</td>\n",
              "      <td>...</td>\n",
              "      <td>...</td>\n",
              "      <td>...</td>\n",
              "      <td>...</td>\n",
              "      <td>...</td>\n",
              "      <td>...</td>\n",
              "      <td>...</td>\n",
              "      <td>...</td>\n",
              "      <td>...</td>\n",
              "      <td>...</td>\n",
              "      <td>...</td>\n",
              "      <td>...</td>\n",
              "      <td>...</td>\n",
              "      <td>...</td>\n",
              "      <td>...</td>\n",
              "      <td>...</td>\n",
              "      <td>...</td>\n",
              "      <td>...</td>\n",
              "    </tr>\n",
              "    <tr>\n",
              "      <th>933</th>\n",
              "      <td>522938</td>\n",
              "      <td>Rambo: Last Blood</td>\n",
              "      <td>50000000</td>\n",
              "      <td>[Action, Thriller, Drama]</td>\n",
              "      <td>en</td>\n",
              "      <td>After fighting his demons for decades, John Ra...</td>\n",
              "      <td>[Millennium Films, Templeton Media, Campbell G...</td>\n",
              "      <td>2019-09-19</td>\n",
              "      <td>91490353</td>\n",
              "      <td>89.0</td>\n",
              "      <td>6.5</td>\n",
              "      <td>2925</td>\n",
              "      <td>[Sylvester Stallone, Sylvester Stallone, John ...</td>\n",
              "      <td>{'adult': False, 'gender': 2, 'id': 589402, 'k...</td>\n",
              "      <td>{'adult': False, 'gender': 0, 'id': 16486, 'kn...</td>\n",
              "      <td>79.491</td>\n",
              "      <td>4.049</td>\n",
              "      <td>6.938</td>\n",
              "      <td>2019</td>\n",
              "      <td>0.051958</td>\n",
              "      <td>BOF</td>\n",
              "      <td>0</td>\n",
              "      <td>0</td>\n",
              "      <td>0</td>\n",
              "      <td>1</td>\n",
              "      <td>0</td>\n",
              "      <td>1</td>\n",
              "      <td>0</td>\n",
              "      <td>1</td>\n",
              "      <td>0</td>\n",
              "      <td>0</td>\n",
              "    </tr>\n",
              "    <tr>\n",
              "      <th>934</th>\n",
              "      <td>392044</td>\n",
              "      <td>Murder on the Orient Express</td>\n",
              "      <td>55000000</td>\n",
              "      <td>[Mystery, Crime, Drama]</td>\n",
              "      <td>en</td>\n",
              "      <td>Genius Belgian detective Hercule Poirot invest...</td>\n",
              "      <td>[The Mark Gordon Company, Scott Free Productio...</td>\n",
              "      <td>2017-11-03</td>\n",
              "      <td>351839303</td>\n",
              "      <td>114.0</td>\n",
              "      <td>6.7</td>\n",
              "      <td>8045</td>\n",
              "      <td>[Tom Bateman, Tom Bateman, Kenneth Branagh, Ke...</td>\n",
              "      <td>{'adult': False, 'gender': 2, 'id': 11181, 'kn...</td>\n",
              "      <td>{'adult': False, 'gender': 2, 'id': 578, 'know...</td>\n",
              "      <td>143.077</td>\n",
              "      <td>20.555</td>\n",
              "      <td>47.196</td>\n",
              "      <td>2017</td>\n",
              "      <td>0.201671</td>\n",
              "      <td>BOF</td>\n",
              "      <td>2</td>\n",
              "      <td>0</td>\n",
              "      <td>0</td>\n",
              "      <td>1</td>\n",
              "      <td>0</td>\n",
              "      <td>0</td>\n",
              "      <td>0</td>\n",
              "      <td>0</td>\n",
              "      <td>0</td>\n",
              "      <td>0</td>\n",
              "    </tr>\n",
              "    <tr>\n",
              "      <th>935</th>\n",
              "      <td>261023</td>\n",
              "      <td>Black Mass</td>\n",
              "      <td>53000000</td>\n",
              "      <td>[Drama, Crime, History]</td>\n",
              "      <td>en</td>\n",
              "      <td>The true story of Whitey Bulger, the brother o...</td>\n",
              "      <td>[Vendian Entertainment, Infinitum Nihil, Head ...</td>\n",
              "      <td>2015-09-04</td>\n",
              "      <td>98837872</td>\n",
              "      <td>123.0</td>\n",
              "      <td>6.4</td>\n",
              "      <td>2787</td>\n",
              "      <td>[Johnny Depp, Johnny Depp, James , Joel Edgert...</td>\n",
              "      <td>{'adult': False, 'gender': 2, 'id': 65167, 'kn...</td>\n",
              "      <td>{'adult': False, 'gender': 2, 'id': 57049, 'kn...</td>\n",
              "      <td>91.819</td>\n",
              "      <td>5.977</td>\n",
              "      <td>11.275</td>\n",
              "      <td>2015</td>\n",
              "      <td>0.032555</td>\n",
              "      <td>BOF</td>\n",
              "      <td>0</td>\n",
              "      <td>0</td>\n",
              "      <td>0</td>\n",
              "      <td>1</td>\n",
              "      <td>0</td>\n",
              "      <td>0</td>\n",
              "      <td>0</td>\n",
              "      <td>0</td>\n",
              "      <td>0</td>\n",
              "      <td>0</td>\n",
              "    </tr>\n",
              "    <tr>\n",
              "      <th>936</th>\n",
              "      <td>261392</td>\n",
              "      <td>American Ultra</td>\n",
              "      <td>28000000</td>\n",
              "      <td>[Comedy, Action]</td>\n",
              "      <td>en</td>\n",
              "      <td>Mike is an unmotivated stoner whose small-town...</td>\n",
              "      <td>[Merced Media Partners, Lionsgate, The Bridge ...</td>\n",
              "      <td>2015-08-19</td>\n",
              "      <td>27139524</td>\n",
              "      <td>96.0</td>\n",
              "      <td>6.1</td>\n",
              "      <td>2368</td>\n",
              "      <td>[Jesse Eisenberg, Jesse Eisenberg, Mike Howell...</td>\n",
              "      <td>{'adult': False, 'gender': 2, 'id': 1299380, '...</td>\n",
              "      <td>{'adult': False, 'gender': 2, 'id': 321, 'know...</td>\n",
              "      <td>86.217</td>\n",
              "      <td>3.029</td>\n",
              "      <td>5.726</td>\n",
              "      <td>2015</td>\n",
              "      <td>-0.026160</td>\n",
              "      <td>FLOP</td>\n",
              "      <td>0</td>\n",
              "      <td>0</td>\n",
              "      <td>0</td>\n",
              "      <td>0</td>\n",
              "      <td>1</td>\n",
              "      <td>1</td>\n",
              "      <td>0</td>\n",
              "      <td>0</td>\n",
              "      <td>0</td>\n",
              "      <td>0</td>\n",
              "    </tr>\n",
              "    <tr>\n",
              "      <th>937</th>\n",
              "      <td>524047</td>\n",
              "      <td>Greenland</td>\n",
              "      <td>34000000</td>\n",
              "      <td>[Action, Thriller, Drama]</td>\n",
              "      <td>en</td>\n",
              "      <td>John Garrity, his estranged wife and their you...</td>\n",
              "      <td>[STX Entertainment, Thunder Road, Anton, G-BAS...</td>\n",
              "      <td>2020-07-29</td>\n",
              "      <td>47800000</td>\n",
              "      <td>120.0</td>\n",
              "      <td>7.2</td>\n",
              "      <td>3245</td>\n",
              "      <td>[Gerard Butler, Gerard Butler, John Garrity, M...</td>\n",
              "      <td>{'adult': False, 'gender': 2, 'id': 76422, 'kn...</td>\n",
              "      <td>{'adult': False, 'gender': 2, 'id': 17276, 'kn...</td>\n",
              "      <td>79.512</td>\n",
              "      <td>3.784</td>\n",
              "      <td>28.956</td>\n",
              "      <td>2020</td>\n",
              "      <td>0.172964</td>\n",
              "      <td>BOF</td>\n",
              "      <td>0</td>\n",
              "      <td>0</td>\n",
              "      <td>0</td>\n",
              "      <td>1</td>\n",
              "      <td>0</td>\n",
              "      <td>1</td>\n",
              "      <td>0</td>\n",
              "      <td>1</td>\n",
              "      <td>0</td>\n",
              "      <td>0</td>\n",
              "    </tr>\n",
              "  </tbody>\n",
              "</table>\n",
              "<p>938 rows × 31 columns</p>\n",
              "</div>\n",
              "      <button class=\"colab-df-convert\" onclick=\"convertToInteractive('df-b7d513b0-4ab9-4e49-8107-aba5fb45e64a')\"\n",
              "              title=\"Convert this dataframe to an interactive table.\"\n",
              "              style=\"display:none;\">\n",
              "        \n",
              "  <svg xmlns=\"http://www.w3.org/2000/svg\" height=\"24px\"viewBox=\"0 0 24 24\"\n",
              "       width=\"24px\">\n",
              "    <path d=\"M0 0h24v24H0V0z\" fill=\"none\"/>\n",
              "    <path d=\"M18.56 5.44l.94 2.06.94-2.06 2.06-.94-2.06-.94-.94-2.06-.94 2.06-2.06.94zm-11 1L8.5 8.5l.94-2.06 2.06-.94-2.06-.94L8.5 2.5l-.94 2.06-2.06.94zm10 10l.94 2.06.94-2.06 2.06-.94-2.06-.94-.94-2.06-.94 2.06-2.06.94z\"/><path d=\"M17.41 7.96l-1.37-1.37c-.4-.4-.92-.59-1.43-.59-.52 0-1.04.2-1.43.59L10.3 9.45l-7.72 7.72c-.78.78-.78 2.05 0 2.83L4 21.41c.39.39.9.59 1.41.59.51 0 1.02-.2 1.41-.59l7.78-7.78 2.81-2.81c.8-.78.8-2.07 0-2.86zM5.41 20L4 18.59l7.72-7.72 1.47 1.35L5.41 20z\"/>\n",
              "  </svg>\n",
              "      </button>\n",
              "      \n",
              "  <style>\n",
              "    .colab-df-container {\n",
              "      display:flex;\n",
              "      flex-wrap:wrap;\n",
              "      gap: 12px;\n",
              "    }\n",
              "\n",
              "    .colab-df-convert {\n",
              "      background-color: #E8F0FE;\n",
              "      border: none;\n",
              "      border-radius: 50%;\n",
              "      cursor: pointer;\n",
              "      display: none;\n",
              "      fill: #1967D2;\n",
              "      height: 32px;\n",
              "      padding: 0 0 0 0;\n",
              "      width: 32px;\n",
              "    }\n",
              "\n",
              "    .colab-df-convert:hover {\n",
              "      background-color: #E2EBFA;\n",
              "      box-shadow: 0px 1px 2px rgba(60, 64, 67, 0.3), 0px 1px 3px 1px rgba(60, 64, 67, 0.15);\n",
              "      fill: #174EA6;\n",
              "    }\n",
              "\n",
              "    [theme=dark] .colab-df-convert {\n",
              "      background-color: #3B4455;\n",
              "      fill: #D2E3FC;\n",
              "    }\n",
              "\n",
              "    [theme=dark] .colab-df-convert:hover {\n",
              "      background-color: #434B5C;\n",
              "      box-shadow: 0px 1px 3px 1px rgba(0, 0, 0, 0.15);\n",
              "      filter: drop-shadow(0px 1px 2px rgba(0, 0, 0, 0.3));\n",
              "      fill: #FFFFFF;\n",
              "    }\n",
              "  </style>\n",
              "\n",
              "      <script>\n",
              "        const buttonEl =\n",
              "          document.querySelector('#df-b7d513b0-4ab9-4e49-8107-aba5fb45e64a button.colab-df-convert');\n",
              "        buttonEl.style.display =\n",
              "          google.colab.kernel.accessAllowed ? 'block' : 'none';\n",
              "\n",
              "        async function convertToInteractive(key) {\n",
              "          const element = document.querySelector('#df-b7d513b0-4ab9-4e49-8107-aba5fb45e64a');\n",
              "          const dataTable =\n",
              "            await google.colab.kernel.invokeFunction('convertToInteractive',\n",
              "                                                     [key], {});\n",
              "          if (!dataTable) return;\n",
              "\n",
              "          const docLinkHtml = 'Like what you see? Visit the ' +\n",
              "            '<a target=\"_blank\" href=https://colab.research.google.com/notebooks/data_table.ipynb>data table notebook</a>'\n",
              "            + ' to learn more about interactive tables.';\n",
              "          element.innerHTML = '';\n",
              "          dataTable['output_type'] = 'display_data';\n",
              "          await google.colab.output.renderOutput(dataTable, element);\n",
              "          const docLink = document.createElement('div');\n",
              "          docLink.innerHTML = docLinkHtml;\n",
              "          element.appendChild(docLink);\n",
              "        }\n",
              "      </script>\n",
              "    </div>\n",
              "  </div>\n",
              "  "
            ],
            "text/plain": [
              "         id                         title  ...  animation family\n",
              "0    524434                      Eternals  ...          0      0\n",
              "1       189  Sin City: A Dame to Kill For  ...          0      0\n",
              "2    393457                        Fences  ...          0      0\n",
              "3    262500                     Insurgent  ...          0      0\n",
              "4    262504                     Allegiant  ...          0      0\n",
              "..      ...                           ...  ...        ...    ...\n",
              "933  522938             Rambo: Last Blood  ...          0      0\n",
              "934  392044  Murder on the Orient Express  ...          0      0\n",
              "935  261023                    Black Mass  ...          0      0\n",
              "936  261392                American Ultra  ...          0      0\n",
              "937  524047                     Greenland  ...          0      0\n",
              "\n",
              "[938 rows x 31 columns]"
            ]
          },
          "metadata": {},
          "execution_count": 70
        }
      ]
    },
    {
      "cell_type": "code",
      "source": [
        "# movies_db[[\"title\"]].to_csv(\"movies_titles.csv\")"
      ],
      "metadata": {
        "id": "4hR2zYRiVatl"
      },
      "execution_count": null,
      "outputs": []
    },
    {
      "cell_type": "markdown",
      "source": [
        "IMPORT YOUTUBE LIKE VIEWS AND INSTAGRAM FOLLOWERS "
      ],
      "metadata": {
        "id": "3NKci6XSyF0V"
      }
    },
    {
      "cell_type": "code",
      "source": [
        "youtube = pd.read_csv(\"Film_View_Like_BIS.csv\",engine='python',names=[\"count_view\",\"count_like\"],sep=None)"
      ],
      "metadata": {
        "id": "YyCtcIrEr8BN"
      },
      "execution_count": null,
      "outputs": []
    },
    {
      "cell_type": "code",
      "source": [
        "youtube"
      ],
      "metadata": {
        "id": "mfAfTm_gXEu7"
      },
      "execution_count": null,
      "outputs": []
    },
    {
      "cell_type": "code",
      "source": [
        "youtube.reset_index(inplace=True)"
      ],
      "metadata": {
        "id": "ANLNb219UrTc"
      },
      "execution_count": null,
      "outputs": []
    },
    {
      "cell_type": "code",
      "source": [
        "youtube.rename(columns={\"index\":\"title\"},inplace=True)"
      ],
      "metadata": {
        "id": "9cLI1I3UWLxI"
      },
      "execution_count": null,
      "outputs": []
    },
    {
      "cell_type": "code",
      "source": [
        "# instagram = pd.read_csv(\"actors_nb_ab.csv\",engine='python',names=[\"actors\",\"followers\"],sep=None)\n",
        "# instagram"
      ],
      "metadata": {
        "id": "3DJc99XMySiU"
      },
      "execution_count": null,
      "outputs": []
    },
    {
      "cell_type": "code",
      "source": [
        "# instagram.set_index(\"actors\",inplace=True)"
      ],
      "metadata": {
        "id": "Pb1esKvnzXFZ"
      },
      "execution_count": null,
      "outputs": []
    },
    {
      "cell_type": "code",
      "source": [
        "# instagram.loc[\"Aaron Paul\"]"
      ],
      "metadata": {
        "id": "9LTj3rVT5xQI"
      },
      "execution_count": null,
      "outputs": []
    },
    {
      "cell_type": "code",
      "source": [
        "# followers=[]\n",
        "# for i in range(len(movies_db[\"actors\"])):\n",
        "#   sum=0\n",
        "#   for actor in movies_db[\"actors\"][i]:\n",
        "#     if actor in instagram.index.values:\n",
        "#       sum+=instagram.loc[actor][\"followers\"]\n",
        "#   followers.append(sum)"
      ],
      "metadata": {
        "id": "gbV1G02o6JB1"
      },
      "execution_count": null,
      "outputs": []
    },
    {
      "cell_type": "code",
      "source": [
        "# movies_db['pop_actors'] = \n",
        "# movies_db[\"actors_followers\"]=followers"
      ],
      "metadata": {
        "id": "Ix7ZnyvH2wq4"
      },
      "execution_count": null,
      "outputs": []
    },
    {
      "cell_type": "code",
      "source": [
        "youtube.head()"
      ],
      "metadata": {
        "id": "DohQXCx98_xI"
      },
      "execution_count": null,
      "outputs": []
    },
    {
      "cell_type": "markdown",
      "source": [
        "Had an issue with Robin hood, there are 2 movies with the same name"
      ],
      "metadata": {
        "id": "YizD8zZtyozH"
      }
    },
    {
      "cell_type": "code",
      "source": [
        "# movies_db.loc[143,\"title\"]=\"Robin Hood 2010\"\n",
        "# movies_db.loc[838,\"title\"]=\"Robin Hood 2018\""
      ],
      "metadata": {
        "id": "9g2C0jqpHYEp"
      },
      "execution_count": null,
      "outputs": []
    },
    {
      "cell_type": "code",
      "source": [
        "# movies_db[(movies_db[\"title\"]=='Robin Hood 2010')]"
      ],
      "metadata": {
        "id": "5MTNME3bIIQp"
      },
      "execution_count": null,
      "outputs": []
    },
    {
      "cell_type": "code",
      "source": [
        "youtube"
      ],
      "metadata": {
        "id": "evl6L45VYzld"
      },
      "execution_count": null,
      "outputs": []
    },
    {
      "cell_type": "code",
      "source": [
        "movies_db['title']=movies_db['title'].apply(lambda s: s.replace(\":\",\" \"))\n",
        "movies_db['title']=movies_db['title'].apply(lambda s: s.replace(\"-\",\" \"))\n",
        "youtube['title']=youtube['title'].apply(lambda s: s.replace('\"',''))\n",
        "youtube['title']=youtube['title'].apply(lambda s: s.replace(\":\",\" \"))\n",
        "youtube['title']=youtube['title'].apply(lambda s: s.replace(\"-\",\" \"))"
      ],
      "metadata": {
        "id": "TNrQxjfIA3Y6"
      },
      "execution_count": null,
      "outputs": []
    },
    {
      "cell_type": "code",
      "source": [
        "movies_db.merge(youtube, how = 'outer' ,indicator=True).loc[lambda x : x['_merge']=='left_only'][\"title\"]"
      ],
      "metadata": {
        "id": "eeIbbNL_ezxJ"
      },
      "execution_count": null,
      "outputs": []
    },
    {
      "cell_type": "code",
      "source": [
        "youtube.merge(movies_db, how = 'outer' ,indicator=True).loc[lambda x : x['_merge']=='left_only'][\"title\"]"
      ],
      "metadata": {
        "id": "9aKwsRLsaG-1"
      },
      "execution_count": null,
      "outputs": []
    },
    {
      "cell_type": "code",
      "source": [
        "movies_db=pd.merge(movies_db,youtube,on=[\"title\"])"
      ],
      "metadata": {
        "id": "Ys_Mslt2eiN0"
      },
      "execution_count": null,
      "outputs": []
    },
    {
      "cell_type": "code",
      "source": [
        "movies_db[movies_db.isnull().any(axis=1)]"
      ],
      "metadata": {
        "id": "aO7Sv1VjdgTq"
      },
      "execution_count": null,
      "outputs": []
    },
    {
      "cell_type": "code",
      "source": [
        "movies_model_data=movies_db.copy()"
      ],
      "metadata": {
        "id": "kGDzmxgDLo9h"
      },
      "execution_count": null,
      "outputs": []
    },
    {
      "cell_type": "code",
      "source": [
        "movies_model_data.columns"
      ],
      "metadata": {
        "id": "8K0OlZuoOb_q"
      },
      "execution_count": null,
      "outputs": []
    },
    {
      "cell_type": "code",
      "source": [
        "# movies_model_data.drop([\"id\",\"genres\",'original_language', 'overview','production_companies', 'release_date','actors', 'director', 'producers','target2','year','vote_average','vote_count','revenue','ratio'],axis=1,inplace=True)\n",
        "kmeans_movies=movies_db[[\"title\",'vote_average','vote_count','revenue']]"
      ],
      "metadata": {
        "id": "0G7WXfz4OHMw"
      },
      "execution_count": null,
      "outputs": []
    },
    {
      "cell_type": "code",
      "source": [
        "# movies_model_data"
      ],
      "metadata": {
        "id": "L29wPwe7O3zT"
      },
      "execution_count": null,
      "outputs": []
    },
    {
      "cell_type": "code",
      "source": [
        "# movies_model_data.to_csv(\"movies_model_data_final.csv\",index=False)"
      ],
      "metadata": {
        "id": "PRtDNs24PXg6"
      },
      "execution_count": null,
      "outputs": []
    },
    {
      "cell_type": "code",
      "source": [
        "# movies_model_data = pd.read_csv(\"movies_model_data_final.csv\",engine='python')"
      ],
      "metadata": {
        "id": "FAIf5IO4f0d6"
      },
      "execution_count": null,
      "outputs": []
    },
    {
      "cell_type": "markdown",
      "source": [
        "TEST SET AND TRAIN SET"
      ],
      "metadata": {
        "id": "uH-_2VEMQdP4"
      }
    },
    {
      "cell_type": "code",
      "source": [
        "\"\"\"\n",
        "x = movies_model_data.drop([\"target2\",\"title\"],axis=1)\n",
        "y = movies_model_data[\"target2\"]\n",
        "x_train, x_test, y_train, y_test = train_test_split(x, y, test_size=0.33)\n",
        "\"\"\""
      ],
      "metadata": {
        "id": "JhdmB1njQcZ2"
      },
      "execution_count": null,
      "outputs": []
    },
    {
      "cell_type": "code",
      "source": [
        "scaler = StandardScaler()\n",
        "scaler.fit(movies_model_data.drop([\"target\",\"title\"],axis=1))\n",
        "movies_model_data_scaled = scaler.transform(movies_model_data.drop([\"target\",\"title\"],axis=1))\n",
        "movies_model_data_scaled = pd.DataFrame(movies_model_data_scaled)\n",
        "movies_model_data_scaled.columns = movies_model_data.drop([\"target\",\"title\"],axis=1).columns\n",
        "movies_model_data_scaled[\"target\"] = movies_model_data[\"target\"]\n",
        "movies_model_data_scaled[\"title\"] = movies_model_data[\"title\"]\n",
        "movies_model_data_scaled"
      ],
      "metadata": {
        "id": "o7mD3bW4QNo1"
      },
      "execution_count": null,
      "outputs": []
    },
    {
      "cell_type": "markdown",
      "source": [
        "KMEANS\n"
      ],
      "metadata": {
        "id": "CdcRYgLVGd5m"
      }
    },
    {
      "cell_type": "code",
      "source": [
        "kmeans_movies"
      ],
      "metadata": {
        "id": "iBY6rtgnGdLS"
      },
      "execution_count": null,
      "outputs": []
    },
    {
      "cell_type": "code",
      "source": [
        "scaler = StandardScaler()\n",
        "scaler.fit(kmeans_movies.drop([\"title\"],axis=1))\n",
        "kmeans_movies_scaled = scaler.transform(kmeans_movies.drop([\"title\"],axis=1))\n",
        "kmeans_movies_scaled = pd.DataFrame(kmeans_movies_scaled)\n",
        "kmeans_movies_scaled.columns = kmeans_movies.drop([\"title\"],axis=1).columns\n",
        "kmeans_movies_scaled[\"title\"] = kmeans_movies[\"title\"]\n",
        "kmeans_movies_scaled"
      ],
      "metadata": {
        "colab": {
          "base_uri": "https://localhost:8080/",
          "height": 423
        },
        "id": "l1nPhdFJGrBi",
        "outputId": "428d49ae-dc3d-429f-bedb-163e32c16483"
      },
      "execution_count": null,
      "outputs": [
        {
          "output_type": "execute_result",
          "data": {
            "text/html": [
              "\n",
              "  <div id=\"df-4410e44e-e3c0-49c8-9e79-b8aa5d438245\">\n",
              "    <div class=\"colab-df-container\">\n",
              "      <div>\n",
              "<style scoped>\n",
              "    .dataframe tbody tr th:only-of-type {\n",
              "        vertical-align: middle;\n",
              "    }\n",
              "\n",
              "    .dataframe tbody tr th {\n",
              "        vertical-align: top;\n",
              "    }\n",
              "\n",
              "    .dataframe thead th {\n",
              "        text-align: right;\n",
              "    }\n",
              "</style>\n",
              "<table border=\"1\" class=\"dataframe\">\n",
              "  <thead>\n",
              "    <tr style=\"text-align: right;\">\n",
              "      <th></th>\n",
              "      <th>vote_average</th>\n",
              "      <th>vote_count</th>\n",
              "      <th>revenue</th>\n",
              "      <th>title</th>\n",
              "    </tr>\n",
              "  </thead>\n",
              "  <tbody>\n",
              "    <tr>\n",
              "      <th>0</th>\n",
              "      <td>0.624532</td>\n",
              "      <td>-0.314292</td>\n",
              "      <td>0.450242</td>\n",
              "      <td>Eternals</td>\n",
              "    </tr>\n",
              "    <tr>\n",
              "      <th>1</th>\n",
              "      <td>-0.641327</td>\n",
              "      <td>-0.554645</td>\n",
              "      <td>-0.720985</td>\n",
              "      <td>Sin City: A Dame to Kill For</td>\n",
              "    </tr>\n",
              "    <tr>\n",
              "      <th>2</th>\n",
              "      <td>0.061928</td>\n",
              "      <td>-0.791224</td>\n",
              "      <td>-0.640215</td>\n",
              "      <td>Fences</td>\n",
              "    </tr>\n",
              "    <tr>\n",
              "      <th>3</th>\n",
              "      <td>-0.500676</td>\n",
              "      <td>0.770245</td>\n",
              "      <td>0.105323</td>\n",
              "      <td>Insurgent</td>\n",
              "    </tr>\n",
              "    <tr>\n",
              "      <th>4</th>\n",
              "      <td>-0.922629</td>\n",
              "      <td>0.044468</td>\n",
              "      <td>-0.269318</td>\n",
              "      <td>Allegiant</td>\n",
              "    </tr>\n",
              "    <tr>\n",
              "      <th>...</th>\n",
              "      <td>...</td>\n",
              "      <td>...</td>\n",
              "      <td>...</td>\n",
              "      <td>...</td>\n",
              "    </tr>\n",
              "    <tr>\n",
              "      <th>933</th>\n",
              "      <td>-0.360025</td>\n",
              "      <td>-0.600169</td>\n",
              "      <td>-0.552763</td>\n",
              "      <td>Rambo: Last Blood</td>\n",
              "    </tr>\n",
              "    <tr>\n",
              "      <th>934</th>\n",
              "      <td>-0.078723</td>\n",
              "      <td>0.607494</td>\n",
              "      <td>0.288139</td>\n",
              "      <td>Murder on the Orient Express</td>\n",
              "    </tr>\n",
              "    <tr>\n",
              "      <th>935</th>\n",
              "      <td>-0.500676</td>\n",
              "      <td>-0.632719</td>\n",
              "      <td>-0.529031</td>\n",
              "      <td>Black Mass</td>\n",
              "    </tr>\n",
              "    <tr>\n",
              "      <th>936</th>\n",
              "      <td>-0.922629</td>\n",
              "      <td>-0.731549</td>\n",
              "      <td>-0.760610</td>\n",
              "      <td>American Ultra</td>\n",
              "    </tr>\n",
              "    <tr>\n",
              "      <th>937</th>\n",
              "      <td>0.624532</td>\n",
              "      <td>-0.524690</td>\n",
              "      <td>-0.693879</td>\n",
              "      <td>Greenland</td>\n",
              "    </tr>\n",
              "  </tbody>\n",
              "</table>\n",
              "<p>938 rows × 4 columns</p>\n",
              "</div>\n",
              "      <button class=\"colab-df-convert\" onclick=\"convertToInteractive('df-4410e44e-e3c0-49c8-9e79-b8aa5d438245')\"\n",
              "              title=\"Convert this dataframe to an interactive table.\"\n",
              "              style=\"display:none;\">\n",
              "        \n",
              "  <svg xmlns=\"http://www.w3.org/2000/svg\" height=\"24px\"viewBox=\"0 0 24 24\"\n",
              "       width=\"24px\">\n",
              "    <path d=\"M0 0h24v24H0V0z\" fill=\"none\"/>\n",
              "    <path d=\"M18.56 5.44l.94 2.06.94-2.06 2.06-.94-2.06-.94-.94-2.06-.94 2.06-2.06.94zm-11 1L8.5 8.5l.94-2.06 2.06-.94-2.06-.94L8.5 2.5l-.94 2.06-2.06.94zm10 10l.94 2.06.94-2.06 2.06-.94-2.06-.94-.94-2.06-.94 2.06-2.06.94z\"/><path d=\"M17.41 7.96l-1.37-1.37c-.4-.4-.92-.59-1.43-.59-.52 0-1.04.2-1.43.59L10.3 9.45l-7.72 7.72c-.78.78-.78 2.05 0 2.83L4 21.41c.39.39.9.59 1.41.59.51 0 1.02-.2 1.41-.59l7.78-7.78 2.81-2.81c.8-.78.8-2.07 0-2.86zM5.41 20L4 18.59l7.72-7.72 1.47 1.35L5.41 20z\"/>\n",
              "  </svg>\n",
              "      </button>\n",
              "      \n",
              "  <style>\n",
              "    .colab-df-container {\n",
              "      display:flex;\n",
              "      flex-wrap:wrap;\n",
              "      gap: 12px;\n",
              "    }\n",
              "\n",
              "    .colab-df-convert {\n",
              "      background-color: #E8F0FE;\n",
              "      border: none;\n",
              "      border-radius: 50%;\n",
              "      cursor: pointer;\n",
              "      display: none;\n",
              "      fill: #1967D2;\n",
              "      height: 32px;\n",
              "      padding: 0 0 0 0;\n",
              "      width: 32px;\n",
              "    }\n",
              "\n",
              "    .colab-df-convert:hover {\n",
              "      background-color: #E2EBFA;\n",
              "      box-shadow: 0px 1px 2px rgba(60, 64, 67, 0.3), 0px 1px 3px 1px rgba(60, 64, 67, 0.15);\n",
              "      fill: #174EA6;\n",
              "    }\n",
              "\n",
              "    [theme=dark] .colab-df-convert {\n",
              "      background-color: #3B4455;\n",
              "      fill: #D2E3FC;\n",
              "    }\n",
              "\n",
              "    [theme=dark] .colab-df-convert:hover {\n",
              "      background-color: #434B5C;\n",
              "      box-shadow: 0px 1px 3px 1px rgba(0, 0, 0, 0.15);\n",
              "      filter: drop-shadow(0px 1px 2px rgba(0, 0, 0, 0.3));\n",
              "      fill: #FFFFFF;\n",
              "    }\n",
              "  </style>\n",
              "\n",
              "      <script>\n",
              "        const buttonEl =\n",
              "          document.querySelector('#df-4410e44e-e3c0-49c8-9e79-b8aa5d438245 button.colab-df-convert');\n",
              "        buttonEl.style.display =\n",
              "          google.colab.kernel.accessAllowed ? 'block' : 'none';\n",
              "\n",
              "        async function convertToInteractive(key) {\n",
              "          const element = document.querySelector('#df-4410e44e-e3c0-49c8-9e79-b8aa5d438245');\n",
              "          const dataTable =\n",
              "            await google.colab.kernel.invokeFunction('convertToInteractive',\n",
              "                                                     [key], {});\n",
              "          if (!dataTable) return;\n",
              "\n",
              "          const docLinkHtml = 'Like what you see? Visit the ' +\n",
              "            '<a target=\"_blank\" href=https://colab.research.google.com/notebooks/data_table.ipynb>data table notebook</a>'\n",
              "            + ' to learn more about interactive tables.';\n",
              "          element.innerHTML = '';\n",
              "          dataTable['output_type'] = 'display_data';\n",
              "          await google.colab.output.renderOutput(dataTable, element);\n",
              "          const docLink = document.createElement('div');\n",
              "          docLink.innerHTML = docLinkHtml;\n",
              "          element.appendChild(docLink);\n",
              "        }\n",
              "      </script>\n",
              "    </div>\n",
              "  </div>\n",
              "  "
            ],
            "text/plain": [
              "     vote_average  vote_count   revenue                         title\n",
              "0        0.624532   -0.314292  0.450242                      Eternals\n",
              "1       -0.641327   -0.554645 -0.720985  Sin City: A Dame to Kill For\n",
              "2        0.061928   -0.791224 -0.640215                        Fences\n",
              "3       -0.500676    0.770245  0.105323                     Insurgent\n",
              "4       -0.922629    0.044468 -0.269318                     Allegiant\n",
              "..            ...         ...       ...                           ...\n",
              "933     -0.360025   -0.600169 -0.552763             Rambo: Last Blood\n",
              "934     -0.078723    0.607494  0.288139  Murder on the Orient Express\n",
              "935     -0.500676   -0.632719 -0.529031                    Black Mass\n",
              "936     -0.922629   -0.731549 -0.760610                American Ultra\n",
              "937      0.624532   -0.524690 -0.693879                     Greenland\n",
              "\n",
              "[938 rows x 4 columns]"
            ]
          },
          "metadata": {},
          "execution_count": 78
        }
      ]
    },
    {
      "cell_type": "code",
      "source": [
        "from sklearn.cluster import KMeans\n",
        "df_kmean=kmeans_movies_scaled[[\"revenue\",\"vote_average\",'vote_count']]\n",
        "wcss = []\n",
        "for i in range(1, 11):\n",
        "    kmeans = KMeans(n_clusters = i, init = 'k-means++')\n",
        "    kmeans.fit(df_kmean)\n",
        "    print (i,kmeans.inertia_)\n",
        "    wcss.append(kmeans.inertia_)\n",
        "    \n",
        "fig, ax = plt.subplots(figsize=(20,10))\n",
        "plt.plot(range(1, 11), wcss)\n",
        "plt.title('Elbow Method')\n",
        "plt.xlabel('Clusters')\n",
        "plt.ylabel('WSS')\n",
        "plt.show()"
      ],
      "metadata": {
        "colab": {
          "base_uri": "https://localhost:8080/",
          "height": 794
        },
        "id": "2yupdDTvEFBR",
        "outputId": "53dff377-33fe-4db8-80c8-04a94e69fe72"
      },
      "execution_count": null,
      "outputs": [
        {
          "output_type": "stream",
          "name": "stdout",
          "text": [
            "1 2813.999999999999\n",
            "2 1608.9620882221934\n",
            "3 1104.592277078806\n",
            "4 918.0981136300992\n",
            "5 796.3217129342815\n",
            "6 697.6087224299433\n",
            "7 613.117094628841\n",
            "8 553.0634773146824\n",
            "9 508.62297784736126\n",
            "10 470.4547479669893\n"
          ]
        },
        {
          "output_type": "display_data",
          "data": {
            "image/png": "[encoded data removed]",
            "text/plain": [
              "<Figure size 1440x720 with 1 Axes>"
            ]
          },
          "metadata": {
            "needs_background": "light"
          }
        }
      ]
    },
    {
      "cell_type": "code",
      "source": [
        "kmeans = KMeans(n_clusters = 3, init = 'k-means++',random_state = 0)\n",
        "estimator = kmeans.fit(df_kmean)\n",
        "estimator"
      ],
      "metadata": {
        "colab": {
          "base_uri": "https://localhost:8080/"
        },
        "id": "22L7HTfRHG3c",
        "outputId": "e9fb2f5d-3a41-4701-f402-9248e13a1e26"
      },
      "execution_count": null,
      "outputs": [
        {
          "output_type": "execute_result",
          "data": {
            "text/plain": [
              "KMeans(n_clusters=3, random_state=0)"
            ]
          },
          "metadata": {},
          "execution_count": 95
        }
      ]
    },
    {
      "cell_type": "code",
      "source": [
        "class_predict = estimator.predict(df_kmean)\n",
        "df_kmean[\"target\"] = class_predict\n",
        "kmeans_movies_scaled[\"target\"] = class_predict\n",
        "movies_model_data_scaled[\"target\"]=class_predict"
      ],
      "metadata": {
        "id": "vuCwFlepHL4e"
      },
      "execution_count": null,
      "outputs": []
    },
    {
      "cell_type": "code",
      "source": [
        "df_kmean[\"target\"].value_counts()"
      ],
      "metadata": {
        "colab": {
          "base_uri": "https://localhost:8080/"
        },
        "id": "YAAeuiPkHU3A",
        "outputId": "9c340bfb-82bb-42ba-9788-30e088bb065e"
      },
      "execution_count": null,
      "outputs": [
        {
          "output_type": "execute_result",
          "data": {
            "text/plain": [
              "0    400\n",
              "1    310\n",
              "2    228\n",
              "Name: target, dtype: int64"
            ]
          },
          "metadata": {},
          "execution_count": 97
        }
      ]
    },
    {
      "cell_type": "code",
      "source": [
        "movies_model_data_scaled"
      ],
      "metadata": {
        "colab": {
          "base_uri": "https://localhost:8080/",
          "height": 626
        },
        "id": "NyYT3yBJHuQR",
        "outputId": "cf61f159-c67e-4080-e469-bad632c62af4"
      },
      "execution_count": null,
      "outputs": [
        {
          "output_type": "execute_result",
          "data": {
            "text/html": [
              "\n",
              "  <div id=\"df-c0449df7-9ef9-4d55-b3db-f647d2662456\">\n",
              "    <div class=\"colab-df-container\">\n",
              "      <div>\n",
              "<style scoped>\n",
              "    .dataframe tbody tr th:only-of-type {\n",
              "        vertical-align: middle;\n",
              "    }\n",
              "\n",
              "    .dataframe tbody tr th {\n",
              "        vertical-align: top;\n",
              "    }\n",
              "\n",
              "    .dataframe thead th {\n",
              "        text-align: right;\n",
              "    }\n",
              "</style>\n",
              "<table border=\"1\" class=\"dataframe\">\n",
              "  <thead>\n",
              "    <tr style=\"text-align: right;\">\n",
              "      <th></th>\n",
              "      <th>budget</th>\n",
              "      <th>runtime</th>\n",
              "      <th>pop_actors</th>\n",
              "      <th>pop_directors</th>\n",
              "      <th>pop_producer</th>\n",
              "      <th>science_fiction</th>\n",
              "      <th>adventure</th>\n",
              "      <th>drama</th>\n",
              "      <th>comedy</th>\n",
              "      <th>action</th>\n",
              "      <th>fantasy</th>\n",
              "      <th>thriller</th>\n",
              "      <th>animation</th>\n",
              "      <th>family</th>\n",
              "      <th>count_view</th>\n",
              "      <th>count_like</th>\n",
              "      <th>target</th>\n",
              "      <th>title</th>\n",
              "    </tr>\n",
              "  </thead>\n",
              "  <tbody>\n",
              "    <tr>\n",
              "      <th>0</th>\n",
              "      <td>1.937923</td>\n",
              "      <td>2.271716</td>\n",
              "      <td>0.866281</td>\n",
              "      <td>0.579613</td>\n",
              "      <td>0.046925</td>\n",
              "      <td>1.971146</td>\n",
              "      <td>1.472725</td>\n",
              "      <td>-0.778566</td>\n",
              "      <td>-0.663973</td>\n",
              "      <td>1.275716</td>\n",
              "      <td>2.148666</td>\n",
              "      <td>-0.625853</td>\n",
              "      <td>-0.325779</td>\n",
              "      <td>-0.388485</td>\n",
              "      <td>1.539653</td>\n",
              "      <td>2.677256</td>\n",
              "      <td>1</td>\n",
              "      <td>Eternals</td>\n",
              "    </tr>\n",
              "    <tr>\n",
              "      <th>1</th>\n",
              "      <td>-0.126299</td>\n",
              "      <td>-0.673584</td>\n",
              "      <td>0.778697</td>\n",
              "      <td>0.936915</td>\n",
              "      <td>-0.151062</td>\n",
              "      <td>-0.507319</td>\n",
              "      <td>-0.679013</td>\n",
              "      <td>-0.778566</td>\n",
              "      <td>-0.663973</td>\n",
              "      <td>1.275716</td>\n",
              "      <td>-0.465405</td>\n",
              "      <td>1.597820</td>\n",
              "      <td>-0.325779</td>\n",
              "      <td>-0.388485</td>\n",
              "      <td>-0.482909</td>\n",
              "      <td>-0.336195</td>\n",
              "      <td>0</td>\n",
              "      <td>Sin City  A Dame to Kill For</td>\n",
              "    </tr>\n",
              "    <tr>\n",
              "      <th>2</th>\n",
              "      <td>-0.753212</td>\n",
              "      <td>1.344492</td>\n",
              "      <td>-0.760544</td>\n",
              "      <td>3.444926</td>\n",
              "      <td>1.379200</td>\n",
              "      <td>-0.507319</td>\n",
              "      <td>-0.679013</td>\n",
              "      <td>1.284413</td>\n",
              "      <td>-0.663973</td>\n",
              "      <td>-0.783874</td>\n",
              "      <td>-0.465405</td>\n",
              "      <td>-0.625853</td>\n",
              "      <td>-0.325779</td>\n",
              "      <td>-0.388485</td>\n",
              "      <td>-0.505888</td>\n",
              "      <td>-0.325302</td>\n",
              "      <td>1</td>\n",
              "      <td>Fences</td>\n",
              "    </tr>\n",
              "    <tr>\n",
              "      <th>3</th>\n",
              "      <td>0.561775</td>\n",
              "      <td>0.253641</td>\n",
              "      <td>-0.113758</td>\n",
              "      <td>-0.668710</td>\n",
              "      <td>-0.745687</td>\n",
              "      <td>1.971146</td>\n",
              "      <td>1.472725</td>\n",
              "      <td>-0.778566</td>\n",
              "      <td>-0.663973</td>\n",
              "      <td>1.275716</td>\n",
              "      <td>-0.465405</td>\n",
              "      <td>1.597820</td>\n",
              "      <td>-0.325779</td>\n",
              "      <td>-0.388485</td>\n",
              "      <td>-0.108705</td>\n",
              "      <td>-0.187205</td>\n",
              "      <td>0</td>\n",
              "      <td>Insurgent</td>\n",
              "    </tr>\n",
              "    <tr>\n",
              "      <th>4</th>\n",
              "      <td>0.561775</td>\n",
              "      <td>0.308183</td>\n",
              "      <td>-0.176157</td>\n",
              "      <td>-0.668710</td>\n",
              "      <td>-0.745687</td>\n",
              "      <td>1.971146</td>\n",
              "      <td>1.472725</td>\n",
              "      <td>-0.778566</td>\n",
              "      <td>-0.663973</td>\n",
              "      <td>1.275716</td>\n",
              "      <td>-0.465405</td>\n",
              "      <td>-0.625853</td>\n",
              "      <td>-0.325779</td>\n",
              "      <td>-0.388485</td>\n",
              "      <td>-0.531555</td>\n",
              "      <td>-0.337457</td>\n",
              "      <td>0</td>\n",
              "      <td>Allegiant</td>\n",
              "    </tr>\n",
              "    <tr>\n",
              "      <th>...</th>\n",
              "      <td>...</td>\n",
              "      <td>...</td>\n",
              "      <td>...</td>\n",
              "      <td>...</td>\n",
              "      <td>...</td>\n",
              "      <td>...</td>\n",
              "      <td>...</td>\n",
              "      <td>...</td>\n",
              "      <td>...</td>\n",
              "      <td>...</td>\n",
              "      <td>...</td>\n",
              "      <td>...</td>\n",
              "      <td>...</td>\n",
              "      <td>...</td>\n",
              "      <td>...</td>\n",
              "      <td>...</td>\n",
              "      <td>...</td>\n",
              "      <td>...</td>\n",
              "    </tr>\n",
              "    <tr>\n",
              "      <th>933</th>\n",
              "      <td>-0.355658</td>\n",
              "      <td>-1.382637</td>\n",
              "      <td>-0.566250</td>\n",
              "      <td>-0.447240</td>\n",
              "      <td>-0.488351</td>\n",
              "      <td>-0.507319</td>\n",
              "      <td>-0.679013</td>\n",
              "      <td>1.284413</td>\n",
              "      <td>-0.663973</td>\n",
              "      <td>1.275716</td>\n",
              "      <td>-0.465405</td>\n",
              "      <td>1.597820</td>\n",
              "      <td>-0.325779</td>\n",
              "      <td>-0.388485</td>\n",
              "      <td>-0.012452</td>\n",
              "      <td>0.110242</td>\n",
              "      <td>0</td>\n",
              "      <td>Rambo  Last Blood</td>\n",
              "    </tr>\n",
              "    <tr>\n",
              "      <th>934</th>\n",
              "      <td>-0.279205</td>\n",
              "      <td>-0.019072</td>\n",
              "      <td>1.430570</td>\n",
              "      <td>1.785861</td>\n",
              "      <td>2.187232</td>\n",
              "      <td>-0.507319</td>\n",
              "      <td>-0.679013</td>\n",
              "      <td>1.284413</td>\n",
              "      <td>-0.663973</td>\n",
              "      <td>-0.783874</td>\n",
              "      <td>-0.465405</td>\n",
              "      <td>-0.625853</td>\n",
              "      <td>-0.325779</td>\n",
              "      <td>-0.388485</td>\n",
              "      <td>-0.004840</td>\n",
              "      <td>-0.082135</td>\n",
              "      <td>2</td>\n",
              "      <td>Murder on the Orient Express</td>\n",
              "    </tr>\n",
              "    <tr>\n",
              "      <th>935</th>\n",
              "      <td>-0.309786</td>\n",
              "      <td>0.471811</td>\n",
              "      <td>-0.179109</td>\n",
              "      <td>-0.186400</td>\n",
              "      <td>-0.200110</td>\n",
              "      <td>-0.507319</td>\n",
              "      <td>-0.679013</td>\n",
              "      <td>1.284413</td>\n",
              "      <td>-0.663973</td>\n",
              "      <td>-0.783874</td>\n",
              "      <td>-0.465405</td>\n",
              "      <td>-0.625853</td>\n",
              "      <td>-0.325779</td>\n",
              "      <td>-0.388485</td>\n",
              "      <td>-0.121625</td>\n",
              "      <td>-0.246589</td>\n",
              "      <td>0</td>\n",
              "      <td>Black Mass</td>\n",
              "    </tr>\n",
              "    <tr>\n",
              "      <th>936</th>\n",
              "      <td>-0.692049</td>\n",
              "      <td>-1.000839</td>\n",
              "      <td>-0.355031</td>\n",
              "      <td>-0.585236</td>\n",
              "      <td>-0.568901</td>\n",
              "      <td>-0.507319</td>\n",
              "      <td>-0.679013</td>\n",
              "      <td>-0.778566</td>\n",
              "      <td>1.506085</td>\n",
              "      <td>1.275716</td>\n",
              "      <td>-0.465405</td>\n",
              "      <td>-0.625853</td>\n",
              "      <td>-0.325779</td>\n",
              "      <td>-0.388485</td>\n",
              "      <td>-0.473398</td>\n",
              "      <td>-0.289494</td>\n",
              "      <td>0</td>\n",
              "      <td>American Ultra</td>\n",
              "    </tr>\n",
              "    <tr>\n",
              "      <th>937</th>\n",
              "      <td>-0.600306</td>\n",
              "      <td>0.308183</td>\n",
              "      <td>-0.565591</td>\n",
              "      <td>-0.483091</td>\n",
              "      <td>0.974985</td>\n",
              "      <td>-0.507319</td>\n",
              "      <td>-0.679013</td>\n",
              "      <td>1.284413</td>\n",
              "      <td>-0.663973</td>\n",
              "      <td>1.275716</td>\n",
              "      <td>-0.465405</td>\n",
              "      <td>1.597820</td>\n",
              "      <td>-0.325779</td>\n",
              "      <td>-0.388485</td>\n",
              "      <td>-0.461200</td>\n",
              "      <td>-0.199960</td>\n",
              "      <td>1</td>\n",
              "      <td>Greenland</td>\n",
              "    </tr>\n",
              "  </tbody>\n",
              "</table>\n",
              "<p>938 rows × 18 columns</p>\n",
              "</div>\n",
              "      <button class=\"colab-df-convert\" onclick=\"convertToInteractive('df-c0449df7-9ef9-4d55-b3db-f647d2662456')\"\n",
              "              title=\"Convert this dataframe to an interactive table.\"\n",
              "              style=\"display:none;\">\n",
              "        \n",
              "  <svg xmlns=\"http://www.w3.org/2000/svg\" height=\"24px\"viewBox=\"0 0 24 24\"\n",
              "       width=\"24px\">\n",
              "    <path d=\"M0 0h24v24H0V0z\" fill=\"none\"/>\n",
              "    <path d=\"M18.56 5.44l.94 2.06.94-2.06 2.06-.94-2.06-.94-.94-2.06-.94 2.06-2.06.94zm-11 1L8.5 8.5l.94-2.06 2.06-.94-2.06-.94L8.5 2.5l-.94 2.06-2.06.94zm10 10l.94 2.06.94-2.06 2.06-.94-2.06-.94-.94-2.06-.94 2.06-2.06.94z\"/><path d=\"M17.41 7.96l-1.37-1.37c-.4-.4-.92-.59-1.43-.59-.52 0-1.04.2-1.43.59L10.3 9.45l-7.72 7.72c-.78.78-.78 2.05 0 2.83L4 21.41c.39.39.9.59 1.41.59.51 0 1.02-.2 1.41-.59l7.78-7.78 2.81-2.81c.8-.78.8-2.07 0-2.86zM5.41 20L4 18.59l7.72-7.72 1.47 1.35L5.41 20z\"/>\n",
              "  </svg>\n",
              "      </button>\n",
              "      \n",
              "  <style>\n",
              "    .colab-df-container {\n",
              "      display:flex;\n",
              "      flex-wrap:wrap;\n",
              "      gap: 12px;\n",
              "    }\n",
              "\n",
              "    .colab-df-convert {\n",
              "      background-color: #E8F0FE;\n",
              "      border: none;\n",
              "      border-radius: 50%;\n",
              "      cursor: pointer;\n",
              "      display: none;\n",
              "      fill: #1967D2;\n",
              "      height: 32px;\n",
              "      padding: 0 0 0 0;\n",
              "      width: 32px;\n",
              "    }\n",
              "\n",
              "    .colab-df-convert:hover {\n",
              "      background-color: #E2EBFA;\n",
              "      box-shadow: 0px 1px 2px rgba(60, 64, 67, 0.3), 0px 1px 3px 1px rgba(60, 64, 67, 0.15);\n",
              "      fill: #174EA6;\n",
              "    }\n",
              "\n",
              "    [theme=dark] .colab-df-convert {\n",
              "      background-color: #3B4455;\n",
              "      fill: #D2E3FC;\n",
              "    }\n",
              "\n",
              "    [theme=dark] .colab-df-convert:hover {\n",
              "      background-color: #434B5C;\n",
              "      box-shadow: 0px 1px 3px 1px rgba(0, 0, 0, 0.15);\n",
              "      filter: drop-shadow(0px 1px 2px rgba(0, 0, 0, 0.3));\n",
              "      fill: #FFFFFF;\n",
              "    }\n",
              "  </style>\n",
              "\n",
              "      <script>\n",
              "        const buttonEl =\n",
              "          document.querySelector('#df-c0449df7-9ef9-4d55-b3db-f647d2662456 button.colab-df-convert');\n",
              "        buttonEl.style.display =\n",
              "          google.colab.kernel.accessAllowed ? 'block' : 'none';\n",
              "\n",
              "        async function convertToInteractive(key) {\n",
              "          const element = document.querySelector('#df-c0449df7-9ef9-4d55-b3db-f647d2662456');\n",
              "          const dataTable =\n",
              "            await google.colab.kernel.invokeFunction('convertToInteractive',\n",
              "                                                     [key], {});\n",
              "          if (!dataTable) return;\n",
              "\n",
              "          const docLinkHtml = 'Like what you see? Visit the ' +\n",
              "            '<a target=\"_blank\" href=https://colab.research.google.com/notebooks/data_table.ipynb>data table notebook</a>'\n",
              "            + ' to learn more about interactive tables.';\n",
              "          element.innerHTML = '';\n",
              "          dataTable['output_type'] = 'display_data';\n",
              "          await google.colab.output.renderOutput(dataTable, element);\n",
              "          const docLink = document.createElement('div');\n",
              "          docLink.innerHTML = docLinkHtml;\n",
              "          element.appendChild(docLink);\n",
              "        }\n",
              "      </script>\n",
              "    </div>\n",
              "  </div>\n",
              "  "
            ],
            "text/plain": [
              "       budget   runtime  ...  target                         title\n",
              "0    1.937923  2.271716  ...       1                      Eternals\n",
              "1   -0.126299 -0.673584  ...       0  Sin City  A Dame to Kill For\n",
              "2   -0.753212  1.344492  ...       1                        Fences\n",
              "3    0.561775  0.253641  ...       0                     Insurgent\n",
              "4    0.561775  0.308183  ...       0                     Allegiant\n",
              "..        ...       ...  ...     ...                           ...\n",
              "933 -0.355658 -1.382637  ...       0             Rambo  Last Blood\n",
              "934 -0.279205 -0.019072  ...       2  Murder on the Orient Express\n",
              "935 -0.309786  0.471811  ...       0                    Black Mass\n",
              "936 -0.692049 -1.000839  ...       0                American Ultra\n",
              "937 -0.600306  0.308183  ...       1                     Greenland\n",
              "\n",
              "[938 rows x 18 columns]"
            ]
          },
          "metadata": {},
          "execution_count": 101
        }
      ]
    },
    {
      "cell_type": "code",
      "source": [
        "data_0 = movies_model_data_scaled[movies_model_data_scaled[\"target\"] == 0]\n",
        "data_1 = movies_model_data_scaled[movies_model_data_scaled[\"target\"] == 1]\n",
        "data_2 = movies_model_data_scaled[movies_model_data_scaled[\"target\"] == 2]\n",
        "# data_3 = movies_model_data_scaled[movies_model_data_scaled[\"target\"] == \"SUPER HIT\"]\n",
        "\n",
        "x_0 = data_0.drop([\"target\",\"title\"],axis=1)\n",
        "x_1 = data_1.drop([\"target\",\"title\"],axis=1)\n",
        "x_2 = data_2.drop([\"target\",\"title\"],axis=1)\n",
        "# x_3 = data_3.drop([\"target\",\"title\"],axis=1)\n",
        "\n",
        "y_0 = data_0[\"target\"]\n",
        "y_1 = data_1[\"target\"]\n",
        "y_2 = data_2[\"target\"]\n",
        "# y_3 = data_3[\"target\"]\n",
        "\n",
        "x_0_train, x_0_test, y_0_train, y_0_test = train_test_split(x_0, y_0, test_size=0.33)\n",
        "x_1_train, x_1_test, y_1_train, y_1_test = train_test_split(x_1, y_1, test_size=0.33)\n",
        "x_2_train, x_2_test, y_2_train, y_2_test = train_test_split(x_2, y_2, test_size=0.33)\n",
        "# x_3_train, x_3_test, y_3_train, y_3_test = train_test_split(x_3, y_3, test_size=0.33)\n",
        "\n",
        "x_train = pd.concat([x_0_train,x_1_train,x_2_train])\n",
        "x_test = pd.concat([x_0_test,x_1_test,x_2_test])\n",
        "y_train = pd.concat([y_0_train,y_1_train,y_2_train])\n",
        "y_test = pd.concat([y_0_test,y_1_test,y_2_test])\n",
        "\n",
        "\"\"\"\n",
        "x_train = x_train.drop([\"pop_company\", \"pop_actors\", \"pop_producers\"],axis=1)\n",
        "x_test = x_test.drop([\"pop_company\", \"pop_actors\", \"pop_producers\"],axis=1)\n",
        "\"\"\"\n"
      ],
      "metadata": {
        "id": "pJzLiCHcaaap",
        "colab": {
          "base_uri": "https://localhost:8080/",
          "height": 35
        },
        "outputId": "c917ff94-f8c7-4ab1-fad2-08ceffaf68a6"
      },
      "execution_count": null,
      "outputs": [
        {
          "output_type": "execute_result",
          "data": {
            "application/vnd.google.colaboratory.intrinsic+json": {
              "type": "string"
            },
            "text/plain": [
              "'\\nx_train = x_train.drop([\"pop_company\", \"pop_actors\", \"pop_producers\"],axis=1)\\nx_test = x_test.drop([\"pop_company\", \"pop_actors\", \"pop_producers\"],axis=1)\\n'"
            ]
          },
          "metadata": {},
          "execution_count": 102
        }
      ]
    },
    {
      "cell_type": "code",
      "source": [
        "x_train, x_test"
      ],
      "metadata": {
        "id": "C0x_E0CLSP6J",
        "colab": {
          "base_uri": "https://localhost:8080/"
        },
        "outputId": "682bbfb1-e474-4772-b2fa-346df103f3d1"
      },
      "execution_count": null,
      "outputs": [
        {
          "output_type": "execute_result",
          "data": {
            "text/plain": [
              "(       budget   runtime  pop_actors  ...    family  count_view  count_like\n",
              " 353 -0.661468  0.471811   -0.704646  ... -0.388485    0.443924   -0.090925\n",
              " 829  1.479207 -0.073615    1.214703  ...  2.574105   -0.175758   -0.160164\n",
              " 167 -0.508563 -1.055382   -0.137625  ... -0.388485   -0.778088   -0.402488\n",
              " 3    0.561775  0.253641   -0.113758  ... -0.388485   -0.108705   -0.187205\n",
              " 468  1.708565  0.417268   -0.241413  ... -0.388485   -0.548899   -0.313867\n",
              " ..        ...       ...         ...  ...       ...         ...         ...\n",
              " 453 -0.860245 -0.237243   -0.092184  ... -0.388485    0.851346    0.198241\n",
              " 190 -1.077371 -1.273552   -1.078692  ... -0.388485   -0.238138   -0.134050\n",
              " 278 -0.997860 -1.164467   -0.734133  ... -0.388485   -0.233299   -0.287220\n",
              " 690  1.402754 -0.728126   -1.183014  ...  2.574105   -0.187474   -0.299519\n",
              " 826 -0.967279 -0.564498   -0.166108  ... -0.388485   -0.349275   -0.146460\n",
              " \n",
              " [627 rows x 16 columns],\n",
              "        budget   runtime  pop_actors  ...    family  count_view  count_like\n",
              " 497  0.179511 -0.837211   -0.190571  ...  2.574105    1.867186    3.651234\n",
              " 175  0.133640 -0.237243   -0.180930  ... -0.388485   -0.687845   -0.355304\n",
              " 927 -0.386239 -0.291785    0.334621  ... -0.388485    0.140050   -0.186326\n",
              " 827 -0.508563 -1.382637    0.555010  ... -0.388485   -0.505525   -0.333881\n",
              " 713 -0.615597 -0.837211   -1.661101  ... -0.388485   -0.793266   -0.405608\n",
              " ..        ...       ...         ...  ...       ...         ...         ...\n",
              " 156  1.632112  0.908152    1.194542  ... -0.388485    3.554180    2.670917\n",
              " 82   1.096944 -1.055382    0.450374  ...  2.574105    0.639369   -0.052067\n",
              " 511  0.103059 -0.564498    0.703768  ...  2.574105   -0.538878   -0.260654\n",
              " 784 -0.508563 -0.237243   -0.288424  ... -0.388485   -0.678974   -0.393971\n",
              " 556  0.408869  2.762600    2.317938  ... -0.388485   -0.728262   -0.372007\n",
              " \n",
              " [311 rows x 16 columns])"
            ]
          },
          "metadata": {},
          "execution_count": 103
        }
      ]
    },
    {
      "cell_type": "code",
      "source": [
        "from sklearn.neighbors import KNeighborsClassifier\n",
        "from sklearn.metrics import precision_score\n",
        "from sklearn.svm import SVC\n",
        "from sklearn.ensemble import RandomForestClassifier\n",
        "from sklearn.discriminant_analysis import LinearDiscriminantAnalysis as LDA\n",
        "from sklearn.discriminant_analysis import QuadraticDiscriminantAnalysis as QDA\n",
        "import xgboost as xgb\n",
        "from sklearn.ensemble import GradientBoostingClassifier\n",
        "from sklearn.ensemble import AdaBoostClassifier\n",
        "from sklearn.decomposition import PCA\n",
        "from sklearn.naive_bayes import GaussianNB"
      ],
      "metadata": {
        "id": "Rlkw88atTHli"
      },
      "execution_count": null,
      "outputs": []
    },
    {
      "cell_type": "markdown",
      "source": [
        "KNN"
      ],
      "metadata": {
        "id": "zBZ-2YuUVP98"
      }
    },
    {
      "cell_type": "code",
      "source": [
        "knn = KNeighborsClassifier(n_neighbors=4)\n",
        "\n",
        "knn.fit(x_train,y_train)\n",
        "\n",
        "y_pred_knn = knn.predict(x_test)\n",
        "precision_score(y_test, y_pred_knn, average='micro')"
      ],
      "metadata": {
        "id": "Rb65ZjShTcRD",
        "colab": {
          "base_uri": "https://localhost:8080/"
        },
        "outputId": "847219a2-e37e-4f13-9507-10d3487faf37"
      },
      "execution_count": null,
      "outputs": [
        {
          "output_type": "execute_result",
          "data": {
            "text/plain": [
              "0.43086816720257237"
            ]
          },
          "metadata": {},
          "execution_count": 105
        }
      ]
    },
    {
      "cell_type": "markdown",
      "source": [
        "LDA"
      ],
      "metadata": {
        "id": "V-Boyb6f76xo"
      }
    },
    {
      "cell_type": "code",
      "source": [
        "lda = LDA()\n",
        "\n",
        "lda.fit(x_train,y_train)\n",
        "\n",
        "y_pred_lda = lda.predict(x_test)\n",
        "precision_score(y_test, y_pred_lda, average='micro')"
      ],
      "metadata": {
        "id": "iJVsSxmt76SE",
        "colab": {
          "base_uri": "https://localhost:8080/"
        },
        "outputId": "1e1fc776-f8c1-40ff-8060-914b33f30723"
      },
      "execution_count": null,
      "outputs": [
        {
          "output_type": "execute_result",
          "data": {
            "text/plain": [
              "0.44694533762057875"
            ]
          },
          "metadata": {},
          "execution_count": 106
        }
      ]
    },
    {
      "cell_type": "markdown",
      "source": [
        "QDA"
      ],
      "metadata": {
        "id": "dJ2jFrLtW-Sd"
      }
    },
    {
      "cell_type": "code",
      "source": [
        "qda = QDA()\n",
        "\n",
        "qda.fit(x_train,y_train)\n",
        "\n",
        "y_pred_qda = qda.predict(x_test)\n",
        "precision_score(y_test, y_pred_qda, average='micro')"
      ],
      "metadata": {
        "id": "okJD7TNTq0sN",
        "colab": {
          "base_uri": "https://localhost:8080/"
        },
        "outputId": "175c2b1b-3be9-41e4-b121-54ff932a7b82"
      },
      "execution_count": null,
      "outputs": [
        {
          "output_type": "execute_result",
          "data": {
            "text/plain": [
              "0.42443729903536975"
            ]
          },
          "metadata": {},
          "execution_count": 107
        }
      ]
    },
    {
      "cell_type": "markdown",
      "source": [
        "Naive Bayes"
      ],
      "metadata": {
        "id": "onHVK-o2rTRR"
      }
    },
    {
      "cell_type": "code",
      "source": [
        "nb = GaussianNB()\n",
        "\n",
        "nb.fit(x_train,y_train)\n",
        "\n",
        "y_pred_nb = nb.predict(x_test)\n",
        "precision_score(y_test, y_pred_nb, average='micro')"
      ],
      "metadata": {
        "id": "te6EXatgW9h-",
        "colab": {
          "base_uri": "https://localhost:8080/"
        },
        "outputId": "ff6acd63-a23b-4ec1-937f-935b3045098c"
      },
      "execution_count": null,
      "outputs": [
        {
          "output_type": "execute_result",
          "data": {
            "text/plain": [
              "0.45980707395498394"
            ]
          },
          "metadata": {},
          "execution_count": 108
        }
      ]
    },
    {
      "cell_type": "markdown",
      "source": [
        "SVC"
      ],
      "metadata": {
        "id": "uoNQes7CVOYy"
      }
    },
    {
      "cell_type": "code",
      "source": [
        "svc = SVC()\n",
        "\n",
        "svc.fit(x_train,y_train)\n",
        "\n",
        "y_pred_svc = svc.predict(x_test)\n",
        "precision_score(y_test, y_pred_svc, average='micro')"
      ],
      "metadata": {
        "id": "xtelH_ekUygh",
        "colab": {
          "base_uri": "https://localhost:8080/"
        },
        "outputId": "f5868803-1755-4183-b34b-1ed3486714e9"
      },
      "execution_count": null,
      "outputs": [
        {
          "output_type": "execute_result",
          "data": {
            "text/plain": [
              "0.4405144694533762"
            ]
          },
          "metadata": {},
          "execution_count": 109
        }
      ]
    },
    {
      "cell_type": "markdown",
      "source": [
        "RANDOM FOREST"
      ],
      "metadata": {
        "id": "hFVI2GvHVKLV"
      }
    },
    {
      "cell_type": "code",
      "source": [
        "rfc = RandomForestClassifier()\n",
        "\n",
        "rfc.fit(x_train,y_train)\n",
        "\n",
        "y_pred_rfc = rfc.predict(x_test)\n",
        "precision_score(y_test, y_pred_rfc, average='micro')"
      ],
      "metadata": {
        "id": "FvxdpYaKVMpr",
        "colab": {
          "base_uri": "https://localhost:8080/"
        },
        "outputId": "f8822d23-7690-4057-cc59-d02bb90a1435"
      },
      "execution_count": null,
      "outputs": [
        {
          "output_type": "execute_result",
          "data": {
            "text/plain": [
              "0.42443729903536975"
            ]
          },
          "metadata": {},
          "execution_count": 110
        }
      ]
    },
    {
      "cell_type": "markdown",
      "source": [
        "XGBOOST"
      ],
      "metadata": {
        "id": "n1QYo96DeTU5"
      }
    },
    {
      "cell_type": "code",
      "source": [
        "XgBoost = xgb.XGBClassifier()\n",
        "XgBoost.fit(x_train, y_train)\n",
        "y_pred_xgb = XgBoost.predict(x_test)\n",
        "precision_score(y_test, y_pred_xgb, average='micro')"
      ],
      "metadata": {
        "id": "EecyWZMMeVpg",
        "colab": {
          "base_uri": "https://localhost:8080/"
        },
        "outputId": "83cd3b96-0cbc-4de7-bb95-90b6d2b05e0b"
      },
      "execution_count": null,
      "outputs": [
        {
          "output_type": "execute_result",
          "data": {
            "text/plain": [
              "0.4180064308681672"
            ]
          },
          "metadata": {},
          "execution_count": 111
        }
      ]
    },
    {
      "cell_type": "markdown",
      "source": [
        "GRADIENT BOOSTING"
      ],
      "metadata": {
        "id": "SImCzeazeqYD"
      }
    },
    {
      "cell_type": "code",
      "source": [
        "GradientBoost = GradientBoostingClassifier()\n",
        "GradientBoost.fit(x_train, y_train)\n",
        "y_pred_gb = GradientBoost.predict(x_test)\n",
        "precision_score(y_test, y_pred_gb, average='micro')"
      ],
      "metadata": {
        "id": "p_Wxuh8JetBM",
        "colab": {
          "base_uri": "https://localhost:8080/"
        },
        "outputId": "f8ea48e6-b918-43e7-cb99-b6c943a85ce7"
      },
      "execution_count": null,
      "outputs": [
        {
          "output_type": "execute_result",
          "data": {
            "text/plain": [
              "0.3729903536977492"
            ]
          },
          "metadata": {},
          "execution_count": 112
        }
      ]
    },
    {
      "cell_type": "markdown",
      "source": [
        "ADABOOST"
      ],
      "metadata": {
        "id": "sPH-EAsde1vC"
      }
    },
    {
      "cell_type": "code",
      "source": [
        "AdaBoost = AdaBoostClassifier()\n",
        "AdaBoost.fit(x_train, y_train)\n",
        "y_pred_ab = AdaBoost.predict(x_test)\n",
        "precision_score(y_test, y_pred_ab, average='micro')"
      ],
      "metadata": {
        "id": "9CIaeruZe1aa",
        "colab": {
          "base_uri": "https://localhost:8080/"
        },
        "outputId": "5ea4bb9b-4beb-441d-e779-86b78c9a394c"
      },
      "execution_count": null,
      "outputs": [
        {
          "output_type": "execute_result",
          "data": {
            "text/plain": [
              "0.40192926045016075"
            ]
          },
          "metadata": {},
          "execution_count": 113
        }
      ]
    },
    {
      "cell_type": "markdown",
      "source": [
        "PCA"
      ],
      "metadata": {
        "id": "cEbzD52igZfr"
      }
    },
    {
      "cell_type": "code",
      "source": [
        "pca = PCA(n_components = 'mle')\n",
        "data_pca = movies_model_data.drop([\"target\",\"title\"],axis=1)\n",
        "\n",
        "scaler_pca = StandardScaler()\n",
        "scaler_pca.fit(data_pca) \n",
        "data_pca = scaler_pca.transform(data_pca)\n",
        "data_pca = pd.DataFrame(data_pca)\n",
        "data_pca.columns = movies_model_data.drop([\"target\",\"title\"],axis=1).columns\n",
        "\n",
        "pca.fit(data_pca)"
      ],
      "metadata": {
        "id": "u_7UTO5Igase",
        "colab": {
          "base_uri": "https://localhost:8080/"
        },
        "outputId": "50cd4d67-4944-44b3-ec1c-19d44569a8bf"
      },
      "execution_count": null,
      "outputs": [
        {
          "output_type": "execute_result",
          "data": {
            "text/plain": [
              "PCA(n_components='mle')"
            ]
          },
          "metadata": {},
          "execution_count": 114
        }
      ]
    },
    {
      "cell_type": "code",
      "source": [
        "plt.figure(figsize=(10,10))\n",
        "plt.rcParams.update({'font.size': 14})\n",
        "\n",
        "#Plot circle\n",
        "#Create a list of 500 points with equal spacing between -1 and 1\n",
        "x=np.linspace(start=-1,stop=1,num=500)\n",
        "#Find y1 and y2 for these points\n",
        "y_positive=lambda x: np.sqrt(1-x**2) \n",
        "y_negative=lambda x: -np.sqrt(1-x**2)\n",
        "plt.plot(x,list(map(y_positive, x)), color='maroon')\n",
        "plt.plot(x,list(map(y_negative, x)),color='maroon')\n",
        "\n",
        "#Plot smaller circle\n",
        "x=np.linspace(start=-0.5,stop=0.5,num=500)\n",
        "y_positive=lambda x: np.sqrt(0.5**2-x**2) \n",
        "y_negative=lambda x: -np.sqrt(0.5**2-x**2)\n",
        "plt.plot(x,list(map(y_positive, x)), color='maroon')\n",
        "plt.plot(x,list(map(y_negative, x)),color='maroon')\n",
        "\n",
        "#Create broken lines\n",
        "x=np.linspace(start=-1,stop=1,num=30)\n",
        "plt.scatter(x,[0]*len(x), marker='_',color='maroon')\n",
        "plt.scatter([0]*len(x), x, marker='|',color='maroon')\n",
        "\n",
        "#Define color list\n",
        "colors = ['blue', 'red', 'green', 'black', 'purple', 'brown']\n",
        "if len(pca.components_[0]) > 6:\n",
        "    colors=colors*(int(len(pca.components_[0])/6)+1)\n",
        "\n",
        "add_string=\"\"\n",
        "for i in range(len(pca.components_[0])):\n",
        "    xi=pca.components_[0][i]\n",
        "    yi=pca.components_[1][i]\n",
        "    plt.arrow(0,0, \n",
        "              dx=xi, dy=yi, \n",
        "              head_width=0.03, head_length=0.03, \n",
        "              color=colors[i], length_includes_head=True)\n",
        "    add_string=f\" ({round(xi,2)} {round(yi,2)})\"\n",
        "    plt.text(pca.components_[0, i], \n",
        "             pca.components_[1, i] , \n",
        "             s=data_pca.columns[i] + add_string )"
      ],
      "metadata": {
        "id": "8xOc5nGxgxBT",
        "colab": {
          "base_uri": "https://localhost:8080/",
          "height": 596
        },
        "outputId": "e81244a5-a3ee-47fc-af8a-3f22c16398e3"
      },
      "execution_count": null,
      "outputs": [
        {
          "output_type": "display_data",
          "data": {
            "image/png": "[encoded data removed]",
            "text/plain": [
              "<Figure size 720x720 with 1 Axes>"
            ]
          },
          "metadata": {
            "needs_background": "light"
          }
        }
      ]
    },
    {
      "cell_type": "code",
      "source": [
        "x_train_df = pd.DataFrame(x_train)\n",
        "x_train_df.columns = movies_model_data.drop([\"target\",\"title\"],axis=1).columns\n",
        "\n",
        "x_test_df = pd.DataFrame(x_test)\n",
        "x_test_df.columns = movies_model_data.drop([\"target\",\"title\"],axis=1).columns\n",
        "\n",
        "y_train_df = pd.DataFrame(y_train)\n",
        "y_train_df.columns = [\"target\"]\n",
        "\n",
        "y_test_df = pd.DataFrame(y_test)\n",
        "y_test_df.columns = [\"target\"]"
      ],
      "metadata": {
        "id": "HU0b4XBGmhvo"
      },
      "execution_count": null,
      "outputs": []
    },
    {
      "cell_type": "code",
      "source": [
        "\"\"\"\n",
        "x_train_df.to_csv(\"x_train_df.csv\", sep=\";\", index=False)\n",
        "x_test_df.to_csv(\"x_test_df.csv\", sep=\";\", index=False)\n",
        "y_train_df.to_csv(\"y_train_df.csv\", sep=\";\", index=False)\n",
        "y_test_df.to_csv(\"y_test_df.csv\", sep=\";\", index=False)\n",
        "\"\"\""
      ],
      "metadata": {
        "id": "d0Z_DgoFm5S2"
      },
      "execution_count": null,
      "outputs": []
    },
    {
      "cell_type": "markdown",
      "source": [
        "## LDA From Scratch"
      ],
      "metadata": {
        "id": "Z60IfcQ8lG_l"
      }
    },
    {
      "cell_type": "markdown",
      "source": [
        "Subset the training set into two sets: class0 where Purchased = 0 and class1 where Purchased = 1)"
      ],
      "metadata": {
        "id": "bOzMN4HPlTTd"
      }
    },
    {
      "cell_type": "code",
      "source": [
        "x_0_train, x_1_train, x_2_train, x_3_train"
      ],
      "metadata": {
        "id": "Flfa0NE0lJoF",
        "colab": {
          "base_uri": "https://localhost:8080/"
        },
        "outputId": "1f3696e8-0775-47a5-9e58-e0f9baa1d6c6"
      },
      "execution_count": null,
      "outputs": [
        {
          "output_type": "error",
          "ename": "NameError",
          "evalue": "ignored",
          "traceback": [
            "\u001b[0;31m---------------------------------------------------------------------------\u001b[0m",
            "\u001b[0;31mNameError\u001b[0m                                 Traceback (most recent call last)",
            "\u001b[0;32m<ipython-input-117-b4c17f250a84>\u001b[0m in \u001b[0;36m<module>\u001b[0;34m()\u001b[0m\n\u001b[0;32m----> 1\u001b[0;31m \u001b[0mx_0_train\u001b[0m\u001b[0;34m,\u001b[0m \u001b[0mx_1_train\u001b[0m\u001b[0;34m,\u001b[0m \u001b[0mx_2_train\u001b[0m\u001b[0;34m,\u001b[0m \u001b[0mx_3_train\u001b[0m\u001b[0;34m\u001b[0m\u001b[0;34m\u001b[0m\u001b[0m\n\u001b[0m",
            "\u001b[0;31mNameError\u001b[0m: name 'x_3_train' is not defined"
          ]
        }
      ]
    },
    {
      "cell_type": "markdown",
      "source": [
        "Compute  π0  and π1"
      ],
      "metadata": {
        "id": "tiWv2hFwl8P6"
      }
    },
    {
      "cell_type": "code",
      "source": [
        "pi0 = len(x_0_train) / len(x_train)\n",
        "pi1 = len(x_1_train) / len(x_train)\n",
        "pi2 = len(x_2_train) / len(x_train)\n",
        "pi3 = len(x_3_train) / len(x_train)"
      ],
      "metadata": {
        "id": "_PAWFS_Nl7Gk"
      },
      "execution_count": null,
      "outputs": []
    },
    {
      "cell_type": "code",
      "source": [
        "pi0, pi1, pi2, pi3"
      ],
      "metadata": {
        "id": "vbyNtE3wmgA7"
      },
      "execution_count": null,
      "outputs": []
    },
    {
      "cell_type": "markdown",
      "source": [
        "Compute  μ0 and  μ1"
      ],
      "metadata": {
        "id": "uLty6j9yojFA"
      }
    },
    {
      "cell_type": "code",
      "source": [
        "np.mean(x_0_train, axis=0)"
      ],
      "metadata": {
        "id": "0vL2r3kosxIU"
      },
      "execution_count": null,
      "outputs": []
    },
    {
      "cell_type": "code",
      "source": [
        "mu0 = np.mean(x_0_train, axis=0)\n",
        "mu1 = np.mean(x_1_train, axis=0)\n",
        "mu2 = np.mean(x_2_train, axis=0)\n",
        "mu3 = np.mean(x_3_train, axis=0)"
      ],
      "metadata": {
        "id": "mhy4r5ywolD7"
      },
      "execution_count": null,
      "outputs": []
    },
    {
      "cell_type": "code",
      "source": [
        "mu0, mu1, mu2, mu3"
      ],
      "metadata": {
        "id": "1Xs8hE2lwrUl"
      },
      "execution_count": null,
      "outputs": []
    },
    {
      "cell_type": "markdown",
      "source": [
        "Compute Σ"
      ],
      "metadata": {
        "id": "UC_6cU8Sw0eF"
      }
    },
    {
      "cell_type": "code",
      "source": [
        "sigma = np.array(((len(x_0_train)-1) * x_0_train.cov() +\n",
        "         (len(x_1_train)-1) * x_1_train.cov() + \n",
        "         (len(x_2_train)-1) * x_2_train.cov() + \n",
        "         (len(x_3_train)-1) * x_3_train.cov()) / (len(x_0_train) + len(x_1_train) + len(x_2_train) + len(x_3_train) - 4))"
      ],
      "metadata": {
        "id": "P1nYHvfVw6f3"
      },
      "execution_count": null,
      "outputs": []
    },
    {
      "cell_type": "code",
      "source": [
        "sigma"
      ],
      "metadata": {
        "id": "CJe_2624x9mh"
      },
      "execution_count": null,
      "outputs": []
    },
    {
      "cell_type": "markdown",
      "source": [
        "Compute Delta0 an Delta1"
      ],
      "metadata": {
        "id": "G3c2IPe7yD16"
      }
    },
    {
      "cell_type": "code",
      "source": [
        "from math import *"
      ],
      "metadata": {
        "id": "puOGDHyy1hbT"
      },
      "execution_count": null,
      "outputs": []
    },
    {
      "cell_type": "code",
      "source": [
        "sigmaI=np.linalg.inv(sigma)\n",
        "delta0=np.dot(np.dot(x_test, sigmaI), mu0) - 0.5 * np.dot(np.dot(mu0.transpose(), sigmaI), mu0) + log(pi0)\n",
        "delta1=np.dot(np.dot(x_test, sigmaI), mu1) - 0.5 * np.dot(np.dot(mu1.transpose(), sigmaI), mu1) + log(pi1)\n",
        "delta2=np.dot(np.dot(x_test, sigmaI), mu2) - 0.5 * np.dot(np.dot(mu2.transpose(), sigmaI), mu2) + log(pi2)\n",
        "delta3=np.dot(np.dot(x_test, sigmaI), mu3) - 0.5 * np.dot(np.dot(mu3.transpose(), sigmaI), mu3) + log(pi3)"
      ],
      "metadata": {
        "id": "jPb065SlyK95"
      },
      "execution_count": null,
      "outputs": []
    },
    {
      "cell_type": "code",
      "source": [
        "delta0"
      ],
      "metadata": {
        "id": "v7EVAgh46Nn0"
      },
      "execution_count": null,
      "outputs": []
    },
    {
      "cell_type": "code",
      "source": [
        "y_pred_lda_scratch = pd.DataFrame(np.array([delta0, delta1, delta2, delta3]).transpose())"
      ],
      "metadata": {
        "id": "QIGfxwCZ4YVd"
      },
      "execution_count": null,
      "outputs": []
    },
    {
      "cell_type": "code",
      "source": [
        "y_pred_lda_scratch.columns = [\"FLOP\", \"BOF\", \"HIT\", \"SUPER HIT\"]"
      ],
      "metadata": {
        "id": "M1jW_orq4w2b"
      },
      "execution_count": null,
      "outputs": []
    },
    {
      "cell_type": "code",
      "source": [
        "y_pred_lda_scratch"
      ],
      "metadata": {
        "id": "7BfUEGmU4p8W"
      },
      "execution_count": null,
      "outputs": []
    },
    {
      "cell_type": "code",
      "source": [
        "y_pred_lda_scratch[\"predictions\"] = y_pred_lda_scratch.idxmax(axis=\"columns\")"
      ],
      "metadata": {
        "id": "hnmib45b52Et"
      },
      "execution_count": null,
      "outputs": []
    },
    {
      "cell_type": "code",
      "source": [
        "y_pred_lda_scratch"
      ],
      "metadata": {
        "id": "V2B2d9OU7ow9"
      },
      "execution_count": null,
      "outputs": []
    },
    {
      "cell_type": "code",
      "source": [
        "precision_score(y_test, y_pred_lda_scratch[\"predictions\"], average=\"micro\")"
      ],
      "metadata": {
        "id": "YLUbJUswzjiF"
      },
      "execution_count": null,
      "outputs": []
    },
    {
      "cell_type": "markdown",
      "source": [
        "## Applications optimisées de Modèles "
      ],
      "metadata": {
        "id": "vRJE5qgn_ntR"
      }
    },
    {
      "cell_type": "markdown",
      "source": [
        "LDA"
      ],
      "metadata": {
        "id": "SdTyzQiYEC85"
      }
    },
    {
      "cell_type": "code",
      "source": [
        "param = {'solver':[\"svd\", \"lsqr\", \"eigen\"], \n",
        "         'shrinkage':[\"auto\", 0.1, 0.3, 0.8],'n_components': [1,2,3]}\n",
        "        # , 'learning_decay': [0.5, 0.7, 0.9]\n",
        "lda_grid = GridSearchCV(LDA(), param, cv= KFold(n_splits=5, random_state=42, shuffle = True), scoring =\"accuracy\")\n",
        "lda_grid.fit(x_train, y_train)\n",
        "y_pred_lda = lda_grid.predict(x_test)\n",
        "precision_score(y_test, y_pred_lda, average=\"micro\"), lda_grid"
      ],
      "metadata": {
        "id": "-JQpz9NVEEOy",
        "colab": {
          "base_uri": "https://localhost:8080/"
        },
        "outputId": "ab1dd62a-a3ee-4b72-dfc9-c529b1dcefe2"
      },
      "execution_count": null,
      "outputs": [
        {
          "output_type": "execute_result",
          "data": {
            "text/plain": [
              "(0.4533762057877814,\n",
              " GridSearchCV(cv=KFold(n_splits=5, random_state=42, shuffle=True),\n",
              "              estimator=LinearDiscriminantAnalysis(),\n",
              "              param_grid={'n_components': [1, 2, 3],\n",
              "                          'shrinkage': ['auto', 0.1, 0.3, 0.8],\n",
              "                          'solver': ['svd', 'lsqr', 'eigen']},\n",
              "              scoring='accuracy'))"
            ]
          },
          "metadata": {},
          "execution_count": 118
        }
      ]
    },
    {
      "cell_type": "markdown",
      "source": [
        "QDA"
      ],
      "metadata": {
        "id": "qOVnrd1tEk6-"
      }
    },
    {
      "cell_type": "code",
      "source": [
        "param = {'reg_param':[0, 0.01, 0.1, 0.2, 0.25, 0.5]}\n",
        "\n",
        "qda_grid = GridSearchCV(QDA(), param, cv= KFold(n_splits=5, random_state=42, shuffle = True), scoring =\"accuracy\")\n",
        "qda_grid.fit(x_train, y_train)\n",
        "y_pred_qda = qda_grid.predict(x_test)\n",
        "precision_score(y_test, y_pred_qda, average=\"micro\"), qda_grid"
      ],
      "metadata": {
        "id": "_VtgXegxEl_V",
        "colab": {
          "base_uri": "https://localhost:8080/"
        },
        "outputId": "467593e7-129a-400e-faa5-9e8422ed74e1"
      },
      "execution_count": null,
      "outputs": [
        {
          "output_type": "execute_result",
          "data": {
            "text/plain": [
              "(0.4630225080385852,\n",
              " GridSearchCV(cv=KFold(n_splits=5, random_state=42, shuffle=True),\n",
              "              estimator=QuadraticDiscriminantAnalysis(),\n",
              "              param_grid={'reg_param': [0, 0.01, 0.1, 0.2, 0.25, 0.5]},\n",
              "              scoring='accuracy'))"
            ]
          },
          "metadata": {},
          "execution_count": 119
        }
      ]
    },
    {
      "cell_type": "markdown",
      "source": [
        "KNN"
      ],
      "metadata": {
        "id": "rx3Me0s-CIid"
      }
    },
    {
      "cell_type": "code",
      "source": [
        "#Hyperparameters definition\n",
        "param = {\"n_neighbors\": list(range(1,30)), \n",
        "         \"weights\": [\"uniform\", \"distance\"],'metric' : ['minkowski','euclidean','manhattan'],\n",
        "         \"algorithm\":[\"auto\", \"ball_tree\", \"kd_tree\", \"brute\"],\n",
        "         \"p\":[1,2,3]}\n",
        "        #  \"leaf_size\" : list(range(1,50)\n",
        "#GridSearch\n",
        "knn_grid = GridSearchCV(KNeighborsClassifier(), param, cv= KFold(n_splits=5, random_state=42, shuffle = True),scoring = \"accuracy\")\n",
        "knn_grid.fit(x_train, y_train)\n",
        "y_pred_knn = knn_grid.predict(x_test)\n",
        "precision_score(y_test, y_pred_knn, average=\"micro\"), knn_grid\n"
      ],
      "metadata": {
        "id": "zaAhB74UCOoZ",
        "colab": {
          "base_uri": "https://localhost:8080/"
        },
        "outputId": "2a430ea8-628a-4f99-9ec0-ec2803dcfa05"
      },
      "execution_count": null,
      "outputs": [
        {
          "output_type": "execute_result",
          "data": {
            "text/plain": [
              "(0.4565916398713826,\n",
              " GridSearchCV(cv=KFold(n_splits=5, random_state=42, shuffle=True),\n",
              "              estimator=KNeighborsClassifier(),\n",
              "              param_grid={'algorithm': ['auto', 'ball_tree', 'kd_tree', 'brute'],\n",
              "                          'metric': ['minkowski', 'euclidean', 'manhattan'],\n",
              "                          'n_neighbors': [1, 2, 3, 4, 5, 6, 7, 8, 9, 10, 11, 12,\n",
              "                                          13, 14, 15, 16, 17, 18, 19, 20, 21, 22,\n",
              "                                          23, 24, 25, 26, 27, 28, 29],\n",
              "                          'p': [1, 2, 3], 'weights': ['uniform', 'distance']},\n",
              "              scoring='accuracy'))"
            ]
          },
          "metadata": {},
          "execution_count": 121
        }
      ]
    },
    {
      "cell_type": "markdown",
      "source": [
        "SVC"
      ],
      "metadata": {
        "id": "D6YOo8ReCgDx"
      }
    },
    {
      "cell_type": "code",
      "source": [
        "# Hyperparameters\n",
        "param = {\"C\": [0.1,1,10,100],\n",
        "        \"kernel\":[\"linear\", \"poly\", \"rbf\", \"sigmoid\"],\n",
        "        'gamma': [0.5, 0.1, 0.001, 0.0001]}\n",
        "#GridSearch\n",
        "svc_grid = GridSearchCV(SVC(), param, cv= KFold(n_splits=5, random_state=42, shuffle = True),scoring = \"accuracy\")\n",
        "svc_grid.fit(x_train, y_train)\n",
        "y_pred_svc = svc_grid.predict(x_test)\n",
        "precision_score(y_test, y_pred_svc, average=\"micro\"), svc_grid\n"
      ],
      "metadata": {
        "id": "KW_sfy7fCm-d",
        "colab": {
          "base_uri": "https://localhost:8080/"
        },
        "outputId": "1fa1f85a-3df6-4aac-891d-b8748ae169a5"
      },
      "execution_count": null,
      "outputs": [
        {
          "output_type": "execute_result",
          "data": {
            "text/plain": [
              "(0.42443729903536975,\n",
              " GridSearchCV(cv=KFold(n_splits=5, random_state=42, shuffle=True),\n",
              "              estimator=SVC(),\n",
              "              param_grid={'C': [0.1, 1, 10, 100],\n",
              "                          'gamma': [0.5, 0.1, 0.001, 0.0001],\n",
              "                          'kernel': ['linear', 'poly', 'rbf', 'sigmoid']},\n",
              "              scoring='accuracy'))"
            ]
          },
          "metadata": {},
          "execution_count": 122
        }
      ]
    },
    {
      "cell_type": "markdown",
      "source": [
        "AdaBoost"
      ],
      "metadata": {
        "id": "JwimBKeIDFKs"
      }
    },
    {
      "cell_type": "code",
      "source": [
        "# Hyperparameters\n",
        "param = {\"learning_rate\": [0.0001, 0.001, 0.01, 0.1, 1.0, 2, 5],\n",
        "       'n_estimators': [1,50,100, 500, 1000]}\n",
        "#GridSearch\n",
        "\n",
        "AdaBoost_Grid = GridSearchCV(AdaBoostClassifier(), param, cv= KFold(n_splits=5, random_state=42, shuffle = True),scoring = \"accuracy\")\n",
        "AdaBoost_Grid.fit(x_train, y_train)\n",
        "y_pred_ada = AdaBoost_Grid.predict(x_test)\n",
        "precision_score(y_test, y_pred_ada, average=\"micro\"), AdaBoost_Grid\n"
      ],
      "metadata": {
        "id": "QzM06CbkDHs0",
        "colab": {
          "base_uri": "https://localhost:8080/"
        },
        "outputId": "9877e8fc-7ab6-41f6-b5d0-affad991a4e6"
      },
      "execution_count": null,
      "outputs": [
        {
          "output_type": "execute_result",
          "data": {
            "text/plain": [
              "(0.43086816720257237,\n",
              " GridSearchCV(cv=KFold(n_splits=5, random_state=42, shuffle=True),\n",
              "              estimator=AdaBoostClassifier(),\n",
              "              param_grid={'learning_rate': [0.0001, 0.001, 0.01, 0.1, 1.0, 2, 5],\n",
              "                          'n_estimators': [1, 50, 100, 500, 1000]},\n",
              "              scoring='accuracy'))"
            ]
          },
          "metadata": {},
          "execution_count": 123
        }
      ]
    },
    {
      "cell_type": "code",
      "source": [
        "# param = {'learning_rate':[0.01], 'n_estimators': [1000]}\n",
        "# AdaBoost_Grid = GridSearchCV(AdaBoostClassifier(), param, cv= KFold(n_splits=5, random_state=42, shuffle = True),scoring = \"accuracy\")\n",
        "# AdaBoost_Grid.fit(x_train, y_train)\n",
        "# y_pred_ada = AdaBoost_Grid.predict(x_test)\n",
        "# precision_score(y_test, y_pred_ada, average=\"micro\"), AdaBoost_Grid\n"
      ],
      "metadata": {
        "id": "2LZUCzvyKGBZ",
        "colab": {
          "base_uri": "https://localhost:8080/"
        },
        "outputId": "ae11974b-e2f5-4f58-c436-f7721de38b8f"
      },
      "execution_count": null,
      "outputs": [
        {
          "output_type": "execute_result",
          "data": {
            "text/plain": [
              "(0.45016077170418006,\n",
              " GridSearchCV(cv=KFold(n_splits=5, random_state=42, shuffle=True),\n",
              "              estimator=AdaBoostClassifier(),\n",
              "              param_grid={'learning_rate': [0.01], 'n_estimators': [1000]},\n",
              "              scoring='accuracy'))"
            ]
          },
          "metadata": {},
          "execution_count": 124
        }
      ]
    },
    {
      "cell_type": "markdown",
      "source": [
        "Gradient Boost"
      ],
      "metadata": {
        "id": "3_meOXzqDNTV"
      }
    },
    {
      "cell_type": "code",
      "source": [
        "# Hyperparameters\n",
        "param = {\"learning_rate\": [0.01,0.1,1, 2, 5],\n",
        "        'n_estimators': [100, 500, 1000],\n",
        "        'max_depth': range(1,5),\n",
        "        \"max_features\": [\"auto\", \"sqrt\", \"log2\"]}\n",
        "#GridSearch\n",
        "GradientBoost_Grid = GridSearchCV(GradientBoostingClassifier(), param, cv= KFold(n_splits=5, random_state=42, shuffle = True),scoring = \"accuracy\")\n",
        "GradientBoost_Grid.fit(x_train, y_train)\n",
        "y_pred_grad = GradientBoost_Grid.predict(x_test)\n",
        "precision_score(y_test, y_pred_grad, average=\"micro\"), GradientBoost_Grid\n"
      ],
      "metadata": {
        "id": "aIvhAeYpDRpL",
        "colab": {
          "base_uri": "https://localhost:8080/"
        },
        "outputId": "29fd6fe4-8074-4b89-c44d-996ac2ad236b"
      },
      "execution_count": null,
      "outputs": [
        {
          "output_type": "execute_result",
          "data": {
            "text/plain": [
              "(0.4662379421221865,\n",
              " GridSearchCV(cv=KFold(n_splits=5, random_state=42, shuffle=True),\n",
              "              estimator=GradientBoostingClassifier(),\n",
              "              param_grid={'learning_rate': [0.01, 0.1, 1, 2, 5],\n",
              "                          'max_depth': range(1, 5),\n",
              "                          'max_features': ['auto', 'sqrt', 'log2'],\n",
              "                          'n_estimators': [100, 500, 1000]},\n",
              "              scoring='accuracy'))"
            ]
          },
          "metadata": {},
          "execution_count": 130
        }
      ]
    },
    {
      "cell_type": "code",
      "source": [
        "GradientBoost_Grid.best_params_"
      ],
      "metadata": {
        "colab": {
          "base_uri": "https://localhost:8080/"
        },
        "id": "5CwlJHmFUl_U",
        "outputId": "37109a9e-482b-4ef1-dea3-e3a9583441b5"
      },
      "execution_count": null,
      "outputs": [
        {
          "output_type": "execute_result",
          "data": {
            "text/plain": [
              "{'learning_rate': 0.01,\n",
              " 'max_depth': 1,\n",
              " 'max_features': 'log2',\n",
              " 'n_estimators': 500}"
            ]
          },
          "metadata": {},
          "execution_count": 129
        }
      ]
    },
    {
      "cell_type": "code",
      "source": [
        "# Hyperparameters\n",
        "# param = {'learning_rate': [0.01], 'max_depth': [1], 'max_features': ['log2'], 'n_estimators': [500]}\n",
        "# #GridSearch\n",
        "# GradientBoost_Grid = GridSearchCV(GradientBoostingClassifier(), param, cv= KFold(n_splits=5, random_state=42, shuffle = True),scoring = \"accuracy\")\n",
        "# GradientBoost_Grid.fit(x_train, y_train)\n",
        "# y_pred_grad = GradientBoost_Grid.predict(x_test)\n",
        "# precision_score(y_test, y_pred_grad, average=\"micro\"), GradientBoost_Grid"
      ],
      "metadata": {
        "id": "QCVi-03KKxLK",
        "colab": {
          "base_uri": "https://localhost:8080/"
        },
        "outputId": "9c03a68f-162d-4036-8c7f-5eb50beff444"
      },
      "execution_count": null,
      "outputs": [
        {
          "output_type": "execute_result",
          "data": {
            "text/plain": [
              "(0.4533762057877814,\n",
              " GridSearchCV(cv=KFold(n_splits=5, random_state=42, shuffle=True),\n",
              "              estimator=GradientBoostingClassifier(),\n",
              "              param_grid={'learning_rate': [0.01], 'max_depth': [1],\n",
              "                          'max_features': ['log2'], 'n_estimators': [500]},\n",
              "              scoring='accuracy'))"
            ]
          },
          "metadata": {},
          "execution_count": 126
        }
      ]
    },
    {
      "cell_type": "markdown",
      "source": [
        "XG Boost"
      ],
      "metadata": {
        "id": "c3fcBX3hBF1S"
      }
    },
    {
      "cell_type": "code",
      "source": [
        "param = {'max_depth': [2, 6, 8], 'learning_rate': [0.001,0.01, 0.1],\\\n",
        "        'min_child_weight': [5, 6, 7], 'objective': [\"multi:softprob\"],\\\n",
        "        'subsample': [0.6, 0.4], \"colsample_bytree\": [0.7, 0.3],\\\n",
        "        \"gamma\": [0.5, 0.8, 1, 1.5], \"n_estimators\": [50, 100, 150],\"eval_metric\":[\"merror\"]}\n",
        "\n",
        "XgBoost_Grid = GridSearchCV(xgb.XGBClassifier(use_label_encoder=True, nthread=-1), param, cv= KFold(n_splits=5, random_state=42, shuffle = True), scoring =\"accuracy\")\n",
        "XgBoost_Grid.fit(x_train, y_train)\n",
        "y_pred_xgboost = XgBoost_Grid.predict(x_test)\n",
        "precision_score(y_test, y_pred_xgboost, average=\"micro\"), XgBoost_Grid\n"
      ],
      "metadata": {
        "id": "ttr226gTBK03",
        "colab": {
          "base_uri": "https://localhost:8080/",
          "height": 380
        },
        "outputId": "8acb64f6-eadb-4d81-9aef-95eb0cc2d552"
      },
      "execution_count": null,
      "outputs": [
        {
          "output_type": "error",
          "ename": "KeyboardInterrupt",
          "evalue": "ignored",
          "traceback": [
            "\u001b[0;31m---------------------------------------------------------------------------\u001b[0m",
            "\u001b[0;31mKeyboardInterrupt\u001b[0m                         Traceback (most recent call last)",
            "\u001b[0;32m<ipython-input-127-6d8b1b4de108>\u001b[0m in \u001b[0;36m<module>\u001b[0;34m()\u001b[0m\n\u001b[1;32m      2\u001b[0m \u001b[0;34m\u001b[0m\u001b[0m\n\u001b[1;32m      3\u001b[0m \u001b[0mXgBoost_Grid\u001b[0m \u001b[0;34m=\u001b[0m \u001b[0mGridSearchCV\u001b[0m\u001b[0;34m(\u001b[0m\u001b[0mxgb\u001b[0m\u001b[0;34m.\u001b[0m\u001b[0mXGBClassifier\u001b[0m\u001b[0;34m(\u001b[0m\u001b[0muse_label_encoder\u001b[0m\u001b[0;34m=\u001b[0m\u001b[0;32mTrue\u001b[0m\u001b[0;34m,\u001b[0m \u001b[0mnthread\u001b[0m\u001b[0;34m=\u001b[0m\u001b[0;34m-\u001b[0m\u001b[0;36m1\u001b[0m\u001b[0;34m)\u001b[0m\u001b[0;34m,\u001b[0m \u001b[0mparam\u001b[0m\u001b[0;34m,\u001b[0m \u001b[0mcv\u001b[0m\u001b[0;34m=\u001b[0m \u001b[0mKFold\u001b[0m\u001b[0;34m(\u001b[0m\u001b[0mn_splits\u001b[0m\u001b[0;34m=\u001b[0m\u001b[0;36m5\u001b[0m\u001b[0;34m,\u001b[0m \u001b[0mrandom_state\u001b[0m\u001b[0;34m=\u001b[0m\u001b[0;36m42\u001b[0m\u001b[0;34m,\u001b[0m \u001b[0mshuffle\u001b[0m \u001b[0;34m=\u001b[0m \u001b[0;32mTrue\u001b[0m\u001b[0;34m)\u001b[0m\u001b[0;34m,\u001b[0m \u001b[0mscoring\u001b[0m \u001b[0;34m=\u001b[0m\u001b[0;34m\"accuracy\"\u001b[0m\u001b[0;34m)\u001b[0m\u001b[0;34m\u001b[0m\u001b[0;34m\u001b[0m\u001b[0m\n\u001b[0;32m----> 4\u001b[0;31m \u001b[0mXgBoost_Grid\u001b[0m\u001b[0;34m.\u001b[0m\u001b[0mfit\u001b[0m\u001b[0;34m(\u001b[0m\u001b[0mx_train\u001b[0m\u001b[0;34m,\u001b[0m \u001b[0my_train\u001b[0m\u001b[0;34m)\u001b[0m\u001b[0;34m\u001b[0m\u001b[0;34m\u001b[0m\u001b[0m\n\u001b[0m\u001b[1;32m      5\u001b[0m \u001b[0my_pred_xgboost\u001b[0m \u001b[0;34m=\u001b[0m \u001b[0mXgBoost_Grid\u001b[0m\u001b[0;34m.\u001b[0m\u001b[0mpredict\u001b[0m\u001b[0;34m(\u001b[0m\u001b[0mx_test\u001b[0m\u001b[0;34m)\u001b[0m\u001b[0;34m\u001b[0m\u001b[0;34m\u001b[0m\u001b[0m\n\u001b[1;32m      6\u001b[0m \u001b[0mprecision_score\u001b[0m\u001b[0;34m(\u001b[0m\u001b[0my_test\u001b[0m\u001b[0;34m,\u001b[0m \u001b[0my_pred_xgboost\u001b[0m\u001b[0;34m,\u001b[0m \u001b[0maverage\u001b[0m\u001b[0;34m=\u001b[0m\u001b[0;34m\"micro\"\u001b[0m\u001b[0;34m)\u001b[0m\u001b[0;34m,\u001b[0m \u001b[0mXgBoost_Grid\u001b[0m\u001b[0;34m\u001b[0m\u001b[0;34m\u001b[0m\u001b[0m\n",
            "\u001b[0;32m/usr/local/lib/python3.7/dist-packages/sklearn/model_selection/_search.py\u001b[0m in \u001b[0;36mfit\u001b[0;34m(self, X, y, groups, **fit_params)\u001b[0m\n\u001b[1;32m    889\u001b[0m                 \u001b[0;32mreturn\u001b[0m \u001b[0mresults\u001b[0m\u001b[0;34m\u001b[0m\u001b[0;34m\u001b[0m\u001b[0m\n\u001b[1;32m    890\u001b[0m \u001b[0;34m\u001b[0m\u001b[0m\n\u001b[0;32m--> 891\u001b[0;31m             \u001b[0mself\u001b[0m\u001b[0;34m.\u001b[0m\u001b[0m_run_search\u001b[0m\u001b[0;34m(\u001b[0m\u001b[0mevaluate_candidates\u001b[0m\u001b[0;34m)\u001b[0m\u001b[0;34m\u001b[0m\u001b[0;34m\u001b[0m\u001b[0m\n\u001b[0m\u001b[1;32m    892\u001b[0m \u001b[0;34m\u001b[0m\u001b[0m\n\u001b[1;32m    893\u001b[0m             \u001b[0;31m# multimetric is determined here because in the case of a callable\u001b[0m\u001b[0;34m\u001b[0m\u001b[0;34m\u001b[0m\u001b[0;34m\u001b[0m\u001b[0m\n",
            "\u001b[0;32m/usr/local/lib/python3.7/dist-packages/sklearn/model_selection/_search.py\u001b[0m in \u001b[0;36m_run_search\u001b[0;34m(self, evaluate_candidates)\u001b[0m\n\u001b[1;32m   1390\u001b[0m     \u001b[0;32mdef\u001b[0m \u001b[0m_run_search\u001b[0m\u001b[0;34m(\u001b[0m\u001b[0mself\u001b[0m\u001b[0;34m,\u001b[0m \u001b[0mevaluate_candidates\u001b[0m\u001b[0;34m)\u001b[0m\u001b[0;34m:\u001b[0m\u001b[0;34m\u001b[0m\u001b[0;34m\u001b[0m\u001b[0m\n\u001b[1;32m   1391\u001b[0m         \u001b[0;34m\"\"\"Search all candidates in param_grid\"\"\"\u001b[0m\u001b[0;34m\u001b[0m\u001b[0;34m\u001b[0m\u001b[0m\n\u001b[0;32m-> 1392\u001b[0;31m         \u001b[0mevaluate_candidates\u001b[0m\u001b[0;34m(\u001b[0m\u001b[0mParameterGrid\u001b[0m\u001b[0;34m(\u001b[0m\u001b[0mself\u001b[0m\u001b[0;34m.\u001b[0m\u001b[0mparam_grid\u001b[0m\u001b[0;34m)\u001b[0m\u001b[0;34m)\u001b[0m\u001b[0;34m\u001b[0m\u001b[0;34m\u001b[0m\u001b[0m\n\u001b[0m\u001b[1;32m   1393\u001b[0m \u001b[0;34m\u001b[0m\u001b[0m\n\u001b[1;32m   1394\u001b[0m \u001b[0;34m\u001b[0m\u001b[0m\n",
            "\u001b[0;32m/usr/local/lib/python3.7/dist-packages/sklearn/model_selection/_search.py\u001b[0m in \u001b[0;36mevaluate_candidates\u001b[0;34m(candidate_params, cv, more_results)\u001b[0m\n\u001b[1;32m    849\u001b[0m                     )\n\u001b[1;32m    850\u001b[0m                     for (cand_idx, parameters), (split_idx, (train, test)) in product(\n\u001b[0;32m--> 851\u001b[0;31m                         \u001b[0menumerate\u001b[0m\u001b[0;34m(\u001b[0m\u001b[0mcandidate_params\u001b[0m\u001b[0;34m)\u001b[0m\u001b[0;34m,\u001b[0m \u001b[0menumerate\u001b[0m\u001b[0;34m(\u001b[0m\u001b[0mcv\u001b[0m\u001b[0;34m.\u001b[0m\u001b[0msplit\u001b[0m\u001b[0;34m(\u001b[0m\u001b[0mX\u001b[0m\u001b[0;34m,\u001b[0m \u001b[0my\u001b[0m\u001b[0;34m,\u001b[0m \u001b[0mgroups\u001b[0m\u001b[0;34m)\u001b[0m\u001b[0;34m)\u001b[0m\u001b[0;34m\u001b[0m\u001b[0;34m\u001b[0m\u001b[0m\n\u001b[0m\u001b[1;32m    852\u001b[0m                     )\n\u001b[1;32m    853\u001b[0m                 )\n",
            "\u001b[0;32m/usr/local/lib/python3.7/dist-packages/joblib/parallel.py\u001b[0m in \u001b[0;36m__call__\u001b[0;34m(self, iterable)\u001b[0m\n\u001b[1;32m   1044\u001b[0m                 \u001b[0mself\u001b[0m\u001b[0;34m.\u001b[0m\u001b[0m_iterating\u001b[0m \u001b[0;34m=\u001b[0m \u001b[0mself\u001b[0m\u001b[0;34m.\u001b[0m\u001b[0m_original_iterator\u001b[0m \u001b[0;32mis\u001b[0m \u001b[0;32mnot\u001b[0m \u001b[0;32mNone\u001b[0m\u001b[0;34m\u001b[0m\u001b[0;34m\u001b[0m\u001b[0m\n\u001b[1;32m   1045\u001b[0m \u001b[0;34m\u001b[0m\u001b[0m\n\u001b[0;32m-> 1046\u001b[0;31m             \u001b[0;32mwhile\u001b[0m \u001b[0mself\u001b[0m\u001b[0;34m.\u001b[0m\u001b[0mdispatch_one_batch\u001b[0m\u001b[0;34m(\u001b[0m\u001b[0miterator\u001b[0m\u001b[0;34m)\u001b[0m\u001b[0;34m:\u001b[0m\u001b[0;34m\u001b[0m\u001b[0;34m\u001b[0m\u001b[0m\n\u001b[0m\u001b[1;32m   1047\u001b[0m                 \u001b[0;32mpass\u001b[0m\u001b[0;34m\u001b[0m\u001b[0;34m\u001b[0m\u001b[0m\n\u001b[1;32m   1048\u001b[0m \u001b[0;34m\u001b[0m\u001b[0m\n",
            "\u001b[0;32m/usr/local/lib/python3.7/dist-packages/joblib/parallel.py\u001b[0m in \u001b[0;36mdispatch_one_batch\u001b[0;34m(self, iterator)\u001b[0m\n\u001b[1;32m    859\u001b[0m                 \u001b[0;32mreturn\u001b[0m \u001b[0;32mFalse\u001b[0m\u001b[0;34m\u001b[0m\u001b[0;34m\u001b[0m\u001b[0m\n\u001b[1;32m    860\u001b[0m             \u001b[0;32melse\u001b[0m\u001b[0;34m:\u001b[0m\u001b[0;34m\u001b[0m\u001b[0;34m\u001b[0m\u001b[0m\n\u001b[0;32m--> 861\u001b[0;31m                 \u001b[0mself\u001b[0m\u001b[0;34m.\u001b[0m\u001b[0m_dispatch\u001b[0m\u001b[0;34m(\u001b[0m\u001b[0mtasks\u001b[0m\u001b[0;34m)\u001b[0m\u001b[0;34m\u001b[0m\u001b[0;34m\u001b[0m\u001b[0m\n\u001b[0m\u001b[1;32m    862\u001b[0m                 \u001b[0;32mreturn\u001b[0m \u001b[0;32mTrue\u001b[0m\u001b[0;34m\u001b[0m\u001b[0;34m\u001b[0m\u001b[0m\n\u001b[1;32m    863\u001b[0m \u001b[0;34m\u001b[0m\u001b[0m\n",
            "\u001b[0;32m/usr/local/lib/python3.7/dist-packages/joblib/parallel.py\u001b[0m in \u001b[0;36m_dispatch\u001b[0;34m(self, batch)\u001b[0m\n\u001b[1;32m    777\u001b[0m         \u001b[0;32mwith\u001b[0m \u001b[0mself\u001b[0m\u001b[0;34m.\u001b[0m\u001b[0m_lock\u001b[0m\u001b[0;34m:\u001b[0m\u001b[0;34m\u001b[0m\u001b[0;34m\u001b[0m\u001b[0m\n\u001b[1;32m    778\u001b[0m             \u001b[0mjob_idx\u001b[0m \u001b[0;34m=\u001b[0m \u001b[0mlen\u001b[0m\u001b[0;34m(\u001b[0m\u001b[0mself\u001b[0m\u001b[0;34m.\u001b[0m\u001b[0m_jobs\u001b[0m\u001b[0;34m)\u001b[0m\u001b[0;34m\u001b[0m\u001b[0;34m\u001b[0m\u001b[0m\n\u001b[0;32m--> 779\u001b[0;31m             \u001b[0mjob\u001b[0m \u001b[0;34m=\u001b[0m \u001b[0mself\u001b[0m\u001b[0;34m.\u001b[0m\u001b[0m_backend\u001b[0m\u001b[0;34m.\u001b[0m\u001b[0mapply_async\u001b[0m\u001b[0;34m(\u001b[0m\u001b[0mbatch\u001b[0m\u001b[0;34m,\u001b[0m \u001b[0mcallback\u001b[0m\u001b[0;34m=\u001b[0m\u001b[0mcb\u001b[0m\u001b[0;34m)\u001b[0m\u001b[0;34m\u001b[0m\u001b[0;34m\u001b[0m\u001b[0m\n\u001b[0m\u001b[1;32m    780\u001b[0m             \u001b[0;31m# A job can complete so quickly than its callback is\u001b[0m\u001b[0;34m\u001b[0m\u001b[0;34m\u001b[0m\u001b[0;34m\u001b[0m\u001b[0m\n\u001b[1;32m    781\u001b[0m             \u001b[0;31m# called before we get here, causing self._jobs to\u001b[0m\u001b[0;34m\u001b[0m\u001b[0;34m\u001b[0m\u001b[0;34m\u001b[0m\u001b[0m\n",
            "\u001b[0;32m/usr/local/lib/python3.7/dist-packages/joblib/_parallel_backends.py\u001b[0m in \u001b[0;36mapply_async\u001b[0;34m(self, func, callback)\u001b[0m\n\u001b[1;32m    206\u001b[0m     \u001b[0;32mdef\u001b[0m \u001b[0mapply_async\u001b[0m\u001b[0;34m(\u001b[0m\u001b[0mself\u001b[0m\u001b[0;34m,\u001b[0m \u001b[0mfunc\u001b[0m\u001b[0;34m,\u001b[0m \u001b[0mcallback\u001b[0m\u001b[0;34m=\u001b[0m\u001b[0;32mNone\u001b[0m\u001b[0;34m)\u001b[0m\u001b[0;34m:\u001b[0m\u001b[0;34m\u001b[0m\u001b[0;34m\u001b[0m\u001b[0m\n\u001b[1;32m    207\u001b[0m         \u001b[0;34m\"\"\"Schedule a func to be run\"\"\"\u001b[0m\u001b[0;34m\u001b[0m\u001b[0;34m\u001b[0m\u001b[0m\n\u001b[0;32m--> 208\u001b[0;31m         \u001b[0mresult\u001b[0m \u001b[0;34m=\u001b[0m \u001b[0mImmediateResult\u001b[0m\u001b[0;34m(\u001b[0m\u001b[0mfunc\u001b[0m\u001b[0;34m)\u001b[0m\u001b[0;34m\u001b[0m\u001b[0;34m\u001b[0m\u001b[0m\n\u001b[0m\u001b[1;32m    209\u001b[0m         \u001b[0;32mif\u001b[0m \u001b[0mcallback\u001b[0m\u001b[0;34m:\u001b[0m\u001b[0;34m\u001b[0m\u001b[0;34m\u001b[0m\u001b[0m\n\u001b[1;32m    210\u001b[0m             \u001b[0mcallback\u001b[0m\u001b[0;34m(\u001b[0m\u001b[0mresult\u001b[0m\u001b[0;34m)\u001b[0m\u001b[0;34m\u001b[0m\u001b[0;34m\u001b[0m\u001b[0m\n",
            "\u001b[0;32m/usr/local/lib/python3.7/dist-packages/joblib/_parallel_backends.py\u001b[0m in \u001b[0;36m__init__\u001b[0;34m(self, batch)\u001b[0m\n\u001b[1;32m    570\u001b[0m         \u001b[0;31m# Don't delay the application, to avoid keeping the input\u001b[0m\u001b[0;34m\u001b[0m\u001b[0;34m\u001b[0m\u001b[0;34m\u001b[0m\u001b[0m\n\u001b[1;32m    571\u001b[0m         \u001b[0;31m# arguments in memory\u001b[0m\u001b[0;34m\u001b[0m\u001b[0;34m\u001b[0m\u001b[0;34m\u001b[0m\u001b[0m\n\u001b[0;32m--> 572\u001b[0;31m         \u001b[0mself\u001b[0m\u001b[0;34m.\u001b[0m\u001b[0mresults\u001b[0m \u001b[0;34m=\u001b[0m \u001b[0mbatch\u001b[0m\u001b[0;34m(\u001b[0m\u001b[0;34m)\u001b[0m\u001b[0;34m\u001b[0m\u001b[0;34m\u001b[0m\u001b[0m\n\u001b[0m\u001b[1;32m    573\u001b[0m \u001b[0;34m\u001b[0m\u001b[0m\n\u001b[1;32m    574\u001b[0m     \u001b[0;32mdef\u001b[0m \u001b[0mget\u001b[0m\u001b[0;34m(\u001b[0m\u001b[0mself\u001b[0m\u001b[0;34m)\u001b[0m\u001b[0;34m:\u001b[0m\u001b[0;34m\u001b[0m\u001b[0;34m\u001b[0m\u001b[0m\n",
            "\u001b[0;32m/usr/local/lib/python3.7/dist-packages/joblib/parallel.py\u001b[0m in \u001b[0;36m__call__\u001b[0;34m(self)\u001b[0m\n\u001b[1;32m    261\u001b[0m         \u001b[0;32mwith\u001b[0m \u001b[0mparallel_backend\u001b[0m\u001b[0;34m(\u001b[0m\u001b[0mself\u001b[0m\u001b[0;34m.\u001b[0m\u001b[0m_backend\u001b[0m\u001b[0;34m,\u001b[0m \u001b[0mn_jobs\u001b[0m\u001b[0;34m=\u001b[0m\u001b[0mself\u001b[0m\u001b[0;34m.\u001b[0m\u001b[0m_n_jobs\u001b[0m\u001b[0;34m)\u001b[0m\u001b[0;34m:\u001b[0m\u001b[0;34m\u001b[0m\u001b[0;34m\u001b[0m\u001b[0m\n\u001b[1;32m    262\u001b[0m             return [func(*args, **kwargs)\n\u001b[0;32m--> 263\u001b[0;31m                     for func, args, kwargs in self.items]\n\u001b[0m\u001b[1;32m    264\u001b[0m \u001b[0;34m\u001b[0m\u001b[0m\n\u001b[1;32m    265\u001b[0m     \u001b[0;32mdef\u001b[0m \u001b[0m__reduce__\u001b[0m\u001b[0;34m(\u001b[0m\u001b[0mself\u001b[0m\u001b[0;34m)\u001b[0m\u001b[0;34m:\u001b[0m\u001b[0;34m\u001b[0m\u001b[0;34m\u001b[0m\u001b[0m\n",
            "\u001b[0;32m/usr/local/lib/python3.7/dist-packages/joblib/parallel.py\u001b[0m in \u001b[0;36m<listcomp>\u001b[0;34m(.0)\u001b[0m\n\u001b[1;32m    261\u001b[0m         \u001b[0;32mwith\u001b[0m \u001b[0mparallel_backend\u001b[0m\u001b[0;34m(\u001b[0m\u001b[0mself\u001b[0m\u001b[0;34m.\u001b[0m\u001b[0m_backend\u001b[0m\u001b[0;34m,\u001b[0m \u001b[0mn_jobs\u001b[0m\u001b[0;34m=\u001b[0m\u001b[0mself\u001b[0m\u001b[0;34m.\u001b[0m\u001b[0m_n_jobs\u001b[0m\u001b[0;34m)\u001b[0m\u001b[0;34m:\u001b[0m\u001b[0;34m\u001b[0m\u001b[0;34m\u001b[0m\u001b[0m\n\u001b[1;32m    262\u001b[0m             return [func(*args, **kwargs)\n\u001b[0;32m--> 263\u001b[0;31m                     for func, args, kwargs in self.items]\n\u001b[0m\u001b[1;32m    264\u001b[0m \u001b[0;34m\u001b[0m\u001b[0m\n\u001b[1;32m    265\u001b[0m     \u001b[0;32mdef\u001b[0m \u001b[0m__reduce__\u001b[0m\u001b[0;34m(\u001b[0m\u001b[0mself\u001b[0m\u001b[0;34m)\u001b[0m\u001b[0;34m:\u001b[0m\u001b[0;34m\u001b[0m\u001b[0;34m\u001b[0m\u001b[0m\n",
            "\u001b[0;32m/usr/local/lib/python3.7/dist-packages/sklearn/utils/fixes.py\u001b[0m in \u001b[0;36m__call__\u001b[0;34m(self, *args, **kwargs)\u001b[0m\n\u001b[1;32m    214\u001b[0m     \u001b[0;32mdef\u001b[0m \u001b[0m__call__\u001b[0m\u001b[0;34m(\u001b[0m\u001b[0mself\u001b[0m\u001b[0;34m,\u001b[0m \u001b[0;34m*\u001b[0m\u001b[0margs\u001b[0m\u001b[0;34m,\u001b[0m \u001b[0;34m**\u001b[0m\u001b[0mkwargs\u001b[0m\u001b[0;34m)\u001b[0m\u001b[0;34m:\u001b[0m\u001b[0;34m\u001b[0m\u001b[0;34m\u001b[0m\u001b[0m\n\u001b[1;32m    215\u001b[0m         \u001b[0;32mwith\u001b[0m \u001b[0mconfig_context\u001b[0m\u001b[0;34m(\u001b[0m\u001b[0;34m**\u001b[0m\u001b[0mself\u001b[0m\u001b[0;34m.\u001b[0m\u001b[0mconfig\u001b[0m\u001b[0;34m)\u001b[0m\u001b[0;34m:\u001b[0m\u001b[0;34m\u001b[0m\u001b[0;34m\u001b[0m\u001b[0m\n\u001b[0;32m--> 216\u001b[0;31m             \u001b[0;32mreturn\u001b[0m \u001b[0mself\u001b[0m\u001b[0;34m.\u001b[0m\u001b[0mfunction\u001b[0m\u001b[0;34m(\u001b[0m\u001b[0;34m*\u001b[0m\u001b[0margs\u001b[0m\u001b[0;34m,\u001b[0m \u001b[0;34m**\u001b[0m\u001b[0mkwargs\u001b[0m\u001b[0;34m)\u001b[0m\u001b[0;34m\u001b[0m\u001b[0;34m\u001b[0m\u001b[0m\n\u001b[0m\u001b[1;32m    217\u001b[0m \u001b[0;34m\u001b[0m\u001b[0m\n\u001b[1;32m    218\u001b[0m \u001b[0;34m\u001b[0m\u001b[0m\n",
            "\u001b[0;32m/usr/local/lib/python3.7/dist-packages/sklearn/model_selection/_validation.py\u001b[0m in \u001b[0;36m_fit_and_score\u001b[0;34m(estimator, X, y, scorer, train, test, verbose, parameters, fit_params, return_train_score, return_parameters, return_n_test_samples, return_times, return_estimator, split_progress, candidate_progress, error_score)\u001b[0m\n\u001b[1;32m    678\u001b[0m             \u001b[0mestimator\u001b[0m\u001b[0;34m.\u001b[0m\u001b[0mfit\u001b[0m\u001b[0;34m(\u001b[0m\u001b[0mX_train\u001b[0m\u001b[0;34m,\u001b[0m \u001b[0;34m**\u001b[0m\u001b[0mfit_params\u001b[0m\u001b[0;34m)\u001b[0m\u001b[0;34m\u001b[0m\u001b[0;34m\u001b[0m\u001b[0m\n\u001b[1;32m    679\u001b[0m         \u001b[0;32melse\u001b[0m\u001b[0;34m:\u001b[0m\u001b[0;34m\u001b[0m\u001b[0;34m\u001b[0m\u001b[0m\n\u001b[0;32m--> 680\u001b[0;31m             \u001b[0mestimator\u001b[0m\u001b[0;34m.\u001b[0m\u001b[0mfit\u001b[0m\u001b[0;34m(\u001b[0m\u001b[0mX_train\u001b[0m\u001b[0;34m,\u001b[0m \u001b[0my_train\u001b[0m\u001b[0;34m,\u001b[0m \u001b[0;34m**\u001b[0m\u001b[0mfit_params\u001b[0m\u001b[0;34m)\u001b[0m\u001b[0;34m\u001b[0m\u001b[0;34m\u001b[0m\u001b[0m\n\u001b[0m\u001b[1;32m    681\u001b[0m \u001b[0;34m\u001b[0m\u001b[0m\n\u001b[1;32m    682\u001b[0m     \u001b[0;32mexcept\u001b[0m \u001b[0mException\u001b[0m\u001b[0;34m:\u001b[0m\u001b[0;34m\u001b[0m\u001b[0;34m\u001b[0m\u001b[0m\n",
            "\u001b[0;32m/usr/local/lib/python3.7/dist-packages/xgboost/sklearn.py\u001b[0m in \u001b[0;36mfit\u001b[0;34m(self, X, y, sample_weight, eval_set, eval_metric, early_stopping_rounds, verbose, xgb_model, sample_weight_eval_set, callbacks)\u001b[0m\n\u001b[1;32m    730\u001b[0m                               \u001b[0mevals_result\u001b[0m\u001b[0;34m=\u001b[0m\u001b[0mevals_result\u001b[0m\u001b[0;34m,\u001b[0m \u001b[0mobj\u001b[0m\u001b[0;34m=\u001b[0m\u001b[0mobj\u001b[0m\u001b[0;34m,\u001b[0m \u001b[0mfeval\u001b[0m\u001b[0;34m=\u001b[0m\u001b[0mfeval\u001b[0m\u001b[0;34m,\u001b[0m\u001b[0;34m\u001b[0m\u001b[0;34m\u001b[0m\u001b[0m\n\u001b[1;32m    731\u001b[0m                               \u001b[0mverbose_eval\u001b[0m\u001b[0;34m=\u001b[0m\u001b[0mverbose\u001b[0m\u001b[0;34m,\u001b[0m \u001b[0mxgb_model\u001b[0m\u001b[0;34m=\u001b[0m\u001b[0mxgb_model\u001b[0m\u001b[0;34m,\u001b[0m\u001b[0;34m\u001b[0m\u001b[0;34m\u001b[0m\u001b[0m\n\u001b[0;32m--> 732\u001b[0;31m                               callbacks=callbacks)\n\u001b[0m\u001b[1;32m    733\u001b[0m \u001b[0;34m\u001b[0m\u001b[0m\n\u001b[1;32m    734\u001b[0m         \u001b[0mself\u001b[0m\u001b[0;34m.\u001b[0m\u001b[0mobjective\u001b[0m \u001b[0;34m=\u001b[0m \u001b[0mxgb_options\u001b[0m\u001b[0;34m[\u001b[0m\u001b[0;34m\"objective\"\u001b[0m\u001b[0;34m]\u001b[0m\u001b[0;34m\u001b[0m\u001b[0;34m\u001b[0m\u001b[0m\n",
            "\u001b[0;32m/usr/local/lib/python3.7/dist-packages/xgboost/training.py\u001b[0m in \u001b[0;36mtrain\u001b[0;34m(params, dtrain, num_boost_round, evals, obj, feval, maximize, early_stopping_rounds, evals_result, verbose_eval, xgb_model, callbacks, learning_rates)\u001b[0m\n\u001b[1;32m    214\u001b[0m                            \u001b[0mevals\u001b[0m\u001b[0;34m=\u001b[0m\u001b[0mevals\u001b[0m\u001b[0;34m,\u001b[0m\u001b[0;34m\u001b[0m\u001b[0;34m\u001b[0m\u001b[0m\n\u001b[1;32m    215\u001b[0m                            \u001b[0mobj\u001b[0m\u001b[0;34m=\u001b[0m\u001b[0mobj\u001b[0m\u001b[0;34m,\u001b[0m \u001b[0mfeval\u001b[0m\u001b[0;34m=\u001b[0m\u001b[0mfeval\u001b[0m\u001b[0;34m,\u001b[0m\u001b[0;34m\u001b[0m\u001b[0;34m\u001b[0m\u001b[0m\n\u001b[0;32m--> 216\u001b[0;31m                            xgb_model=xgb_model, callbacks=callbacks)\n\u001b[0m\u001b[1;32m    217\u001b[0m \u001b[0;34m\u001b[0m\u001b[0m\n\u001b[1;32m    218\u001b[0m \u001b[0;34m\u001b[0m\u001b[0m\n",
            "\u001b[0;32m/usr/local/lib/python3.7/dist-packages/xgboost/training.py\u001b[0m in \u001b[0;36m_train_internal\u001b[0;34m(params, dtrain, num_boost_round, evals, obj, feval, xgb_model, callbacks)\u001b[0m\n\u001b[1;32m     72\u001b[0m         \u001b[0;31m# Skip the first update if it is a recovery step.\u001b[0m\u001b[0;34m\u001b[0m\u001b[0;34m\u001b[0m\u001b[0;34m\u001b[0m\u001b[0m\n\u001b[1;32m     73\u001b[0m         \u001b[0;32mif\u001b[0m \u001b[0mversion\u001b[0m \u001b[0;34m%\u001b[0m \u001b[0;36m2\u001b[0m \u001b[0;34m==\u001b[0m \u001b[0;36m0\u001b[0m\u001b[0;34m:\u001b[0m\u001b[0;34m\u001b[0m\u001b[0;34m\u001b[0m\u001b[0m\n\u001b[0;32m---> 74\u001b[0;31m             \u001b[0mbst\u001b[0m\u001b[0;34m.\u001b[0m\u001b[0mupdate\u001b[0m\u001b[0;34m(\u001b[0m\u001b[0mdtrain\u001b[0m\u001b[0;34m,\u001b[0m \u001b[0mi\u001b[0m\u001b[0;34m,\u001b[0m \u001b[0mobj\u001b[0m\u001b[0;34m)\u001b[0m\u001b[0;34m\u001b[0m\u001b[0;34m\u001b[0m\u001b[0m\n\u001b[0m\u001b[1;32m     75\u001b[0m             \u001b[0mbst\u001b[0m\u001b[0;34m.\u001b[0m\u001b[0msave_rabit_checkpoint\u001b[0m\u001b[0;34m(\u001b[0m\u001b[0;34m)\u001b[0m\u001b[0;34m\u001b[0m\u001b[0;34m\u001b[0m\u001b[0m\n\u001b[1;32m     76\u001b[0m             \u001b[0mversion\u001b[0m \u001b[0;34m+=\u001b[0m \u001b[0;36m1\u001b[0m\u001b[0;34m\u001b[0m\u001b[0;34m\u001b[0m\u001b[0m\n",
            "\u001b[0;32m/usr/local/lib/python3.7/dist-packages/xgboost/core.py\u001b[0m in \u001b[0;36mupdate\u001b[0;34m(self, dtrain, iteration, fobj)\u001b[0m\n\u001b[1;32m   1107\u001b[0m         \u001b[0;32mif\u001b[0m \u001b[0mfobj\u001b[0m \u001b[0;32mis\u001b[0m \u001b[0;32mNone\u001b[0m\u001b[0;34m:\u001b[0m\u001b[0;34m\u001b[0m\u001b[0;34m\u001b[0m\u001b[0m\n\u001b[1;32m   1108\u001b[0m             _check_call(_LIB.XGBoosterUpdateOneIter(self.handle, ctypes.c_int(iteration),\n\u001b[0;32m-> 1109\u001b[0;31m                                                     dtrain.handle))\n\u001b[0m\u001b[1;32m   1110\u001b[0m         \u001b[0;32melse\u001b[0m\u001b[0;34m:\u001b[0m\u001b[0;34m\u001b[0m\u001b[0;34m\u001b[0m\u001b[0m\n\u001b[1;32m   1111\u001b[0m             \u001b[0mpred\u001b[0m \u001b[0;34m=\u001b[0m \u001b[0mself\u001b[0m\u001b[0;34m.\u001b[0m\u001b[0mpredict\u001b[0m\u001b[0;34m(\u001b[0m\u001b[0mdtrain\u001b[0m\u001b[0;34m)\u001b[0m\u001b[0;34m\u001b[0m\u001b[0;34m\u001b[0m\u001b[0m\n",
            "\u001b[0;31mKeyboardInterrupt\u001b[0m: "
          ]
        }
      ]
    },
    {
      "cell_type": "code",
      "source": [
        "# param = {'colsample_bytree': [0.3], 'eval_metric': ['merror'], 'gamma': [1.5], 'learning_rate': [0.1], 'max_depth': [6], \n",
        "#          'min_child_weight': [5], 'n_estimators': [50],'objective': ['multi:softprob'], 'subsample': [0.6]}\n",
        "\n",
        "# XgBoost_Grid = GridSearchCV(xgb.XGBClassifier(use_label_encoder=True, nthread=-1), param, cv= KFold(n_splits=5, random_state=42, shuffle = True), scoring =\"accuracy\")\n",
        "# XgBoost_Grid.fit(x_train, y_train)\n",
        "# y_pred_xgboost = XgBoost_Grid.predict(x_test)\n",
        "# precision_score(y_test, y_pred_xgboost, average=\"micro\"), XgBoost_Grid"
      ],
      "metadata": {
        "id": "Kn-pctu-LCh4"
      },
      "execution_count": null,
      "outputs": []
    },
    {
      "cell_type": "markdown",
      "source": [
        "Random Forest"
      ],
      "metadata": {
        "id": "TB5rn6MyBCJZ"
      }
    },
    {
      "cell_type": "code",
      "source": [
        "# Hyperparameters\n",
        "param = {\"max_depth\": [2,6,8,10] ,\\\n",
        "        \"min_samples_leaf\": [1,2,5,7],\\\n",
        "        \"n_estimators\": [500,1500,3000],\\\n",
        "        \"max_features\":[\"auto\", \"sqrt\",\"log2\"],\"min_samples_split\" : [2, 5, 10],\"bootstrap\":[True, False]}\n",
        "#GridSearch\n",
        "grid_search = GridSearchCV(RandomForestClassifier(), param, n_jobs=-1, cv=5, scoring = \"accuracy\")\n",
        "grid_search.fit(x_train, y_train)\n",
        "y_pred_rfc = grid_search.predict(x_test)\n",
        "precision_score(y_test, y_pred_rfc, average=\"micro\"), grid_search\n"
      ],
      "metadata": {
        "id": "V-e1qXa1_wka"
      },
      "execution_count": null,
      "outputs": []
    },
    {
      "cell_type": "code",
      "source": [
        "# # Hyperparameters\n",
        "# param = {'max_depth': [8], 'max_features': ['auto'], 'min_samples_leaf': [7], 'n_estimators': [1500]}\n",
        "# #GridSearch\n",
        "# grid_search = GridSearchCV(RandomForestClassifier(), param, n_jobs=-1, cv=5, scoring = \"accuracy\")\n",
        "# grid_search.fit(x_train, y_train)\n",
        "# y_pred_rfc = grid_search.predict(x_test)\n",
        "# precision_score(y_test, y_pred_rfc, average=\"micro\"), grid_search"
      ],
      "metadata": {
        "id": "kM7TwvPqLXhs"
      },
      "execution_count": null,
      "outputs": []
    },
    {
      "cell_type": "code",
      "source": [
        "print(\"LDA : Best parameters {} with best score {} \".format(lda_grid.best_params_,\\\n",
        "lda_grid.best_score_))\n",
        "print(\"QDA : Best parameters {} with best score {} \".format(qda_grid.best_params_,\\\n",
        "qda_grid.best_score_))\n",
        "print(\"KNN : Best parameters {} with best score {} \".format(knn_grid.best_params_,\\\n",
        "knn_grid.best_score_))\n",
        "print(\"SVC : Best parameters {} with best score {} \".format(svc_grid.best_params_,\\\n",
        "svc_grid.best_score_))\n",
        "print(\"Random Forest : Best parameters {} with best score {} \".format(grid_search.best_params_,\\\n",
        "grid_search.best_score_))\n",
        "print(\"XGBoost : Best parameters {} with best score {} \".format(XgBoost_Grid.best_params_,\\\n",
        "XgBoost_Grid.best_score_))\n",
        "print(\"Gradient Boost : Best parameters {} with best score {} \".format(GradientBoost_Grid.best_params_,\\\n",
        "GradientBoost_Grid.best_score_))\n",
        "print(\"ADA Boost : Best parameters {} with best score {} \".format(AdaBoost_Grid.best_params_,\\\n",
        "AdaBoost_Grid.best_score_))"
      ],
      "metadata": {
        "id": "lhULFbl_5LSH"
      },
      "execution_count": null,
      "outputs": []
    },
    {
      "cell_type": "markdown",
      "source": [
        "\n",
        "\n",
        "\n",
        "\n",
        "\n",
        "\n",
        "\n",
        "\n",
        "\n",
        "1.   LDA : Best parameters {'shrinkage': 'auto', 'solver': 'lsqr'} with best score 0.5608313663781799 \n",
        "2.   QDA : Best parameters {'reg_param': 0.5} with best score 0.5300157356412274 \n",
        "3.   KNN : Best parameters {'algorithm': 'auto', 'n_neighbors': 16, 'p': 2, 'weights': 'uniform'} with best score 0.5623787044322056 \n",
        "4.   SVC : Best parameters {'C': 100, 'gamma': 0.001, 'kernel': 'rbf'} with best score 0.5689221085759245 \n",
        "5.   Random Forest : Best parameters {'max_depth': 8, 'max_features': 'auto', 'min_samples_leaf': 7, 'n_estimators': 1500} with best score 0.5834513506425387 \n",
        "6.   XGBoost : Best parameters {'colsample_bytree': 0.3, 'eval_metric': 'merror', 'gamma': 1.5, 'learning_rate': 0.1, 'max_depth': 6, 'min_child_weight': 5, 'n_estimators': 50, 'objective': 'multi:softprob', 'subsample': 0.6} with best score 0.5932467873065828 \n",
        "7.   Gradient Boost : Best parameters {'learning_rate': 0.01, 'max_depth': 1, 'max_features': 'log2', 'n_estimators': 500} with best score 0.5867820613690008 \n",
        "8.   ADA Boost : Best parameters {'learning_rate': 0.01, 'n_estimators': 1000} with best score 0.5883556254917387 \n",
        "\n",
        "\n",
        "\n"
      ],
      "metadata": {
        "id": "xWUy2r7tqPb0"
      }
    }
  ]
}