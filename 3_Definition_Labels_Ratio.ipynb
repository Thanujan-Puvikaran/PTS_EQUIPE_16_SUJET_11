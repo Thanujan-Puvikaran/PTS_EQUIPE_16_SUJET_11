{
  "nbformat": 4,
  "nbformat_minor": 0,
  "metadata": {
    "colab": {
      "name": "3_Definition_Labels_Ratio.ipynb",
      "provenance": [],
      "collapsed_sections": []
    },
    "kernelspec": {
      "name": "python3",
      "display_name": "Python 3"
    },
    "language_info": {
      "name": "python"
    }
  },
  "cells": [
    {
      "cell_type": "code",
      "source": [
        "import requests\n",
        "import pandas as pd\n",
        "import numpy as np\n",
        "import csv\n",
        "import matplotlib.pyplot as plt\n",
        "import seaborn as sns\n",
        "from sklearn.model_selection import train_test_split\n",
        "from sklearn.preprocessing import StandardScaler\n",
        "from sklearn.model_selection import GridSearchCV\n",
        "from sklearn.model_selection import  KFold\n",
        "import warnings\n",
        "import re\n",
        "warnings.filterwarnings('ignore')"
      ],
      "metadata": {
        "id": "nzy061u0zaSk"
      },
      "execution_count": null,
      "outputs": []
    },
    {
      "cell_type": "code",
      "source": [
        "movies_db = pd.read_csv(\"movies_db_2.csv\", delimiter=\",\",engine='python') #Provient de 2_Preprocessing"
      ],
      "metadata": {
        "id": "HqOcmMsQzjiq"
      },
      "execution_count": null,
      "outputs": []
    },
    {
      "cell_type": "code",
      "execution_count": null,
      "metadata": {
        "id": "YFrwAABHy-F5"
      },
      "outputs": [],
      "source": [
        "from sklearn.preprocessing import MinMaxScaler\n",
        "scaler = MinMaxScaler((-1,1))\n",
        "#movies_db.drop(index=265,inplace=True)\n",
        "scaler.fit(movies_db[['vote_average','vote_count',\"revenue\"]])\n",
        "data_scaled = scaler.transform(movies_db[['vote_average','vote_count','revenue']])\n",
        "data_scaled = pd.DataFrame(data_scaled)\n",
        "data_scaled.columns = ['vote_average','vote_count','revenue']\n",
        "data_scaled"
      ]
    },
    {
      "cell_type": "code",
      "source": [
        "benefice_ratio=(movies_db[\"revenue\"]-movies_db[\"budget\"])/movies_db[\"revenue\"]\n",
        "# print(benefice_ratio.describe())\n",
        "benefice_ratio=pd.DataFrame(benefice_ratio)\n",
        "scaler = MinMaxScaler((-1,1))\n",
        "scaler.fit(benefice_ratio)\n",
        "data_scaled[\"benefice_ratio\"] = scaler.transform(benefice_ratio)\n",
        "# ratio = 0.3*data_scaled[\"vote_average\"]+0.5*(data_scaled['benefice_ratio'])+0.2*data_scaled[\"vote_count\"]\n",
        "ratio = (data_scaled[\"vote_average\"]+data_scaled['benefice_ratio']+data_scaled[\"vote_count\"])/3\n",
        "ratio.describe()"
      ],
      "metadata": {
        "id": "b1scSJwLzc_l"
      },
      "execution_count": null,
      "outputs": []
    },
    {
      "cell_type": "code",
      "source": [
        "movies_db['ratio'] = ratio\n",
        "movies_db.sort_values(\"ratio\",ascending=False)"
      ],
      "metadata": {
        "id": "QciVDLPWiVfE"
      },
      "execution_count": null,
      "outputs": []
    },
    {
      "cell_type": "code",
      "source": [
        "def class_df(row):\n",
        "  # SUPER HIT\n",
        "  if row[\"ratio\"] >= 0.5:\n",
        "    return \"SUPER HIT\"\n",
        "  # HIT\n",
        "  elif 0.25<= row[\"ratio\"] <.5 :\n",
        "    return \"HIT\"\n",
        "  # BOF\n",
        "  elif 0<= row[\"ratio\"] <0.25 :\n",
        "    return \"BOF\"\n",
        "  # FlOP\n",
        "  else:\n",
        "    return \"FLOP\"\n",
        "\n",
        "movies_db[\"target\"]=movies_db.apply(lambda row: class_df(row), axis=1)"
      ],
      "metadata": {
        "id": "d-KmOI8On4v_"
      },
      "execution_count": null,
      "outputs": []
    },
    {
      "cell_type": "code",
      "source": [
        "movies_db.to_csv(\"movies_db_3.csv\",index=False)"
      ],
      "metadata": {
        "id": "J8Tjl3t20WMs"
      },
      "execution_count": null,
      "outputs": []
    }
  ]
}